{
 "metadata": {
  "language_info": {
   "codemirror_mode": {
    "name": "ipython",
    "version": 3
   },
   "file_extension": ".py",
   "mimetype": "text/x-python",
   "name": "python",
   "nbconvert_exporter": "python",
   "pygments_lexer": "ipython3",
   "version": "3.8.5"
  },
  "orig_nbformat": 2,
  "kernelspec": {
   "name": "python3",
   "display_name": "Python 3",
   "language": "python"
  }
 },
 "nbformat": 4,
 "nbformat_minor": 2,
 "cells": [
  {
   "cell_type": "code",
   "execution_count": 2,
   "metadata": {},
   "outputs": [],
   "source": [
    "from sklearn import datasets, model_selection"
   ]
  },
  {
   "cell_type": "code",
   "execution_count": 3,
   "metadata": {},
   "outputs": [],
   "source": [
    "iris = datasets.load_iris()"
   ]
  },
  {
   "cell_type": "code",
   "execution_count": 4,
   "metadata": {},
   "outputs": [],
   "source": [
    "train_data, test_data, train_labels, test_labels = model_selection.train_test_split(iris.data, iris.target, test_size=0.3)"
   ]
  },
  {
   "cell_type": "code",
   "execution_count": 6,
   "metadata": {},
   "outputs": [
    {
     "output_type": "execute_result",
     "data": {
      "text/plain": [
       "0.3"
      ]
     },
     "metadata": {},
     "execution_count": 6
    }
   ],
   "source": [
    "len(test_labels)/len(iris.data)"
   ]
  },
  {
   "cell_type": "code",
   "execution_count": 7,
   "metadata": {},
   "outputs": [
    {
     "output_type": "execute_result",
     "data": {
      "text/plain": [
       "105"
      ]
     },
     "metadata": {},
     "execution_count": 7
    }
   ],
   "source": [
    "len(train_data)"
   ]
  },
  {
   "cell_type": "code",
   "execution_count": 8,
   "metadata": {},
   "outputs": [
    {
     "output_type": "execute_result",
     "data": {
      "text/plain": [
       "45"
      ]
     },
     "metadata": {},
     "execution_count": 8
    }
   ],
   "source": [
    "len(test_data)"
   ]
  },
  {
   "cell_type": "code",
   "execution_count": 9,
   "metadata": {},
   "outputs": [
    {
     "output_type": "execute_result",
     "data": {
      "text/plain": [
       "array([[5.8, 2.7, 5.1, 1.9],\n",
       "       [6.4, 2.8, 5.6, 2.1],\n",
       "       [5.4, 3.9, 1.7, 0.4],\n",
       "       [7.4, 2.8, 6.1, 1.9],\n",
       "       [6. , 2.9, 4.5, 1.5]])"
      ]
     },
     "metadata": {},
     "execution_count": 9
    }
   ],
   "source": [
    "train_data[:5]"
   ]
  },
  {
   "cell_type": "code",
   "execution_count": 10,
   "metadata": {},
   "outputs": [
    {
     "output_type": "execute_result",
     "data": {
      "text/plain": [
       "array([2, 2, 0, 2, 1, 2, 0, 1, 2, 1, 2, 0, 1, 0, 1, 2, 0, 1, 1, 0, 2, 0,\n",
       "       1, 2, 2, 1, 1, 1, 1, 1, 0, 2, 1, 2, 0, 0, 1, 1, 2, 2, 2, 1, 1, 0,\n",
       "       0, 1, 0, 2, 0, 2, 2, 2, 1, 1, 2, 0, 0, 1, 1, 0, 0, 0, 1, 2, 1, 0,\n",
       "       0, 2, 0, 1, 0, 0, 0, 2, 2, 0, 2, 1, 2, 0, 0, 2, 2, 2, 2, 1, 2, 0,\n",
       "       2, 0, 1, 2, 0, 1, 2, 0, 0, 0, 2, 0, 2, 0, 1, 0, 1])"
      ]
     },
     "metadata": {},
     "execution_count": 10
    }
   ],
   "source": [
    "train_labels"
   ]
  },
  {
   "cell_type": "code",
   "execution_count": 12,
   "metadata": {},
   "outputs": [
    {
     "output_type": "execute_result",
     "data": {
      "text/plain": [
       "array([1, 1, 0, 1, 2, 1, 2, 1, 0, 2, 2, 2, 0, 2, 1, 1, 2, 1, 1, 1, 2, 1,\n",
       "       2, 0, 0, 1, 0, 2, 1, 0, 1, 1, 0, 1, 0, 0, 0, 0, 0, 1, 1, 2, 2, 2,\n",
       "       2])"
      ]
     },
     "metadata": {},
     "execution_count": 12
    }
   ],
   "source": [
    "test_labels"
   ]
  },
  {
   "cell_type": "code",
   "execution_count": 22,
   "metadata": {},
   "outputs": [],
   "source": [
    "X = range(12)"
   ]
  },
  {
   "cell_type": "code",
   "execution_count": 23,
   "metadata": {},
   "outputs": [
    {
     "output_type": "stream",
     "name": "stdout",
     "text": [
      "[ 2  3  4  5  6  7  8  9 10 11] [0 1]\n[ 0  1  4  5  6  7  8  9 10 11] [2 3]\n[ 0  1  2  3  6  7  8  9 10 11] [4 5]\n[ 0  1  2  3  4  5  8  9 10 11] [6 7]\n[ 0  1  2  3  4  5  6  7 10 11] [8 9]\n[0 1 2 3 4 5 6 7 8 9] [10 11]\n"
     ]
    }
   ],
   "source": [
    "kf = model_selection.KFold(n_splits=6)\n",
    "\n",
    "for train_indeces, test_indeces in kf.split(X):\n",
    "    print(train_indeces, test_indeces)"
   ]
  },
  {
   "cell_type": "code",
   "execution_count": 27,
   "metadata": {},
   "outputs": [
    {
     "output_type": "stream",
     "name": "stdout",
     "text": [
      "[ 0  1  3  5  6  7  8  9 10] [ 2  4 11]\n[ 0  1  2  4  5  7  8 10 11] [3 6 9]\n[ 2  3  4  5  6  7  9 10 11] [0 1 8]\n[ 0  1  2  3  4  6  8  9 11] [ 5  7 10]\n"
     ]
    }
   ],
   "source": [
    "kf = model_selection.KFold(n_splits=4, shuffle=True)\n",
    "\n",
    "for train_indeces, test_indeces in kf.split(X):\n",
    "    print(train_indeces, test_indeces)"
   ]
  },
  {
   "cell_type": "code",
   "execution_count": 29,
   "metadata": {},
   "outputs": [
    {
     "output_type": "stream",
     "name": "stdout",
     "text": [
      "[ 0  1  2  3  4  5  6  7  8  9 11] [10]\n[ 0  1  2  3  4  6  7  8  9 10 11] [5]\n[ 0  1  2  3  4  5  6  7  8 10 11] [9]\n[ 0  1  2  3  4  5  6  7  9 10 11] [8]\n[ 1  2  3  4  5  6  7  8  9 10 11] [0]\n[ 0  1  2  3  5  6  7  8  9 10 11] [4]\n[ 0  1  2  3  4  5  6  8  9 10 11] [7]\n[ 0  1  2  4  5  6  7  8  9 10 11] [3]\n[ 0  1  3  4  5  6  7  8  9 10 11] [2]\n[ 0  2  3  4  5  6  7  8  9 10 11] [1]\n[ 0  1  2  3  4  5  7  8  9 10 11] [6]\n[ 0  1  2  3  4  5  6  7  8  9 10] [11]\n"
     ]
    }
   ],
   "source": [
    "kf = model_selection.KFold(n_splits=12, shuffle=True, random_state=12)\n",
    "\n",
    "# leave one out cause n_splits = len(X)\n",
    "for train_indeces, test_indeces in kf.split(X):\n",
    "    print(train_indeces, test_indeces)"
   ]
  },
  {
   "cell_type": "code",
   "execution_count": 36,
   "metadata": {},
   "outputs": [
    {
     "output_type": "stream",
     "name": "stdout",
     "text": [
      "[ 0  1  3  4  7  8  9 10] [ 2  5  6 11]\n[ 1  2  4  5  6  7 10 11] [0 3 8 9]\n[ 0  2  3  5  6  8  9 11] [ 1  4  7 10]\n"
     ]
    }
   ],
   "source": [
    "# стратификация для сохранения одинакового количества объектов каждого класса в выборках\n",
    "import numpy as np\n",
    "\n",
    "target = np.array([0, 1]  * 6)\n",
    "\n",
    "skf = model_selection.StratifiedKFold(n_splits=3, shuffle=True, random_state=1)\n",
    "\n",
    "for train_indeces, test_indeces in skf.split(X, target):\n",
    "    print(train_indeces, test_indeces)"
   ]
  },
  {
   "cell_type": "code",
   "execution_count": 37,
   "metadata": {},
   "outputs": [],
   "source": [
    "# shuffle split - allow us to split our data how many times we want and one object can repeat any times"
   ]
  },
  {
   "cell_type": "code",
   "execution_count": 38,
   "metadata": {},
   "outputs": [
    {
     "output_type": "stream",
     "name": "stdout",
     "text": [
      "[10  8  1  2  9  0  5  6  4] [11  7  3]\n[ 4 11  8 10  9  0  1  6  7] [3 5 2]\n[ 7  3 11 10  5  4  0  8  9] [2 6 1]\n[ 2  1  9  4  6  7  0  8 11] [ 5 10  3]\n[ 7  2  1  0  9  8  6 10  4] [ 5 11  3]\n[ 3  5 11  7  4  8  9  0  2] [10  6  1]\n[ 9  4  8  0  3 10  6 11  2] [1 7 5]\n[ 5  8  9 10  3  0  1  2  6] [11  7  4]\n[ 2  6  1 11 10  8  0  3  5] [7 4 9]\n[ 4  7  3 11  5  0  1 10  2] [9 8 6]\n"
     ]
    }
   ],
   "source": [
    "ss = model_selection.ShuffleSplit(n_splits=10, test_size=0.2)\n",
    "\n",
    "for train_indeces, test_indeces in ss.split(X):\n",
    "    print(train_indeces, test_indeces)"
   ]
  },
  {
   "cell_type": "code",
   "execution_count": 42,
   "metadata": {},
   "outputs": [
    {
     "output_type": "stream",
     "name": "stdout",
     "text": [
      "[ 8  6 11  4  9  1 10  3] [0 2 5 7]\n[ 8  2  7  1  5  3  6 10] [ 9 11  4  0]\n[ 0  1  3  7  6 10  9  2] [ 5 11  4  8]\n[ 1  6 11 10  4  9  8  7] [5 3 2 0]\n[ 2 11  9  6  5  0  3  4] [ 8  7  1 10]\n[ 5  8  3  6 10  1  7  0] [11  4  9  2]\n[ 8  3 10  6  5 11  1  2] [4 7 0 9]\n[ 7  6 10  1  5  3  0  4] [ 9  2  8 11]\n[10 11  9  0  3  6  5  8] [4 7 2 1]\n[ 8  1  6  4 11  3 10  9] [7 0 2 5]\n"
     ]
    }
   ],
   "source": [
    "sss = model_selection.StratifiedShuffleSplit(n_splits=10, test_size=0.3)\n",
    "\n",
    "for train_indeces, test_indeces in sss.split(X, target):\n",
    "    print(train_indeces, test_indeces)"
   ]
  },
  {
   "cell_type": "code",
   "execution_count": 46,
   "metadata": {},
   "outputs": [
    {
     "output_type": "stream",
     "name": "stdout",
     "text": [
      "[ 1  2  3  4  5  6  7  8  9 10 11] [0]\n[ 0  2  3  4  5  6  7  8  9 10 11] [1]\n[ 0  1  3  4  5  6  7  8  9 10 11] [2]\n[ 0  1  2  4  5  6  7  8  9 10 11] [3]\n[ 0  1  2  3  5  6  7  8  9 10 11] [4]\n[ 0  1  2  3  4  6  7  8  9 10 11] [5]\n[ 0  1  2  3  4  5  7  8  9 10 11] [6]\n[ 0  1  2  3  4  5  6  8  9 10 11] [7]\n[ 0  1  2  3  4  5  6  7  9 10 11] [8]\n[ 0  1  2  3  4  5  6  7  8 10 11] [9]\n[ 0  1  2  3  4  5  6  7  8  9 11] [10]\n[ 0  1  2  3  4  5  6  7  8  9 10] [11]\n"
     ]
    }
   ],
   "source": [
    "loo = model_selection.LeaveOneOut()\n",
    "\n",
    "for train_indeces, test_indeces in loo.split(X):\n",
    "    print(train_indeces, test_indeces)"
   ]
  },
  {
   "cell_type": "code",
   "execution_count": null,
   "metadata": {},
   "outputs": [],
   "source": []
  }
 ]
}