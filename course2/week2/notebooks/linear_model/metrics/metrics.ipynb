{
 "metadata": {
  "language_info": {
   "codemirror_mode": {
    "name": "ipython",
    "version": 3
   },
   "file_extension": ".py",
   "mimetype": "text/x-python",
   "name": "python",
   "nbconvert_exporter": "python",
   "pygments_lexer": "ipython3",
   "version": "3.8.5"
  },
  "orig_nbformat": 2,
  "kernelspec": {
   "name": "python3",
   "display_name": "Python 3",
   "language": "python"
  }
 },
 "nbformat": 4,
 "nbformat_minor": 2,
 "cells": [
  {
   "cell_type": "code",
   "execution_count": 1,
   "metadata": {},
   "outputs": [
    {
     "output_type": "stream",
     "name": "stdout",
     "text": [
      "Populating the interactive namespace from numpy and matplotlib\n"
     ]
    }
   ],
   "source": [
    "%pylab inline\n",
    "\n",
    "import numpy as np\n",
    "from sklearn import model_selection, linear_model, datasets, metrics\n",
    "from matplotlib.colors import ListedColormap"
   ]
  },
  {
   "source": [
    "## Make datasets"
   ],
   "cell_type": "markdown",
   "metadata": {}
  },
  {
   "cell_type": "code",
   "execution_count": 2,
   "metadata": {},
   "outputs": [],
   "source": [
    "clf_data, clf_target = datasets.make_classification(n_features=2, n_informative=2, n_classes=2, n_redundant=0, n_clusters_per_class=1,random_state=7)"
   ]
  },
  {
   "cell_type": "code",
   "execution_count": 3,
   "metadata": {},
   "outputs": [],
   "source": [
    "reg_data, reg_target = datasets.make_regression(n_features=2, n_informative=1, n_targets=1, noise=5., random_state=7)"
   ]
  },
  {
   "cell_type": "code",
   "execution_count": 4,
   "metadata": {},
   "outputs": [
    {
     "output_type": "execute_result",
     "data": {
      "text/plain": [
       "<matplotlib.collections.PathCollection at 0x22038cea3a0>"
      ]
     },
     "metadata": {},
     "execution_count": 4
    },
    {
     "output_type": "display_data",
     "data": {
      "text/plain": "<Figure size 432x288 with 1 Axes>",
      "image/svg+xml": "<?xml version=\"1.0\" encoding=\"utf-8\" standalone=\"no\"?>\r\n<!DOCTYPE svg PUBLIC \"-//W3C//DTD SVG 1.1//EN\"\r\n  \"http://www.w3.org/Graphics/SVG/1.1/DTD/svg11.dtd\">\r\n<!-- Created with matplotlib (https://matplotlib.org/) -->\r\n<svg height=\"248.518125pt\" version=\"1.1\" viewBox=\"0 0 370.942187 248.518125\" width=\"370.942187pt\" xmlns=\"http://www.w3.org/2000/svg\" xmlns:xlink=\"http://www.w3.org/1999/xlink\">\r\n <metadata>\r\n  <rdf:RDF xmlns:cc=\"http://creativecommons.org/ns#\" xmlns:dc=\"http://purl.org/dc/elements/1.1/\" xmlns:rdf=\"http://www.w3.org/1999/02/22-rdf-syntax-ns#\">\r\n   <cc:Work>\r\n    <dc:type rdf:resource=\"http://purl.org/dc/dcmitype/StillImage\"/>\r\n    <dc:date>2021-03-27T10:56:18.639420</dc:date>\r\n    <dc:format>image/svg+xml</dc:format>\r\n    <dc:creator>\r\n     <cc:Agent>\r\n      <dc:title>Matplotlib v3.3.2, https://matplotlib.org/</dc:title>\r\n     </cc:Agent>\r\n    </dc:creator>\r\n   </cc:Work>\r\n  </rdf:RDF>\r\n </metadata>\r\n <defs>\r\n  <style type=\"text/css\">*{stroke-linecap:butt;stroke-linejoin:round;}</style>\r\n </defs>\r\n <g id=\"figure_1\">\r\n  <g id=\"patch_1\">\r\n   <path d=\"M 0 248.518125 \r\nL 370.942187 248.518125 \r\nL 370.942187 0 \r\nL 0 0 \r\nz\r\n\" style=\"fill:none;\"/>\r\n  </g>\r\n  <g id=\"axes_1\">\r\n   <g id=\"patch_2\">\r\n    <path d=\"M 28.942188 224.64 \r\nL 363.742188 224.64 \r\nL 363.742188 7.2 \r\nL 28.942188 7.2 \r\nz\r\n\" style=\"fill:#ffffff;\"/>\r\n   </g>\r\n   <g id=\"PathCollection_1\">\r\n    <defs>\r\n     <path d=\"M 0 3 \r\nC 0.795609 3 1.55874 2.683901 2.12132 2.12132 \r\nC 2.683901 1.55874 3 0.795609 3 -0 \r\nC 3 -0.795609 2.683901 -1.55874 2.12132 -2.12132 \r\nC 1.55874 -2.683901 0.795609 -3 0 -3 \r\nC -0.795609 -3 -1.55874 -2.683901 -2.12132 -2.12132 \r\nC -2.683901 -1.55874 -3 -0.795609 -3 0 \r\nC -3 0.795609 -2.683901 1.55874 -2.12132 2.12132 \r\nC -1.55874 2.683901 -0.795609 3 0 3 \r\nz\r\n\" id=\"C0_0_7749e908e4\"/>\r\n    </defs>\r\n    <g clip-path=\"url(#p5075bd5533)\">\r\n     <use style=\"fill:#0000ff;stroke:#0000ff;\" x=\"210.945515\" xlink:href=\"#C0_0_7749e908e4\" y=\"127.966371\"/>\r\n    </g>\r\n    <g clip-path=\"url(#p5075bd5533)\">\r\n     <use style=\"fill:#0000ff;stroke:#0000ff;\" x=\"185.537064\" xlink:href=\"#C0_0_7749e908e4\" y=\"104.084411\"/>\r\n    </g>\r\n    <g clip-path=\"url(#p5075bd5533)\">\r\n     <use style=\"fill:#ff0000;stroke:#ff0000;\" x=\"235.741283\" xlink:href=\"#C0_0_7749e908e4\" y=\"176.145874\"/>\r\n    </g>\r\n    <g clip-path=\"url(#p5075bd5533)\">\r\n     <use style=\"fill:#ff0000;stroke:#ff0000;\" x=\"192.216454\" xlink:href=\"#C0_0_7749e908e4\" y=\"127.816795\"/>\r\n    </g>\r\n    <g clip-path=\"url(#p5075bd5533)\">\r\n     <use style=\"fill:#ff0000;stroke:#ff0000;\" x=\"246.780101\" xlink:href=\"#C0_0_7749e908e4\" y=\"164.450862\"/>\r\n    </g>\r\n    <g clip-path=\"url(#p5075bd5533)\">\r\n     <use style=\"fill:#0000ff;stroke:#0000ff;\" x=\"163.590119\" xlink:href=\"#C0_0_7749e908e4\" y=\"83.357386\"/>\r\n    </g>\r\n    <g clip-path=\"url(#p5075bd5533)\">\r\n     <use style=\"fill:#ff0000;stroke:#ff0000;\" x=\"224.223202\" xlink:href=\"#C0_0_7749e908e4\" y=\"150.15733\"/>\r\n    </g>\r\n    <g clip-path=\"url(#p5075bd5533)\">\r\n     <use style=\"fill:#0000ff;stroke:#0000ff;\" x=\"185.168601\" xlink:href=\"#C0_0_7749e908e4\" y=\"87.800837\"/>\r\n    </g>\r\n    <g clip-path=\"url(#p5075bd5533)\">\r\n     <use style=\"fill:#0000ff;stroke:#0000ff;\" x=\"208.569122\" xlink:href=\"#C0_0_7749e908e4\" y=\"101.102807\"/>\r\n    </g>\r\n    <g clip-path=\"url(#p5075bd5533)\">\r\n     <use style=\"fill:#0000ff;stroke:#0000ff;\" x=\"133.964226\" xlink:href=\"#C0_0_7749e908e4\" y=\"56.076225\"/>\r\n    </g>\r\n    <g clip-path=\"url(#p5075bd5533)\">\r\n     <use style=\"fill:#0000ff;stroke:#0000ff;\" x=\"156.051196\" xlink:href=\"#C0_0_7749e908e4\" y=\"79.18652\"/>\r\n    </g>\r\n    <g clip-path=\"url(#p5075bd5533)\">\r\n     <use style=\"fill:#0000ff;stroke:#0000ff;\" x=\"144.625069\" xlink:href=\"#C0_0_7749e908e4\" y=\"80.648413\"/>\r\n    </g>\r\n    <g clip-path=\"url(#p5075bd5533)\">\r\n     <use style=\"fill:#ff0000;stroke:#ff0000;\" x=\"287.741132\" xlink:href=\"#C0_0_7749e908e4\" y=\"170.799253\"/>\r\n    </g>\r\n    <g clip-path=\"url(#p5075bd5533)\">\r\n     <use style=\"fill:#0000ff;stroke:#0000ff;\" x=\"191.930224\" xlink:href=\"#C0_0_7749e908e4\" y=\"102.452455\"/>\r\n    </g>\r\n    <g clip-path=\"url(#p5075bd5533)\">\r\n     <use style=\"fill:#ff0000;stroke:#ff0000;\" x=\"257.687028\" xlink:href=\"#C0_0_7749e908e4\" y=\"129.378649\"/>\r\n    </g>\r\n    <g clip-path=\"url(#p5075bd5533)\">\r\n     <use style=\"fill:#ff0000;stroke:#ff0000;\" x=\"221.741297\" xlink:href=\"#C0_0_7749e908e4\" y=\"184.430244\"/>\r\n    </g>\r\n    <g clip-path=\"url(#p5075bd5533)\">\r\n     <use style=\"fill:#0000ff;stroke:#0000ff;\" x=\"123.345231\" xlink:href=\"#C0_0_7749e908e4\" y=\"54.038199\"/>\r\n    </g>\r\n    <g clip-path=\"url(#p5075bd5533)\">\r\n     <use style=\"fill:#0000ff;stroke:#0000ff;\" x=\"183.510978\" xlink:href=\"#C0_0_7749e908e4\" y=\"88.734954\"/>\r\n    </g>\r\n    <g clip-path=\"url(#p5075bd5533)\">\r\n     <use style=\"fill:#0000ff;stroke:#0000ff;\" x=\"132.711882\" xlink:href=\"#C0_0_7749e908e4\" y=\"58.040429\"/>\r\n    </g>\r\n    <g clip-path=\"url(#p5075bd5533)\">\r\n     <use style=\"fill:#ff0000;stroke:#ff0000;\" x=\"224.620498\" xlink:href=\"#C0_0_7749e908e4\" y=\"162.763781\"/>\r\n    </g>\r\n    <g clip-path=\"url(#p5075bd5533)\">\r\n     <use style=\"fill:#ff0000;stroke:#ff0000;\" x=\"277.01495\" xlink:href=\"#C0_0_7749e908e4\" y=\"146.65447\"/>\r\n    </g>\r\n    <g clip-path=\"url(#p5075bd5533)\">\r\n     <use style=\"fill:#ff0000;stroke:#ff0000;\" x=\"315.294473\" xlink:href=\"#C0_0_7749e908e4\" y=\"197.95423\"/>\r\n    </g>\r\n    <g clip-path=\"url(#p5075bd5533)\">\r\n     <use style=\"fill:#ff0000;stroke:#ff0000;\" x=\"210.80921\" xlink:href=\"#C0_0_7749e908e4\" y=\"111.494895\"/>\r\n    </g>\r\n    <g clip-path=\"url(#p5075bd5533)\">\r\n     <use style=\"fill:#0000ff;stroke:#0000ff;\" x=\"180.380136\" xlink:href=\"#C0_0_7749e908e4\" y=\"122.764645\"/>\r\n    </g>\r\n    <g clip-path=\"url(#p5075bd5533)\">\r\n     <use style=\"fill:#ff0000;stroke:#ff0000;\" x=\"231.632931\" xlink:href=\"#C0_0_7749e908e4\" y=\"197.239092\"/>\r\n    </g>\r\n    <g clip-path=\"url(#p5075bd5533)\">\r\n     <use style=\"fill:#ff0000;stroke:#ff0000;\" x=\"214.00043\" xlink:href=\"#C0_0_7749e908e4\" y=\"158.182641\"/>\r\n    </g>\r\n    <g clip-path=\"url(#p5075bd5533)\">\r\n     <use style=\"fill:#0000ff;stroke:#0000ff;\" x=\"147.507308\" xlink:href=\"#C0_0_7749e908e4\" y=\"78.050172\"/>\r\n    </g>\r\n    <g clip-path=\"url(#p5075bd5533)\">\r\n     <use style=\"fill:#0000ff;stroke:#0000ff;\" x=\"157.108312\" xlink:href=\"#C0_0_7749e908e4\" y=\"70.08824\"/>\r\n    </g>\r\n    <g clip-path=\"url(#p5075bd5533)\">\r\n     <use style=\"fill:#ff0000;stroke:#ff0000;\" x=\"320.919224\" xlink:href=\"#C0_0_7749e908e4\" y=\"172.614244\"/>\r\n    </g>\r\n    <g clip-path=\"url(#p5075bd5533)\">\r\n     <use style=\"fill:#0000ff;stroke:#0000ff;\" x=\"81.928086\" xlink:href=\"#C0_0_7749e908e4\" y=\"24.225324\"/>\r\n    </g>\r\n    <g clip-path=\"url(#p5075bd5533)\">\r\n     <use style=\"fill:#ff0000;stroke:#ff0000;\" x=\"231.908793\" xlink:href=\"#C0_0_7749e908e4\" y=\"173.025309\"/>\r\n    </g>\r\n    <g clip-path=\"url(#p5075bd5533)\">\r\n     <use style=\"fill:#0000ff;stroke:#0000ff;\" x=\"67.373668\" xlink:href=\"#C0_0_7749e908e4\" y=\"27.757647\"/>\r\n    </g>\r\n    <g clip-path=\"url(#p5075bd5533)\">\r\n     <use style=\"fill:#ff0000;stroke:#ff0000;\" x=\"170.299909\" xlink:href=\"#C0_0_7749e908e4\" y=\"177.094521\"/>\r\n    </g>\r\n    <g clip-path=\"url(#p5075bd5533)\">\r\n     <use style=\"fill:#ff0000;stroke:#ff0000;\" x=\"211.993668\" xlink:href=\"#C0_0_7749e908e4\" y=\"162.857962\"/>\r\n    </g>\r\n    <g clip-path=\"url(#p5075bd5533)\">\r\n     <use style=\"fill:#0000ff;stroke:#0000ff;\" x=\"149.250684\" xlink:href=\"#C0_0_7749e908e4\" y=\"75.151999\"/>\r\n    </g>\r\n    <g clip-path=\"url(#p5075bd5533)\">\r\n     <use style=\"fill:#ff0000;stroke:#ff0000;\" x=\"193.566874\" xlink:href=\"#C0_0_7749e908e4\" y=\"154.85748\"/>\r\n    </g>\r\n    <g clip-path=\"url(#p5075bd5533)\">\r\n     <use style=\"fill:#0000ff;stroke:#0000ff;\" x=\"134.853747\" xlink:href=\"#C0_0_7749e908e4\" y=\"53.680714\"/>\r\n    </g>\r\n    <g clip-path=\"url(#p5075bd5533)\">\r\n     <use style=\"fill:#ff0000;stroke:#ff0000;\" x=\"348.524006\" xlink:href=\"#C0_0_7749e908e4\" y=\"144.851408\"/>\r\n    </g>\r\n    <g clip-path=\"url(#p5075bd5533)\">\r\n     <use style=\"fill:#ff0000;stroke:#ff0000;\" x=\"279.351406\" xlink:href=\"#C0_0_7749e908e4\" y=\"169.201494\"/>\r\n    </g>\r\n    <g clip-path=\"url(#p5075bd5533)\">\r\n     <use style=\"fill:#ff0000;stroke:#ff0000;\" x=\"176.849448\" xlink:href=\"#C0_0_7749e908e4\" y=\"128.720079\"/>\r\n    </g>\r\n    <g clip-path=\"url(#p5075bd5533)\">\r\n     <use style=\"fill:#0000ff;stroke:#0000ff;\" x=\"143.944713\" xlink:href=\"#C0_0_7749e908e4\" y=\"75.42291\"/>\r\n    </g>\r\n    <g clip-path=\"url(#p5075bd5533)\">\r\n     <use style=\"fill:#ff0000;stroke:#ff0000;\" x=\"295.290305\" xlink:href=\"#C0_0_7749e908e4\" y=\"145.101934\"/>\r\n    </g>\r\n    <g clip-path=\"url(#p5075bd5533)\">\r\n     <use style=\"fill:#0000ff;stroke:#0000ff;\" x=\"136.368122\" xlink:href=\"#C0_0_7749e908e4\" y=\"68.747185\"/>\r\n    </g>\r\n    <g clip-path=\"url(#p5075bd5533)\">\r\n     <use style=\"fill:#0000ff;stroke:#0000ff;\" x=\"96.884237\" xlink:href=\"#C0_0_7749e908e4\" y=\"20.734134\"/>\r\n    </g>\r\n    <g clip-path=\"url(#p5075bd5533)\">\r\n     <use style=\"fill:#ff0000;stroke:#ff0000;\" x=\"279.471582\" xlink:href=\"#C0_0_7749e908e4\" y=\"183.429553\"/>\r\n    </g>\r\n    <g clip-path=\"url(#p5075bd5533)\">\r\n     <use style=\"fill:#0000ff;stroke:#0000ff;\" x=\"123.662834\" xlink:href=\"#C0_0_7749e908e4\" y=\"45.7537\"/>\r\n    </g>\r\n    <g clip-path=\"url(#p5075bd5533)\">\r\n     <use style=\"fill:#0000ff;stroke:#0000ff;\" x=\"199.229877\" xlink:href=\"#C0_0_7749e908e4\" y=\"116.969057\"/>\r\n    </g>\r\n    <g clip-path=\"url(#p5075bd5533)\">\r\n     <use style=\"fill:#0000ff;stroke:#0000ff;\" x=\"175.468068\" xlink:href=\"#C0_0_7749e908e4\" y=\"88.947536\"/>\r\n    </g>\r\n    <g clip-path=\"url(#p5075bd5533)\">\r\n     <use style=\"fill:#0000ff;stroke:#0000ff;\" x=\"109.860595\" xlink:href=\"#C0_0_7749e908e4\" y=\"45.081142\"/>\r\n    </g>\r\n    <g clip-path=\"url(#p5075bd5533)\">\r\n     <use style=\"fill:#0000ff;stroke:#0000ff;\" x=\"95.956002\" xlink:href=\"#C0_0_7749e908e4\" y=\"30.777809\"/>\r\n    </g>\r\n    <g clip-path=\"url(#p5075bd5533)\">\r\n     <use style=\"fill:#0000ff;stroke:#0000ff;\" x=\"146.666565\" xlink:href=\"#C0_0_7749e908e4\" y=\"61.827323\"/>\r\n    </g>\r\n    <g clip-path=\"url(#p5075bd5533)\">\r\n     <use style=\"fill:#ff0000;stroke:#ff0000;\" x=\"233.367682\" xlink:href=\"#C0_0_7749e908e4\" y=\"183.425311\"/>\r\n    </g>\r\n    <g clip-path=\"url(#p5075bd5533)\">\r\n     <use style=\"fill:#0000ff;stroke:#0000ff;\" x=\"166.682078\" xlink:href=\"#C0_0_7749e908e4\" y=\"88.494038\"/>\r\n    </g>\r\n    <g clip-path=\"url(#p5075bd5533)\">\r\n     <use style=\"fill:#0000ff;stroke:#0000ff;\" x=\"186.806441\" xlink:href=\"#C0_0_7749e908e4\" y=\"95.139231\"/>\r\n    </g>\r\n    <g clip-path=\"url(#p5075bd5533)\">\r\n     <use style=\"fill:#0000ff;stroke:#0000ff;\" x=\"217.237305\" xlink:href=\"#C0_0_7749e908e4\" y=\"127.389695\"/>\r\n    </g>\r\n    <g clip-path=\"url(#p5075bd5533)\">\r\n     <use style=\"fill:#ff0000;stroke:#ff0000;\" x=\"250.207418\" xlink:href=\"#C0_0_7749e908e4\" y=\"147.215087\"/>\r\n    </g>\r\n    <g clip-path=\"url(#p5075bd5533)\">\r\n     <use style=\"fill:#0000ff;stroke:#0000ff;\" x=\"123.295019\" xlink:href=\"#C0_0_7749e908e4\" y=\"47.735657\"/>\r\n    </g>\r\n    <g clip-path=\"url(#p5075bd5533)\">\r\n     <use style=\"fill:#ff0000;stroke:#ff0000;\" x=\"191.015708\" xlink:href=\"#C0_0_7749e908e4\" y=\"164.335403\"/>\r\n    </g>\r\n    <g clip-path=\"url(#p5075bd5533)\">\r\n     <use style=\"fill:#0000ff;stroke:#0000ff;\" x=\"160.794723\" xlink:href=\"#C0_0_7749e908e4\" y=\"79.40972\"/>\r\n    </g>\r\n    <g clip-path=\"url(#p5075bd5533)\">\r\n     <use style=\"fill:#0000ff;stroke:#0000ff;\" x=\"107.064961\" xlink:href=\"#C0_0_7749e908e4\" y=\"58.131999\"/>\r\n    </g>\r\n    <g clip-path=\"url(#p5075bd5533)\">\r\n     <use style=\"fill:#0000ff;stroke:#0000ff;\" x=\"118.723665\" xlink:href=\"#C0_0_7749e908e4\" y=\"52.900599\"/>\r\n    </g>\r\n    <g clip-path=\"url(#p5075bd5533)\">\r\n     <use style=\"fill:#0000ff;stroke:#0000ff;\" x=\"110.979158\" xlink:href=\"#C0_0_7749e908e4\" y=\"62.994354\"/>\r\n    </g>\r\n    <g clip-path=\"url(#p5075bd5533)\">\r\n     <use style=\"fill:#ff0000;stroke:#ff0000;\" x=\"220.487762\" xlink:href=\"#C0_0_7749e908e4\" y=\"214.756364\"/>\r\n    </g>\r\n    <g clip-path=\"url(#p5075bd5533)\">\r\n     <use style=\"fill:#0000ff;stroke:#0000ff;\" x=\"140.355492\" xlink:href=\"#C0_0_7749e908e4\" y=\"66.902785\"/>\r\n    </g>\r\n    <g clip-path=\"url(#p5075bd5533)\">\r\n     <use style=\"fill:#ff0000;stroke:#ff0000;\" x=\"265.083529\" xlink:href=\"#C0_0_7749e908e4\" y=\"125.976269\"/>\r\n    </g>\r\n    <g clip-path=\"url(#p5075bd5533)\">\r\n     <use style=\"fill:#ff0000;stroke:#ff0000;\" x=\"216.170403\" xlink:href=\"#C0_0_7749e908e4\" y=\"190.636321\"/>\r\n    </g>\r\n    <g clip-path=\"url(#p5075bd5533)\">\r\n     <use style=\"fill:#ff0000;stroke:#ff0000;\" x=\"203.220469\" xlink:href=\"#C0_0_7749e908e4\" y=\"203.426085\"/>\r\n    </g>\r\n    <g clip-path=\"url(#p5075bd5533)\">\r\n     <use style=\"fill:#0000ff;stroke:#0000ff;\" x=\"131.94496\" xlink:href=\"#C0_0_7749e908e4\" y=\"74.686577\"/>\r\n    </g>\r\n    <g clip-path=\"url(#p5075bd5533)\">\r\n     <use style=\"fill:#0000ff;stroke:#0000ff;\" x=\"186.329315\" xlink:href=\"#C0_0_7749e908e4\" y=\"97.139197\"/>\r\n    </g>\r\n    <g clip-path=\"url(#p5075bd5533)\">\r\n     <use style=\"fill:#0000ff;stroke:#0000ff;\" x=\"115.020425\" xlink:href=\"#C0_0_7749e908e4\" y=\"51.957997\"/>\r\n    </g>\r\n    <g clip-path=\"url(#p5075bd5533)\">\r\n     <use style=\"fill:#ff0000;stroke:#ff0000;\" x=\"193.320396\" xlink:href=\"#C0_0_7749e908e4\" y=\"214.193537\"/>\r\n    </g>\r\n    <g clip-path=\"url(#p5075bd5533)\">\r\n     <use style=\"fill:#ff0000;stroke:#ff0000;\" x=\"221.673635\" xlink:href=\"#C0_0_7749e908e4\" y=\"147.834237\"/>\r\n    </g>\r\n    <g clip-path=\"url(#p5075bd5533)\">\r\n     <use style=\"fill:#ff0000;stroke:#ff0000;\" x=\"207.866554\" xlink:href=\"#C0_0_7749e908e4\" y=\"171.969213\"/>\r\n    </g>\r\n    <g clip-path=\"url(#p5075bd5533)\">\r\n     <use style=\"fill:#ff0000;stroke:#ff0000;\" x=\"230.188025\" xlink:href=\"#C0_0_7749e908e4\" y=\"160.132366\"/>\r\n    </g>\r\n    <g clip-path=\"url(#p5075bd5533)\">\r\n     <use style=\"fill:#0000ff;stroke:#0000ff;\" x=\"169.221017\" xlink:href=\"#C0_0_7749e908e4\" y=\"94.150514\"/>\r\n    </g>\r\n    <g clip-path=\"url(#p5075bd5533)\">\r\n     <use style=\"fill:#ff0000;stroke:#ff0000;\" x=\"278.974146\" xlink:href=\"#C0_0_7749e908e4\" y=\"142.12341\"/>\r\n    </g>\r\n    <g clip-path=\"url(#p5075bd5533)\">\r\n     <use style=\"fill:#ff0000;stroke:#ff0000;\" x=\"248.694693\" xlink:href=\"#C0_0_7749e908e4\" y=\"166.517143\"/>\r\n    </g>\r\n    <g clip-path=\"url(#p5075bd5533)\">\r\n     <use style=\"fill:#0000ff;stroke:#0000ff;\" x=\"145.748492\" xlink:href=\"#C0_0_7749e908e4\" y=\"83.146584\"/>\r\n    </g>\r\n    <g clip-path=\"url(#p5075bd5533)\">\r\n     <use style=\"fill:#ff0000;stroke:#ff0000;\" x=\"275.281956\" xlink:href=\"#C0_0_7749e908e4\" y=\"183.694646\"/>\r\n    </g>\r\n    <g clip-path=\"url(#p5075bd5533)\">\r\n     <use style=\"fill:#ff0000;stroke:#ff0000;\" x=\"170.073332\" xlink:href=\"#C0_0_7749e908e4\" y=\"198.73686\"/>\r\n    </g>\r\n    <g clip-path=\"url(#p5075bd5533)\">\r\n     <use style=\"fill:#0000ff;stroke:#0000ff;\" x=\"44.160369\" xlink:href=\"#C0_0_7749e908e4\" y=\"17.083636\"/>\r\n    </g>\r\n    <g clip-path=\"url(#p5075bd5533)\">\r\n     <use style=\"fill:#0000ff;stroke:#0000ff;\" x=\"89.371096\" xlink:href=\"#C0_0_7749e908e4\" y=\"22.39539\"/>\r\n    </g>\r\n    <g clip-path=\"url(#p5075bd5533)\">\r\n     <use style=\"fill:#ff0000;stroke:#ff0000;\" x=\"286.865165\" xlink:href=\"#C0_0_7749e908e4\" y=\"159.627591\"/>\r\n    </g>\r\n    <g clip-path=\"url(#p5075bd5533)\">\r\n     <use style=\"fill:#ff0000;stroke:#ff0000;\" x=\"189.708512\" xlink:href=\"#C0_0_7749e908e4\" y=\"180.019549\"/>\r\n    </g>\r\n    <g clip-path=\"url(#p5075bd5533)\">\r\n     <use style=\"fill:#ff0000;stroke:#ff0000;\" x=\"265.659022\" xlink:href=\"#C0_0_7749e908e4\" y=\"146.171648\"/>\r\n    </g>\r\n    <g clip-path=\"url(#p5075bd5533)\">\r\n     <use style=\"fill:#0000ff;stroke:#0000ff;\" x=\"124.981057\" xlink:href=\"#C0_0_7749e908e4\" y=\"73.913536\"/>\r\n    </g>\r\n    <g clip-path=\"url(#p5075bd5533)\">\r\n     <use style=\"fill:#ff0000;stroke:#ff0000;\" x=\"244.350759\" xlink:href=\"#C0_0_7749e908e4\" y=\"194.335152\"/>\r\n    </g>\r\n    <g clip-path=\"url(#p5075bd5533)\">\r\n     <use style=\"fill:#ff0000;stroke:#ff0000;\" x=\"250.011775\" xlink:href=\"#C0_0_7749e908e4\" y=\"174.126152\"/>\r\n    </g>\r\n    <g clip-path=\"url(#p5075bd5533)\">\r\n     <use style=\"fill:#0000ff;stroke:#0000ff;\" x=\"148.549014\" xlink:href=\"#C0_0_7749e908e4\" y=\"74.911127\"/>\r\n    </g>\r\n    <g clip-path=\"url(#p5075bd5533)\">\r\n     <use style=\"fill:#ff0000;stroke:#ff0000;\" x=\"213.958686\" xlink:href=\"#C0_0_7749e908e4\" y=\"155.854668\"/>\r\n    </g>\r\n    <g clip-path=\"url(#p5075bd5533)\">\r\n     <use style=\"fill:#ff0000;stroke:#ff0000;\" x=\"291.308191\" xlink:href=\"#C0_0_7749e908e4\" y=\"163.850871\"/>\r\n    </g>\r\n    <g clip-path=\"url(#p5075bd5533)\">\r\n     <use style=\"fill:#ff0000;stroke:#ff0000;\" x=\"241.639012\" xlink:href=\"#C0_0_7749e908e4\" y=\"168.770086\"/>\r\n    </g>\r\n    <g clip-path=\"url(#p5075bd5533)\">\r\n     <use style=\"fill:#ff0000;stroke:#ff0000;\" x=\"243.673674\" xlink:href=\"#C0_0_7749e908e4\" y=\"147.860928\"/>\r\n    </g>\r\n    <g clip-path=\"url(#p5075bd5533)\">\r\n     <use style=\"fill:#ff0000;stroke:#ff0000;\" x=\"243.058571\" xlink:href=\"#C0_0_7749e908e4\" y=\"206.497232\"/>\r\n    </g>\r\n    <g clip-path=\"url(#p5075bd5533)\">\r\n     <use style=\"fill:#0000ff;stroke:#0000ff;\" x=\"220.61478\" xlink:href=\"#C0_0_7749e908e4\" y=\"112.37982\"/>\r\n    </g>\r\n    <g clip-path=\"url(#p5075bd5533)\">\r\n     <use style=\"fill:#0000ff;stroke:#0000ff;\" x=\"198.625969\" xlink:href=\"#C0_0_7749e908e4\" y=\"115.313001\"/>\r\n    </g>\r\n    <g clip-path=\"url(#p5075bd5533)\">\r\n     <use style=\"fill:#ff0000;stroke:#ff0000;\" x=\"302.710187\" xlink:href=\"#C0_0_7749e908e4\" y=\"180.185535\"/>\r\n    </g>\r\n    <g clip-path=\"url(#p5075bd5533)\">\r\n     <use style=\"fill:#ff0000;stroke:#ff0000;\" x=\"159.863986\" xlink:href=\"#C0_0_7749e908e4\" y=\"172.843223\"/>\r\n    </g>\r\n    <g clip-path=\"url(#p5075bd5533)\">\r\n     <use style=\"fill:#0000ff;stroke:#0000ff;\" x=\"97.878034\" xlink:href=\"#C0_0_7749e908e4\" y=\"35.045875\"/>\r\n    </g>\r\n    <g clip-path=\"url(#p5075bd5533)\">\r\n     <use style=\"fill:#0000ff;stroke:#0000ff;\" x=\"189.802999\" xlink:href=\"#C0_0_7749e908e4\" y=\"113.180815\"/>\r\n    </g>\r\n   </g>\r\n   <g id=\"matplotlib.axis_1\">\r\n    <g id=\"xtick_1\">\r\n     <g id=\"line2d_1\">\r\n      <defs>\r\n       <path d=\"M 0 0 \r\nL 0 3.5 \r\n\" id=\"mb4d3776189\" style=\"stroke:#000000;stroke-width:0.8;\"/>\r\n      </defs>\r\n      <g>\r\n       <use style=\"stroke:#000000;stroke-width:0.8;\" x=\"67.092887\" xlink:href=\"#mb4d3776189\" y=\"224.64\"/>\r\n      </g>\r\n     </g>\r\n     <g id=\"text_1\">\r\n      <!-- −3 -->\r\n      <g transform=\"translate(59.721794 239.238437)scale(0.1 -0.1)\">\r\n       <defs>\r\n        <path d=\"M 10.59375 35.5 \r\nL 73.1875 35.5 \r\nL 73.1875 27.203125 \r\nL 10.59375 27.203125 \r\nz\r\n\" id=\"DejaVuSans-8722\"/>\r\n        <path d=\"M 40.578125 39.3125 \r\nQ 47.65625 37.796875 51.625 33 \r\nQ 55.609375 28.21875 55.609375 21.1875 \r\nQ 55.609375 10.40625 48.1875 4.484375 \r\nQ 40.765625 -1.421875 27.09375 -1.421875 \r\nQ 22.515625 -1.421875 17.65625 -0.515625 \r\nQ 12.796875 0.390625 7.625 2.203125 \r\nL 7.625 11.71875 \r\nQ 11.71875 9.328125 16.59375 8.109375 \r\nQ 21.484375 6.890625 26.8125 6.890625 \r\nQ 36.078125 6.890625 40.9375 10.546875 \r\nQ 45.796875 14.203125 45.796875 21.1875 \r\nQ 45.796875 27.640625 41.28125 31.265625 \r\nQ 36.765625 34.90625 28.71875 34.90625 \r\nL 20.21875 34.90625 \r\nL 20.21875 43.015625 \r\nL 29.109375 43.015625 \r\nQ 36.375 43.015625 40.234375 45.921875 \r\nQ 44.09375 48.828125 44.09375 54.296875 \r\nQ 44.09375 59.90625 40.109375 62.90625 \r\nQ 36.140625 65.921875 28.71875 65.921875 \r\nQ 24.65625 65.921875 20.015625 65.03125 \r\nQ 15.375 64.15625 9.8125 62.3125 \r\nL 9.8125 71.09375 \r\nQ 15.4375 72.65625 20.34375 73.4375 \r\nQ 25.25 74.21875 29.59375 74.21875 \r\nQ 40.828125 74.21875 47.359375 69.109375 \r\nQ 53.90625 64.015625 53.90625 55.328125 \r\nQ 53.90625 49.265625 50.4375 45.09375 \r\nQ 46.96875 40.921875 40.578125 39.3125 \r\nz\r\n\" id=\"DejaVuSans-51\"/>\r\n       </defs>\r\n       <use xlink:href=\"#DejaVuSans-8722\"/>\r\n       <use x=\"83.789062\" xlink:href=\"#DejaVuSans-51\"/>\r\n      </g>\r\n     </g>\r\n    </g>\r\n    <g id=\"xtick_2\">\r\n     <g id=\"line2d_2\">\r\n      <g>\r\n       <use style=\"stroke:#000000;stroke-width:0.8;\" x=\"108.267177\" xlink:href=\"#mb4d3776189\" y=\"224.64\"/>\r\n      </g>\r\n     </g>\r\n     <g id=\"text_2\">\r\n      <!-- −2 -->\r\n      <g transform=\"translate(100.896083 239.238437)scale(0.1 -0.1)\">\r\n       <defs>\r\n        <path d=\"M 19.1875 8.296875 \r\nL 53.609375 8.296875 \r\nL 53.609375 0 \r\nL 7.328125 0 \r\nL 7.328125 8.296875 \r\nQ 12.9375 14.109375 22.625 23.890625 \r\nQ 32.328125 33.6875 34.8125 36.53125 \r\nQ 39.546875 41.84375 41.421875 45.53125 \r\nQ 43.3125 49.21875 43.3125 52.78125 \r\nQ 43.3125 58.59375 39.234375 62.25 \r\nQ 35.15625 65.921875 28.609375 65.921875 \r\nQ 23.96875 65.921875 18.8125 64.3125 \r\nQ 13.671875 62.703125 7.8125 59.421875 \r\nL 7.8125 69.390625 \r\nQ 13.765625 71.78125 18.9375 73 \r\nQ 24.125 74.21875 28.421875 74.21875 \r\nQ 39.75 74.21875 46.484375 68.546875 \r\nQ 53.21875 62.890625 53.21875 53.421875 \r\nQ 53.21875 48.921875 51.53125 44.890625 \r\nQ 49.859375 40.875 45.40625 35.40625 \r\nQ 44.1875 33.984375 37.640625 27.21875 \r\nQ 31.109375 20.453125 19.1875 8.296875 \r\nz\r\n\" id=\"DejaVuSans-50\"/>\r\n       </defs>\r\n       <use xlink:href=\"#DejaVuSans-8722\"/>\r\n       <use x=\"83.789062\" xlink:href=\"#DejaVuSans-50\"/>\r\n      </g>\r\n     </g>\r\n    </g>\r\n    <g id=\"xtick_3\">\r\n     <g id=\"line2d_3\">\r\n      <g>\r\n       <use style=\"stroke:#000000;stroke-width:0.8;\" x=\"149.441467\" xlink:href=\"#mb4d3776189\" y=\"224.64\"/>\r\n      </g>\r\n     </g>\r\n     <g id=\"text_3\">\r\n      <!-- −1 -->\r\n      <g transform=\"translate(142.070373 239.238437)scale(0.1 -0.1)\">\r\n       <defs>\r\n        <path d=\"M 12.40625 8.296875 \r\nL 28.515625 8.296875 \r\nL 28.515625 63.921875 \r\nL 10.984375 60.40625 \r\nL 10.984375 69.390625 \r\nL 28.421875 72.90625 \r\nL 38.28125 72.90625 \r\nL 38.28125 8.296875 \r\nL 54.390625 8.296875 \r\nL 54.390625 0 \r\nL 12.40625 0 \r\nz\r\n\" id=\"DejaVuSans-49\"/>\r\n       </defs>\r\n       <use xlink:href=\"#DejaVuSans-8722\"/>\r\n       <use x=\"83.789062\" xlink:href=\"#DejaVuSans-49\"/>\r\n      </g>\r\n     </g>\r\n    </g>\r\n    <g id=\"xtick_4\">\r\n     <g id=\"line2d_4\">\r\n      <g>\r\n       <use style=\"stroke:#000000;stroke-width:0.8;\" x=\"190.615757\" xlink:href=\"#mb4d3776189\" y=\"224.64\"/>\r\n      </g>\r\n     </g>\r\n     <g id=\"text_4\">\r\n      <!-- 0 -->\r\n      <g transform=\"translate(187.434507 239.238437)scale(0.1 -0.1)\">\r\n       <defs>\r\n        <path d=\"M 31.78125 66.40625 \r\nQ 24.171875 66.40625 20.328125 58.90625 \r\nQ 16.5 51.421875 16.5 36.375 \r\nQ 16.5 21.390625 20.328125 13.890625 \r\nQ 24.171875 6.390625 31.78125 6.390625 \r\nQ 39.453125 6.390625 43.28125 13.890625 \r\nQ 47.125 21.390625 47.125 36.375 \r\nQ 47.125 51.421875 43.28125 58.90625 \r\nQ 39.453125 66.40625 31.78125 66.40625 \r\nz\r\nM 31.78125 74.21875 \r\nQ 44.046875 74.21875 50.515625 64.515625 \r\nQ 56.984375 54.828125 56.984375 36.375 \r\nQ 56.984375 17.96875 50.515625 8.265625 \r\nQ 44.046875 -1.421875 31.78125 -1.421875 \r\nQ 19.53125 -1.421875 13.0625 8.265625 \r\nQ 6.59375 17.96875 6.59375 36.375 \r\nQ 6.59375 54.828125 13.0625 64.515625 \r\nQ 19.53125 74.21875 31.78125 74.21875 \r\nz\r\n\" id=\"DejaVuSans-48\"/>\r\n       </defs>\r\n       <use xlink:href=\"#DejaVuSans-48\"/>\r\n      </g>\r\n     </g>\r\n    </g>\r\n    <g id=\"xtick_5\">\r\n     <g id=\"line2d_5\">\r\n      <g>\r\n       <use style=\"stroke:#000000;stroke-width:0.8;\" x=\"231.790047\" xlink:href=\"#mb4d3776189\" y=\"224.64\"/>\r\n      </g>\r\n     </g>\r\n     <g id=\"text_5\">\r\n      <!-- 1 -->\r\n      <g transform=\"translate(228.608797 239.238437)scale(0.1 -0.1)\">\r\n       <use xlink:href=\"#DejaVuSans-49\"/>\r\n      </g>\r\n     </g>\r\n    </g>\r\n    <g id=\"xtick_6\">\r\n     <g id=\"line2d_6\">\r\n      <g>\r\n       <use style=\"stroke:#000000;stroke-width:0.8;\" x=\"272.964337\" xlink:href=\"#mb4d3776189\" y=\"224.64\"/>\r\n      </g>\r\n     </g>\r\n     <g id=\"text_6\">\r\n      <!-- 2 -->\r\n      <g transform=\"translate(269.783087 239.238437)scale(0.1 -0.1)\">\r\n       <use xlink:href=\"#DejaVuSans-50\"/>\r\n      </g>\r\n     </g>\r\n    </g>\r\n    <g id=\"xtick_7\">\r\n     <g id=\"line2d_7\">\r\n      <g>\r\n       <use style=\"stroke:#000000;stroke-width:0.8;\" x=\"314.138626\" xlink:href=\"#mb4d3776189\" y=\"224.64\"/>\r\n      </g>\r\n     </g>\r\n     <g id=\"text_7\">\r\n      <!-- 3 -->\r\n      <g transform=\"translate(310.957376 239.238437)scale(0.1 -0.1)\">\r\n       <use xlink:href=\"#DejaVuSans-51\"/>\r\n      </g>\r\n     </g>\r\n    </g>\r\n    <g id=\"xtick_8\">\r\n     <g id=\"line2d_8\">\r\n      <g>\r\n       <use style=\"stroke:#000000;stroke-width:0.8;\" x=\"355.312916\" xlink:href=\"#mb4d3776189\" y=\"224.64\"/>\r\n      </g>\r\n     </g>\r\n     <g id=\"text_8\">\r\n      <!-- 4 -->\r\n      <g transform=\"translate(352.131666 239.238437)scale(0.1 -0.1)\">\r\n       <defs>\r\n        <path d=\"M 37.796875 64.3125 \r\nL 12.890625 25.390625 \r\nL 37.796875 25.390625 \r\nz\r\nM 35.203125 72.90625 \r\nL 47.609375 72.90625 \r\nL 47.609375 25.390625 \r\nL 58.015625 25.390625 \r\nL 58.015625 17.1875 \r\nL 47.609375 17.1875 \r\nL 47.609375 0 \r\nL 37.796875 0 \r\nL 37.796875 17.1875 \r\nL 4.890625 17.1875 \r\nL 4.890625 26.703125 \r\nz\r\n\" id=\"DejaVuSans-52\"/>\r\n       </defs>\r\n       <use xlink:href=\"#DejaVuSans-52\"/>\r\n      </g>\r\n     </g>\r\n    </g>\r\n   </g>\r\n   <g id=\"matplotlib.axis_2\">\r\n    <g id=\"ytick_1\">\r\n     <g id=\"line2d_9\">\r\n      <defs>\r\n       <path d=\"M 0 0 \r\nL -3.5 0 \r\n\" id=\"mfa2752cb23\" style=\"stroke:#000000;stroke-width:0.8;\"/>\r\n      </defs>\r\n      <g>\r\n       <use style=\"stroke:#000000;stroke-width:0.8;\" x=\"28.942188\" xlink:href=\"#mfa2752cb23\" y=\"212.103674\"/>\r\n      </g>\r\n     </g>\r\n     <g id=\"text_9\">\r\n      <!-- −2 -->\r\n      <g transform=\"translate(7.2 215.902893)scale(0.1 -0.1)\">\r\n       <use xlink:href=\"#DejaVuSans-8722\"/>\r\n       <use x=\"83.789062\" xlink:href=\"#DejaVuSans-50\"/>\r\n      </g>\r\n     </g>\r\n    </g>\r\n    <g id=\"ytick_2\">\r\n     <g id=\"line2d_10\">\r\n      <g>\r\n       <use style=\"stroke:#000000;stroke-width:0.8;\" x=\"28.942188\" xlink:href=\"#mfa2752cb23\" y=\"166.434879\"/>\r\n      </g>\r\n     </g>\r\n     <g id=\"text_10\">\r\n      <!-- −1 -->\r\n      <g transform=\"translate(7.2 170.234098)scale(0.1 -0.1)\">\r\n       <use xlink:href=\"#DejaVuSans-8722\"/>\r\n       <use x=\"83.789062\" xlink:href=\"#DejaVuSans-49\"/>\r\n      </g>\r\n     </g>\r\n    </g>\r\n    <g id=\"ytick_3\">\r\n     <g id=\"line2d_11\">\r\n      <g>\r\n       <use style=\"stroke:#000000;stroke-width:0.8;\" x=\"28.942188\" xlink:href=\"#mfa2752cb23\" y=\"120.766084\"/>\r\n      </g>\r\n     </g>\r\n     <g id=\"text_11\">\r\n      <!-- 0 -->\r\n      <g transform=\"translate(15.579688 124.565303)scale(0.1 -0.1)\">\r\n       <use xlink:href=\"#DejaVuSans-48\"/>\r\n      </g>\r\n     </g>\r\n    </g>\r\n    <g id=\"ytick_4\">\r\n     <g id=\"line2d_12\">\r\n      <g>\r\n       <use style=\"stroke:#000000;stroke-width:0.8;\" x=\"28.942188\" xlink:href=\"#mfa2752cb23\" y=\"75.097289\"/>\r\n      </g>\r\n     </g>\r\n     <g id=\"text_12\">\r\n      <!-- 1 -->\r\n      <g transform=\"translate(15.579688 78.896508)scale(0.1 -0.1)\">\r\n       <use xlink:href=\"#DejaVuSans-49\"/>\r\n      </g>\r\n     </g>\r\n    </g>\r\n    <g id=\"ytick_5\">\r\n     <g id=\"line2d_13\">\r\n      <g>\r\n       <use style=\"stroke:#000000;stroke-width:0.8;\" x=\"28.942188\" xlink:href=\"#mfa2752cb23\" y=\"29.428494\"/>\r\n      </g>\r\n     </g>\r\n     <g id=\"text_13\">\r\n      <!-- 2 -->\r\n      <g transform=\"translate(15.579688 33.227713)scale(0.1 -0.1)\">\r\n       <use xlink:href=\"#DejaVuSans-50\"/>\r\n      </g>\r\n     </g>\r\n    </g>\r\n   </g>\r\n   <g id=\"patch_3\">\r\n    <path d=\"M 28.942188 224.64 \r\nL 28.942188 7.2 \r\n\" style=\"fill:none;stroke:#000000;stroke-linecap:square;stroke-linejoin:miter;stroke-width:0.8;\"/>\r\n   </g>\r\n   <g id=\"patch_4\">\r\n    <path d=\"M 363.742188 224.64 \r\nL 363.742188 7.2 \r\n\" style=\"fill:none;stroke:#000000;stroke-linecap:square;stroke-linejoin:miter;stroke-width:0.8;\"/>\r\n   </g>\r\n   <g id=\"patch_5\">\r\n    <path d=\"M 28.942187 224.64 \r\nL 363.742188 224.64 \r\n\" style=\"fill:none;stroke:#000000;stroke-linecap:square;stroke-linejoin:miter;stroke-width:0.8;\"/>\r\n   </g>\r\n   <g id=\"patch_6\">\r\n    <path d=\"M 28.942187 7.2 \r\nL 363.742188 7.2 \r\n\" style=\"fill:none;stroke:#000000;stroke-linecap:square;stroke-linejoin:miter;stroke-width:0.8;\"/>\r\n   </g>\r\n  </g>\r\n </g>\r\n <defs>\r\n  <clipPath id=\"p5075bd5533\">\r\n   <rect height=\"217.44\" width=\"334.8\" x=\"28.942188\" y=\"7.2\"/>\r\n  </clipPath>\r\n </defs>\r\n</svg>\r\n",
      "image/png": "[encoded data removed]"
     },
     "metadata": {
      "needs_background": "light"
     }
    }
   ],
   "source": [
    "colors = ListedColormap(['red', 'blue'])\n",
    "pylab.scatter(clf_data[:, 0], clf_data[:, 1], c=clf_target, cmap=colors)"
   ]
  },
  {
   "cell_type": "code",
   "execution_count": 5,
   "metadata": {},
   "outputs": [
    {
     "output_type": "execute_result",
     "data": {
      "text/plain": [
       "Text(0.5, 1.0, '2nd feature to target dependency')"
      ]
     },
     "metadata": {},
     "execution_count": 5
    },
    {
     "output_type": "display_data",
     "data": {
      "text/plain": "<Figure size 576x288 with 2 Axes>",
      "image/svg+xml": "<?xml version=\"1.0\" encoding=\"utf-8\" standalone=\"no\"?>\r\n<!DOCTYPE svg PUBLIC \"-//W3C//DTD SVG 1.1//EN\"\r\n  \"http://www.w3.org/Graphics/SVG/1.1/DTD/svg11.dtd\">\r\n<!-- Created with matplotlib (https://matplotlib.org/) -->\r\n<svg height=\"263.63625pt\" version=\"1.1\" viewBox=\"0 0 495.75358 263.63625\" width=\"495.75358pt\" xmlns=\"http://www.w3.org/2000/svg\" xmlns:xlink=\"http://www.w3.org/1999/xlink\">\r\n <metadata>\r\n  <rdf:RDF xmlns:cc=\"http://creativecommons.org/ns#\" xmlns:dc=\"http://purl.org/dc/elements/1.1/\" xmlns:rdf=\"http://www.w3.org/1999/02/22-rdf-syntax-ns#\">\r\n   <cc:Work>\r\n    <dc:type rdf:resource=\"http://purl.org/dc/dcmitype/StillImage\"/>\r\n    <dc:date>2021-03-27T10:56:18.922692</dc:date>\r\n    <dc:format>image/svg+xml</dc:format>\r\n    <dc:creator>\r\n     <cc:Agent>\r\n      <dc:title>Matplotlib v3.3.2, https://matplotlib.org/</dc:title>\r\n     </cc:Agent>\r\n    </dc:creator>\r\n   </cc:Work>\r\n  </rdf:RDF>\r\n </metadata>\r\n <defs>\r\n  <style type=\"text/css\">*{stroke-linecap:butt;stroke-linejoin:round;}</style>\r\n </defs>\r\n <g id=\"figure_1\">\r\n  <g id=\"patch_1\">\r\n   <path d=\"M 0 263.63625 \r\nL 495.75358 263.63625 \r\nL 495.75358 0 \r\nL 0 0 \r\nz\r\n\" style=\"fill:none;\"/>\r\n  </g>\r\n  <g id=\"axes_1\">\r\n   <g id=\"patch_2\">\r\n    <path d=\"M 41.667187 239.758125 \r\nL 244.576278 239.758125 \r\nL 244.576278 22.318125 \r\nL 41.667187 22.318125 \r\nz\r\n\" style=\"fill:#ffffff;\"/>\r\n   </g>\r\n   <g id=\"PathCollection_1\">\r\n    <defs>\r\n     <path d=\"M 0 3 \r\nC 0.795609 3 1.55874 2.683901 2.12132 2.12132 \r\nC 2.683901 1.55874 3 0.795609 3 0 \r\nC 3 -0.795609 2.683901 -1.55874 2.12132 -2.12132 \r\nC 1.55874 -2.683901 0.795609 -3 0 -3 \r\nC -0.795609 -3 -1.55874 -2.683901 -2.12132 -2.12132 \r\nC -2.683901 -1.55874 -3 -0.795609 -3 0 \r\nC -3 0.795609 -2.683901 1.55874 -2.12132 2.12132 \r\nC -1.55874 2.683901 -0.795609 3 0 3 \r\nz\r\n\" id=\"m3ab6b07949\" style=\"stroke:#ff0000;\"/>\r\n    </defs>\r\n    <g clip-path=\"url(#p5afbbe70b3)\">\r\n     <use style=\"fill:#ff0000;stroke:#ff0000;\" x=\"95.963139\" xlink:href=\"#m3ab6b07949\" y=\"147.622789\"/>\r\n     <use style=\"fill:#ff0000;stroke:#ff0000;\" x=\"69.430067\" xlink:href=\"#m3ab6b07949\" y=\"184.169652\"/>\r\n     <use style=\"fill:#ff0000;stroke:#ff0000;\" x=\"122.615512\" xlink:href=\"#m3ab6b07949\" y=\"121.343192\"/>\r\n     <use style=\"fill:#ff0000;stroke:#ff0000;\" x=\"172.306724\" xlink:href=\"#m3ab6b07949\" y=\"148.054788\"/>\r\n     <use style=\"fill:#ff0000;stroke:#ff0000;\" x=\"113.487305\" xlink:href=\"#m3ab6b07949\" y=\"114.070496\"/>\r\n     <use style=\"fill:#ff0000;stroke:#ff0000;\" x=\"196.690421\" xlink:href=\"#m3ab6b07949\" y=\"144.225947\"/>\r\n     <use style=\"fill:#ff0000;stroke:#ff0000;\" x=\"213.065158\" xlink:href=\"#m3ab6b07949\" y=\"137.074152\"/>\r\n     <use style=\"fill:#ff0000;stroke:#ff0000;\" x=\"98.322639\" xlink:href=\"#m3ab6b07949\" y=\"154.676652\"/>\r\n     <use style=\"fill:#ff0000;stroke:#ff0000;\" x=\"119.924758\" xlink:href=\"#m3ab6b07949\" y=\"144.281497\"/>\r\n     <use style=\"fill:#ff0000;stroke:#ff0000;\" x=\"153.600122\" xlink:href=\"#m3ab6b07949\" y=\"45.927944\"/>\r\n     <use style=\"fill:#ff0000;stroke:#ff0000;\" x=\"174.804955\" xlink:href=\"#m3ab6b07949\" y=\"210.273792\"/>\r\n     <use style=\"fill:#ff0000;stroke:#ff0000;\" x=\"149.26179\" xlink:href=\"#m3ab6b07949\" y=\"107.231109\"/>\r\n     <use style=\"fill:#ff0000;stroke:#ff0000;\" x=\"159.622314\" xlink:href=\"#m3ab6b07949\" y=\"151.593898\"/>\r\n     <use style=\"fill:#ff0000;stroke:#ff0000;\" x=\"71.642897\" xlink:href=\"#m3ab6b07949\" y=\"139.20239\"/>\r\n     <use style=\"fill:#ff0000;stroke:#ff0000;\" x=\"89.597157\" xlink:href=\"#m3ab6b07949\" y=\"133.586244\"/>\r\n     <use style=\"fill:#ff0000;stroke:#ff0000;\" x=\"136.630174\" xlink:href=\"#m3ab6b07949\" y=\"94.545466\"/>\r\n     <use style=\"fill:#ff0000;stroke:#ff0000;\" x=\"127.01287\" xlink:href=\"#m3ab6b07949\" y=\"84.984224\"/>\r\n     <use style=\"fill:#ff0000;stroke:#ff0000;\" x=\"131.364179\" xlink:href=\"#m3ab6b07949\" y=\"147.51574\"/>\r\n     <use style=\"fill:#ff0000;stroke:#ff0000;\" x=\"130.55338\" xlink:href=\"#m3ab6b07949\" y=\"52.318669\"/>\r\n     <use style=\"fill:#ff0000;stroke:#ff0000;\" x=\"187.564086\" xlink:href=\"#m3ab6b07949\" y=\"164.516461\"/>\r\n     <use style=\"fill:#ff0000;stroke:#ff0000;\" x=\"151.770336\" xlink:href=\"#m3ab6b07949\" y=\"165.001767\"/>\r\n     <use style=\"fill:#ff0000;stroke:#ff0000;\" x=\"138.611104\" xlink:href=\"#m3ab6b07949\" y=\"182.450225\"/>\r\n     <use style=\"fill:#ff0000;stroke:#ff0000;\" x=\"160.696346\" xlink:href=\"#m3ab6b07949\" y=\"175.170629\"/>\r\n     <use style=\"fill:#ff0000;stroke:#ff0000;\" x=\"164.125755\" xlink:href=\"#m3ab6b07949\" y=\"162.137917\"/>\r\n     <use style=\"fill:#ff0000;stroke:#ff0000;\" x=\"151.38778\" xlink:href=\"#m3ab6b07949\" y=\"187.79528\"/>\r\n     <use style=\"fill:#ff0000;stroke:#ff0000;\" x=\"136.973329\" xlink:href=\"#m3ab6b07949\" y=\"162.548924\"/>\r\n     <use style=\"fill:#ff0000;stroke:#ff0000;\" x=\"166.96258\" xlink:href=\"#m3ab6b07949\" y=\"86.732734\"/>\r\n     <use style=\"fill:#ff0000;stroke:#ff0000;\" x=\"126.500696\" xlink:href=\"#m3ab6b07949\" y=\"131.238424\"/>\r\n     <use style=\"fill:#ff0000;stroke:#ff0000;\" x=\"101.248464\" xlink:href=\"#m3ab6b07949\" y=\"184.625277\"/>\r\n     <use style=\"fill:#ff0000;stroke:#ff0000;\" x=\"171.001696\" xlink:href=\"#m3ab6b07949\" y=\"192.419326\"/>\r\n     <use style=\"fill:#ff0000;stroke:#ff0000;\" x=\"164.349372\" xlink:href=\"#m3ab6b07949\" y=\"203.821159\"/>\r\n     <use style=\"fill:#ff0000;stroke:#ff0000;\" x=\"132.455732\" xlink:href=\"#m3ab6b07949\" y=\"66.943546\"/>\r\n     <use style=\"fill:#ff0000;stroke:#ff0000;\" x=\"173.683727\" xlink:href=\"#m3ab6b07949\" y=\"186.244617\"/>\r\n     <use style=\"fill:#ff0000;stroke:#ff0000;\" x=\"159.174316\" xlink:href=\"#m3ab6b07949\" y=\"175.770312\"/>\r\n     <use style=\"fill:#ff0000;stroke:#ff0000;\" x=\"166.754961\" xlink:href=\"#m3ab6b07949\" y=\"89.375011\"/>\r\n     <use style=\"fill:#ff0000;stroke:#ff0000;\" x=\"165.724136\" xlink:href=\"#m3ab6b07949\" y=\"202.898702\"/>\r\n     <use style=\"fill:#ff0000;stroke:#ff0000;\" x=\"213.66878\" xlink:href=\"#m3ab6b07949\" y=\"87.660938\"/>\r\n     <use style=\"fill:#ff0000;stroke:#ff0000;\" x=\"182.750922\" xlink:href=\"#m3ab6b07949\" y=\"137.906068\"/>\r\n     <use style=\"fill:#ff0000;stroke:#ff0000;\" x=\"226.466424\" xlink:href=\"#m3ab6b07949\" y=\"153.636992\"/>\r\n     <use style=\"fill:#ff0000;stroke:#ff0000;\" x=\"148.987609\" xlink:href=\"#m3ab6b07949\" y=\"107.952696\"/>\r\n     <use style=\"fill:#ff0000;stroke:#ff0000;\" x=\"150.226114\" xlink:href=\"#m3ab6b07949\" y=\"59.651175\"/>\r\n     <use style=\"fill:#ff0000;stroke:#ff0000;\" x=\"235.353138\" xlink:href=\"#m3ab6b07949\" y=\"116.775839\"/>\r\n     <use style=\"fill:#ff0000;stroke:#ff0000;\" x=\"215.018809\" xlink:href=\"#m3ab6b07949\" y=\"166.884768\"/>\r\n     <use style=\"fill:#ff0000;stroke:#ff0000;\" x=\"189.183469\" xlink:href=\"#m3ab6b07949\" y=\"112.65778\"/>\r\n     <use style=\"fill:#ff0000;stroke:#ff0000;\" x=\"81.870225\" xlink:href=\"#m3ab6b07949\" y=\"118.79008\"/>\r\n     <use style=\"fill:#ff0000;stroke:#ff0000;\" x=\"155.48442\" xlink:href=\"#m3ab6b07949\" y=\"86.451203\"/>\r\n     <use style=\"fill:#ff0000;stroke:#ff0000;\" x=\"110.461894\" xlink:href=\"#m3ab6b07949\" y=\"148.257069\"/>\r\n     <use style=\"fill:#ff0000;stroke:#ff0000;\" x=\"144.033719\" xlink:href=\"#m3ab6b07949\" y=\"165.399769\"/>\r\n     <use style=\"fill:#ff0000;stroke:#ff0000;\" x=\"123.009065\" xlink:href=\"#m3ab6b07949\" y=\"192.63573\"/>\r\n     <use style=\"fill:#ff0000;stroke:#ff0000;\" x=\"227.878525\" xlink:href=\"#m3ab6b07949\" y=\"222.62132\"/>\r\n     <use style=\"fill:#ff0000;stroke:#ff0000;\" x=\"202.438907\" xlink:href=\"#m3ab6b07949\" y=\"123.105116\"/>\r\n     <use style=\"fill:#ff0000;stroke:#ff0000;\" x=\"84.954663\" xlink:href=\"#m3ab6b07949\" y=\"136.698114\"/>\r\n     <use style=\"fill:#ff0000;stroke:#ff0000;\" x=\"192.469194\" xlink:href=\"#m3ab6b07949\" y=\"131.038153\"/>\r\n     <use style=\"fill:#ff0000;stroke:#ff0000;\" x=\"167.657494\" xlink:href=\"#m3ab6b07949\" y=\"171.091937\"/>\r\n     <use style=\"fill:#ff0000;stroke:#ff0000;\" x=\"84.850445\" xlink:href=\"#m3ab6b07949\" y=\"139.50717\"/>\r\n     <use style=\"fill:#ff0000;stroke:#ff0000;\" x=\"81.480724\" xlink:href=\"#m3ab6b07949\" y=\"145.153361\"/>\r\n     <use style=\"fill:#ff0000;stroke:#ff0000;\" x=\"120.79087\" xlink:href=\"#m3ab6b07949\" y=\"109.25743\"/>\r\n     <use style=\"fill:#ff0000;stroke:#ff0000;\" x=\"107.761723\" xlink:href=\"#m3ab6b07949\" y=\"148.820711\"/>\r\n     <use style=\"fill:#ff0000;stroke:#ff0000;\" x=\"150.328126\" xlink:href=\"#m3ab6b07949\" y=\"68.472102\"/>\r\n     <use style=\"fill:#ff0000;stroke:#ff0000;\" x=\"149.930477\" xlink:href=\"#m3ab6b07949\" y=\"87.196351\"/>\r\n     <use style=\"fill:#ff0000;stroke:#ff0000;\" x=\"160.522269\" xlink:href=\"#m3ab6b07949\" y=\"126.08639\"/>\r\n     <use style=\"fill:#ff0000;stroke:#ff0000;\" x=\"203.404188\" xlink:href=\"#m3ab6b07949\" y=\"191.060284\"/>\r\n     <use style=\"fill:#ff0000;stroke:#ff0000;\" x=\"85.261987\" xlink:href=\"#m3ab6b07949\" y=\"113.18138\"/>\r\n     <use style=\"fill:#ff0000;stroke:#ff0000;\" x=\"180.320531\" xlink:href=\"#m3ab6b07949\" y=\"107.411736\"/>\r\n     <use style=\"fill:#ff0000;stroke:#ff0000;\" x=\"70.622727\" xlink:href=\"#m3ab6b07949\" y=\"211.576958\"/>\r\n     <use style=\"fill:#ff0000;stroke:#ff0000;\" x=\"141.677745\" xlink:href=\"#m3ab6b07949\" y=\"164.717703\"/>\r\n     <use style=\"fill:#ff0000;stroke:#ff0000;\" x=\"169.830854\" xlink:href=\"#m3ab6b07949\" y=\"219.489064\"/>\r\n     <use style=\"fill:#ff0000;stroke:#ff0000;\" x=\"117.021546\" xlink:href=\"#m3ab6b07949\" y=\"229.874489\"/>\r\n     <use style=\"fill:#ff0000;stroke:#ff0000;\" x=\"111.115107\" xlink:href=\"#m3ab6b07949\" y=\"87.452925\"/>\r\n     <use style=\"fill:#ff0000;stroke:#ff0000;\" x=\"171.466331\" xlink:href=\"#m3ab6b07949\" y=\"108.112419\"/>\r\n     <use style=\"fill:#ff0000;stroke:#ff0000;\" x=\"124.757778\" xlink:href=\"#m3ab6b07949\" y=\"148.309568\"/>\r\n     <use style=\"fill:#ff0000;stroke:#ff0000;\" x=\"190.228152\" xlink:href=\"#m3ab6b07949\" y=\"146.861561\"/>\r\n     <use style=\"fill:#ff0000;stroke:#ff0000;\" x=\"135.298462\" xlink:href=\"#m3ab6b07949\" y=\"77.881021\"/>\r\n     <use style=\"fill:#ff0000;stroke:#ff0000;\" x=\"113.33393\" xlink:href=\"#m3ab6b07949\" y=\"110.430537\"/>\r\n     <use style=\"fill:#ff0000;stroke:#ff0000;\" x=\"152.478529\" xlink:href=\"#m3ab6b07949\" y=\"153.89078\"/>\r\n     <use style=\"fill:#ff0000;stroke:#ff0000;\" x=\"158.678975\" xlink:href=\"#m3ab6b07949\" y=\"112.460635\"/>\r\n     <use style=\"fill:#ff0000;stroke:#ff0000;\" x=\"83.059777\" xlink:href=\"#m3ab6b07949\" y=\"48.878717\"/>\r\n     <use style=\"fill:#ff0000;stroke:#ff0000;\" x=\"193.536015\" xlink:href=\"#m3ab6b07949\" y=\"117.291441\"/>\r\n     <use style=\"fill:#ff0000;stroke:#ff0000;\" x=\"106.391734\" xlink:href=\"#m3ab6b07949\" y=\"108.288134\"/>\r\n     <use style=\"fill:#ff0000;stroke:#ff0000;\" x=\"110.919462\" xlink:href=\"#m3ab6b07949\" y=\"176.294184\"/>\r\n     <use style=\"fill:#ff0000;stroke:#ff0000;\" x=\"140.872696\" xlink:href=\"#m3ab6b07949\" y=\"130.823658\"/>\r\n     <use style=\"fill:#ff0000;stroke:#ff0000;\" x=\"154.22135\" xlink:href=\"#m3ab6b07949\" y=\"125.195409\"/>\r\n     <use style=\"fill:#ff0000;stroke:#ff0000;\" x=\"66.422975\" xlink:href=\"#m3ab6b07949\" y=\"149.28757\"/>\r\n     <use style=\"fill:#ff0000;stroke:#ff0000;\" x=\"168.370317\" xlink:href=\"#m3ab6b07949\" y=\"83.777618\"/>\r\n     <use style=\"fill:#ff0000;stroke:#ff0000;\" x=\"68.560606\" xlink:href=\"#m3ab6b07949\" y=\"127.487729\"/>\r\n     <use style=\"fill:#ff0000;stroke:#ff0000;\" x=\"173.841199\" xlink:href=\"#m3ab6b07949\" y=\"119.672668\"/>\r\n     <use style=\"fill:#ff0000;stroke:#ff0000;\" x=\"72.589977\" xlink:href=\"#m3ab6b07949\" y=\"134.132235\"/>\r\n     <use style=\"fill:#ff0000;stroke:#ff0000;\" x=\"179.291123\" xlink:href=\"#m3ab6b07949\" y=\"32.201761\"/>\r\n     <use style=\"fill:#ff0000;stroke:#ff0000;\" x=\"133.321082\" xlink:href=\"#m3ab6b07949\" y=\"115.092356\"/>\r\n     <use style=\"fill:#ff0000;stroke:#ff0000;\" x=\"129.216711\" xlink:href=\"#m3ab6b07949\" y=\"157.745747\"/>\r\n     <use style=\"fill:#ff0000;stroke:#ff0000;\" x=\"71.007029\" xlink:href=\"#m3ab6b07949\" y=\"136.623824\"/>\r\n     <use style=\"fill:#ff0000;stroke:#ff0000;\" x=\"125.31898\" xlink:href=\"#m3ab6b07949\" y=\"46.591316\"/>\r\n     <use style=\"fill:#ff0000;stroke:#ff0000;\" x=\"156.142088\" xlink:href=\"#m3ab6b07949\" y=\"146.671124\"/>\r\n     <use style=\"fill:#ff0000;stroke:#ff0000;\" x=\"50.890328\" xlink:href=\"#m3ab6b07949\" y=\"149.943942\"/>\r\n     <use style=\"fill:#ff0000;stroke:#ff0000;\" x=\"171.173088\" xlink:href=\"#m3ab6b07949\" y=\"66.922736\"/>\r\n     <use style=\"fill:#ff0000;stroke:#ff0000;\" x=\"109.548405\" xlink:href=\"#m3ab6b07949\" y=\"146.891107\"/>\r\n     <use style=\"fill:#ff0000;stroke:#ff0000;\" x=\"183.826235\" xlink:href=\"#m3ab6b07949\" y=\"79.151796\"/>\r\n     <use style=\"fill:#ff0000;stroke:#ff0000;\" x=\"125.001346\" xlink:href=\"#m3ab6b07949\" y=\"58.889501\"/>\r\n     <use style=\"fill:#ff0000;stroke:#ff0000;\" x=\"175.723083\" xlink:href=\"#m3ab6b07949\" y=\"136.260037\"/>\r\n     <use style=\"fill:#ff0000;stroke:#ff0000;\" x=\"159.13204\" xlink:href=\"#m3ab6b07949\" y=\"221.694966\"/>\r\n    </g>\r\n   </g>\r\n   <g id=\"matplotlib.axis_1\">\r\n    <g id=\"xtick_1\">\r\n     <g id=\"line2d_1\">\r\n      <defs>\r\n       <path d=\"M 0 0 \r\nL 0 3.5 \r\n\" id=\"m84d942d744\" style=\"stroke:#000000;stroke-width:0.8;\"/>\r\n      </defs>\r\n      <g>\r\n       <use style=\"stroke:#000000;stroke-width:0.8;\" x=\"62.615299\" xlink:href=\"#m84d942d744\" y=\"239.758125\"/>\r\n      </g>\r\n     </g>\r\n     <g id=\"text_1\">\r\n      <!-- −2 -->\r\n      <g transform=\"translate(55.244205 254.356563)scale(0.1 -0.1)\">\r\n       <defs>\r\n        <path d=\"M 10.59375 35.5 \r\nL 73.1875 35.5 \r\nL 73.1875 27.203125 \r\nL 10.59375 27.203125 \r\nz\r\n\" id=\"DejaVuSans-8722\"/>\r\n        <path d=\"M 19.1875 8.296875 \r\nL 53.609375 8.296875 \r\nL 53.609375 0 \r\nL 7.328125 0 \r\nL 7.328125 8.296875 \r\nQ 12.9375 14.109375 22.625 23.890625 \r\nQ 32.328125 33.6875 34.8125 36.53125 \r\nQ 39.546875 41.84375 41.421875 45.53125 \r\nQ 43.3125 49.21875 43.3125 52.78125 \r\nQ 43.3125 58.59375 39.234375 62.25 \r\nQ 35.15625 65.921875 28.609375 65.921875 \r\nQ 23.96875 65.921875 18.8125 64.3125 \r\nQ 13.671875 62.703125 7.8125 59.421875 \r\nL 7.8125 69.390625 \r\nQ 13.765625 71.78125 18.9375 73 \r\nQ 24.125 74.21875 28.421875 74.21875 \r\nQ 39.75 74.21875 46.484375 68.546875 \r\nQ 53.21875 62.890625 53.21875 53.421875 \r\nQ 53.21875 48.921875 51.53125 44.890625 \r\nQ 49.859375 40.875 45.40625 35.40625 \r\nQ 44.1875 33.984375 37.640625 27.21875 \r\nQ 31.109375 20.453125 19.1875 8.296875 \r\nz\r\n\" id=\"DejaVuSans-50\"/>\r\n       </defs>\r\n       <use xlink:href=\"#DejaVuSans-8722\"/>\r\n       <use x=\"83.789062\" xlink:href=\"#DejaVuSans-50\"/>\r\n      </g>\r\n     </g>\r\n    </g>\r\n    <g id=\"xtick_2\">\r\n     <g id=\"line2d_2\">\r\n      <g>\r\n       <use style=\"stroke:#000000;stroke-width:0.8;\" x=\"103.282509\" xlink:href=\"#m84d942d744\" y=\"239.758125\"/>\r\n      </g>\r\n     </g>\r\n     <g id=\"text_2\">\r\n      <!-- −1 -->\r\n      <g transform=\"translate(95.911415 254.356563)scale(0.1 -0.1)\">\r\n       <defs>\r\n        <path d=\"M 12.40625 8.296875 \r\nL 28.515625 8.296875 \r\nL 28.515625 63.921875 \r\nL 10.984375 60.40625 \r\nL 10.984375 69.390625 \r\nL 28.421875 72.90625 \r\nL 38.28125 72.90625 \r\nL 38.28125 8.296875 \r\nL 54.390625 8.296875 \r\nL 54.390625 0 \r\nL 12.40625 0 \r\nz\r\n\" id=\"DejaVuSans-49\"/>\r\n       </defs>\r\n       <use xlink:href=\"#DejaVuSans-8722\"/>\r\n       <use x=\"83.789062\" xlink:href=\"#DejaVuSans-49\"/>\r\n      </g>\r\n     </g>\r\n    </g>\r\n    <g id=\"xtick_3\">\r\n     <g id=\"line2d_3\">\r\n      <g>\r\n       <use style=\"stroke:#000000;stroke-width:0.8;\" x=\"143.949718\" xlink:href=\"#m84d942d744\" y=\"239.758125\"/>\r\n      </g>\r\n     </g>\r\n     <g id=\"text_3\">\r\n      <!-- 0 -->\r\n      <g transform=\"translate(140.768468 254.356563)scale(0.1 -0.1)\">\r\n       <defs>\r\n        <path d=\"M 31.78125 66.40625 \r\nQ 24.171875 66.40625 20.328125 58.90625 \r\nQ 16.5 51.421875 16.5 36.375 \r\nQ 16.5 21.390625 20.328125 13.890625 \r\nQ 24.171875 6.390625 31.78125 6.390625 \r\nQ 39.453125 6.390625 43.28125 13.890625 \r\nQ 47.125 21.390625 47.125 36.375 \r\nQ 47.125 51.421875 43.28125 58.90625 \r\nQ 39.453125 66.40625 31.78125 66.40625 \r\nz\r\nM 31.78125 74.21875 \r\nQ 44.046875 74.21875 50.515625 64.515625 \r\nQ 56.984375 54.828125 56.984375 36.375 \r\nQ 56.984375 17.96875 50.515625 8.265625 \r\nQ 44.046875 -1.421875 31.78125 -1.421875 \r\nQ 19.53125 -1.421875 13.0625 8.265625 \r\nQ 6.59375 17.96875 6.59375 36.375 \r\nQ 6.59375 54.828125 13.0625 64.515625 \r\nQ 19.53125 74.21875 31.78125 74.21875 \r\nz\r\n\" id=\"DejaVuSans-48\"/>\r\n       </defs>\r\n       <use xlink:href=\"#DejaVuSans-48\"/>\r\n      </g>\r\n     </g>\r\n    </g>\r\n    <g id=\"xtick_4\">\r\n     <g id=\"line2d_4\">\r\n      <g>\r\n       <use style=\"stroke:#000000;stroke-width:0.8;\" x=\"184.616928\" xlink:href=\"#m84d942d744\" y=\"239.758125\"/>\r\n      </g>\r\n     </g>\r\n     <g id=\"text_4\">\r\n      <!-- 1 -->\r\n      <g transform=\"translate(181.435678 254.356563)scale(0.1 -0.1)\">\r\n       <use xlink:href=\"#DejaVuSans-49\"/>\r\n      </g>\r\n     </g>\r\n    </g>\r\n    <g id=\"xtick_5\">\r\n     <g id=\"line2d_5\">\r\n      <g>\r\n       <use style=\"stroke:#000000;stroke-width:0.8;\" x=\"225.284138\" xlink:href=\"#m84d942d744\" y=\"239.758125\"/>\r\n      </g>\r\n     </g>\r\n     <g id=\"text_5\">\r\n      <!-- 2 -->\r\n      <g transform=\"translate(222.102888 254.356563)scale(0.1 -0.1)\">\r\n       <use xlink:href=\"#DejaVuSans-50\"/>\r\n      </g>\r\n     </g>\r\n    </g>\r\n   </g>\r\n   <g id=\"matplotlib.axis_2\">\r\n    <g id=\"ytick_1\">\r\n     <g id=\"line2d_6\">\r\n      <defs>\r\n       <path d=\"M 0 0 \r\nL -3.5 0 \r\n\" id=\"m36e1bddb3a\" style=\"stroke:#000000;stroke-width:0.8;\"/>\r\n      </defs>\r\n      <g>\r\n       <use style=\"stroke:#000000;stroke-width:0.8;\" x=\"41.667187\" xlink:href=\"#m36e1bddb3a\" y=\"208.896481\"/>\r\n      </g>\r\n     </g>\r\n     <g id=\"text_6\">\r\n      <!-- −100 -->\r\n      <g transform=\"translate(7.2 212.6957)scale(0.1 -0.1)\">\r\n       <use xlink:href=\"#DejaVuSans-8722\"/>\r\n       <use x=\"83.789062\" xlink:href=\"#DejaVuSans-49\"/>\r\n       <use x=\"147.412109\" xlink:href=\"#DejaVuSans-48\"/>\r\n       <use x=\"211.035156\" xlink:href=\"#DejaVuSans-48\"/>\r\n      </g>\r\n     </g>\r\n    </g>\r\n    <g id=\"ytick_2\">\r\n     <g id=\"line2d_7\">\r\n      <g>\r\n       <use style=\"stroke:#000000;stroke-width:0.8;\" x=\"41.667187\" xlink:href=\"#m36e1bddb3a\" y=\"170.878195\"/>\r\n      </g>\r\n     </g>\r\n     <g id=\"text_7\">\r\n      <!-- −50 -->\r\n      <g transform=\"translate(13.5625 174.677414)scale(0.1 -0.1)\">\r\n       <defs>\r\n        <path d=\"M 10.796875 72.90625 \r\nL 49.515625 72.90625 \r\nL 49.515625 64.59375 \r\nL 19.828125 64.59375 \r\nL 19.828125 46.734375 \r\nQ 21.96875 47.46875 24.109375 47.828125 \r\nQ 26.265625 48.1875 28.421875 48.1875 \r\nQ 40.625 48.1875 47.75 41.5 \r\nQ 54.890625 34.8125 54.890625 23.390625 \r\nQ 54.890625 11.625 47.5625 5.09375 \r\nQ 40.234375 -1.421875 26.90625 -1.421875 \r\nQ 22.3125 -1.421875 17.546875 -0.640625 \r\nQ 12.796875 0.140625 7.71875 1.703125 \r\nL 7.71875 11.625 \r\nQ 12.109375 9.234375 16.796875 8.0625 \r\nQ 21.484375 6.890625 26.703125 6.890625 \r\nQ 35.15625 6.890625 40.078125 11.328125 \r\nQ 45.015625 15.765625 45.015625 23.390625 \r\nQ 45.015625 31 40.078125 35.4375 \r\nQ 35.15625 39.890625 26.703125 39.890625 \r\nQ 22.75 39.890625 18.8125 39.015625 \r\nQ 14.890625 38.140625 10.796875 36.28125 \r\nz\r\n\" id=\"DejaVuSans-53\"/>\r\n       </defs>\r\n       <use xlink:href=\"#DejaVuSans-8722\"/>\r\n       <use x=\"83.789062\" xlink:href=\"#DejaVuSans-53\"/>\r\n       <use x=\"147.412109\" xlink:href=\"#DejaVuSans-48\"/>\r\n      </g>\r\n     </g>\r\n    </g>\r\n    <g id=\"ytick_3\">\r\n     <g id=\"line2d_8\">\r\n      <g>\r\n       <use style=\"stroke:#000000;stroke-width:0.8;\" x=\"41.667187\" xlink:href=\"#m36e1bddb3a\" y=\"132.85991\"/>\r\n      </g>\r\n     </g>\r\n     <g id=\"text_8\">\r\n      <!-- 0 -->\r\n      <g transform=\"translate(28.304687 136.659129)scale(0.1 -0.1)\">\r\n       <use xlink:href=\"#DejaVuSans-48\"/>\r\n      </g>\r\n     </g>\r\n    </g>\r\n    <g id=\"ytick_4\">\r\n     <g id=\"line2d_9\">\r\n      <g>\r\n       <use style=\"stroke:#000000;stroke-width:0.8;\" x=\"41.667187\" xlink:href=\"#m36e1bddb3a\" y=\"94.841625\"/>\r\n      </g>\r\n     </g>\r\n     <g id=\"text_9\">\r\n      <!-- 50 -->\r\n      <g transform=\"translate(21.942187 98.640844)scale(0.1 -0.1)\">\r\n       <use xlink:href=\"#DejaVuSans-53\"/>\r\n       <use x=\"63.623047\" xlink:href=\"#DejaVuSans-48\"/>\r\n      </g>\r\n     </g>\r\n    </g>\r\n    <g id=\"ytick_5\">\r\n     <g id=\"line2d_10\">\r\n      <g>\r\n       <use style=\"stroke:#000000;stroke-width:0.8;\" x=\"41.667187\" xlink:href=\"#m36e1bddb3a\" y=\"56.823339\"/>\r\n      </g>\r\n     </g>\r\n     <g id=\"text_10\">\r\n      <!-- 100 -->\r\n      <g transform=\"translate(15.579687 60.622558)scale(0.1 -0.1)\">\r\n       <use xlink:href=\"#DejaVuSans-49\"/>\r\n       <use x=\"63.623047\" xlink:href=\"#DejaVuSans-48\"/>\r\n       <use x=\"127.246094\" xlink:href=\"#DejaVuSans-48\"/>\r\n      </g>\r\n     </g>\r\n    </g>\r\n   </g>\r\n   <g id=\"patch_3\">\r\n    <path d=\"M 41.667187 239.758125 \r\nL 41.667187 22.318125 \r\n\" style=\"fill:none;stroke:#000000;stroke-linecap:square;stroke-linejoin:miter;stroke-width:0.8;\"/>\r\n   </g>\r\n   <g id=\"patch_4\">\r\n    <path d=\"M 244.576278 239.758125 \r\nL 244.576278 22.318125 \r\n\" style=\"fill:none;stroke:#000000;stroke-linecap:square;stroke-linejoin:miter;stroke-width:0.8;\"/>\r\n   </g>\r\n   <g id=\"patch_5\">\r\n    <path d=\"M 41.667188 239.758125 \r\nL 244.576278 239.758125 \r\n\" style=\"fill:none;stroke:#000000;stroke-linecap:square;stroke-linejoin:miter;stroke-width:0.8;\"/>\r\n   </g>\r\n   <g id=\"patch_6\">\r\n    <path d=\"M 41.667188 22.318125 \r\nL 244.576278 22.318125 \r\n\" style=\"fill:none;stroke:#000000;stroke-linecap:square;stroke-linejoin:miter;stroke-width:0.8;\"/>\r\n   </g>\r\n   <g id=\"text_11\">\r\n    <!-- 1st feature to target dependency -->\r\n    <g transform=\"translate(43.314545 16.318125)scale(0.12 -0.12)\">\r\n     <defs>\r\n      <path d=\"M 44.28125 53.078125 \r\nL 44.28125 44.578125 \r\nQ 40.484375 46.53125 36.375 47.5 \r\nQ 32.28125 48.484375 27.875 48.484375 \r\nQ 21.1875 48.484375 17.84375 46.4375 \r\nQ 14.5 44.390625 14.5 40.28125 \r\nQ 14.5 37.15625 16.890625 35.375 \r\nQ 19.28125 33.59375 26.515625 31.984375 \r\nL 29.59375 31.296875 \r\nQ 39.15625 29.25 43.1875 25.515625 \r\nQ 47.21875 21.78125 47.21875 15.09375 \r\nQ 47.21875 7.46875 41.1875 3.015625 \r\nQ 35.15625 -1.421875 24.609375 -1.421875 \r\nQ 20.21875 -1.421875 15.453125 -0.5625 \r\nQ 10.6875 0.296875 5.421875 2 \r\nL 5.421875 11.28125 \r\nQ 10.40625 8.6875 15.234375 7.390625 \r\nQ 20.0625 6.109375 24.8125 6.109375 \r\nQ 31.15625 6.109375 34.5625 8.28125 \r\nQ 37.984375 10.453125 37.984375 14.40625 \r\nQ 37.984375 18.0625 35.515625 20.015625 \r\nQ 33.0625 21.96875 24.703125 23.78125 \r\nL 21.578125 24.515625 \r\nQ 13.234375 26.265625 9.515625 29.90625 \r\nQ 5.8125 33.546875 5.8125 39.890625 \r\nQ 5.8125 47.609375 11.28125 51.796875 \r\nQ 16.75 56 26.8125 56 \r\nQ 31.78125 56 36.171875 55.265625 \r\nQ 40.578125 54.546875 44.28125 53.078125 \r\nz\r\n\" id=\"DejaVuSans-115\"/>\r\n      <path d=\"M 18.3125 70.21875 \r\nL 18.3125 54.6875 \r\nL 36.8125 54.6875 \r\nL 36.8125 47.703125 \r\nL 18.3125 47.703125 \r\nL 18.3125 18.015625 \r\nQ 18.3125 11.328125 20.140625 9.421875 \r\nQ 21.96875 7.515625 27.59375 7.515625 \r\nL 36.8125 7.515625 \r\nL 36.8125 0 \r\nL 27.59375 0 \r\nQ 17.1875 0 13.234375 3.875 \r\nQ 9.28125 7.765625 9.28125 18.015625 \r\nL 9.28125 47.703125 \r\nL 2.6875 47.703125 \r\nL 2.6875 54.6875 \r\nL 9.28125 54.6875 \r\nL 9.28125 70.21875 \r\nz\r\n\" id=\"DejaVuSans-116\"/>\r\n      <path id=\"DejaVuSans-32\"/>\r\n      <path d=\"M 37.109375 75.984375 \r\nL 37.109375 68.5 \r\nL 28.515625 68.5 \r\nQ 23.6875 68.5 21.796875 66.546875 \r\nQ 19.921875 64.59375 19.921875 59.515625 \r\nL 19.921875 54.6875 \r\nL 34.71875 54.6875 \r\nL 34.71875 47.703125 \r\nL 19.921875 47.703125 \r\nL 19.921875 0 \r\nL 10.890625 0 \r\nL 10.890625 47.703125 \r\nL 2.296875 47.703125 \r\nL 2.296875 54.6875 \r\nL 10.890625 54.6875 \r\nL 10.890625 58.5 \r\nQ 10.890625 67.625 15.140625 71.796875 \r\nQ 19.390625 75.984375 28.609375 75.984375 \r\nz\r\n\" id=\"DejaVuSans-102\"/>\r\n      <path d=\"M 56.203125 29.59375 \r\nL 56.203125 25.203125 \r\nL 14.890625 25.203125 \r\nQ 15.484375 15.921875 20.484375 11.0625 \r\nQ 25.484375 6.203125 34.421875 6.203125 \r\nQ 39.59375 6.203125 44.453125 7.46875 \r\nQ 49.3125 8.734375 54.109375 11.28125 \r\nL 54.109375 2.78125 \r\nQ 49.265625 0.734375 44.1875 -0.34375 \r\nQ 39.109375 -1.421875 33.890625 -1.421875 \r\nQ 20.796875 -1.421875 13.15625 6.1875 \r\nQ 5.515625 13.8125 5.515625 26.8125 \r\nQ 5.515625 40.234375 12.765625 48.109375 \r\nQ 20.015625 56 32.328125 56 \r\nQ 43.359375 56 49.78125 48.890625 \r\nQ 56.203125 41.796875 56.203125 29.59375 \r\nz\r\nM 47.21875 32.234375 \r\nQ 47.125 39.59375 43.09375 43.984375 \r\nQ 39.0625 48.390625 32.421875 48.390625 \r\nQ 24.90625 48.390625 20.390625 44.140625 \r\nQ 15.875 39.890625 15.1875 32.171875 \r\nz\r\n\" id=\"DejaVuSans-101\"/>\r\n      <path d=\"M 34.28125 27.484375 \r\nQ 23.390625 27.484375 19.1875 25 \r\nQ 14.984375 22.515625 14.984375 16.5 \r\nQ 14.984375 11.71875 18.140625 8.90625 \r\nQ 21.296875 6.109375 26.703125 6.109375 \r\nQ 34.1875 6.109375 38.703125 11.40625 \r\nQ 43.21875 16.703125 43.21875 25.484375 \r\nL 43.21875 27.484375 \r\nz\r\nM 52.203125 31.203125 \r\nL 52.203125 0 \r\nL 43.21875 0 \r\nL 43.21875 8.296875 \r\nQ 40.140625 3.328125 35.546875 0.953125 \r\nQ 30.953125 -1.421875 24.3125 -1.421875 \r\nQ 15.921875 -1.421875 10.953125 3.296875 \r\nQ 6 8.015625 6 15.921875 \r\nQ 6 25.140625 12.171875 29.828125 \r\nQ 18.359375 34.515625 30.609375 34.515625 \r\nL 43.21875 34.515625 \r\nL 43.21875 35.40625 \r\nQ 43.21875 41.609375 39.140625 45 \r\nQ 35.0625 48.390625 27.6875 48.390625 \r\nQ 23 48.390625 18.546875 47.265625 \r\nQ 14.109375 46.140625 10.015625 43.890625 \r\nL 10.015625 52.203125 \r\nQ 14.9375 54.109375 19.578125 55.046875 \r\nQ 24.21875 56 28.609375 56 \r\nQ 40.484375 56 46.34375 49.84375 \r\nQ 52.203125 43.703125 52.203125 31.203125 \r\nz\r\n\" id=\"DejaVuSans-97\"/>\r\n      <path d=\"M 8.5 21.578125 \r\nL 8.5 54.6875 \r\nL 17.484375 54.6875 \r\nL 17.484375 21.921875 \r\nQ 17.484375 14.15625 20.5 10.265625 \r\nQ 23.53125 6.390625 29.59375 6.390625 \r\nQ 36.859375 6.390625 41.078125 11.03125 \r\nQ 45.3125 15.671875 45.3125 23.6875 \r\nL 45.3125 54.6875 \r\nL 54.296875 54.6875 \r\nL 54.296875 0 \r\nL 45.3125 0 \r\nL 45.3125 8.40625 \r\nQ 42.046875 3.421875 37.71875 1 \r\nQ 33.40625 -1.421875 27.6875 -1.421875 \r\nQ 18.265625 -1.421875 13.375 4.4375 \r\nQ 8.5 10.296875 8.5 21.578125 \r\nz\r\nM 31.109375 56 \r\nz\r\n\" id=\"DejaVuSans-117\"/>\r\n      <path d=\"M 41.109375 46.296875 \r\nQ 39.59375 47.171875 37.8125 47.578125 \r\nQ 36.03125 48 33.890625 48 \r\nQ 26.265625 48 22.1875 43.046875 \r\nQ 18.109375 38.09375 18.109375 28.8125 \r\nL 18.109375 0 \r\nL 9.078125 0 \r\nL 9.078125 54.6875 \r\nL 18.109375 54.6875 \r\nL 18.109375 46.1875 \r\nQ 20.953125 51.171875 25.484375 53.578125 \r\nQ 30.03125 56 36.53125 56 \r\nQ 37.453125 56 38.578125 55.875 \r\nQ 39.703125 55.765625 41.0625 55.515625 \r\nz\r\n\" id=\"DejaVuSans-114\"/>\r\n      <path d=\"M 30.609375 48.390625 \r\nQ 23.390625 48.390625 19.1875 42.75 \r\nQ 14.984375 37.109375 14.984375 27.296875 \r\nQ 14.984375 17.484375 19.15625 11.84375 \r\nQ 23.34375 6.203125 30.609375 6.203125 \r\nQ 37.796875 6.203125 41.984375 11.859375 \r\nQ 46.1875 17.53125 46.1875 27.296875 \r\nQ 46.1875 37.015625 41.984375 42.703125 \r\nQ 37.796875 48.390625 30.609375 48.390625 \r\nz\r\nM 30.609375 56 \r\nQ 42.328125 56 49.015625 48.375 \r\nQ 55.71875 40.765625 55.71875 27.296875 \r\nQ 55.71875 13.875 49.015625 6.21875 \r\nQ 42.328125 -1.421875 30.609375 -1.421875 \r\nQ 18.84375 -1.421875 12.171875 6.21875 \r\nQ 5.515625 13.875 5.515625 27.296875 \r\nQ 5.515625 40.765625 12.171875 48.375 \r\nQ 18.84375 56 30.609375 56 \r\nz\r\n\" id=\"DejaVuSans-111\"/>\r\n      <path d=\"M 45.40625 27.984375 \r\nQ 45.40625 37.75 41.375 43.109375 \r\nQ 37.359375 48.484375 30.078125 48.484375 \r\nQ 22.859375 48.484375 18.828125 43.109375 \r\nQ 14.796875 37.75 14.796875 27.984375 \r\nQ 14.796875 18.265625 18.828125 12.890625 \r\nQ 22.859375 7.515625 30.078125 7.515625 \r\nQ 37.359375 7.515625 41.375 12.890625 \r\nQ 45.40625 18.265625 45.40625 27.984375 \r\nz\r\nM 54.390625 6.78125 \r\nQ 54.390625 -7.171875 48.1875 -13.984375 \r\nQ 42 -20.796875 29.203125 -20.796875 \r\nQ 24.46875 -20.796875 20.265625 -20.09375 \r\nQ 16.0625 -19.390625 12.109375 -17.921875 \r\nL 12.109375 -9.1875 \r\nQ 16.0625 -11.328125 19.921875 -12.34375 \r\nQ 23.78125 -13.375 27.78125 -13.375 \r\nQ 36.625 -13.375 41.015625 -8.765625 \r\nQ 45.40625 -4.15625 45.40625 5.171875 \r\nL 45.40625 9.625 \r\nQ 42.625 4.78125 38.28125 2.390625 \r\nQ 33.9375 0 27.875 0 \r\nQ 17.828125 0 11.671875 7.65625 \r\nQ 5.515625 15.328125 5.515625 27.984375 \r\nQ 5.515625 40.671875 11.671875 48.328125 \r\nQ 17.828125 56 27.875 56 \r\nQ 33.9375 56 38.28125 53.609375 \r\nQ 42.625 51.21875 45.40625 46.390625 \r\nL 45.40625 54.6875 \r\nL 54.390625 54.6875 \r\nz\r\n\" id=\"DejaVuSans-103\"/>\r\n      <path d=\"M 45.40625 46.390625 \r\nL 45.40625 75.984375 \r\nL 54.390625 75.984375 \r\nL 54.390625 0 \r\nL 45.40625 0 \r\nL 45.40625 8.203125 \r\nQ 42.578125 3.328125 38.25 0.953125 \r\nQ 33.9375 -1.421875 27.875 -1.421875 \r\nQ 17.96875 -1.421875 11.734375 6.484375 \r\nQ 5.515625 14.40625 5.515625 27.296875 \r\nQ 5.515625 40.1875 11.734375 48.09375 \r\nQ 17.96875 56 27.875 56 \r\nQ 33.9375 56 38.25 53.625 \r\nQ 42.578125 51.265625 45.40625 46.390625 \r\nz\r\nM 14.796875 27.296875 \r\nQ 14.796875 17.390625 18.875 11.75 \r\nQ 22.953125 6.109375 30.078125 6.109375 \r\nQ 37.203125 6.109375 41.296875 11.75 \r\nQ 45.40625 17.390625 45.40625 27.296875 \r\nQ 45.40625 37.203125 41.296875 42.84375 \r\nQ 37.203125 48.484375 30.078125 48.484375 \r\nQ 22.953125 48.484375 18.875 42.84375 \r\nQ 14.796875 37.203125 14.796875 27.296875 \r\nz\r\n\" id=\"DejaVuSans-100\"/>\r\n      <path d=\"M 18.109375 8.203125 \r\nL 18.109375 -20.796875 \r\nL 9.078125 -20.796875 \r\nL 9.078125 54.6875 \r\nL 18.109375 54.6875 \r\nL 18.109375 46.390625 \r\nQ 20.953125 51.265625 25.265625 53.625 \r\nQ 29.59375 56 35.59375 56 \r\nQ 45.5625 56 51.78125 48.09375 \r\nQ 58.015625 40.1875 58.015625 27.296875 \r\nQ 58.015625 14.40625 51.78125 6.484375 \r\nQ 45.5625 -1.421875 35.59375 -1.421875 \r\nQ 29.59375 -1.421875 25.265625 0.953125 \r\nQ 20.953125 3.328125 18.109375 8.203125 \r\nz\r\nM 48.6875 27.296875 \r\nQ 48.6875 37.203125 44.609375 42.84375 \r\nQ 40.53125 48.484375 33.40625 48.484375 \r\nQ 26.265625 48.484375 22.1875 42.84375 \r\nQ 18.109375 37.203125 18.109375 27.296875 \r\nQ 18.109375 17.390625 22.1875 11.75 \r\nQ 26.265625 6.109375 33.40625 6.109375 \r\nQ 40.53125 6.109375 44.609375 11.75 \r\nQ 48.6875 17.390625 48.6875 27.296875 \r\nz\r\n\" id=\"DejaVuSans-112\"/>\r\n      <path d=\"M 54.890625 33.015625 \r\nL 54.890625 0 \r\nL 45.90625 0 \r\nL 45.90625 32.71875 \r\nQ 45.90625 40.484375 42.875 44.328125 \r\nQ 39.84375 48.1875 33.796875 48.1875 \r\nQ 26.515625 48.1875 22.3125 43.546875 \r\nQ 18.109375 38.921875 18.109375 30.90625 \r\nL 18.109375 0 \r\nL 9.078125 0 \r\nL 9.078125 54.6875 \r\nL 18.109375 54.6875 \r\nL 18.109375 46.1875 \r\nQ 21.34375 51.125 25.703125 53.5625 \r\nQ 30.078125 56 35.796875 56 \r\nQ 45.21875 56 50.046875 50.171875 \r\nQ 54.890625 44.34375 54.890625 33.015625 \r\nz\r\n\" id=\"DejaVuSans-110\"/>\r\n      <path d=\"M 48.78125 52.59375 \r\nL 48.78125 44.1875 \r\nQ 44.96875 46.296875 41.140625 47.34375 \r\nQ 37.3125 48.390625 33.40625 48.390625 \r\nQ 24.65625 48.390625 19.8125 42.84375 \r\nQ 14.984375 37.3125 14.984375 27.296875 \r\nQ 14.984375 17.28125 19.8125 11.734375 \r\nQ 24.65625 6.203125 33.40625 6.203125 \r\nQ 37.3125 6.203125 41.140625 7.25 \r\nQ 44.96875 8.296875 48.78125 10.40625 \r\nL 48.78125 2.09375 \r\nQ 45.015625 0.34375 40.984375 -0.53125 \r\nQ 36.96875 -1.421875 32.421875 -1.421875 \r\nQ 20.0625 -1.421875 12.78125 6.34375 \r\nQ 5.515625 14.109375 5.515625 27.296875 \r\nQ 5.515625 40.671875 12.859375 48.328125 \r\nQ 20.21875 56 33.015625 56 \r\nQ 37.15625 56 41.109375 55.140625 \r\nQ 45.0625 54.296875 48.78125 52.59375 \r\nz\r\n\" id=\"DejaVuSans-99\"/>\r\n      <path d=\"M 32.171875 -5.078125 \r\nQ 28.375 -14.84375 24.75 -17.8125 \r\nQ 21.140625 -20.796875 15.09375 -20.796875 \r\nL 7.90625 -20.796875 \r\nL 7.90625 -13.28125 \r\nL 13.1875 -13.28125 \r\nQ 16.890625 -13.28125 18.9375 -11.515625 \r\nQ 21 -9.765625 23.484375 -3.21875 \r\nL 25.09375 0.875 \r\nL 2.984375 54.6875 \r\nL 12.5 54.6875 \r\nL 29.59375 11.921875 \r\nL 46.6875 54.6875 \r\nL 56.203125 54.6875 \r\nz\r\n\" id=\"DejaVuSans-121\"/>\r\n     </defs>\r\n     <use xlink:href=\"#DejaVuSans-49\"/>\r\n     <use x=\"63.623047\" xlink:href=\"#DejaVuSans-115\"/>\r\n     <use x=\"115.722656\" xlink:href=\"#DejaVuSans-116\"/>\r\n     <use x=\"154.931641\" xlink:href=\"#DejaVuSans-32\"/>\r\n     <use x=\"186.71875\" xlink:href=\"#DejaVuSans-102\"/>\r\n     <use x=\"221.923828\" xlink:href=\"#DejaVuSans-101\"/>\r\n     <use x=\"283.447266\" xlink:href=\"#DejaVuSans-97\"/>\r\n     <use x=\"344.726562\" xlink:href=\"#DejaVuSans-116\"/>\r\n     <use x=\"383.935547\" xlink:href=\"#DejaVuSans-117\"/>\r\n     <use x=\"447.314453\" xlink:href=\"#DejaVuSans-114\"/>\r\n     <use x=\"486.177734\" xlink:href=\"#DejaVuSans-101\"/>\r\n     <use x=\"547.701172\" xlink:href=\"#DejaVuSans-32\"/>\r\n     <use x=\"579.488281\" xlink:href=\"#DejaVuSans-116\"/>\r\n     <use x=\"618.697266\" xlink:href=\"#DejaVuSans-111\"/>\r\n     <use x=\"679.878906\" xlink:href=\"#DejaVuSans-32\"/>\r\n     <use x=\"711.666016\" xlink:href=\"#DejaVuSans-116\"/>\r\n     <use x=\"750.875\" xlink:href=\"#DejaVuSans-97\"/>\r\n     <use x=\"812.154297\" xlink:href=\"#DejaVuSans-114\"/>\r\n     <use x=\"851.517578\" xlink:href=\"#DejaVuSans-103\"/>\r\n     <use x=\"914.994141\" xlink:href=\"#DejaVuSans-101\"/>\r\n     <use x=\"976.517578\" xlink:href=\"#DejaVuSans-116\"/>\r\n     <use x=\"1015.726562\" xlink:href=\"#DejaVuSans-32\"/>\r\n     <use x=\"1047.513672\" xlink:href=\"#DejaVuSans-100\"/>\r\n     <use x=\"1110.990234\" xlink:href=\"#DejaVuSans-101\"/>\r\n     <use x=\"1172.513672\" xlink:href=\"#DejaVuSans-112\"/>\r\n     <use x=\"1235.990234\" xlink:href=\"#DejaVuSans-101\"/>\r\n     <use x=\"1297.513672\" xlink:href=\"#DejaVuSans-110\"/>\r\n     <use x=\"1360.892578\" xlink:href=\"#DejaVuSans-100\"/>\r\n     <use x=\"1424.369141\" xlink:href=\"#DejaVuSans-101\"/>\r\n     <use x=\"1485.892578\" xlink:href=\"#DejaVuSans-110\"/>\r\n     <use x=\"1549.271484\" xlink:href=\"#DejaVuSans-99\"/>\r\n     <use x=\"1604.251953\" xlink:href=\"#DejaVuSans-121\"/>\r\n    </g>\r\n   </g>\r\n  </g>\r\n  <g id=\"axes_2\">\r\n   <g id=\"patch_7\">\r\n    <path d=\"M 285.158097 239.758125 \r\nL 488.067187 239.758125 \r\nL 488.067187 22.318125 \r\nL 285.158097 22.318125 \r\nz\r\n\" style=\"fill:#ffffff;\"/>\r\n   </g>\r\n   <g id=\"PathCollection_2\">\r\n    <defs>\r\n     <path d=\"M 0 3 \r\nC 0.795609 3 1.55874 2.683901 2.12132 2.12132 \r\nC 2.683901 1.55874 3 0.795609 3 0 \r\nC 3 -0.795609 2.683901 -1.55874 2.12132 -2.12132 \r\nC 1.55874 -2.683901 0.795609 -3 0 -3 \r\nC -0.795609 -3 -1.55874 -2.683901 -2.12132 -2.12132 \r\nC -2.683901 -1.55874 -3 -0.795609 -3 0 \r\nC -3 0.795609 -2.683901 1.55874 -2.12132 2.12132 \r\nC -1.55874 2.683901 -0.795609 3 0 3 \r\nz\r\n\" id=\"m8e6f5ca3be\" style=\"stroke:#0000ff;\"/>\r\n    </defs>\r\n    <g clip-path=\"url(#pf0ba1b6ea6)\">\r\n     <use style=\"fill:#0000ff;stroke:#0000ff;\" x=\"369.637007\" xlink:href=\"#m8e6f5ca3be\" y=\"147.622789\"/>\r\n     <use style=\"fill:#0000ff;stroke:#0000ff;\" x=\"336.459038\" xlink:href=\"#m8e6f5ca3be\" y=\"184.169652\"/>\r\n     <use style=\"fill:#0000ff;stroke:#0000ff;\" x=\"393.934467\" xlink:href=\"#m8e6f5ca3be\" y=\"121.343192\"/>\r\n     <use style=\"fill:#0000ff;stroke:#0000ff;\" x=\"374.173006\" xlink:href=\"#m8e6f5ca3be\" y=\"148.054788\"/>\r\n     <use style=\"fill:#0000ff;stroke:#0000ff;\" x=\"394.106253\" xlink:href=\"#m8e6f5ca3be\" y=\"114.070496\"/>\r\n     <use style=\"fill:#0000ff;stroke:#0000ff;\" x=\"369.657589\" xlink:href=\"#m8e6f5ca3be\" y=\"144.225947\"/>\r\n     <use style=\"fill:#0000ff;stroke:#0000ff;\" x=\"378.193211\" xlink:href=\"#m8e6f5ca3be\" y=\"137.074152\"/>\r\n     <use style=\"fill:#0000ff;stroke:#0000ff;\" x=\"359.797822\" xlink:href=\"#m8e6f5ca3be\" y=\"154.676652\"/>\r\n     <use style=\"fill:#0000ff;stroke:#0000ff;\" x=\"374.080398\" xlink:href=\"#m8e6f5ca3be\" y=\"144.281497\"/>\r\n     <use style=\"fill:#0000ff;stroke:#0000ff;\" x=\"464.002597\" xlink:href=\"#m8e6f5ca3be\" y=\"45.927944\"/>\r\n     <use style=\"fill:#0000ff;stroke:#0000ff;\" x=\"316.056242\" xlink:href=\"#m8e6f5ca3be\" y=\"210.273792\"/>\r\n     <use style=\"fill:#0000ff;stroke:#0000ff;\" x=\"409.61937\" xlink:href=\"#m8e6f5ca3be\" y=\"107.231109\"/>\r\n     <use style=\"fill:#0000ff;stroke:#0000ff;\" x=\"362.034561\" xlink:href=\"#m8e6f5ca3be\" y=\"151.593898\"/>\r\n     <use style=\"fill:#0000ff;stroke:#0000ff;\" x=\"374.215699\" xlink:href=\"#m8e6f5ca3be\" y=\"139.20239\"/>\r\n     <use style=\"fill:#0000ff;stroke:#0000ff;\" x=\"386.202662\" xlink:href=\"#m8e6f5ca3be\" y=\"133.586244\"/>\r\n     <use style=\"fill:#0000ff;stroke:#0000ff;\" x=\"418.305136\" xlink:href=\"#m8e6f5ca3be\" y=\"94.545466\"/>\r\n     <use style=\"fill:#0000ff;stroke:#0000ff;\" x=\"427.206014\" xlink:href=\"#m8e6f5ca3be\" y=\"84.984224\"/>\r\n     <use style=\"fill:#0000ff;stroke:#0000ff;\" x=\"376.795499\" xlink:href=\"#m8e6f5ca3be\" y=\"147.51574\"/>\r\n     <use style=\"fill:#0000ff;stroke:#0000ff;\" x=\"457.780783\" xlink:href=\"#m8e6f5ca3be\" y=\"52.318669\"/>\r\n     <use style=\"fill:#0000ff;stroke:#0000ff;\" x=\"350.767418\" xlink:href=\"#m8e6f5ca3be\" y=\"164.516461\"/>\r\n     <use style=\"fill:#0000ff;stroke:#0000ff;\" x=\"347.588357\" xlink:href=\"#m8e6f5ca3be\" y=\"165.001767\"/>\r\n     <use style=\"fill:#0000ff;stroke:#0000ff;\" x=\"342.333106\" xlink:href=\"#m8e6f5ca3be\" y=\"182.450225\"/>\r\n     <use style=\"fill:#0000ff;stroke:#0000ff;\" x=\"342.800422\" xlink:href=\"#m8e6f5ca3be\" y=\"175.170629\"/>\r\n     <use style=\"fill:#0000ff;stroke:#0000ff;\" x=\"352.111117\" xlink:href=\"#m8e6f5ca3be\" y=\"162.137917\"/>\r\n     <use style=\"fill:#0000ff;stroke:#0000ff;\" x=\"329.824262\" xlink:href=\"#m8e6f5ca3be\" y=\"187.79528\"/>\r\n     <use style=\"fill:#0000ff;stroke:#0000ff;\" x=\"355.763559\" xlink:href=\"#m8e6f5ca3be\" y=\"162.548924\"/>\r\n     <use style=\"fill:#0000ff;stroke:#0000ff;\" x=\"427.48549\" xlink:href=\"#m8e6f5ca3be\" y=\"86.732734\"/>\r\n     <use style=\"fill:#0000ff;stroke:#0000ff;\" x=\"383.391154\" xlink:href=\"#m8e6f5ca3be\" y=\"131.238424\"/>\r\n     <use style=\"fill:#0000ff;stroke:#0000ff;\" x=\"331.527628\" xlink:href=\"#m8e6f5ca3be\" y=\"184.625277\"/>\r\n     <use style=\"fill:#0000ff;stroke:#0000ff;\" x=\"325.937499\" xlink:href=\"#m8e6f5ca3be\" y=\"192.419326\"/>\r\n     <use style=\"fill:#0000ff;stroke:#0000ff;\" x=\"321.231526\" xlink:href=\"#m8e6f5ca3be\" y=\"203.821159\"/>\r\n     <use style=\"fill:#0000ff;stroke:#0000ff;\" x=\"446.326543\" xlink:href=\"#m8e6f5ca3be\" y=\"66.943546\"/>\r\n     <use style=\"fill:#0000ff;stroke:#0000ff;\" x=\"324.008634\" xlink:href=\"#m8e6f5ca3be\" y=\"186.244617\"/>\r\n     <use style=\"fill:#0000ff;stroke:#0000ff;\" x=\"345.566016\" xlink:href=\"#m8e6f5ca3be\" y=\"175.770312\"/>\r\n     <use style=\"fill:#0000ff;stroke:#0000ff;\" x=\"423.438575\" xlink:href=\"#m8e6f5ca3be\" y=\"89.375011\"/>\r\n     <use style=\"fill:#0000ff;stroke:#0000ff;\" x=\"312.012905\" xlink:href=\"#m8e6f5ca3be\" y=\"202.898702\"/>\r\n     <use style=\"fill:#0000ff;stroke:#0000ff;\" x=\"429.020725\" xlink:href=\"#m8e6f5ca3be\" y=\"87.660938\"/>\r\n     <use style=\"fill:#0000ff;stroke:#0000ff;\" x=\"378.561311\" xlink:href=\"#m8e6f5ca3be\" y=\"137.906068\"/>\r\n     <use style=\"fill:#0000ff;stroke:#0000ff;\" x=\"365.928172\" xlink:href=\"#m8e6f5ca3be\" y=\"153.636992\"/>\r\n     <use style=\"fill:#0000ff;stroke:#0000ff;\" x=\"406.098809\" xlink:href=\"#m8e6f5ca3be\" y=\"107.952696\"/>\r\n     <use style=\"fill:#0000ff;stroke:#0000ff;\" x=\"452.855595\" xlink:href=\"#m8e6f5ca3be\" y=\"59.651175\"/>\r\n     <use style=\"fill:#0000ff;stroke:#0000ff;\" x=\"398.784964\" xlink:href=\"#m8e6f5ca3be\" y=\"116.775839\"/>\r\n     <use style=\"fill:#0000ff;stroke:#0000ff;\" x=\"354.796264\" xlink:href=\"#m8e6f5ca3be\" y=\"166.884768\"/>\r\n     <use style=\"fill:#0000ff;stroke:#0000ff;\" x=\"402.761241\" xlink:href=\"#m8e6f5ca3be\" y=\"112.65778\"/>\r\n     <use style=\"fill:#0000ff;stroke:#0000ff;\" x=\"394.14981\" xlink:href=\"#m8e6f5ca3be\" y=\"118.79008\"/>\r\n     <use style=\"fill:#0000ff;stroke:#0000ff;\" x=\"423.571835\" xlink:href=\"#m8e6f5ca3be\" y=\"86.451203\"/>\r\n     <use style=\"fill:#0000ff;stroke:#0000ff;\" x=\"370.780671\" xlink:href=\"#m8e6f5ca3be\" y=\"148.257069\"/>\r\n     <use style=\"fill:#0000ff;stroke:#0000ff;\" x=\"348.78945\" xlink:href=\"#m8e6f5ca3be\" y=\"165.399769\"/>\r\n     <use style=\"fill:#0000ff;stroke:#0000ff;\" x=\"329.39797\" xlink:href=\"#m8e6f5ca3be\" y=\"192.63573\"/>\r\n     <use style=\"fill:#0000ff;stroke:#0000ff;\" x=\"294.883702\" xlink:href=\"#m8e6f5ca3be\" y=\"222.62132\"/>\r\n     <use style=\"fill:#0000ff;stroke:#0000ff;\" x=\"387.076844\" xlink:href=\"#m8e6f5ca3be\" y=\"123.105116\"/>\r\n     <use style=\"fill:#0000ff;stroke:#0000ff;\" x=\"380.506251\" xlink:href=\"#m8e6f5ca3be\" y=\"136.698114\"/>\r\n     <use style=\"fill:#0000ff;stroke:#0000ff;\" x=\"378.399464\" xlink:href=\"#m8e6f5ca3be\" y=\"131.038153\"/>\r\n     <use style=\"fill:#0000ff;stroke:#0000ff;\" x=\"352.728025\" xlink:href=\"#m8e6f5ca3be\" y=\"171.091937\"/>\r\n     <use style=\"fill:#0000ff;stroke:#0000ff;\" x=\"372.087404\" xlink:href=\"#m8e6f5ca3be\" y=\"139.50717\"/>\r\n     <use style=\"fill:#0000ff;stroke:#0000ff;\" x=\"370.451144\" xlink:href=\"#m8e6f5ca3be\" y=\"145.153361\"/>\r\n     <use style=\"fill:#0000ff;stroke:#0000ff;\" x=\"403.1877\" xlink:href=\"#m8e6f5ca3be\" y=\"109.25743\"/>\r\n     <use style=\"fill:#0000ff;stroke:#0000ff;\" x=\"366.08672\" xlink:href=\"#m8e6f5ca3be\" y=\"148.820711\"/>\r\n     <use style=\"fill:#0000ff;stroke:#0000ff;\" x=\"443.30142\" xlink:href=\"#m8e6f5ca3be\" y=\"68.472102\"/>\r\n     <use style=\"fill:#0000ff;stroke:#0000ff;\" x=\"422.490544\" xlink:href=\"#m8e6f5ca3be\" y=\"87.196351\"/>\r\n     <use style=\"fill:#0000ff;stroke:#0000ff;\" x=\"383.842266\" xlink:href=\"#m8e6f5ca3be\" y=\"126.08639\"/>\r\n     <use style=\"fill:#0000ff;stroke:#0000ff;\" x=\"331.074277\" xlink:href=\"#m8e6f5ca3be\" y=\"191.060284\"/>\r\n     <use style=\"fill:#0000ff;stroke:#0000ff;\" x=\"399.144297\" xlink:href=\"#m8e6f5ca3be\" y=\"113.18138\"/>\r\n     <use style=\"fill:#0000ff;stroke:#0000ff;\" x=\"410.369823\" xlink:href=\"#m8e6f5ca3be\" y=\"107.411736\"/>\r\n     <use style=\"fill:#0000ff;stroke:#0000ff;\" x=\"309.570231\" xlink:href=\"#m8e6f5ca3be\" y=\"211.576958\"/>\r\n     <use style=\"fill:#0000ff;stroke:#0000ff;\" x=\"353.706817\" xlink:href=\"#m8e6f5ca3be\" y=\"164.717703\"/>\r\n     <use style=\"fill:#0000ff;stroke:#0000ff;\" x=\"300.936111\" xlink:href=\"#m8e6f5ca3be\" y=\"219.489064\"/>\r\n     <use style=\"fill:#0000ff;stroke:#0000ff;\" x=\"294.381237\" xlink:href=\"#m8e6f5ca3be\" y=\"229.874489\"/>\r\n     <use style=\"fill:#0000ff;stroke:#0000ff;\" x=\"428.61412\" xlink:href=\"#m8e6f5ca3be\" y=\"87.452925\"/>\r\n     <use style=\"fill:#0000ff;stroke:#0000ff;\" x=\"405.849899\" xlink:href=\"#m8e6f5ca3be\" y=\"108.112419\"/>\r\n     <use style=\"fill:#0000ff;stroke:#0000ff;\" x=\"367.8487\" xlink:href=\"#m8e6f5ca3be\" y=\"148.309568\"/>\r\n     <use style=\"fill:#0000ff;stroke:#0000ff;\" x=\"371.423357\" xlink:href=\"#m8e6f5ca3be\" y=\"146.861561\"/>\r\n     <use style=\"fill:#0000ff;stroke:#0000ff;\" x=\"446.568807\" xlink:href=\"#m8e6f5ca3be\" y=\"77.881021\"/>\r\n     <use style=\"fill:#0000ff;stroke:#0000ff;\" x=\"406.673888\" xlink:href=\"#m8e6f5ca3be\" y=\"110.430537\"/>\r\n     <use style=\"fill:#0000ff;stroke:#0000ff;\" x=\"360.21933\" xlink:href=\"#m8e6f5ca3be\" y=\"153.89078\"/>\r\n     <use style=\"fill:#0000ff;stroke:#0000ff;\" x=\"403.285393\" xlink:href=\"#m8e6f5ca3be\" y=\"112.460635\"/>\r\n     <use style=\"fill:#0000ff;stroke:#0000ff;\" x=\"461.786021\" xlink:href=\"#m8e6f5ca3be\" y=\"48.878717\"/>\r\n     <use style=\"fill:#0000ff;stroke:#0000ff;\" x=\"395.268288\" xlink:href=\"#m8e6f5ca3be\" y=\"117.291441\"/>\r\n     <use style=\"fill:#0000ff;stroke:#0000ff;\" x=\"400.166219\" xlink:href=\"#m8e6f5ca3be\" y=\"108.288134\"/>\r\n     <use style=\"fill:#0000ff;stroke:#0000ff;\" x=\"336.761575\" xlink:href=\"#m8e6f5ca3be\" y=\"176.294184\"/>\r\n     <use style=\"fill:#0000ff;stroke:#0000ff;\" x=\"381.920057\" xlink:href=\"#m8e6f5ca3be\" y=\"130.823658\"/>\r\n     <use style=\"fill:#0000ff;stroke:#0000ff;\" x=\"386.769102\" xlink:href=\"#m8e6f5ca3be\" y=\"125.195409\"/>\r\n     <use style=\"fill:#0000ff;stroke:#0000ff;\" x=\"366.709705\" xlink:href=\"#m8e6f5ca3be\" y=\"149.28757\"/>\r\n     <use style=\"fill:#0000ff;stroke:#0000ff;\" x=\"425.852154\" xlink:href=\"#m8e6f5ca3be\" y=\"83.777618\"/>\r\n     <use style=\"fill:#0000ff;stroke:#0000ff;\" x=\"387.414325\" xlink:href=\"#m8e6f5ca3be\" y=\"127.487729\"/>\r\n     <use style=\"fill:#0000ff;stroke:#0000ff;\" x=\"396.603177\" xlink:href=\"#m8e6f5ca3be\" y=\"119.672668\"/>\r\n     <use style=\"fill:#0000ff;stroke:#0000ff;\" x=\"382.404287\" xlink:href=\"#m8e6f5ca3be\" y=\"134.132235\"/>\r\n     <use style=\"fill:#0000ff;stroke:#0000ff;\" x=\"478.844047\" xlink:href=\"#m8e6f5ca3be\" y=\"32.201761\"/>\r\n     <use style=\"fill:#0000ff;stroke:#0000ff;\" x=\"403.996649\" xlink:href=\"#m8e6f5ca3be\" y=\"115.092356\"/>\r\n     <use style=\"fill:#0000ff;stroke:#0000ff;\" x=\"356.126441\" xlink:href=\"#m8e6f5ca3be\" y=\"157.745747\"/>\r\n     <use style=\"fill:#0000ff;stroke:#0000ff;\" x=\"383.060318\" xlink:href=\"#m8e6f5ca3be\" y=\"136.623824\"/>\r\n     <use style=\"fill:#0000ff;stroke:#0000ff;\" x=\"455.714886\" xlink:href=\"#m8e6f5ca3be\" y=\"46.591316\"/>\r\n     <use style=\"fill:#0000ff;stroke:#0000ff;\" x=\"370.157839\" xlink:href=\"#m8e6f5ca3be\" y=\"146.671124\"/>\r\n     <use style=\"fill:#0000ff;stroke:#0000ff;\" x=\"365.156603\" xlink:href=\"#m8e6f5ca3be\" y=\"149.943942\"/>\r\n     <use style=\"fill:#0000ff;stroke:#0000ff;\" x=\"447.689019\" xlink:href=\"#m8e6f5ca3be\" y=\"66.922736\"/>\r\n     <use style=\"fill:#0000ff;stroke:#0000ff;\" x=\"365.789686\" xlink:href=\"#m8e6f5ca3be\" y=\"146.891107\"/>\r\n     <use style=\"fill:#0000ff;stroke:#0000ff;\" x=\"433.898231\" xlink:href=\"#m8e6f5ca3be\" y=\"79.151796\"/>\r\n     <use style=\"fill:#0000ff;stroke:#0000ff;\" x=\"454.55444\" xlink:href=\"#m8e6f5ca3be\" y=\"58.889501\"/>\r\n     <use style=\"fill:#0000ff;stroke:#0000ff;\" x=\"379.208302\" xlink:href=\"#m8e6f5ca3be\" y=\"136.260037\"/>\r\n     <use style=\"fill:#0000ff;stroke:#0000ff;\" x=\"299.177411\" xlink:href=\"#m8e6f5ca3be\" y=\"221.694966\"/>\r\n    </g>\r\n   </g>\r\n   <g id=\"matplotlib.axis_3\">\r\n    <g id=\"xtick_6\">\r\n     <g id=\"line2d_11\">\r\n      <g>\r\n       <use style=\"stroke:#000000;stroke-width:0.8;\" x=\"297.128957\" xlink:href=\"#m84d942d744\" y=\"239.758125\"/>\r\n      </g>\r\n     </g>\r\n     <g id=\"text_12\">\r\n      <!-- −2 -->\r\n      <g transform=\"translate(289.757863 254.356563)scale(0.1 -0.1)\">\r\n       <use xlink:href=\"#DejaVuSans-8722\"/>\r\n       <use x=\"83.789062\" xlink:href=\"#DejaVuSans-50\"/>\r\n      </g>\r\n     </g>\r\n    </g>\r\n    <g id=\"xtick_7\">\r\n     <g id=\"line2d_12\">\r\n      <g>\r\n       <use style=\"stroke:#000000;stroke-width:0.8;\" x=\"339.785612\" xlink:href=\"#m84d942d744\" y=\"239.758125\"/>\r\n      </g>\r\n     </g>\r\n     <g id=\"text_13\">\r\n      <!-- −1 -->\r\n      <g transform=\"translate(332.414519 254.356563)scale(0.1 -0.1)\">\r\n       <use xlink:href=\"#DejaVuSans-8722\"/>\r\n       <use x=\"83.789062\" xlink:href=\"#DejaVuSans-49\"/>\r\n      </g>\r\n     </g>\r\n    </g>\r\n    <g id=\"xtick_8\">\r\n     <g id=\"line2d_13\">\r\n      <g>\r\n       <use style=\"stroke:#000000;stroke-width:0.8;\" x=\"382.442268\" xlink:href=\"#m84d942d744\" y=\"239.758125\"/>\r\n      </g>\r\n     </g>\r\n     <g id=\"text_14\">\r\n      <!-- 0 -->\r\n      <g transform=\"translate(379.261018 254.356563)scale(0.1 -0.1)\">\r\n       <use xlink:href=\"#DejaVuSans-48\"/>\r\n      </g>\r\n     </g>\r\n    </g>\r\n    <g id=\"xtick_9\">\r\n     <g id=\"line2d_14\">\r\n      <g>\r\n       <use style=\"stroke:#000000;stroke-width:0.8;\" x=\"425.098923\" xlink:href=\"#m84d942d744\" y=\"239.758125\"/>\r\n      </g>\r\n     </g>\r\n     <g id=\"text_15\">\r\n      <!-- 1 -->\r\n      <g transform=\"translate(421.917673 254.356563)scale(0.1 -0.1)\">\r\n       <use xlink:href=\"#DejaVuSans-49\"/>\r\n      </g>\r\n     </g>\r\n    </g>\r\n    <g id=\"xtick_10\">\r\n     <g id=\"line2d_15\">\r\n      <g>\r\n       <use style=\"stroke:#000000;stroke-width:0.8;\" x=\"467.755578\" xlink:href=\"#m84d942d744\" y=\"239.758125\"/>\r\n      </g>\r\n     </g>\r\n     <g id=\"text_16\">\r\n      <!-- 2 -->\r\n      <g transform=\"translate(464.574328 254.356563)scale(0.1 -0.1)\">\r\n       <use xlink:href=\"#DejaVuSans-50\"/>\r\n      </g>\r\n     </g>\r\n    </g>\r\n   </g>\r\n   <g id=\"matplotlib.axis_4\">\r\n    <g id=\"ytick_6\">\r\n     <g id=\"line2d_16\">\r\n      <g>\r\n       <use style=\"stroke:#000000;stroke-width:0.8;\" x=\"285.158097\" xlink:href=\"#m36e1bddb3a\" y=\"208.896481\"/>\r\n      </g>\r\n     </g>\r\n     <g id=\"text_17\">\r\n      <!-- −100 -->\r\n      <g transform=\"translate(250.690909 212.6957)scale(0.1 -0.1)\">\r\n       <use xlink:href=\"#DejaVuSans-8722\"/>\r\n       <use x=\"83.789062\" xlink:href=\"#DejaVuSans-49\"/>\r\n       <use x=\"147.412109\" xlink:href=\"#DejaVuSans-48\"/>\r\n       <use x=\"211.035156\" xlink:href=\"#DejaVuSans-48\"/>\r\n      </g>\r\n     </g>\r\n    </g>\r\n    <g id=\"ytick_7\">\r\n     <g id=\"line2d_17\">\r\n      <g>\r\n       <use style=\"stroke:#000000;stroke-width:0.8;\" x=\"285.158097\" xlink:href=\"#m36e1bddb3a\" y=\"170.878195\"/>\r\n      </g>\r\n     </g>\r\n     <g id=\"text_18\">\r\n      <!-- −50 -->\r\n      <g transform=\"translate(257.053409 174.677414)scale(0.1 -0.1)\">\r\n       <use xlink:href=\"#DejaVuSans-8722\"/>\r\n       <use x=\"83.789062\" xlink:href=\"#DejaVuSans-53\"/>\r\n       <use x=\"147.412109\" xlink:href=\"#DejaVuSans-48\"/>\r\n      </g>\r\n     </g>\r\n    </g>\r\n    <g id=\"ytick_8\">\r\n     <g id=\"line2d_18\">\r\n      <g>\r\n       <use style=\"stroke:#000000;stroke-width:0.8;\" x=\"285.158097\" xlink:href=\"#m36e1bddb3a\" y=\"132.85991\"/>\r\n      </g>\r\n     </g>\r\n     <g id=\"text_19\">\r\n      <!-- 0 -->\r\n      <g transform=\"translate(271.795597 136.659129)scale(0.1 -0.1)\">\r\n       <use xlink:href=\"#DejaVuSans-48\"/>\r\n      </g>\r\n     </g>\r\n    </g>\r\n    <g id=\"ytick_9\">\r\n     <g id=\"line2d_19\">\r\n      <g>\r\n       <use style=\"stroke:#000000;stroke-width:0.8;\" x=\"285.158097\" xlink:href=\"#m36e1bddb3a\" y=\"94.841625\"/>\r\n      </g>\r\n     </g>\r\n     <g id=\"text_20\">\r\n      <!-- 50 -->\r\n      <g transform=\"translate(265.433097 98.640844)scale(0.1 -0.1)\">\r\n       <use xlink:href=\"#DejaVuSans-53\"/>\r\n       <use x=\"63.623047\" xlink:href=\"#DejaVuSans-48\"/>\r\n      </g>\r\n     </g>\r\n    </g>\r\n    <g id=\"ytick_10\">\r\n     <g id=\"line2d_20\">\r\n      <g>\r\n       <use style=\"stroke:#000000;stroke-width:0.8;\" x=\"285.158097\" xlink:href=\"#m36e1bddb3a\" y=\"56.823339\"/>\r\n      </g>\r\n     </g>\r\n     <g id=\"text_21\">\r\n      <!-- 100 -->\r\n      <g transform=\"translate(259.070597 60.622558)scale(0.1 -0.1)\">\r\n       <use xlink:href=\"#DejaVuSans-49\"/>\r\n       <use x=\"63.623047\" xlink:href=\"#DejaVuSans-48\"/>\r\n       <use x=\"127.246094\" xlink:href=\"#DejaVuSans-48\"/>\r\n      </g>\r\n     </g>\r\n    </g>\r\n   </g>\r\n   <g id=\"patch_8\">\r\n    <path d=\"M 285.158097 239.758125 \r\nL 285.158097 22.318125 \r\n\" style=\"fill:none;stroke:#000000;stroke-linecap:square;stroke-linejoin:miter;stroke-width:0.8;\"/>\r\n   </g>\r\n   <g id=\"patch_9\">\r\n    <path d=\"M 488.067187 239.758125 \r\nL 488.067187 22.318125 \r\n\" style=\"fill:none;stroke:#000000;stroke-linecap:square;stroke-linejoin:miter;stroke-width:0.8;\"/>\r\n   </g>\r\n   <g id=\"patch_10\">\r\n    <path d=\"M 285.158097 239.758125 \r\nL 488.067187 239.758125 \r\n\" style=\"fill:none;stroke:#000000;stroke-linecap:square;stroke-linejoin:miter;stroke-width:0.8;\"/>\r\n   </g>\r\n   <g id=\"patch_11\">\r\n    <path d=\"M 285.158097 22.318125 \r\nL 488.067187 22.318125 \r\n\" style=\"fill:none;stroke:#000000;stroke-linecap:square;stroke-linejoin:miter;stroke-width:0.8;\"/>\r\n   </g>\r\n   <g id=\"text_22\">\r\n    <!-- 2nd feature to target dependency -->\r\n    <g transform=\"translate(284.671705 16.318125)scale(0.12 -0.12)\">\r\n     <use xlink:href=\"#DejaVuSans-50\"/>\r\n     <use x=\"63.623047\" xlink:href=\"#DejaVuSans-110\"/>\r\n     <use x=\"127.001953\" xlink:href=\"#DejaVuSans-100\"/>\r\n     <use x=\"190.478516\" xlink:href=\"#DejaVuSans-32\"/>\r\n     <use x=\"222.265625\" xlink:href=\"#DejaVuSans-102\"/>\r\n     <use x=\"257.470703\" xlink:href=\"#DejaVuSans-101\"/>\r\n     <use x=\"318.994141\" xlink:href=\"#DejaVuSans-97\"/>\r\n     <use x=\"380.273438\" xlink:href=\"#DejaVuSans-116\"/>\r\n     <use x=\"419.482422\" xlink:href=\"#DejaVuSans-117\"/>\r\n     <use x=\"482.861328\" xlink:href=\"#DejaVuSans-114\"/>\r\n     <use x=\"521.724609\" xlink:href=\"#DejaVuSans-101\"/>\r\n     <use x=\"583.248047\" xlink:href=\"#DejaVuSans-32\"/>\r\n     <use x=\"615.035156\" xlink:href=\"#DejaVuSans-116\"/>\r\n     <use x=\"654.244141\" xlink:href=\"#DejaVuSans-111\"/>\r\n     <use x=\"715.425781\" xlink:href=\"#DejaVuSans-32\"/>\r\n     <use x=\"747.212891\" xlink:href=\"#DejaVuSans-116\"/>\r\n     <use x=\"786.421875\" xlink:href=\"#DejaVuSans-97\"/>\r\n     <use x=\"847.701172\" xlink:href=\"#DejaVuSans-114\"/>\r\n     <use x=\"887.064453\" xlink:href=\"#DejaVuSans-103\"/>\r\n     <use x=\"950.541016\" xlink:href=\"#DejaVuSans-101\"/>\r\n     <use x=\"1012.064453\" xlink:href=\"#DejaVuSans-116\"/>\r\n     <use x=\"1051.273438\" xlink:href=\"#DejaVuSans-32\"/>\r\n     <use x=\"1083.060547\" xlink:href=\"#DejaVuSans-100\"/>\r\n     <use x=\"1146.537109\" xlink:href=\"#DejaVuSans-101\"/>\r\n     <use x=\"1208.060547\" xlink:href=\"#DejaVuSans-112\"/>\r\n     <use x=\"1271.537109\" xlink:href=\"#DejaVuSans-101\"/>\r\n     <use x=\"1333.060547\" xlink:href=\"#DejaVuSans-110\"/>\r\n     <use x=\"1396.439453\" xlink:href=\"#DejaVuSans-100\"/>\r\n     <use x=\"1459.916016\" xlink:href=\"#DejaVuSans-101\"/>\r\n     <use x=\"1521.439453\" xlink:href=\"#DejaVuSans-110\"/>\r\n     <use x=\"1584.818359\" xlink:href=\"#DejaVuSans-99\"/>\r\n     <use x=\"1639.798828\" xlink:href=\"#DejaVuSans-121\"/>\r\n    </g>\r\n   </g>\r\n  </g>\r\n </g>\r\n <defs>\r\n  <clipPath id=\"p5afbbe70b3\">\r\n   <rect height=\"217.44\" width=\"202.909091\" x=\"41.667187\" y=\"22.318125\"/>\r\n  </clipPath>\r\n  <clipPath id=\"pf0ba1b6ea6\">\r\n   <rect height=\"217.44\" width=\"202.909091\" x=\"285.158097\" y=\"22.318125\"/>\r\n  </clipPath>\r\n </defs>\r\n</svg>\r\n",
      "image/png": "[encoded data removed]"
     },
     "metadata": {
      "needs_background": "light"
     }
    }
   ],
   "source": [
    "pylab.figure(figsize(8, 4))\n",
    "\n",
    "pylab.subplot(1, 2, 1)\n",
    "pylab.scatter(reg_data[:, 0], reg_target, color='r')\n",
    "pylab.title('1st feature to target dependency')\n",
    "pylab.subplot(1, 2, 2)\n",
    "pylab.scatter(reg_data[:, 1], reg_target, color='b')\n",
    "pylab.title('2nd feature to target dependency')\n"
   ]
  },
  {
   "cell_type": "code",
   "execution_count": 6,
   "metadata": {},
   "outputs": [],
   "source": [
    "clf_train_data, clf_test_data, clf_train_labels, clf_test_labels = model_selection.train_test_split(clf_data, clf_target, test_size=0.3, random_state=1)"
   ]
  },
  {
   "cell_type": "code",
   "execution_count": 7,
   "metadata": {},
   "outputs": [],
   "source": [
    "reg_train_data, reg_test_data, reg_train_labels, reg_test_labels = model_selection.train_test_split(reg_data, reg_target, test_size=0.3, random_state=1)"
   ]
  },
  {
   "source": [
    "## Metrics for classification problems"
   ],
   "cell_type": "markdown",
   "metadata": {}
  },
  {
   "source": [
    "Lets teach our model\n",
    "    loss='log' means that we use logistic loss function (cause it's a prob classifier -> we ll use probabilities then)"
   ],
   "cell_type": "markdown",
   "metadata": {}
  },
  {
   "cell_type": "code",
   "execution_count": 18,
   "metadata": {},
   "outputs": [],
   "source": [
    "classifier = linear_model.SGDClassifier(loss='log', random_state=1, max_iter=1000)"
   ]
  },
  {
   "cell_type": "code",
   "execution_count": 19,
   "metadata": {},
   "outputs": [
    {
     "output_type": "execute_result",
     "data": {
      "text/plain": [
       "SGDClassifier(loss='log', random_state=1)"
      ]
     },
     "metadata": {},
     "execution_count": 19
    }
   ],
   "source": [
    "classifier.fit(clf_train_data, clf_train_labels)"
   ]
  },
  {
   "cell_type": "code",
   "execution_count": 20,
   "metadata": {},
   "outputs": [],
   "source": [
    "preds = classifier.predict(clf_test_data)"
   ]
  },
  {
   "cell_type": "code",
   "execution_count": 21,
   "metadata": {},
   "outputs": [],
   "source": [
    "prob_preds = classifier.predict_proba(clf_test_data)"
   ]
  },
  {
   "cell_type": "code",
   "execution_count": 22,
   "metadata": {},
   "outputs": [
    {
     "output_type": "execute_result",
     "data": {
      "text/plain": [
       "array([1, 0, 0, 1, 0, 1, 1, 0, 1, 0, 0, 0, 1, 1, 0, 0, 1, 0, 0, 1, 0, 0,\n",
       "       0, 0, 0, 0, 1, 1, 1, 0])"
      ]
     },
     "metadata": {},
     "execution_count": 22
    }
   ],
   "source": [
    "clf_test_labels"
   ]
  },
  {
   "cell_type": "code",
   "execution_count": 23,
   "metadata": {},
   "outputs": [
    {
     "output_type": "execute_result",
     "data": {
      "text/plain": [
       "array([1, 0, 0, 1, 0, 1, 1, 0, 1, 0, 0, 1, 1, 1, 0, 0, 1, 0, 0, 1, 0, 0,\n",
       "       0, 0, 0, 0, 0, 1, 1, 0])"
      ]
     },
     "metadata": {},
     "execution_count": 23
    }
   ],
   "source": [
    "preds"
   ]
  },
  {
   "cell_type": "code",
   "execution_count": 24,
   "metadata": {},
   "outputs": [
    {
     "output_type": "execute_result",
     "data": {
      "text/plain": [
       "array([[0.00000000e+00, 1.00000000e+00],\n",
       "       [9.99999997e-01, 2.90779994e-09],\n",
       "       [9.99990982e-01, 9.01818055e-06],\n",
       "       [0.00000000e+00, 1.00000000e+00],\n",
       "       [1.00000000e+00, 7.01333183e-14],\n",
       "       [5.16838702e-07, 9.99999483e-01],\n",
       "       [6.66133815e-16, 1.00000000e+00],\n",
       "       [1.00000000e+00, 6.21822808e-13],\n",
       "       [0.00000000e+00, 1.00000000e+00],\n",
       "       [9.99999998e-01, 2.30155106e-09]])"
      ]
     },
     "metadata": {},
     "execution_count": 24
    }
   ],
   "source": [
    "prob_preds[:10]"
   ]
  },
  {
   "source": [
    "### accuracy"
   ],
   "cell_type": "markdown",
   "metadata": {}
  },
  {
   "cell_type": "code",
   "execution_count": 25,
   "metadata": {},
   "outputs": [
    {
     "output_type": "execute_result",
     "data": {
      "text/plain": [
       "0.9333333333333333"
      ]
     },
     "metadata": {},
     "execution_count": 25
    }
   ],
   "source": [
    "sum([1 if pair[0] == pair[1] else 0 for pair in zip(clf_test_labels, preds)]) / len(clf_test_labels)"
   ]
  },
  {
   "cell_type": "code",
   "execution_count": 26,
   "metadata": {},
   "outputs": [
    {
     "output_type": "execute_result",
     "data": {
      "text/plain": [
       "0.9333333333333333"
      ]
     },
     "metadata": {},
     "execution_count": 26
    }
   ],
   "source": [
    "metrics.accuracy_score(clf_test_labels, preds)"
   ]
  },
  {
   "source": [
    "### confusion matrix\n",
    "\n",
    "its a matrix \n",
    "\n",
    "| | y = 1 |  y = -1|\n",
    "| :- | -: | -: |\n",
    "| a(x) = 1 | TP | FP |\n",
    "| a(x) = -1 | FN | TN |"
   ],
   "cell_type": "markdown",
   "metadata": {}
  },
  {
   "cell_type": "code",
   "execution_count": 27,
   "metadata": {},
   "outputs": [],
   "source": [
    "conf_mtrx = metrics.confusion_matrix(clf_test_labels, preds)"
   ]
  },
  {
   "cell_type": "code",
   "execution_count": 28,
   "metadata": {},
   "outputs": [
    {
     "output_type": "execute_result",
     "data": {
      "text/plain": [
       "array([[17,  1],\n",
       "       [ 1, 11]], dtype=int64)"
      ]
     },
     "metadata": {},
     "execution_count": 28
    }
   ],
   "source": [
    "conf_mtrx"
   ]
  },
  {
   "cell_type": "code",
   "execution_count": 29,
   "metadata": {},
   "outputs": [
    {
     "output_type": "execute_result",
     "data": {
      "text/plain": [
       "28"
      ]
     },
     "metadata": {},
     "execution_count": 29
    }
   ],
   "source": [
    "sum([1 if pair[0] == pair[1] else 0 for pair in zip(clf_test_labels, preds)])"
   ]
  },
  {
   "cell_type": "code",
   "execution_count": 30,
   "metadata": {},
   "outputs": [
    {
     "output_type": "execute_result",
     "data": {
      "text/plain": [
       "28"
      ]
     },
     "metadata": {},
     "execution_count": 30
    }
   ],
   "source": [
    "conf_mtrx.diagonal().sum()"
   ]
  },
  {
   "source": [
    "### precision"
   ],
   "cell_type": "markdown",
   "metadata": {}
  },
  {
   "cell_type": "code",
   "execution_count": 33,
   "metadata": {},
   "outputs": [
    {
     "output_type": "execute_result",
     "data": {
      "text/plain": [
       "0.9444444444444444"
      ]
     },
     "metadata": {},
     "execution_count": 33
    }
   ],
   "source": [
    "metrics.precision_score(clf_test_labels, preds, pos_label=0)"
   ]
  },
  {
   "cell_type": "code",
   "execution_count": 41,
   "metadata": {},
   "outputs": [],
   "source": [
    "manual_precision = conf_mtrx[0][0] / conf_mtrx[0].sum()"
   ]
  },
  {
   "cell_type": "code",
   "execution_count": 42,
   "metadata": {},
   "outputs": [
    {
     "output_type": "execute_result",
     "data": {
      "text/plain": [
       "0.9166666666666666"
      ]
     },
     "metadata": {},
     "execution_count": 42
    }
   ],
   "source": [
    "metrics.precision_score(clf_test_labels, preds) # default 1 class not 0"
   ]
  },
  {
   "cell_type": "code",
   "execution_count": 43,
   "metadata": {},
   "outputs": [
    {
     "output_type": "execute_result",
     "data": {
      "text/plain": [
       "0.9166666666666666"
      ]
     },
     "metadata": {},
     "execution_count": 43
    }
   ],
   "source": [
    "conf_mtrx[1][1] / conf_mtrx[1].sum()"
   ]
  },
  {
   "source": [
    "### recall"
   ],
   "cell_type": "markdown",
   "metadata": {}
  },
  {
   "cell_type": "code",
   "execution_count": 44,
   "metadata": {},
   "outputs": [
    {
     "output_type": "execute_result",
     "data": {
      "text/plain": [
       "0.9444444444444444"
      ]
     },
     "metadata": {},
     "execution_count": 44
    }
   ],
   "source": [
    "metrics.recall_score(clf_test_labels, preds, pos_label=0)"
   ]
  },
  {
   "cell_type": "code",
   "execution_count": 45,
   "metadata": {},
   "outputs": [],
   "source": [
    "manual_recall = conf_mtrx[0][0] / conf_mtrx[:][0].sum()"
   ]
  },
  {
   "source": [
    "### f1\n",
    "\n",
    "$$ f1 = \\dfrac{2*precision*recall}{precision+recall} $$"
   ],
   "cell_type": "markdown",
   "metadata": {}
  },
  {
   "cell_type": "code",
   "execution_count": 46,
   "metadata": {},
   "outputs": [
    {
     "output_type": "execute_result",
     "data": {
      "text/plain": [
       "0.9444444444444444"
      ]
     },
     "metadata": {},
     "execution_count": 46
    }
   ],
   "source": [
    "f1_manual = 2 * manual_precision * manual_recall / (manual_recall + manual_precision)\n",
    "f1_manual"
   ]
  },
  {
   "cell_type": "code",
   "execution_count": 48,
   "metadata": {},
   "outputs": [
    {
     "output_type": "execute_result",
     "data": {
      "text/plain": [
       "0.9444444444444444"
      ]
     },
     "metadata": {},
     "execution_count": 48
    }
   ],
   "source": [
    "metrics.f1_score(clf_test_labels, preds, pos_label=0)"
   ]
  },
  {
   "source": [
    "### classsification report"
   ],
   "cell_type": "markdown",
   "metadata": {}
  },
  {
   "cell_type": "code",
   "execution_count": 50,
   "metadata": {},
   "outputs": [
    {
     "output_type": "stream",
     "name": "stdout",
     "text": [
      "              precision    recall  f1-score   support\n\n           0       0.94      0.94      0.94        18\n           1       0.92      0.92      0.92        12\n\n    accuracy                           0.93        30\n   macro avg       0.93      0.93      0.93        30\nweighted avg       0.93      0.93      0.93        30\n\n"
     ]
    }
   ],
   "source": [
    "print(metrics.classification_report(clf_test_labels, preds))"
   ]
  },
  {
   "cell_type": "code",
   "execution_count": 53,
   "metadata": {},
   "outputs": [],
   "source": [
    "# fpr, tpr, _ = metrics.roc_curve(clf_test_labels, preds)\n",
    "fpr, tpr, _ = metrics.roc_curve(clf_test_labels, prob_preds[:, 1])"
   ]
  },
  {
   "cell_type": "code",
   "execution_count": 61,
   "metadata": {},
   "outputs": [
    {
     "output_type": "execute_result",
     "data": {
      "text/plain": [
       "Text(0, 0.5, 'TPR')"
      ]
     },
     "metadata": {},
     "execution_count": 61
    },
    {
     "output_type": "display_data",
     "data": {
      "text/plain": "<Figure size 576x288 with 1 Axes>",
      "image/svg+xml": "<?xml version=\"1.0\" encoding=\"utf-8\" standalone=\"no\"?>\r\n<!DOCTYPE svg PUBLIC \"-//W3C//DTD SVG 1.1//EN\"\r\n  \"http://www.w3.org/Graphics/SVG/1.1/DTD/svg11.dtd\">\r\n<!-- Created with matplotlib (https://matplotlib.org/) -->\r\n<svg height=\"277.314375pt\" version=\"1.1\" viewBox=\"0 0 497.38125 277.314375\" width=\"497.38125pt\" xmlns=\"http://www.w3.org/2000/svg\" xmlns:xlink=\"http://www.w3.org/1999/xlink\">\r\n <metadata>\r\n  <rdf:RDF xmlns:cc=\"http://creativecommons.org/ns#\" xmlns:dc=\"http://purl.org/dc/elements/1.1/\" xmlns:rdf=\"http://www.w3.org/1999/02/22-rdf-syntax-ns#\">\r\n   <cc:Work>\r\n    <dc:type rdf:resource=\"http://purl.org/dc/dcmitype/StillImage\"/>\r\n    <dc:date>2021-03-27T11:38:13.537232</dc:date>\r\n    <dc:format>image/svg+xml</dc:format>\r\n    <dc:creator>\r\n     <cc:Agent>\r\n      <dc:title>Matplotlib v3.3.2, https://matplotlib.org/</dc:title>\r\n     </cc:Agent>\r\n    </dc:creator>\r\n   </cc:Work>\r\n  </rdf:RDF>\r\n </metadata>\r\n <defs>\r\n  <style type=\"text/css\">*{stroke-linecap:butt;stroke-linejoin:round;}</style>\r\n </defs>\r\n <g id=\"figure_1\">\r\n  <g id=\"patch_1\">\r\n   <path d=\"M 0 277.314375 \r\nL 497.38125 277.314375 \r\nL 497.38125 0 \r\nL 0 0 \r\nz\r\n\" style=\"fill:none;\"/>\r\n  </g>\r\n  <g id=\"axes_1\">\r\n   <g id=\"patch_2\">\r\n    <path d=\"M 43.78125 239.758125 \r\nL 490.18125 239.758125 \r\nL 490.18125 22.318125 \r\nL 43.78125 22.318125 \r\nz\r\n\" style=\"fill:#ffffff;\"/>\r\n   </g>\r\n   <g id=\"matplotlib.axis_1\">\r\n    <g id=\"xtick_1\">\r\n     <g id=\"line2d_1\">\r\n      <defs>\r\n       <path d=\"M 0 0 \r\nL 0 3.5 \r\n\" id=\"m11a42f1059\" style=\"stroke:#000000;stroke-width:0.8;\"/>\r\n      </defs>\r\n      <g>\r\n       <use style=\"stroke:#000000;stroke-width:0.8;\" x=\"64.072159\" xlink:href=\"#m11a42f1059\" y=\"239.758125\"/>\r\n      </g>\r\n     </g>\r\n     <g id=\"text_1\">\r\n      <!-- 0.0 -->\r\n      <g transform=\"translate(56.120597 254.356562)scale(0.1 -0.1)\">\r\n       <defs>\r\n        <path d=\"M 31.78125 66.40625 \r\nQ 24.171875 66.40625 20.328125 58.90625 \r\nQ 16.5 51.421875 16.5 36.375 \r\nQ 16.5 21.390625 20.328125 13.890625 \r\nQ 24.171875 6.390625 31.78125 6.390625 \r\nQ 39.453125 6.390625 43.28125 13.890625 \r\nQ 47.125 21.390625 47.125 36.375 \r\nQ 47.125 51.421875 43.28125 58.90625 \r\nQ 39.453125 66.40625 31.78125 66.40625 \r\nz\r\nM 31.78125 74.21875 \r\nQ 44.046875 74.21875 50.515625 64.515625 \r\nQ 56.984375 54.828125 56.984375 36.375 \r\nQ 56.984375 17.96875 50.515625 8.265625 \r\nQ 44.046875 -1.421875 31.78125 -1.421875 \r\nQ 19.53125 -1.421875 13.0625 8.265625 \r\nQ 6.59375 17.96875 6.59375 36.375 \r\nQ 6.59375 54.828125 13.0625 64.515625 \r\nQ 19.53125 74.21875 31.78125 74.21875 \r\nz\r\n\" id=\"DejaVuSans-48\"/>\r\n        <path d=\"M 10.6875 12.40625 \r\nL 21 12.40625 \r\nL 21 0 \r\nL 10.6875 0 \r\nz\r\n\" id=\"DejaVuSans-46\"/>\r\n       </defs>\r\n       <use xlink:href=\"#DejaVuSans-48\"/>\r\n       <use x=\"63.623047\" xlink:href=\"#DejaVuSans-46\"/>\r\n       <use x=\"95.410156\" xlink:href=\"#DejaVuSans-48\"/>\r\n      </g>\r\n     </g>\r\n    </g>\r\n    <g id=\"xtick_2\">\r\n     <g id=\"line2d_2\">\r\n      <g>\r\n       <use style=\"stroke:#000000;stroke-width:0.8;\" x=\"145.235795\" xlink:href=\"#m11a42f1059\" y=\"239.758125\"/>\r\n      </g>\r\n     </g>\r\n     <g id=\"text_2\">\r\n      <!-- 0.2 -->\r\n      <g transform=\"translate(137.284233 254.356562)scale(0.1 -0.1)\">\r\n       <defs>\r\n        <path d=\"M 19.1875 8.296875 \r\nL 53.609375 8.296875 \r\nL 53.609375 0 \r\nL 7.328125 0 \r\nL 7.328125 8.296875 \r\nQ 12.9375 14.109375 22.625 23.890625 \r\nQ 32.328125 33.6875 34.8125 36.53125 \r\nQ 39.546875 41.84375 41.421875 45.53125 \r\nQ 43.3125 49.21875 43.3125 52.78125 \r\nQ 43.3125 58.59375 39.234375 62.25 \r\nQ 35.15625 65.921875 28.609375 65.921875 \r\nQ 23.96875 65.921875 18.8125 64.3125 \r\nQ 13.671875 62.703125 7.8125 59.421875 \r\nL 7.8125 69.390625 \r\nQ 13.765625 71.78125 18.9375 73 \r\nQ 24.125 74.21875 28.421875 74.21875 \r\nQ 39.75 74.21875 46.484375 68.546875 \r\nQ 53.21875 62.890625 53.21875 53.421875 \r\nQ 53.21875 48.921875 51.53125 44.890625 \r\nQ 49.859375 40.875 45.40625 35.40625 \r\nQ 44.1875 33.984375 37.640625 27.21875 \r\nQ 31.109375 20.453125 19.1875 8.296875 \r\nz\r\n\" id=\"DejaVuSans-50\"/>\r\n       </defs>\r\n       <use xlink:href=\"#DejaVuSans-48\"/>\r\n       <use x=\"63.623047\" xlink:href=\"#DejaVuSans-46\"/>\r\n       <use x=\"95.410156\" xlink:href=\"#DejaVuSans-50\"/>\r\n      </g>\r\n     </g>\r\n    </g>\r\n    <g id=\"xtick_3\">\r\n     <g id=\"line2d_3\">\r\n      <g>\r\n       <use style=\"stroke:#000000;stroke-width:0.8;\" x=\"226.399432\" xlink:href=\"#m11a42f1059\" y=\"239.758125\"/>\r\n      </g>\r\n     </g>\r\n     <g id=\"text_3\">\r\n      <!-- 0.4 -->\r\n      <g transform=\"translate(218.447869 254.356562)scale(0.1 -0.1)\">\r\n       <defs>\r\n        <path d=\"M 37.796875 64.3125 \r\nL 12.890625 25.390625 \r\nL 37.796875 25.390625 \r\nz\r\nM 35.203125 72.90625 \r\nL 47.609375 72.90625 \r\nL 47.609375 25.390625 \r\nL 58.015625 25.390625 \r\nL 58.015625 17.1875 \r\nL 47.609375 17.1875 \r\nL 47.609375 0 \r\nL 37.796875 0 \r\nL 37.796875 17.1875 \r\nL 4.890625 17.1875 \r\nL 4.890625 26.703125 \r\nz\r\n\" id=\"DejaVuSans-52\"/>\r\n       </defs>\r\n       <use xlink:href=\"#DejaVuSans-48\"/>\r\n       <use x=\"63.623047\" xlink:href=\"#DejaVuSans-46\"/>\r\n       <use x=\"95.410156\" xlink:href=\"#DejaVuSans-52\"/>\r\n      </g>\r\n     </g>\r\n    </g>\r\n    <g id=\"xtick_4\">\r\n     <g id=\"line2d_4\">\r\n      <g>\r\n       <use style=\"stroke:#000000;stroke-width:0.8;\" x=\"307.563068\" xlink:href=\"#m11a42f1059\" y=\"239.758125\"/>\r\n      </g>\r\n     </g>\r\n     <g id=\"text_4\">\r\n      <!-- 0.6 -->\r\n      <g transform=\"translate(299.611506 254.356562)scale(0.1 -0.1)\">\r\n       <defs>\r\n        <path d=\"M 33.015625 40.375 \r\nQ 26.375 40.375 22.484375 35.828125 \r\nQ 18.609375 31.296875 18.609375 23.390625 \r\nQ 18.609375 15.53125 22.484375 10.953125 \r\nQ 26.375 6.390625 33.015625 6.390625 \r\nQ 39.65625 6.390625 43.53125 10.953125 \r\nQ 47.40625 15.53125 47.40625 23.390625 \r\nQ 47.40625 31.296875 43.53125 35.828125 \r\nQ 39.65625 40.375 33.015625 40.375 \r\nz\r\nM 52.59375 71.296875 \r\nL 52.59375 62.3125 \r\nQ 48.875 64.0625 45.09375 64.984375 \r\nQ 41.3125 65.921875 37.59375 65.921875 \r\nQ 27.828125 65.921875 22.671875 59.328125 \r\nQ 17.53125 52.734375 16.796875 39.40625 \r\nQ 19.671875 43.65625 24.015625 45.921875 \r\nQ 28.375 48.1875 33.59375 48.1875 \r\nQ 44.578125 48.1875 50.953125 41.515625 \r\nQ 57.328125 34.859375 57.328125 23.390625 \r\nQ 57.328125 12.15625 50.6875 5.359375 \r\nQ 44.046875 -1.421875 33.015625 -1.421875 \r\nQ 20.359375 -1.421875 13.671875 8.265625 \r\nQ 6.984375 17.96875 6.984375 36.375 \r\nQ 6.984375 53.65625 15.1875 63.9375 \r\nQ 23.390625 74.21875 37.203125 74.21875 \r\nQ 40.921875 74.21875 44.703125 73.484375 \r\nQ 48.484375 72.75 52.59375 71.296875 \r\nz\r\n\" id=\"DejaVuSans-54\"/>\r\n       </defs>\r\n       <use xlink:href=\"#DejaVuSans-48\"/>\r\n       <use x=\"63.623047\" xlink:href=\"#DejaVuSans-46\"/>\r\n       <use x=\"95.410156\" xlink:href=\"#DejaVuSans-54\"/>\r\n      </g>\r\n     </g>\r\n    </g>\r\n    <g id=\"xtick_5\">\r\n     <g id=\"line2d_5\">\r\n      <g>\r\n       <use style=\"stroke:#000000;stroke-width:0.8;\" x=\"388.726705\" xlink:href=\"#m11a42f1059\" y=\"239.758125\"/>\r\n      </g>\r\n     </g>\r\n     <g id=\"text_5\">\r\n      <!-- 0.8 -->\r\n      <g transform=\"translate(380.775142 254.356562)scale(0.1 -0.1)\">\r\n       <defs>\r\n        <path d=\"M 31.78125 34.625 \r\nQ 24.75 34.625 20.71875 30.859375 \r\nQ 16.703125 27.09375 16.703125 20.515625 \r\nQ 16.703125 13.921875 20.71875 10.15625 \r\nQ 24.75 6.390625 31.78125 6.390625 \r\nQ 38.8125 6.390625 42.859375 10.171875 \r\nQ 46.921875 13.96875 46.921875 20.515625 \r\nQ 46.921875 27.09375 42.890625 30.859375 \r\nQ 38.875 34.625 31.78125 34.625 \r\nz\r\nM 21.921875 38.8125 \r\nQ 15.578125 40.375 12.03125 44.71875 \r\nQ 8.5 49.078125 8.5 55.328125 \r\nQ 8.5 64.0625 14.71875 69.140625 \r\nQ 20.953125 74.21875 31.78125 74.21875 \r\nQ 42.671875 74.21875 48.875 69.140625 \r\nQ 55.078125 64.0625 55.078125 55.328125 \r\nQ 55.078125 49.078125 51.53125 44.71875 \r\nQ 48 40.375 41.703125 38.8125 \r\nQ 48.828125 37.15625 52.796875 32.3125 \r\nQ 56.78125 27.484375 56.78125 20.515625 \r\nQ 56.78125 9.90625 50.3125 4.234375 \r\nQ 43.84375 -1.421875 31.78125 -1.421875 \r\nQ 19.734375 -1.421875 13.25 4.234375 \r\nQ 6.78125 9.90625 6.78125 20.515625 \r\nQ 6.78125 27.484375 10.78125 32.3125 \r\nQ 14.796875 37.15625 21.921875 38.8125 \r\nz\r\nM 18.3125 54.390625 \r\nQ 18.3125 48.734375 21.84375 45.5625 \r\nQ 25.390625 42.390625 31.78125 42.390625 \r\nQ 38.140625 42.390625 41.71875 45.5625 \r\nQ 45.3125 48.734375 45.3125 54.390625 \r\nQ 45.3125 60.0625 41.71875 63.234375 \r\nQ 38.140625 66.40625 31.78125 66.40625 \r\nQ 25.390625 66.40625 21.84375 63.234375 \r\nQ 18.3125 60.0625 18.3125 54.390625 \r\nz\r\n\" id=\"DejaVuSans-56\"/>\r\n       </defs>\r\n       <use xlink:href=\"#DejaVuSans-48\"/>\r\n       <use x=\"63.623047\" xlink:href=\"#DejaVuSans-46\"/>\r\n       <use x=\"95.410156\" xlink:href=\"#DejaVuSans-56\"/>\r\n      </g>\r\n     </g>\r\n    </g>\r\n    <g id=\"xtick_6\">\r\n     <g id=\"line2d_6\">\r\n      <g>\r\n       <use style=\"stroke:#000000;stroke-width:0.8;\" x=\"469.890341\" xlink:href=\"#m11a42f1059\" y=\"239.758125\"/>\r\n      </g>\r\n     </g>\r\n     <g id=\"text_6\">\r\n      <!-- 1.0 -->\r\n      <g transform=\"translate(461.938778 254.356562)scale(0.1 -0.1)\">\r\n       <defs>\r\n        <path d=\"M 12.40625 8.296875 \r\nL 28.515625 8.296875 \r\nL 28.515625 63.921875 \r\nL 10.984375 60.40625 \r\nL 10.984375 69.390625 \r\nL 28.421875 72.90625 \r\nL 38.28125 72.90625 \r\nL 38.28125 8.296875 \r\nL 54.390625 8.296875 \r\nL 54.390625 0 \r\nL 12.40625 0 \r\nz\r\n\" id=\"DejaVuSans-49\"/>\r\n       </defs>\r\n       <use xlink:href=\"#DejaVuSans-49\"/>\r\n       <use x=\"63.623047\" xlink:href=\"#DejaVuSans-46\"/>\r\n       <use x=\"95.410156\" xlink:href=\"#DejaVuSans-48\"/>\r\n      </g>\r\n     </g>\r\n    </g>\r\n    <g id=\"text_7\">\r\n     <!-- FPR -->\r\n     <g transform=\"translate(257.616406 268.034687)scale(0.1 -0.1)\">\r\n      <defs>\r\n       <path d=\"M 9.8125 72.90625 \r\nL 51.703125 72.90625 \r\nL 51.703125 64.59375 \r\nL 19.671875 64.59375 \r\nL 19.671875 43.109375 \r\nL 48.578125 43.109375 \r\nL 48.578125 34.8125 \r\nL 19.671875 34.8125 \r\nL 19.671875 0 \r\nL 9.8125 0 \r\nz\r\n\" id=\"DejaVuSans-70\"/>\r\n       <path d=\"M 19.671875 64.796875 \r\nL 19.671875 37.40625 \r\nL 32.078125 37.40625 \r\nQ 38.96875 37.40625 42.71875 40.96875 \r\nQ 46.484375 44.53125 46.484375 51.125 \r\nQ 46.484375 57.671875 42.71875 61.234375 \r\nQ 38.96875 64.796875 32.078125 64.796875 \r\nz\r\nM 9.8125 72.90625 \r\nL 32.078125 72.90625 \r\nQ 44.34375 72.90625 50.609375 67.359375 \r\nQ 56.890625 61.8125 56.890625 51.125 \r\nQ 56.890625 40.328125 50.609375 34.8125 \r\nQ 44.34375 29.296875 32.078125 29.296875 \r\nL 19.671875 29.296875 \r\nL 19.671875 0 \r\nL 9.8125 0 \r\nz\r\n\" id=\"DejaVuSans-80\"/>\r\n       <path d=\"M 44.390625 34.1875 \r\nQ 47.5625 33.109375 50.5625 29.59375 \r\nQ 53.5625 26.078125 56.59375 19.921875 \r\nL 66.609375 0 \r\nL 56 0 \r\nL 46.6875 18.703125 \r\nQ 43.0625 26.03125 39.671875 28.421875 \r\nQ 36.28125 30.8125 30.421875 30.8125 \r\nL 19.671875 30.8125 \r\nL 19.671875 0 \r\nL 9.8125 0 \r\nL 9.8125 72.90625 \r\nL 32.078125 72.90625 \r\nQ 44.578125 72.90625 50.734375 67.671875 \r\nQ 56.890625 62.453125 56.890625 51.90625 \r\nQ 56.890625 45.015625 53.6875 40.46875 \r\nQ 50.484375 35.9375 44.390625 34.1875 \r\nz\r\nM 19.671875 64.796875 \r\nL 19.671875 38.921875 \r\nL 32.078125 38.921875 \r\nQ 39.203125 38.921875 42.84375 42.21875 \r\nQ 46.484375 45.515625 46.484375 51.90625 \r\nQ 46.484375 58.296875 42.84375 61.546875 \r\nQ 39.203125 64.796875 32.078125 64.796875 \r\nz\r\n\" id=\"DejaVuSans-82\"/>\r\n      </defs>\r\n      <use xlink:href=\"#DejaVuSans-70\"/>\r\n      <use x=\"57.519531\" xlink:href=\"#DejaVuSans-80\"/>\r\n      <use x=\"117.822266\" xlink:href=\"#DejaVuSans-82\"/>\r\n     </g>\r\n    </g>\r\n   </g>\r\n   <g id=\"matplotlib.axis_2\">\r\n    <g id=\"ytick_1\">\r\n     <g id=\"line2d_7\">\r\n      <defs>\r\n       <path d=\"M 0 0 \r\nL -3.5 0 \r\n\" id=\"m831e7f34d9\" style=\"stroke:#000000;stroke-width:0.8;\"/>\r\n      </defs>\r\n      <g>\r\n       <use style=\"stroke:#000000;stroke-width:0.8;\" x=\"43.78125\" xlink:href=\"#m831e7f34d9\" y=\"229.874489\"/>\r\n      </g>\r\n     </g>\r\n     <g id=\"text_8\">\r\n      <!-- 0.0 -->\r\n      <g transform=\"translate(20.878125 233.673707)scale(0.1 -0.1)\">\r\n       <use xlink:href=\"#DejaVuSans-48\"/>\r\n       <use x=\"63.623047\" xlink:href=\"#DejaVuSans-46\"/>\r\n       <use x=\"95.410156\" xlink:href=\"#DejaVuSans-48\"/>\r\n      </g>\r\n     </g>\r\n    </g>\r\n    <g id=\"ytick_2\">\r\n     <g id=\"line2d_8\">\r\n      <g>\r\n       <use style=\"stroke:#000000;stroke-width:0.8;\" x=\"43.78125\" xlink:href=\"#m831e7f34d9\" y=\"190.339943\"/>\r\n      </g>\r\n     </g>\r\n     <g id=\"text_9\">\r\n      <!-- 0.2 -->\r\n      <g transform=\"translate(20.878125 194.139162)scale(0.1 -0.1)\">\r\n       <use xlink:href=\"#DejaVuSans-48\"/>\r\n       <use x=\"63.623047\" xlink:href=\"#DejaVuSans-46\"/>\r\n       <use x=\"95.410156\" xlink:href=\"#DejaVuSans-50\"/>\r\n      </g>\r\n     </g>\r\n    </g>\r\n    <g id=\"ytick_3\">\r\n     <g id=\"line2d_9\">\r\n      <g>\r\n       <use style=\"stroke:#000000;stroke-width:0.8;\" x=\"43.78125\" xlink:href=\"#m831e7f34d9\" y=\"150.805398\"/>\r\n      </g>\r\n     </g>\r\n     <g id=\"text_10\">\r\n      <!-- 0.4 -->\r\n      <g transform=\"translate(20.878125 154.604616)scale(0.1 -0.1)\">\r\n       <use xlink:href=\"#DejaVuSans-48\"/>\r\n       <use x=\"63.623047\" xlink:href=\"#DejaVuSans-46\"/>\r\n       <use x=\"95.410156\" xlink:href=\"#DejaVuSans-52\"/>\r\n      </g>\r\n     </g>\r\n    </g>\r\n    <g id=\"ytick_4\">\r\n     <g id=\"line2d_10\">\r\n      <g>\r\n       <use style=\"stroke:#000000;stroke-width:0.8;\" x=\"43.78125\" xlink:href=\"#m831e7f34d9\" y=\"111.270852\"/>\r\n      </g>\r\n     </g>\r\n     <g id=\"text_11\">\r\n      <!-- 0.6 -->\r\n      <g transform=\"translate(20.878125 115.070071)scale(0.1 -0.1)\">\r\n       <use xlink:href=\"#DejaVuSans-48\"/>\r\n       <use x=\"63.623047\" xlink:href=\"#DejaVuSans-46\"/>\r\n       <use x=\"95.410156\" xlink:href=\"#DejaVuSans-54\"/>\r\n      </g>\r\n     </g>\r\n    </g>\r\n    <g id=\"ytick_5\">\r\n     <g id=\"line2d_11\">\r\n      <g>\r\n       <use style=\"stroke:#000000;stroke-width:0.8;\" x=\"43.78125\" xlink:href=\"#m831e7f34d9\" y=\"71.736307\"/>\r\n      </g>\r\n     </g>\r\n     <g id=\"text_12\">\r\n      <!-- 0.8 -->\r\n      <g transform=\"translate(20.878125 75.535526)scale(0.1 -0.1)\">\r\n       <use xlink:href=\"#DejaVuSans-48\"/>\r\n       <use x=\"63.623047\" xlink:href=\"#DejaVuSans-46\"/>\r\n       <use x=\"95.410156\" xlink:href=\"#DejaVuSans-56\"/>\r\n      </g>\r\n     </g>\r\n    </g>\r\n    <g id=\"ytick_6\">\r\n     <g id=\"line2d_12\">\r\n      <g>\r\n       <use style=\"stroke:#000000;stroke-width:0.8;\" x=\"43.78125\" xlink:href=\"#m831e7f34d9\" y=\"32.201761\"/>\r\n      </g>\r\n     </g>\r\n     <g id=\"text_13\">\r\n      <!-- 1.0 -->\r\n      <g transform=\"translate(20.878125 36.00098)scale(0.1 -0.1)\">\r\n       <use xlink:href=\"#DejaVuSans-49\"/>\r\n       <use x=\"63.623047\" xlink:href=\"#DejaVuSans-46\"/>\r\n       <use x=\"95.410156\" xlink:href=\"#DejaVuSans-48\"/>\r\n      </g>\r\n     </g>\r\n    </g>\r\n    <g id=\"text_14\">\r\n     <!-- TPR -->\r\n     <g transform=\"translate(14.798438 140.581094)rotate(-90)scale(0.1 -0.1)\">\r\n      <defs>\r\n       <path d=\"M -0.296875 72.90625 \r\nL 61.375 72.90625 \r\nL 61.375 64.59375 \r\nL 35.5 64.59375 \r\nL 35.5 0 \r\nL 25.59375 0 \r\nL 25.59375 64.59375 \r\nL -0.296875 64.59375 \r\nz\r\n\" id=\"DejaVuSans-84\"/>\r\n      </defs>\r\n      <use xlink:href=\"#DejaVuSans-84\"/>\r\n      <use x=\"61.083984\" xlink:href=\"#DejaVuSans-80\"/>\r\n      <use x=\"121.386719\" xlink:href=\"#DejaVuSans-82\"/>\r\n     </g>\r\n    </g>\r\n   </g>\r\n   <g id=\"line2d_13\">\r\n    <path clip-path=\"url(#p80c1e079d2)\" d=\"M 64.072159 229.874489 \r\nL 64.072159 147.510852 \r\nL 64.072159 65.147216 \r\nL 86.617614 65.147216 \r\nL 86.617614 32.201761 \r\nL 469.890341 32.201761 \r\n\" style=\"fill:none;stroke:#1f77b4;stroke-linecap:square;stroke-width:1.5;\"/>\r\n   </g>\r\n   <g id=\"line2d_14\">\r\n    <path clip-path=\"url(#p80c1e079d2)\" d=\"M 64.072159 229.874489 \r\nL 469.890341 32.201761 \r\n\" style=\"fill:none;stroke:#808080;stroke-dasharray:5.55,2.4;stroke-dashoffset:0;stroke-width:1.5;\"/>\r\n   </g>\r\n   <g id=\"patch_3\">\r\n    <path d=\"M 43.78125 239.758125 \r\nL 43.78125 22.318125 \r\n\" style=\"fill:none;stroke:#000000;stroke-linecap:square;stroke-linejoin:miter;stroke-width:0.8;\"/>\r\n   </g>\r\n   <g id=\"patch_4\">\r\n    <path d=\"M 490.18125 239.758125 \r\nL 490.18125 22.318125 \r\n\" style=\"fill:none;stroke:#000000;stroke-linecap:square;stroke-linejoin:miter;stroke-width:0.8;\"/>\r\n   </g>\r\n   <g id=\"patch_5\">\r\n    <path d=\"M 43.78125 239.758125 \r\nL 490.18125 239.758125 \r\n\" style=\"fill:none;stroke:#000000;stroke-linecap:square;stroke-linejoin:miter;stroke-width:0.8;\"/>\r\n   </g>\r\n   <g id=\"patch_6\">\r\n    <path d=\"M 43.78125 22.318125 \r\nL 490.18125 22.318125 \r\n\" style=\"fill:none;stroke:#000000;stroke-linecap:square;stroke-linejoin:miter;stroke-width:0.8;\"/>\r\n   </g>\r\n   <g id=\"text_15\">\r\n    <!-- ROC -->\r\n    <g transform=\"translate(253.899375 16.318125)scale(0.12 -0.12)\">\r\n     <defs>\r\n      <path d=\"M 39.40625 66.21875 \r\nQ 28.65625 66.21875 22.328125 58.203125 \r\nQ 16.015625 50.203125 16.015625 36.375 \r\nQ 16.015625 22.609375 22.328125 14.59375 \r\nQ 28.65625 6.59375 39.40625 6.59375 \r\nQ 50.140625 6.59375 56.421875 14.59375 \r\nQ 62.703125 22.609375 62.703125 36.375 \r\nQ 62.703125 50.203125 56.421875 58.203125 \r\nQ 50.140625 66.21875 39.40625 66.21875 \r\nz\r\nM 39.40625 74.21875 \r\nQ 54.734375 74.21875 63.90625 63.9375 \r\nQ 73.09375 53.65625 73.09375 36.375 \r\nQ 73.09375 19.140625 63.90625 8.859375 \r\nQ 54.734375 -1.421875 39.40625 -1.421875 \r\nQ 24.03125 -1.421875 14.8125 8.828125 \r\nQ 5.609375 19.09375 5.609375 36.375 \r\nQ 5.609375 53.65625 14.8125 63.9375 \r\nQ 24.03125 74.21875 39.40625 74.21875 \r\nz\r\n\" id=\"DejaVuSans-79\"/>\r\n      <path d=\"M 64.40625 67.28125 \r\nL 64.40625 56.890625 \r\nQ 59.421875 61.53125 53.78125 63.8125 \r\nQ 48.140625 66.109375 41.796875 66.109375 \r\nQ 29.296875 66.109375 22.65625 58.46875 \r\nQ 16.015625 50.828125 16.015625 36.375 \r\nQ 16.015625 21.96875 22.65625 14.328125 \r\nQ 29.296875 6.6875 41.796875 6.6875 \r\nQ 48.140625 6.6875 53.78125 8.984375 \r\nQ 59.421875 11.28125 64.40625 15.921875 \r\nL 64.40625 5.609375 \r\nQ 59.234375 2.09375 53.4375 0.328125 \r\nQ 47.65625 -1.421875 41.21875 -1.421875 \r\nQ 24.65625 -1.421875 15.125 8.703125 \r\nQ 5.609375 18.84375 5.609375 36.375 \r\nQ 5.609375 53.953125 15.125 64.078125 \r\nQ 24.65625 74.21875 41.21875 74.21875 \r\nQ 47.75 74.21875 53.53125 72.484375 \r\nQ 59.328125 70.75 64.40625 67.28125 \r\nz\r\n\" id=\"DejaVuSans-67\"/>\r\n     </defs>\r\n     <use xlink:href=\"#DejaVuSans-82\"/>\r\n     <use x=\"69.482422\" xlink:href=\"#DejaVuSans-79\"/>\r\n     <use x=\"148.193359\" xlink:href=\"#DejaVuSans-67\"/>\r\n    </g>\r\n   </g>\r\n   <g id=\"legend_1\">\r\n    <g id=\"patch_7\">\r\n     <path d=\"M 404.970312 234.758125 \r\nL 483.18125 234.758125 \r\nQ 485.18125 234.758125 485.18125 232.758125 \r\nL 485.18125 204.401875 \r\nQ 485.18125 202.401875 483.18125 202.401875 \r\nL 404.970312 202.401875 \r\nQ 402.970312 202.401875 402.970312 204.401875 \r\nL 402.970312 232.758125 \r\nQ 402.970312 234.758125 404.970312 234.758125 \r\nz\r\n\" style=\"fill:#ffffff;opacity:0.8;stroke:#cccccc;stroke-linejoin:miter;\"/>\r\n    </g>\r\n    <g id=\"line2d_15\">\r\n     <path d=\"M 406.970312 210.500312 \r\nL 426.970312 210.500312 \r\n\" style=\"fill:none;stroke:#1f77b4;stroke-linecap:square;stroke-width:1.5;\"/>\r\n    </g>\r\n    <g id=\"line2d_16\"/>\r\n    <g id=\"text_16\">\r\n     <!-- lin model -->\r\n     <g transform=\"translate(434.970312 214.000312)scale(0.1 -0.1)\">\r\n      <defs>\r\n       <path d=\"M 9.421875 75.984375 \r\nL 18.40625 75.984375 \r\nL 18.40625 0 \r\nL 9.421875 0 \r\nz\r\n\" id=\"DejaVuSans-108\"/>\r\n       <path d=\"M 9.421875 54.6875 \r\nL 18.40625 54.6875 \r\nL 18.40625 0 \r\nL 9.421875 0 \r\nz\r\nM 9.421875 75.984375 \r\nL 18.40625 75.984375 \r\nL 18.40625 64.59375 \r\nL 9.421875 64.59375 \r\nz\r\n\" id=\"DejaVuSans-105\"/>\r\n       <path d=\"M 54.890625 33.015625 \r\nL 54.890625 0 \r\nL 45.90625 0 \r\nL 45.90625 32.71875 \r\nQ 45.90625 40.484375 42.875 44.328125 \r\nQ 39.84375 48.1875 33.796875 48.1875 \r\nQ 26.515625 48.1875 22.3125 43.546875 \r\nQ 18.109375 38.921875 18.109375 30.90625 \r\nL 18.109375 0 \r\nL 9.078125 0 \r\nL 9.078125 54.6875 \r\nL 18.109375 54.6875 \r\nL 18.109375 46.1875 \r\nQ 21.34375 51.125 25.703125 53.5625 \r\nQ 30.078125 56 35.796875 56 \r\nQ 45.21875 56 50.046875 50.171875 \r\nQ 54.890625 44.34375 54.890625 33.015625 \r\nz\r\n\" id=\"DejaVuSans-110\"/>\r\n       <path id=\"DejaVuSans-32\"/>\r\n       <path d=\"M 52 44.1875 \r\nQ 55.375 50.25 60.0625 53.125 \r\nQ 64.75 56 71.09375 56 \r\nQ 79.640625 56 84.28125 50.015625 \r\nQ 88.921875 44.046875 88.921875 33.015625 \r\nL 88.921875 0 \r\nL 79.890625 0 \r\nL 79.890625 32.71875 \r\nQ 79.890625 40.578125 77.09375 44.375 \r\nQ 74.3125 48.1875 68.609375 48.1875 \r\nQ 61.625 48.1875 57.5625 43.546875 \r\nQ 53.515625 38.921875 53.515625 30.90625 \r\nL 53.515625 0 \r\nL 44.484375 0 \r\nL 44.484375 32.71875 \r\nQ 44.484375 40.625 41.703125 44.40625 \r\nQ 38.921875 48.1875 33.109375 48.1875 \r\nQ 26.21875 48.1875 22.15625 43.53125 \r\nQ 18.109375 38.875 18.109375 30.90625 \r\nL 18.109375 0 \r\nL 9.078125 0 \r\nL 9.078125 54.6875 \r\nL 18.109375 54.6875 \r\nL 18.109375 46.1875 \r\nQ 21.1875 51.21875 25.484375 53.609375 \r\nQ 29.78125 56 35.6875 56 \r\nQ 41.65625 56 45.828125 52.96875 \r\nQ 50 49.953125 52 44.1875 \r\nz\r\n\" id=\"DejaVuSans-109\"/>\r\n       <path d=\"M 30.609375 48.390625 \r\nQ 23.390625 48.390625 19.1875 42.75 \r\nQ 14.984375 37.109375 14.984375 27.296875 \r\nQ 14.984375 17.484375 19.15625 11.84375 \r\nQ 23.34375 6.203125 30.609375 6.203125 \r\nQ 37.796875 6.203125 41.984375 11.859375 \r\nQ 46.1875 17.53125 46.1875 27.296875 \r\nQ 46.1875 37.015625 41.984375 42.703125 \r\nQ 37.796875 48.390625 30.609375 48.390625 \r\nz\r\nM 30.609375 56 \r\nQ 42.328125 56 49.015625 48.375 \r\nQ 55.71875 40.765625 55.71875 27.296875 \r\nQ 55.71875 13.875 49.015625 6.21875 \r\nQ 42.328125 -1.421875 30.609375 -1.421875 \r\nQ 18.84375 -1.421875 12.171875 6.21875 \r\nQ 5.515625 13.875 5.515625 27.296875 \r\nQ 5.515625 40.765625 12.171875 48.375 \r\nQ 18.84375 56 30.609375 56 \r\nz\r\n\" id=\"DejaVuSans-111\"/>\r\n       <path d=\"M 45.40625 46.390625 \r\nL 45.40625 75.984375 \r\nL 54.390625 75.984375 \r\nL 54.390625 0 \r\nL 45.40625 0 \r\nL 45.40625 8.203125 \r\nQ 42.578125 3.328125 38.25 0.953125 \r\nQ 33.9375 -1.421875 27.875 -1.421875 \r\nQ 17.96875 -1.421875 11.734375 6.484375 \r\nQ 5.515625 14.40625 5.515625 27.296875 \r\nQ 5.515625 40.1875 11.734375 48.09375 \r\nQ 17.96875 56 27.875 56 \r\nQ 33.9375 56 38.25 53.625 \r\nQ 42.578125 51.265625 45.40625 46.390625 \r\nz\r\nM 14.796875 27.296875 \r\nQ 14.796875 17.390625 18.875 11.75 \r\nQ 22.953125 6.109375 30.078125 6.109375 \r\nQ 37.203125 6.109375 41.296875 11.75 \r\nQ 45.40625 17.390625 45.40625 27.296875 \r\nQ 45.40625 37.203125 41.296875 42.84375 \r\nQ 37.203125 48.484375 30.078125 48.484375 \r\nQ 22.953125 48.484375 18.875 42.84375 \r\nQ 14.796875 37.203125 14.796875 27.296875 \r\nz\r\n\" id=\"DejaVuSans-100\"/>\r\n       <path d=\"M 56.203125 29.59375 \r\nL 56.203125 25.203125 \r\nL 14.890625 25.203125 \r\nQ 15.484375 15.921875 20.484375 11.0625 \r\nQ 25.484375 6.203125 34.421875 6.203125 \r\nQ 39.59375 6.203125 44.453125 7.46875 \r\nQ 49.3125 8.734375 54.109375 11.28125 \r\nL 54.109375 2.78125 \r\nQ 49.265625 0.734375 44.1875 -0.34375 \r\nQ 39.109375 -1.421875 33.890625 -1.421875 \r\nQ 20.796875 -1.421875 13.15625 6.1875 \r\nQ 5.515625 13.8125 5.515625 26.8125 \r\nQ 5.515625 40.234375 12.765625 48.109375 \r\nQ 20.015625 56 32.328125 56 \r\nQ 43.359375 56 49.78125 48.890625 \r\nQ 56.203125 41.796875 56.203125 29.59375 \r\nz\r\nM 47.21875 32.234375 \r\nQ 47.125 39.59375 43.09375 43.984375 \r\nQ 39.0625 48.390625 32.421875 48.390625 \r\nQ 24.90625 48.390625 20.390625 44.140625 \r\nQ 15.875 39.890625 15.1875 32.171875 \r\nz\r\n\" id=\"DejaVuSans-101\"/>\r\n      </defs>\r\n      <use xlink:href=\"#DejaVuSans-108\"/>\r\n      <use x=\"27.783203\" xlink:href=\"#DejaVuSans-105\"/>\r\n      <use x=\"55.566406\" xlink:href=\"#DejaVuSans-110\"/>\r\n      <use x=\"118.945312\" xlink:href=\"#DejaVuSans-32\"/>\r\n      <use x=\"150.732422\" xlink:href=\"#DejaVuSans-109\"/>\r\n      <use x=\"248.144531\" xlink:href=\"#DejaVuSans-111\"/>\r\n      <use x=\"309.326172\" xlink:href=\"#DejaVuSans-100\"/>\r\n      <use x=\"372.802734\" xlink:href=\"#DejaVuSans-101\"/>\r\n      <use x=\"434.326172\" xlink:href=\"#DejaVuSans-108\"/>\r\n     </g>\r\n    </g>\r\n    <g id=\"line2d_17\">\r\n     <path d=\"M 406.970312 225.178437 \r\nL 426.970312 225.178437 \r\n\" style=\"fill:none;stroke:#808080;stroke-dasharray:5.55,2.4;stroke-dashoffset:0;stroke-width:1.5;\"/>\r\n    </g>\r\n    <g id=\"line2d_18\"/>\r\n    <g id=\"text_17\">\r\n     <!-- random -->\r\n     <g transform=\"translate(434.970312 228.678437)scale(0.1 -0.1)\">\r\n      <defs>\r\n       <path d=\"M 41.109375 46.296875 \r\nQ 39.59375 47.171875 37.8125 47.578125 \r\nQ 36.03125 48 33.890625 48 \r\nQ 26.265625 48 22.1875 43.046875 \r\nQ 18.109375 38.09375 18.109375 28.8125 \r\nL 18.109375 0 \r\nL 9.078125 0 \r\nL 9.078125 54.6875 \r\nL 18.109375 54.6875 \r\nL 18.109375 46.1875 \r\nQ 20.953125 51.171875 25.484375 53.578125 \r\nQ 30.03125 56 36.53125 56 \r\nQ 37.453125 56 38.578125 55.875 \r\nQ 39.703125 55.765625 41.0625 55.515625 \r\nz\r\n\" id=\"DejaVuSans-114\"/>\r\n       <path d=\"M 34.28125 27.484375 \r\nQ 23.390625 27.484375 19.1875 25 \r\nQ 14.984375 22.515625 14.984375 16.5 \r\nQ 14.984375 11.71875 18.140625 8.90625 \r\nQ 21.296875 6.109375 26.703125 6.109375 \r\nQ 34.1875 6.109375 38.703125 11.40625 \r\nQ 43.21875 16.703125 43.21875 25.484375 \r\nL 43.21875 27.484375 \r\nz\r\nM 52.203125 31.203125 \r\nL 52.203125 0 \r\nL 43.21875 0 \r\nL 43.21875 8.296875 \r\nQ 40.140625 3.328125 35.546875 0.953125 \r\nQ 30.953125 -1.421875 24.3125 -1.421875 \r\nQ 15.921875 -1.421875 10.953125 3.296875 \r\nQ 6 8.015625 6 15.921875 \r\nQ 6 25.140625 12.171875 29.828125 \r\nQ 18.359375 34.515625 30.609375 34.515625 \r\nL 43.21875 34.515625 \r\nL 43.21875 35.40625 \r\nQ 43.21875 41.609375 39.140625 45 \r\nQ 35.0625 48.390625 27.6875 48.390625 \r\nQ 23 48.390625 18.546875 47.265625 \r\nQ 14.109375 46.140625 10.015625 43.890625 \r\nL 10.015625 52.203125 \r\nQ 14.9375 54.109375 19.578125 55.046875 \r\nQ 24.21875 56 28.609375 56 \r\nQ 40.484375 56 46.34375 49.84375 \r\nQ 52.203125 43.703125 52.203125 31.203125 \r\nz\r\n\" id=\"DejaVuSans-97\"/>\r\n      </defs>\r\n      <use xlink:href=\"#DejaVuSans-114\"/>\r\n      <use x=\"41.113281\" xlink:href=\"#DejaVuSans-97\"/>\r\n      <use x=\"102.392578\" xlink:href=\"#DejaVuSans-110\"/>\r\n      <use x=\"165.771484\" xlink:href=\"#DejaVuSans-100\"/>\r\n      <use x=\"229.248047\" xlink:href=\"#DejaVuSans-111\"/>\r\n      <use x=\"290.429688\" xlink:href=\"#DejaVuSans-109\"/>\r\n     </g>\r\n    </g>\r\n   </g>\r\n  </g>\r\n </g>\r\n <defs>\r\n  <clipPath id=\"p80c1e079d2\">\r\n   <rect height=\"217.44\" width=\"446.4\" x=\"43.78125\" y=\"22.318125\"/>\r\n  </clipPath>\r\n </defs>\r\n</svg>\r\n",
      "image/png": "[encoded data removed]"
     },
     "metadata": {
      "needs_background": "light"
     }
    }
   ],
   "source": [
    "plot(fpr, tpr, label='lin model')\n",
    "plot([0, 1], [0, 1], '--', label='random', color='grey')\n",
    "legend(loc='lower right')\n",
    "title('ROC')\n",
    "xlabel('FPR')\n",
    "ylabel('TPR')"
   ]
  },
  {
   "cell_type": "code",
   "execution_count": 62,
   "metadata": {},
   "outputs": [
    {
     "output_type": "execute_result",
     "data": {
      "text/plain": [
       "0.9305555555555554"
      ]
     },
     "metadata": {},
     "execution_count": 62
    }
   ],
   "source": [
    "metrics.roc_auc_score(clf_test_labels, preds)"
   ]
  },
  {
   "cell_type": "code",
   "execution_count": 63,
   "metadata": {},
   "outputs": [
    {
     "output_type": "execute_result",
     "data": {
      "text/plain": [
       "0.9907407407407407"
      ]
     },
     "metadata": {},
     "execution_count": 63
    }
   ],
   "source": [
    "metrics.roc_auc_score(clf_test_labels, prob_preds[:, 1])"
   ]
  },
  {
   "source": [
    "### AUC-PRC"
   ],
   "cell_type": "markdown",
   "metadata": {}
  },
  {
   "cell_type": "code",
   "execution_count": 66,
   "metadata": {},
   "outputs": [
    {
     "output_type": "execute_result",
     "data": {
      "text/plain": [
       "0.873611111111111"
      ]
     },
     "metadata": {},
     "execution_count": 66
    }
   ],
   "source": [
    "metrics.average_precision_score(clf_test_labels, preds)"
   ]
  },
  {
   "source": [
    "### Logistic Loss"
   ],
   "cell_type": "markdown",
   "metadata": {}
  },
  {
   "cell_type": "code",
   "execution_count": 67,
   "metadata": {},
   "outputs": [
    {
     "output_type": "execute_result",
     "data": {
      "text/plain": [
       "0.21767621111290084"
      ]
     },
     "metadata": {},
     "execution_count": 67
    }
   ],
   "source": [
    "metrics.log_loss(clf_test_labels, prob_preds[:, 1])"
   ]
  },
  {
   "source": [
    "# Regression problem\n",
    "\n",
    "## metrics"
   ],
   "cell_type": "markdown",
   "metadata": {}
  },
  {
   "cell_type": "code",
   "execution_count": 70,
   "metadata": {},
   "outputs": [],
   "source": [
    "regressor = linear_model.SGDRegressor(random_state=1, max_iter=20)"
   ]
  },
  {
   "cell_type": "code",
   "execution_count": 71,
   "metadata": {},
   "outputs": [
    {
     "output_type": "stream",
     "name": "stderr",
     "text": [
      "C:\\Users\\Svatostop\\anaconda3\\lib\\site-packages\\sklearn\\linear_model\\_stochastic_gradient.py:1208: ConvergenceWarning: Maximum number of iteration reached before convergence. Consider increasing max_iter to improve the fit.\n  warnings.warn(\"Maximum number of iteration reached before \"\n"
     ]
    },
    {
     "output_type": "execute_result",
     "data": {
      "text/plain": [
       "SGDRegressor(max_iter=20, random_state=1)"
      ]
     },
     "metadata": {},
     "execution_count": 71
    }
   ],
   "source": [
    "regressor.fit(reg_train_data, reg_train_labels)"
   ]
  },
  {
   "cell_type": "code",
   "execution_count": 72,
   "metadata": {},
   "outputs": [],
   "source": [
    "reg_preds = regressor.predict(reg_test_data)"
   ]
  },
  {
   "cell_type": "code",
   "execution_count": 73,
   "metadata": {},
   "outputs": [
    {
     "output_type": "execute_result",
     "data": {
      "text/plain": [
       "array([   2.67799047,    7.06525927,  -56.43389936,   10.08001896,\n",
       "        -22.46817716,  -19.27471232,   59.44372825,  -21.60494574,\n",
       "         32.54682713,  -41.89798772,  -18.16390935,   32.75688783,\n",
       "         31.04095773,    2.39589626,   -5.04783924,  -70.20925097,\n",
       "         86.69034305,   18.50402992,   32.31573461, -101.81138022,\n",
       "         15.14628858,   29.49813932,   97.282674  ,   25.88034991,\n",
       "        -41.63332253,  -92.11198201,   86.7177122 ,    2.13250832,\n",
       "        -20.24967575,  -27.32511755])"
      ]
     },
     "metadata": {},
     "execution_count": 73
    }
   ],
   "source": [
    "reg_test_labels"
   ]
  },
  {
   "cell_type": "code",
   "execution_count": 74,
   "metadata": {},
   "outputs": [
    {
     "output_type": "execute_result",
     "data": {
      "text/plain": [
       "array([ -1.46503565,   5.75776789, -50.13234306,   5.05646094,\n",
       "       -24.09370893,  -8.34831546,  61.77254998, -21.98350565,\n",
       "        30.65112022, -39.25972497, -17.19337022,  30.94178225,\n",
       "        26.98820076,  -6.08321732,  -3.46551   , -78.9843398 ,\n",
       "        84.80190097,  14.80638314,  22.91302375, -89.63572717,\n",
       "        14.5954632 ,  31.64431951,  95.81031534,  21.5037679 ,\n",
       "       -43.1101736 , -95.06972123,  86.70086546,   0.47837761,\n",
       "       -16.44594704, -22.72581879])"
      ]
     },
     "metadata": {},
     "execution_count": 74
    }
   ],
   "source": [
    "reg_preds"
   ]
  },
  {
   "source": [
    "### MAE - mean absolute value"
   ],
   "cell_type": "markdown",
   "metadata": {}
  },
  {
   "cell_type": "code",
   "execution_count": 75,
   "metadata": {},
   "outputs": [
    {
     "output_type": "execute_result",
     "data": {
      "text/plain": [
       "3.748761311885298"
      ]
     },
     "metadata": {},
     "execution_count": 75
    }
   ],
   "source": [
    "metrics.mean_absolute_error(reg_test_labels, reg_preds)"
   ]
  },
  {
   "source": [
    "### MSE - mean squared value"
   ],
   "cell_type": "markdown",
   "metadata": {}
  },
  {
   "cell_type": "code",
   "execution_count": 76,
   "metadata": {},
   "outputs": [
    {
     "output_type": "execute_result",
     "data": {
      "text/plain": [
       "24.114925597460914"
      ]
     },
     "metadata": {},
     "execution_count": 76
    }
   ],
   "source": [
    "metrics.mean_squared_error(reg_test_labels, reg_preds)"
   ]
  },
  {
   "source": [
    "### root MSE"
   ],
   "cell_type": "markdown",
   "metadata": {}
  },
  {
   "cell_type": "code",
   "execution_count": 77,
   "metadata": {},
   "outputs": [
    {
     "output_type": "execute_result",
     "data": {
      "text/plain": [
       "4.91069502183356"
      ]
     },
     "metadata": {},
     "execution_count": 77
    }
   ],
   "source": [
    "sqrt(metrics.mean_squared_error(reg_test_labels, reg_preds))"
   ]
  },
  {
   "source": [
    "### r2 score\n",
    "\n",
    "$$ R^2(a, X) = 1 - \\dfrac{\\sum_{i=1}^l (a(x_i) - y_i)^2}{\\sum_{i=1}^l (y_i - \\overline{y})^2}$$"
   ],
   "cell_type": "markdown",
   "metadata": {}
  },
  {
   "cell_type": "code",
   "execution_count": 78,
   "metadata": {},
   "outputs": [
    {
     "output_type": "execute_result",
     "data": {
      "text/plain": [
       "0.989317615054695"
      ]
     },
     "metadata": {},
     "execution_count": 78
    }
   ],
   "source": [
    "metrics.r2_score(reg_test_labels, reg_preds)"
   ]
  },
  {
   "cell_type": "code",
   "execution_count": null,
   "metadata": {},
   "outputs": [],
   "source": []
  }
 ]
}