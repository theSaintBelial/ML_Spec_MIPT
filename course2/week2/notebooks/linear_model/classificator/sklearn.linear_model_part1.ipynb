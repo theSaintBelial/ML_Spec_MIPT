{
 "cells": [
  {
   "cell_type": "markdown",
   "metadata": {},
   "source": [
    "**Корректность проверена на Python 3.6:**\n",
    "+ numpy 1.15.4\n",
    "+ matplotlib 3.0.2\n",
    "+ sklearn 0.20.2"
   ]
  },
  {
   "cell_type": "code",
   "execution_count": 1,
   "metadata": {},
   "outputs": [],
   "source": [
    "import warnings\n",
    "warnings.filterwarnings('ignore')"
   ]
  },
  {
   "cell_type": "markdown",
   "metadata": {},
   "source": [
    "# Sklearn"
   ]
  },
  {
   "cell_type": "markdown",
   "metadata": {},
   "source": [
    "## sklearn.liner_model"
   ]
  },
  {
   "cell_type": "markdown",
   "metadata": {},
   "source": [
    "**linear_model:**\n",
    "* RidgeClassifier\n",
    "* SGDClassifier\n",
    "* SGDRegressor\n",
    "* LinearRegression\n",
    "* LogisticRegression\n",
    "* Lasso\n",
    "* etc"
   ]
  },
  {
   "cell_type": "markdown",
   "metadata": {},
   "source": [
    "документация: http://scikit-learn.org/stable/modules/classes.html#module-sklearn.linear_model\n",
    "\n",
    "примеры: http://scikit-learn.org/stable/modules/linear_model.html#linear-model"
   ]
  },
  {
   "cell_type": "code",
   "execution_count": 2,
   "metadata": {},
   "outputs": [],
   "source": [
    "from matplotlib.colors import ListedColormap\n",
    "from sklearn import model_selection, datasets, linear_model, metrics\n",
    "\n",
    "import numpy as np"
   ]
  },
  {
   "cell_type": "code",
   "execution_count": 3,
   "metadata": {},
   "outputs": [
    {
     "output_type": "stream",
     "name": "stdout",
     "text": [
      "Populating the interactive namespace from numpy and matplotlib\n"
     ]
    }
   ],
   "source": [
    "%pylab inline"
   ]
  },
  {
   "cell_type": "markdown",
   "metadata": {},
   "source": [
    "### Генерация данных"
   ]
  },
  {
   "cell_type": "code",
   "execution_count": 4,
   "metadata": {},
   "outputs": [],
   "source": [
    "blobs = datasets.make_blobs(centers = 2, cluster_std = 5.5, random_state=1)"
   ]
  },
  {
   "cell_type": "code",
   "execution_count": 5,
   "metadata": {},
   "outputs": [
    {
     "output_type": "execute_result",
     "data": {
      "text/plain": [
       "<matplotlib.collections.PathCollection at 0x232500913a0>"
      ]
     },
     "metadata": {},
     "execution_count": 5
    },
    {
     "output_type": "display_data",
     "data": {
      "text/plain": "<Figure size 576x576 with 1 Axes>",
      "image/svg+xml": "<?xml version=\"1.0\" encoding=\"utf-8\" standalone=\"no\"?>\r\n<!DOCTYPE svg PUBLIC \"-//W3C//DTD SVG 1.1//EN\"\r\n  \"http://www.w3.org/Graphics/SVG/1.1/DTD/svg11.dtd\">\r\n<!-- Created with matplotlib (https://matplotlib.org/) -->\r\n<svg height=\"465.958125pt\" version=\"1.1\" viewBox=\"0 0 488.904687 465.958125\" width=\"488.904687pt\" xmlns=\"http://www.w3.org/2000/svg\" xmlns:xlink=\"http://www.w3.org/1999/xlink\">\r\n <metadata>\r\n  <rdf:RDF xmlns:cc=\"http://creativecommons.org/ns#\" xmlns:dc=\"http://purl.org/dc/elements/1.1/\" xmlns:rdf=\"http://www.w3.org/1999/02/22-rdf-syntax-ns#\">\r\n   <cc:Work>\r\n    <dc:type rdf:resource=\"http://purl.org/dc/dcmitype/StillImage\"/>\r\n    <dc:date>2021-03-26T18:24:31.612373</dc:date>\r\n    <dc:format>image/svg+xml</dc:format>\r\n    <dc:creator>\r\n     <cc:Agent>\r\n      <dc:title>Matplotlib v3.3.2, https://matplotlib.org/</dc:title>\r\n     </cc:Agent>\r\n    </dc:creator>\r\n   </cc:Work>\r\n  </rdf:RDF>\r\n </metadata>\r\n <defs>\r\n  <style type=\"text/css\">*{stroke-linecap:butt;stroke-linejoin:round;}</style>\r\n </defs>\r\n <g id=\"figure_1\">\r\n  <g id=\"patch_1\">\r\n   <path d=\"M 0 465.958125 \r\nL 488.904687 465.958125 \r\nL 488.904687 0 \r\nL 0 0 \r\nz\r\n\" style=\"fill:none;\"/>\r\n  </g>\r\n  <g id=\"axes_1\">\r\n   <g id=\"patch_2\">\r\n    <path d=\"M 35.304688 442.08 \r\nL 481.704687 442.08 \r\nL 481.704687 7.2 \r\nL 35.304688 7.2 \r\nz\r\n\" style=\"fill:#ffffff;\"/>\r\n   </g>\r\n   <g id=\"PathCollection_1\">\r\n    <defs>\r\n     <path d=\"M 0 3 \r\nC 0.795609 3 1.55874 2.683901 2.12132 2.12132 \r\nC 2.683901 1.55874 3 0.795609 3 -0 \r\nC 3 -0.795609 2.683901 -1.55874 2.12132 -2.12132 \r\nC 1.55874 -2.683901 0.795609 -3 0 -3 \r\nC -0.795609 -3 -1.55874 -2.683901 -2.12132 -2.12132 \r\nC -2.683901 -1.55874 -3 -0.795609 -3 0 \r\nC -3 0.795609 -2.683901 1.55874 -2.12132 2.12132 \r\nC -1.55874 2.683901 -0.795609 3 0 3 \r\nz\r\n\" id=\"C0_0_310d313a46\"/>\r\n    </defs>\r\n    <g clip-path=\"url(#pce59b472b8)\">\r\n     <use style=\"fill:#ff0000;stroke:#ff0000;\" x=\"365.049016\" xlink:href=\"#C0_0_310d313a46\" y=\"314.367921\"/>\r\n    </g>\r\n    <g clip-path=\"url(#pce59b472b8)\">\r\n     <use style=\"fill:#0000ff;stroke:#0000ff;\" x=\"252.982667\" xlink:href=\"#C0_0_310d313a46\" y=\"319.457271\"/>\r\n    </g>\r\n    <g clip-path=\"url(#pce59b472b8)\">\r\n     <use style=\"fill:#ff0000;stroke:#ff0000;\" x=\"196.467047\" xlink:href=\"#C0_0_310d313a46\" y=\"197.033962\"/>\r\n    </g>\r\n    <g clip-path=\"url(#pce59b472b8)\">\r\n     <use style=\"fill:#ff0000;stroke:#ff0000;\" x=\"318.674778\" xlink:href=\"#C0_0_310d313a46\" y=\"114.34351\"/>\r\n    </g>\r\n    <g clip-path=\"url(#pce59b472b8)\">\r\n     <use style=\"fill:#0000ff;stroke:#0000ff;\" x=\"375.771178\" xlink:href=\"#C0_0_310d313a46\" y=\"279.571795\"/>\r\n    </g>\r\n    <g clip-path=\"url(#pce59b472b8)\">\r\n     <use style=\"fill:#0000ff;stroke:#0000ff;\" x=\"249.749046\" xlink:href=\"#C0_0_310d313a46\" y=\"260.297546\"/>\r\n    </g>\r\n    <g clip-path=\"url(#pce59b472b8)\">\r\n     <use style=\"fill:#0000ff;stroke:#0000ff;\" x=\"240.85898\" xlink:href=\"#C0_0_310d313a46\" y=\"284.218398\"/>\r\n    </g>\r\n    <g clip-path=\"url(#pce59b472b8)\">\r\n     <use style=\"fill:#0000ff;stroke:#0000ff;\" x=\"249.088143\" xlink:href=\"#C0_0_310d313a46\" y=\"304.049393\"/>\r\n    </g>\r\n    <g clip-path=\"url(#pce59b472b8)\">\r\n     <use style=\"fill:#ff0000;stroke:#ff0000;\" x=\"221.540207\" xlink:href=\"#C0_0_310d313a46\" y=\"89.355554\"/>\r\n    </g>\r\n    <g clip-path=\"url(#pce59b472b8)\">\r\n     <use style=\"fill:#ff0000;stroke:#ff0000;\" x=\"337.538221\" xlink:href=\"#C0_0_310d313a46\" y=\"169.030729\"/>\r\n    </g>\r\n    <g clip-path=\"url(#pce59b472b8)\">\r\n     <use style=\"fill:#0000ff;stroke:#0000ff;\" x=\"188.393185\" xlink:href=\"#C0_0_310d313a46\" y=\"368.834546\"/>\r\n    </g>\r\n    <g clip-path=\"url(#pce59b472b8)\">\r\n     <use style=\"fill:#ff0000;stroke:#ff0000;\" x=\"310.771429\" xlink:href=\"#C0_0_310d313a46\" y=\"90.350587\"/>\r\n    </g>\r\n    <g clip-path=\"url(#pce59b472b8)\">\r\n     <use style=\"fill:#0000ff;stroke:#0000ff;\" x=\"183.155731\" xlink:href=\"#C0_0_310d313a46\" y=\"303.64663\"/>\r\n    </g>\r\n    <g clip-path=\"url(#pce59b472b8)\">\r\n     <use style=\"fill:#ff0000;stroke:#ff0000;\" x=\"247.340848\" xlink:href=\"#C0_0_310d313a46\" y=\"53.593267\"/>\r\n    </g>\r\n    <g clip-path=\"url(#pce59b472b8)\">\r\n     <use style=\"fill:#0000ff;stroke:#0000ff;\" x=\"351.126396\" xlink:href=\"#C0_0_310d313a46\" y=\"387.154653\"/>\r\n    </g>\r\n    <g clip-path=\"url(#pce59b472b8)\">\r\n     <use style=\"fill:#0000ff;stroke:#0000ff;\" x=\"263.214613\" xlink:href=\"#C0_0_310d313a46\" y=\"249.396011\"/>\r\n    </g>\r\n    <g clip-path=\"url(#pce59b472b8)\">\r\n     <use style=\"fill:#0000ff;stroke:#0000ff;\" x=\"208.188522\" xlink:href=\"#C0_0_310d313a46\" y=\"218.773056\"/>\r\n    </g>\r\n    <g clip-path=\"url(#pce59b472b8)\">\r\n     <use style=\"fill:#ff0000;stroke:#ff0000;\" x=\"251.719456\" xlink:href=\"#C0_0_310d313a46\" y=\"219.281445\"/>\r\n    </g>\r\n    <g clip-path=\"url(#pce59b472b8)\">\r\n     <use style=\"fill:#ff0000;stroke:#ff0000;\" x=\"276.779798\" xlink:href=\"#C0_0_310d313a46\" y=\"161.25001\"/>\r\n    </g>\r\n    <g clip-path=\"url(#pce59b472b8)\">\r\n     <use style=\"fill:#0000ff;stroke:#0000ff;\" x=\"111.295381\" xlink:href=\"#C0_0_310d313a46\" y=\"252.278736\"/>\r\n    </g>\r\n    <g clip-path=\"url(#pce59b472b8)\">\r\n     <use style=\"fill:#0000ff;stroke:#0000ff;\" x=\"232.296106\" xlink:href=\"#C0_0_310d313a46\" y=\"247.619868\"/>\r\n    </g>\r\n    <g clip-path=\"url(#pce59b472b8)\">\r\n     <use style=\"fill:#0000ff;stroke:#0000ff;\" x=\"171.785296\" xlink:href=\"#C0_0_310d313a46\" y=\"261.208545\"/>\r\n    </g>\r\n    <g clip-path=\"url(#pce59b472b8)\">\r\n     <use style=\"fill:#0000ff;stroke:#0000ff;\" x=\"209.378665\" xlink:href=\"#C0_0_310d313a46\" y=\"282.706213\"/>\r\n    </g>\r\n    <g clip-path=\"url(#pce59b472b8)\">\r\n     <use style=\"fill:#ff0000;stroke:#ff0000;\" x=\"325.167212\" xlink:href=\"#C0_0_310d313a46\" y=\"180.378341\"/>\r\n    </g>\r\n    <g clip-path=\"url(#pce59b472b8)\">\r\n     <use style=\"fill:#ff0000;stroke:#ff0000;\" x=\"274.485493\" xlink:href=\"#C0_0_310d313a46\" y=\"205.800324\"/>\r\n    </g>\r\n    <g clip-path=\"url(#pce59b472b8)\">\r\n     <use style=\"fill:#0000ff;stroke:#0000ff;\" x=\"168.580971\" xlink:href=\"#C0_0_310d313a46\" y=\"422.312727\"/>\r\n    </g>\r\n    <g clip-path=\"url(#pce59b472b8)\">\r\n     <use style=\"fill:#0000ff;stroke:#0000ff;\" x=\"223.434839\" xlink:href=\"#C0_0_310d313a46\" y=\"269.877311\"/>\r\n    </g>\r\n    <g clip-path=\"url(#pce59b472b8)\">\r\n     <use style=\"fill:#ff0000;stroke:#ff0000;\" x=\"323.789898\" xlink:href=\"#C0_0_310d313a46\" y=\"187.095518\"/>\r\n    </g>\r\n    <g clip-path=\"url(#pce59b472b8)\">\r\n     <use style=\"fill:#ff0000;stroke:#ff0000;\" x=\"408.604755\" xlink:href=\"#C0_0_310d313a46\" y=\"298.606634\"/>\r\n    </g>\r\n    <g clip-path=\"url(#pce59b472b8)\">\r\n     <use style=\"fill:#0000ff;stroke:#0000ff;\" x=\"229.216858\" xlink:href=\"#C0_0_310d313a46\" y=\"338.054012\"/>\r\n    </g>\r\n    <g clip-path=\"url(#pce59b472b8)\">\r\n     <use style=\"fill:#ff0000;stroke:#ff0000;\" x=\"282.324856\" xlink:href=\"#C0_0_310d313a46\" y=\"129.468707\"/>\r\n    </g>\r\n    <g clip-path=\"url(#pce59b472b8)\">\r\n     <use style=\"fill:#ff0000;stroke:#ff0000;\" x=\"218.481816\" xlink:href=\"#C0_0_310d313a46\" y=\"186.905707\"/>\r\n    </g>\r\n    <g clip-path=\"url(#pce59b472b8)\">\r\n     <use style=\"fill:#0000ff;stroke:#0000ff;\" x=\"153.472774\" xlink:href=\"#C0_0_310d313a46\" y=\"328.435592\"/>\r\n    </g>\r\n    <g clip-path=\"url(#pce59b472b8)\">\r\n     <use style=\"fill:#ff0000;stroke:#ff0000;\" x=\"287.876259\" xlink:href=\"#C0_0_310d313a46\" y=\"222.051336\"/>\r\n    </g>\r\n    <g clip-path=\"url(#pce59b472b8)\">\r\n     <use style=\"fill:#0000ff;stroke:#0000ff;\" x=\"310.027013\" xlink:href=\"#C0_0_310d313a46\" y=\"241.268643\"/>\r\n    </g>\r\n    <g clip-path=\"url(#pce59b472b8)\">\r\n     <use style=\"fill:#0000ff;stroke:#0000ff;\" x=\"177.599202\" xlink:href=\"#C0_0_310d313a46\" y=\"269.981167\"/>\r\n    </g>\r\n    <g clip-path=\"url(#pce59b472b8)\">\r\n     <use style=\"fill:#ff0000;stroke:#ff0000;\" x=\"389.393374\" xlink:href=\"#C0_0_310d313a46\" y=\"152.007344\"/>\r\n    </g>\r\n    <g clip-path=\"url(#pce59b472b8)\">\r\n     <use style=\"fill:#0000ff;stroke:#0000ff;\" x=\"90.987959\" xlink:href=\"#C0_0_310d313a46\" y=\"242.760709\"/>\r\n    </g>\r\n    <g clip-path=\"url(#pce59b472b8)\">\r\n     <use style=\"fill:#0000ff;stroke:#0000ff;\" x=\"178.011581\" xlink:href=\"#C0_0_310d313a46\" y=\"302.769016\"/>\r\n    </g>\r\n    <g clip-path=\"url(#pce59b472b8)\">\r\n     <use style=\"fill:#0000ff;stroke:#0000ff;\" x=\"181.258045\" xlink:href=\"#C0_0_310d313a46\" y=\"271.111256\"/>\r\n    </g>\r\n    <g clip-path=\"url(#pce59b472b8)\">\r\n     <use style=\"fill:#0000ff;stroke:#0000ff;\" x=\"211.704697\" xlink:href=\"#C0_0_310d313a46\" y=\"268.111658\"/>\r\n    </g>\r\n    <g clip-path=\"url(#pce59b472b8)\">\r\n     <use style=\"fill:#0000ff;stroke:#0000ff;\" x=\"216.805606\" xlink:href=\"#C0_0_310d313a46\" y=\"349.019233\"/>\r\n    </g>\r\n    <g clip-path=\"url(#pce59b472b8)\">\r\n     <use style=\"fill:#ff0000;stroke:#ff0000;\" x=\"278.344539\" xlink:href=\"#C0_0_310d313a46\" y=\"189.172089\"/>\r\n    </g>\r\n    <g clip-path=\"url(#pce59b472b8)\">\r\n     <use style=\"fill:#0000ff;stroke:#0000ff;\" x=\"101.430468\" xlink:href=\"#C0_0_310d313a46\" y=\"227.39247\"/>\r\n    </g>\r\n    <g clip-path=\"url(#pce59b472b8)\">\r\n     <use style=\"fill:#ff0000;stroke:#ff0000;\" x=\"316.353922\" xlink:href=\"#C0_0_310d313a46\" y=\"156.326245\"/>\r\n    </g>\r\n    <g clip-path=\"url(#pce59b472b8)\">\r\n     <use style=\"fill:#0000ff;stroke:#0000ff;\" x=\"229.865704\" xlink:href=\"#C0_0_310d313a46\" y=\"254.347257\"/>\r\n    </g>\r\n    <g clip-path=\"url(#pce59b472b8)\">\r\n     <use style=\"fill:#ff0000;stroke:#ff0000;\" x=\"367.690177\" xlink:href=\"#C0_0_310d313a46\" y=\"131.287808\"/>\r\n    </g>\r\n    <g clip-path=\"url(#pce59b472b8)\">\r\n     <use style=\"fill:#ff0000;stroke:#ff0000;\" x=\"461.413778\" xlink:href=\"#C0_0_310d313a46\" y=\"255.276158\"/>\r\n    </g>\r\n    <g clip-path=\"url(#pce59b472b8)\">\r\n     <use style=\"fill:#ff0000;stroke:#ff0000;\" x=\"220.321847\" xlink:href=\"#C0_0_310d313a46\" y=\"148.791121\"/>\r\n    </g>\r\n    <g clip-path=\"url(#pce59b472b8)\">\r\n     <use style=\"fill:#ff0000;stroke:#ff0000;\" x=\"292.908877\" xlink:href=\"#C0_0_310d313a46\" y=\"225.19451\"/>\r\n    </g>\r\n    <g clip-path=\"url(#pce59b472b8)\">\r\n     <use style=\"fill:#ff0000;stroke:#ff0000;\" x=\"285.650473\" xlink:href=\"#C0_0_310d313a46\" y=\"177.204361\"/>\r\n    </g>\r\n    <g clip-path=\"url(#pce59b472b8)\">\r\n     <use style=\"fill:#0000ff;stroke:#0000ff;\" x=\"239.324636\" xlink:href=\"#C0_0_310d313a46\" y=\"369.596238\"/>\r\n    </g>\r\n    <g clip-path=\"url(#pce59b472b8)\">\r\n     <use style=\"fill:#0000ff;stroke:#0000ff;\" x=\"196.898239\" xlink:href=\"#C0_0_310d313a46\" y=\"222.9629\"/>\r\n    </g>\r\n    <g clip-path=\"url(#pce59b472b8)\">\r\n     <use style=\"fill:#0000ff;stroke:#0000ff;\" x=\"161.955903\" xlink:href=\"#C0_0_310d313a46\" y=\"209.537269\"/>\r\n    </g>\r\n    <g clip-path=\"url(#pce59b472b8)\">\r\n     <use style=\"fill:#ff0000;stroke:#ff0000;\" x=\"310.650089\" xlink:href=\"#C0_0_310d313a46\" y=\"123.798276\"/>\r\n    </g>\r\n    <g clip-path=\"url(#pce59b472b8)\">\r\n     <use style=\"fill:#0000ff;stroke:#0000ff;\" x=\"227.365356\" xlink:href=\"#C0_0_310d313a46\" y=\"274.744673\"/>\r\n    </g>\r\n    <g clip-path=\"url(#pce59b472b8)\">\r\n     <use style=\"fill:#ff0000;stroke:#ff0000;\" x=\"256.622621\" xlink:href=\"#C0_0_310d313a46\" y=\"118.520818\"/>\r\n    </g>\r\n    <g clip-path=\"url(#pce59b472b8)\">\r\n     <use style=\"fill:#0000ff;stroke:#0000ff;\" x=\"284.194698\" xlink:href=\"#C0_0_310d313a46\" y=\"134.902567\"/>\r\n    </g>\r\n    <g clip-path=\"url(#pce59b472b8)\">\r\n     <use style=\"fill:#ff0000;stroke:#ff0000;\" x=\"304.960531\" xlink:href=\"#C0_0_310d313a46\" y=\"126.043521\"/>\r\n    </g>\r\n    <g clip-path=\"url(#pce59b472b8)\">\r\n     <use style=\"fill:#ff0000;stroke:#ff0000;\" x=\"339.320135\" xlink:href=\"#C0_0_310d313a46\" y=\"183.559514\"/>\r\n    </g>\r\n    <g clip-path=\"url(#pce59b472b8)\">\r\n     <use style=\"fill:#ff0000;stroke:#ff0000;\" x=\"315.49709\" xlink:href=\"#C0_0_310d313a46\" y=\"137.32355\"/>\r\n    </g>\r\n    <g clip-path=\"url(#pce59b472b8)\">\r\n     <use style=\"fill:#0000ff;stroke:#0000ff;\" x=\"143.996487\" xlink:href=\"#C0_0_310d313a46\" y=\"204.478384\"/>\r\n    </g>\r\n    <g clip-path=\"url(#pce59b472b8)\">\r\n     <use style=\"fill:#0000ff;stroke:#0000ff;\" x=\"227.947376\" xlink:href=\"#C0_0_310d313a46\" y=\"178.901075\"/>\r\n    </g>\r\n    <g clip-path=\"url(#pce59b472b8)\">\r\n     <use style=\"fill:#0000ff;stroke:#0000ff;\" x=\"189.420839\" xlink:href=\"#C0_0_310d313a46\" y=\"313.949633\"/>\r\n    </g>\r\n    <g clip-path=\"url(#pce59b472b8)\">\r\n     <use style=\"fill:#0000ff;stroke:#0000ff;\" x=\"55.595597\" xlink:href=\"#C0_0_310d313a46\" y=\"182.626741\"/>\r\n    </g>\r\n    <g clip-path=\"url(#pce59b472b8)\">\r\n     <use style=\"fill:#0000ff;stroke:#0000ff;\" x=\"288.406557\" xlink:href=\"#C0_0_310d313a46\" y=\"282.096827\"/>\r\n    </g>\r\n    <g clip-path=\"url(#pce59b472b8)\">\r\n     <use style=\"fill:#ff0000;stroke:#ff0000;\" x=\"246.812394\" xlink:href=\"#C0_0_310d313a46\" y=\"82.294618\"/>\r\n    </g>\r\n    <g clip-path=\"url(#pce59b472b8)\">\r\n     <use style=\"fill:#0000ff;stroke:#0000ff;\" x=\"98.328164\" xlink:href=\"#C0_0_310d313a46\" y=\"242.865938\"/>\r\n    </g>\r\n    <g clip-path=\"url(#pce59b472b8)\">\r\n     <use style=\"fill:#ff0000;stroke:#ff0000;\" x=\"289.292885\" xlink:href=\"#C0_0_310d313a46\" y=\"221.413401\"/>\r\n    </g>\r\n    <g clip-path=\"url(#pce59b472b8)\">\r\n     <use style=\"fill:#ff0000;stroke:#ff0000;\" x=\"332.791853\" xlink:href=\"#C0_0_310d313a46\" y=\"159.046858\"/>\r\n    </g>\r\n    <g clip-path=\"url(#pce59b472b8)\">\r\n     <use style=\"fill:#0000ff;stroke:#0000ff;\" x=\"220.670339\" xlink:href=\"#C0_0_310d313a46\" y=\"224.582248\"/>\r\n    </g>\r\n    <g clip-path=\"url(#pce59b472b8)\">\r\n     <use style=\"fill:#0000ff;stroke:#0000ff;\" x=\"245.274159\" xlink:href=\"#C0_0_310d313a46\" y=\"325.606748\"/>\r\n    </g>\r\n    <g clip-path=\"url(#pce59b472b8)\">\r\n     <use style=\"fill:#0000ff;stroke:#0000ff;\" x=\"235.18363\" xlink:href=\"#C0_0_310d313a46\" y=\"235.897061\"/>\r\n    </g>\r\n    <g clip-path=\"url(#pce59b472b8)\">\r\n     <use style=\"fill:#ff0000;stroke:#ff0000;\" x=\"363.120198\" xlink:href=\"#C0_0_310d313a46\" y=\"103.303276\"/>\r\n    </g>\r\n    <g clip-path=\"url(#pce59b472b8)\">\r\n     <use style=\"fill:#ff0000;stroke:#ff0000;\" x=\"423.035314\" xlink:href=\"#C0_0_310d313a46\" y=\"115.647191\"/>\r\n    </g>\r\n    <g clip-path=\"url(#pce59b472b8)\">\r\n     <use style=\"fill:#ff0000;stroke:#ff0000;\" x=\"324.918728\" xlink:href=\"#C0_0_310d313a46\" y=\"296.129499\"/>\r\n    </g>\r\n    <g clip-path=\"url(#pce59b472b8)\">\r\n     <use style=\"fill:#0000ff;stroke:#0000ff;\" x=\"254.6415\" xlink:href=\"#C0_0_310d313a46\" y=\"214.342345\"/>\r\n    </g>\r\n    <g clip-path=\"url(#pce59b472b8)\">\r\n     <use style=\"fill:#0000ff;stroke:#0000ff;\" x=\"194.405326\" xlink:href=\"#C0_0_310d313a46\" y=\"278.114449\"/>\r\n    </g>\r\n    <g clip-path=\"url(#pce59b472b8)\">\r\n     <use style=\"fill:#ff0000;stroke:#ff0000;\" x=\"263.325623\" xlink:href=\"#C0_0_310d313a46\" y=\"234.15248\"/>\r\n    </g>\r\n    <g clip-path=\"url(#pce59b472b8)\">\r\n     <use style=\"fill:#ff0000;stroke:#ff0000;\" x=\"269.241317\" xlink:href=\"#C0_0_310d313a46\" y=\"84.146321\"/>\r\n    </g>\r\n    <g clip-path=\"url(#pce59b472b8)\">\r\n     <use style=\"fill:#ff0000;stroke:#ff0000;\" x=\"384.481695\" xlink:href=\"#C0_0_310d313a46\" y=\"64.865083\"/>\r\n    </g>\r\n    <g clip-path=\"url(#pce59b472b8)\">\r\n     <use style=\"fill:#0000ff;stroke:#0000ff;\" x=\"103.677971\" xlink:href=\"#C0_0_310d313a46\" y=\"206.968712\"/>\r\n    </g>\r\n    <g clip-path=\"url(#pce59b472b8)\">\r\n     <use style=\"fill:#ff0000;stroke:#ff0000;\" x=\"313.560965\" xlink:href=\"#C0_0_310d313a46\" y=\"106.889956\"/>\r\n    </g>\r\n    <g clip-path=\"url(#pce59b472b8)\">\r\n     <use style=\"fill:#0000ff;stroke:#0000ff;\" x=\"330.247023\" xlink:href=\"#C0_0_310d313a46\" y=\"190.795213\"/>\r\n    </g>\r\n    <g clip-path=\"url(#pce59b472b8)\">\r\n     <use style=\"fill:#ff0000;stroke:#ff0000;\" x=\"251.391854\" xlink:href=\"#C0_0_310d313a46\" y=\"190.00124\"/>\r\n    </g>\r\n    <g clip-path=\"url(#pce59b472b8)\">\r\n     <use style=\"fill:#ff0000;stroke:#ff0000;\" x=\"384.637907\" xlink:href=\"#C0_0_310d313a46\" y=\"235.910305\"/>\r\n    </g>\r\n    <g clip-path=\"url(#pce59b472b8)\">\r\n     <use style=\"fill:#ff0000;stroke:#ff0000;\" x=\"315.814914\" xlink:href=\"#C0_0_310d313a46\" y=\"26.967273\"/>\r\n    </g>\r\n    <g clip-path=\"url(#pce59b472b8)\">\r\n     <use style=\"fill:#ff0000;stroke:#ff0000;\" x=\"367.636543\" xlink:href=\"#C0_0_310d313a46\" y=\"208.738285\"/>\r\n    </g>\r\n    <g clip-path=\"url(#pce59b472b8)\">\r\n     <use style=\"fill:#ff0000;stroke:#ff0000;\" x=\"279.52801\" xlink:href=\"#C0_0_310d313a46\" y=\"110.036642\"/>\r\n    </g>\r\n    <g clip-path=\"url(#pce59b472b8)\">\r\n     <use style=\"fill:#ff0000;stroke:#ff0000;\" x=\"252.882005\" xlink:href=\"#C0_0_310d313a46\" y=\"164.923416\"/>\r\n    </g>\r\n    <g clip-path=\"url(#pce59b472b8)\">\r\n     <use style=\"fill:#0000ff;stroke:#0000ff;\" x=\"275.915874\" xlink:href=\"#C0_0_310d313a46\" y=\"239.213193\"/>\r\n    </g>\r\n    <g clip-path=\"url(#pce59b472b8)\">\r\n     <use style=\"fill:#ff0000;stroke:#ff0000;\" x=\"305.587845\" xlink:href=\"#C0_0_310d313a46\" y=\"205.687058\"/>\r\n    </g>\r\n    <g clip-path=\"url(#pce59b472b8)\">\r\n     <use style=\"fill:#ff0000;stroke:#ff0000;\" x=\"286.631072\" xlink:href=\"#C0_0_310d313a46\" y=\"125.794892\"/>\r\n    </g>\r\n    <g clip-path=\"url(#pce59b472b8)\">\r\n     <use style=\"fill:#ff0000;stroke:#ff0000;\" x=\"252.924622\" xlink:href=\"#C0_0_310d313a46\" y=\"139.444738\"/>\r\n    </g>\r\n    <g clip-path=\"url(#pce59b472b8)\">\r\n     <use style=\"fill:#0000ff;stroke:#0000ff;\" x=\"273.074871\" xlink:href=\"#C0_0_310d313a46\" y=\"236.640189\"/>\r\n    </g>\r\n    <g clip-path=\"url(#pce59b472b8)\">\r\n     <use style=\"fill:#0000ff;stroke:#0000ff;\" x=\"267.046043\" xlink:href=\"#C0_0_310d313a46\" y=\"120.546363\"/>\r\n    </g>\r\n    <g clip-path=\"url(#pce59b472b8)\">\r\n     <use style=\"fill:#0000ff;stroke:#0000ff;\" x=\"192.488526\" xlink:href=\"#C0_0_310d313a46\" y=\"336.596527\"/>\r\n    </g>\r\n    <g clip-path=\"url(#pce59b472b8)\">\r\n     <use style=\"fill:#ff0000;stroke:#ff0000;\" x=\"322.725422\" xlink:href=\"#C0_0_310d313a46\" y=\"106.304142\"/>\r\n    </g>\r\n    <g clip-path=\"url(#pce59b472b8)\">\r\n     <use style=\"fill:#0000ff;stroke:#0000ff;\" x=\"250.412611\" xlink:href=\"#C0_0_310d313a46\" y=\"195.144594\"/>\r\n    </g>\r\n    <g clip-path=\"url(#pce59b472b8)\">\r\n     <use style=\"fill:#ff0000;stroke:#ff0000;\" x=\"429.240532\" xlink:href=\"#C0_0_310d313a46\" y=\"213.797024\"/>\r\n    </g>\r\n   </g>\r\n   <g id=\"matplotlib.axis_1\">\r\n    <g id=\"xtick_1\">\r\n     <g id=\"line2d_1\">\r\n      <defs>\r\n       <path d=\"M 0 0 \r\nL 0 3.5 \r\n\" id=\"ma25edfb27e\" style=\"stroke:#000000;stroke-width:0.8;\"/>\r\n      </defs>\r\n      <g>\r\n       <use style=\"stroke:#000000;stroke-width:0.8;\" x=\"58.470415\" xlink:href=\"#ma25edfb27e\" y=\"442.08\"/>\r\n      </g>\r\n     </g>\r\n     <g id=\"text_1\">\r\n      <!-- −20 -->\r\n      <g transform=\"translate(47.918072 456.678438)scale(0.1 -0.1)\">\r\n       <defs>\r\n        <path d=\"M 10.59375 35.5 \r\nL 73.1875 35.5 \r\nL 73.1875 27.203125 \r\nL 10.59375 27.203125 \r\nz\r\n\" id=\"DejaVuSans-8722\"/>\r\n        <path d=\"M 19.1875 8.296875 \r\nL 53.609375 8.296875 \r\nL 53.609375 0 \r\nL 7.328125 0 \r\nL 7.328125 8.296875 \r\nQ 12.9375 14.109375 22.625 23.890625 \r\nQ 32.328125 33.6875 34.8125 36.53125 \r\nQ 39.546875 41.84375 41.421875 45.53125 \r\nQ 43.3125 49.21875 43.3125 52.78125 \r\nQ 43.3125 58.59375 39.234375 62.25 \r\nQ 35.15625 65.921875 28.609375 65.921875 \r\nQ 23.96875 65.921875 18.8125 64.3125 \r\nQ 13.671875 62.703125 7.8125 59.421875 \r\nL 7.8125 69.390625 \r\nQ 13.765625 71.78125 18.9375 73 \r\nQ 24.125 74.21875 28.421875 74.21875 \r\nQ 39.75 74.21875 46.484375 68.546875 \r\nQ 53.21875 62.890625 53.21875 53.421875 \r\nQ 53.21875 48.921875 51.53125 44.890625 \r\nQ 49.859375 40.875 45.40625 35.40625 \r\nQ 44.1875 33.984375 37.640625 27.21875 \r\nQ 31.109375 20.453125 19.1875 8.296875 \r\nz\r\n\" id=\"DejaVuSans-50\"/>\r\n        <path d=\"M 31.78125 66.40625 \r\nQ 24.171875 66.40625 20.328125 58.90625 \r\nQ 16.5 51.421875 16.5 36.375 \r\nQ 16.5 21.390625 20.328125 13.890625 \r\nQ 24.171875 6.390625 31.78125 6.390625 \r\nQ 39.453125 6.390625 43.28125 13.890625 \r\nQ 47.125 21.390625 47.125 36.375 \r\nQ 47.125 51.421875 43.28125 58.90625 \r\nQ 39.453125 66.40625 31.78125 66.40625 \r\nz\r\nM 31.78125 74.21875 \r\nQ 44.046875 74.21875 50.515625 64.515625 \r\nQ 56.984375 54.828125 56.984375 36.375 \r\nQ 56.984375 17.96875 50.515625 8.265625 \r\nQ 44.046875 -1.421875 31.78125 -1.421875 \r\nQ 19.53125 -1.421875 13.0625 8.265625 \r\nQ 6.59375 17.96875 6.59375 36.375 \r\nQ 6.59375 54.828125 13.0625 64.515625 \r\nQ 19.53125 74.21875 31.78125 74.21875 \r\nz\r\n\" id=\"DejaVuSans-48\"/>\r\n       </defs>\r\n       <use xlink:href=\"#DejaVuSans-8722\"/>\r\n       <use x=\"83.789062\" xlink:href=\"#DejaVuSans-50\"/>\r\n       <use x=\"147.412109\" xlink:href=\"#DejaVuSans-48\"/>\r\n      </g>\r\n     </g>\r\n    </g>\r\n    <g id=\"xtick_2\">\r\n     <g id=\"line2d_2\">\r\n      <g>\r\n       <use style=\"stroke:#000000;stroke-width:0.8;\" x=\"124.828897\" xlink:href=\"#ma25edfb27e\" y=\"442.08\"/>\r\n      </g>\r\n     </g>\r\n     <g id=\"text_2\">\r\n      <!-- −15 -->\r\n      <g transform=\"translate(114.276553 456.678438)scale(0.1 -0.1)\">\r\n       <defs>\r\n        <path d=\"M 12.40625 8.296875 \r\nL 28.515625 8.296875 \r\nL 28.515625 63.921875 \r\nL 10.984375 60.40625 \r\nL 10.984375 69.390625 \r\nL 28.421875 72.90625 \r\nL 38.28125 72.90625 \r\nL 38.28125 8.296875 \r\nL 54.390625 8.296875 \r\nL 54.390625 0 \r\nL 12.40625 0 \r\nz\r\n\" id=\"DejaVuSans-49\"/>\r\n        <path d=\"M 10.796875 72.90625 \r\nL 49.515625 72.90625 \r\nL 49.515625 64.59375 \r\nL 19.828125 64.59375 \r\nL 19.828125 46.734375 \r\nQ 21.96875 47.46875 24.109375 47.828125 \r\nQ 26.265625 48.1875 28.421875 48.1875 \r\nQ 40.625 48.1875 47.75 41.5 \r\nQ 54.890625 34.8125 54.890625 23.390625 \r\nQ 54.890625 11.625 47.5625 5.09375 \r\nQ 40.234375 -1.421875 26.90625 -1.421875 \r\nQ 22.3125 -1.421875 17.546875 -0.640625 \r\nQ 12.796875 0.140625 7.71875 1.703125 \r\nL 7.71875 11.625 \r\nQ 12.109375 9.234375 16.796875 8.0625 \r\nQ 21.484375 6.890625 26.703125 6.890625 \r\nQ 35.15625 6.890625 40.078125 11.328125 \r\nQ 45.015625 15.765625 45.015625 23.390625 \r\nQ 45.015625 31 40.078125 35.4375 \r\nQ 35.15625 39.890625 26.703125 39.890625 \r\nQ 22.75 39.890625 18.8125 39.015625 \r\nQ 14.890625 38.140625 10.796875 36.28125 \r\nz\r\n\" id=\"DejaVuSans-53\"/>\r\n       </defs>\r\n       <use xlink:href=\"#DejaVuSans-8722\"/>\r\n       <use x=\"83.789062\" xlink:href=\"#DejaVuSans-49\"/>\r\n       <use x=\"147.412109\" xlink:href=\"#DejaVuSans-53\"/>\r\n      </g>\r\n     </g>\r\n    </g>\r\n    <g id=\"xtick_3\">\r\n     <g id=\"line2d_3\">\r\n      <g>\r\n       <use style=\"stroke:#000000;stroke-width:0.8;\" x=\"191.187378\" xlink:href=\"#ma25edfb27e\" y=\"442.08\"/>\r\n      </g>\r\n     </g>\r\n     <g id=\"text_3\">\r\n      <!-- −10 -->\r\n      <g transform=\"translate(180.635035 456.678438)scale(0.1 -0.1)\">\r\n       <use xlink:href=\"#DejaVuSans-8722\"/>\r\n       <use x=\"83.789062\" xlink:href=\"#DejaVuSans-49\"/>\r\n       <use x=\"147.412109\" xlink:href=\"#DejaVuSans-48\"/>\r\n      </g>\r\n     </g>\r\n    </g>\r\n    <g id=\"xtick_4\">\r\n     <g id=\"line2d_4\">\r\n      <g>\r\n       <use style=\"stroke:#000000;stroke-width:0.8;\" x=\"257.54586\" xlink:href=\"#ma25edfb27e\" y=\"442.08\"/>\r\n      </g>\r\n     </g>\r\n     <g id=\"text_4\">\r\n      <!-- −5 -->\r\n      <g transform=\"translate(250.174766 456.678438)scale(0.1 -0.1)\">\r\n       <use xlink:href=\"#DejaVuSans-8722\"/>\r\n       <use x=\"83.789062\" xlink:href=\"#DejaVuSans-53\"/>\r\n      </g>\r\n     </g>\r\n    </g>\r\n    <g id=\"xtick_5\">\r\n     <g id=\"line2d_5\">\r\n      <g>\r\n       <use style=\"stroke:#000000;stroke-width:0.8;\" x=\"323.904342\" xlink:href=\"#ma25edfb27e\" y=\"442.08\"/>\r\n      </g>\r\n     </g>\r\n     <g id=\"text_5\">\r\n      <!-- 0 -->\r\n      <g transform=\"translate(320.723092 456.678438)scale(0.1 -0.1)\">\r\n       <use xlink:href=\"#DejaVuSans-48\"/>\r\n      </g>\r\n     </g>\r\n    </g>\r\n    <g id=\"xtick_6\">\r\n     <g id=\"line2d_6\">\r\n      <g>\r\n       <use style=\"stroke:#000000;stroke-width:0.8;\" x=\"390.262823\" xlink:href=\"#ma25edfb27e\" y=\"442.08\"/>\r\n      </g>\r\n     </g>\r\n     <g id=\"text_6\">\r\n      <!-- 5 -->\r\n      <g transform=\"translate(387.081573 456.678438)scale(0.1 -0.1)\">\r\n       <use xlink:href=\"#DejaVuSans-53\"/>\r\n      </g>\r\n     </g>\r\n    </g>\r\n    <g id=\"xtick_7\">\r\n     <g id=\"line2d_7\">\r\n      <g>\r\n       <use style=\"stroke:#000000;stroke-width:0.8;\" x=\"456.621305\" xlink:href=\"#ma25edfb27e\" y=\"442.08\"/>\r\n      </g>\r\n     </g>\r\n     <g id=\"text_7\">\r\n      <!-- 10 -->\r\n      <g transform=\"translate(450.258805 456.678438)scale(0.1 -0.1)\">\r\n       <use xlink:href=\"#DejaVuSans-49\"/>\r\n       <use x=\"63.623047\" xlink:href=\"#DejaVuSans-48\"/>\r\n      </g>\r\n     </g>\r\n    </g>\r\n   </g>\r\n   <g id=\"matplotlib.axis_2\">\r\n    <g id=\"ytick_1\">\r\n     <g id=\"line2d_8\">\r\n      <defs>\r\n       <path d=\"M 0 0 \r\nL -3.5 0 \r\n\" id=\"m66faa8bb6d\" style=\"stroke:#000000;stroke-width:0.8;\"/>\r\n      </defs>\r\n      <g>\r\n       <use style=\"stroke:#000000;stroke-width:0.8;\" x=\"35.304688\" xlink:href=\"#m66faa8bb6d\" y=\"394.475236\"/>\r\n      </g>\r\n     </g>\r\n     <g id=\"text_8\">\r\n      <!-- −15 -->\r\n      <g transform=\"translate(7.2 398.274454)scale(0.1 -0.1)\">\r\n       <use xlink:href=\"#DejaVuSans-8722\"/>\r\n       <use x=\"83.789062\" xlink:href=\"#DejaVuSans-49\"/>\r\n       <use x=\"147.412109\" xlink:href=\"#DejaVuSans-53\"/>\r\n      </g>\r\n     </g>\r\n    </g>\r\n    <g id=\"ytick_2\">\r\n     <g id=\"line2d_9\">\r\n      <g>\r\n       <use style=\"stroke:#000000;stroke-width:0.8;\" x=\"35.304688\" xlink:href=\"#m66faa8bb6d\" y=\"335.119135\"/>\r\n      </g>\r\n     </g>\r\n     <g id=\"text_9\">\r\n      <!-- −10 -->\r\n      <g transform=\"translate(7.2 338.918354)scale(0.1 -0.1)\">\r\n       <use xlink:href=\"#DejaVuSans-8722\"/>\r\n       <use x=\"83.789062\" xlink:href=\"#DejaVuSans-49\"/>\r\n       <use x=\"147.412109\" xlink:href=\"#DejaVuSans-48\"/>\r\n      </g>\r\n     </g>\r\n    </g>\r\n    <g id=\"ytick_3\">\r\n     <g id=\"line2d_10\">\r\n      <g>\r\n       <use style=\"stroke:#000000;stroke-width:0.8;\" x=\"35.304688\" xlink:href=\"#m66faa8bb6d\" y=\"275.763035\"/>\r\n      </g>\r\n     </g>\r\n     <g id=\"text_10\">\r\n      <!-- −5 -->\r\n      <g transform=\"translate(13.5625 279.562253)scale(0.1 -0.1)\">\r\n       <use xlink:href=\"#DejaVuSans-8722\"/>\r\n       <use x=\"83.789062\" xlink:href=\"#DejaVuSans-53\"/>\r\n      </g>\r\n     </g>\r\n    </g>\r\n    <g id=\"ytick_4\">\r\n     <g id=\"line2d_11\">\r\n      <g>\r\n       <use style=\"stroke:#000000;stroke-width:0.8;\" x=\"35.304688\" xlink:href=\"#m66faa8bb6d\" y=\"216.406934\"/>\r\n      </g>\r\n     </g>\r\n     <g id=\"text_11\">\r\n      <!-- 0 -->\r\n      <g transform=\"translate(21.942187 220.206153)scale(0.1 -0.1)\">\r\n       <use xlink:href=\"#DejaVuSans-48\"/>\r\n      </g>\r\n     </g>\r\n    </g>\r\n    <g id=\"ytick_5\">\r\n     <g id=\"line2d_12\">\r\n      <g>\r\n       <use style=\"stroke:#000000;stroke-width:0.8;\" x=\"35.304688\" xlink:href=\"#m66faa8bb6d\" y=\"157.050834\"/>\r\n      </g>\r\n     </g>\r\n     <g id=\"text_12\">\r\n      <!-- 5 -->\r\n      <g transform=\"translate(21.942187 160.850052)scale(0.1 -0.1)\">\r\n       <use xlink:href=\"#DejaVuSans-53\"/>\r\n      </g>\r\n     </g>\r\n    </g>\r\n    <g id=\"ytick_6\">\r\n     <g id=\"line2d_13\">\r\n      <g>\r\n       <use style=\"stroke:#000000;stroke-width:0.8;\" x=\"35.304688\" xlink:href=\"#m66faa8bb6d\" y=\"97.694733\"/>\r\n      </g>\r\n     </g>\r\n     <g id=\"text_13\">\r\n      <!-- 10 -->\r\n      <g transform=\"translate(15.579687 101.493952)scale(0.1 -0.1)\">\r\n       <use xlink:href=\"#DejaVuSans-49\"/>\r\n       <use x=\"63.623047\" xlink:href=\"#DejaVuSans-48\"/>\r\n      </g>\r\n     </g>\r\n    </g>\r\n    <g id=\"ytick_7\">\r\n     <g id=\"line2d_14\">\r\n      <g>\r\n       <use style=\"stroke:#000000;stroke-width:0.8;\" x=\"35.304688\" xlink:href=\"#m66faa8bb6d\" y=\"38.338633\"/>\r\n      </g>\r\n     </g>\r\n     <g id=\"text_14\">\r\n      <!-- 15 -->\r\n      <g transform=\"translate(15.579687 42.137852)scale(0.1 -0.1)\">\r\n       <use xlink:href=\"#DejaVuSans-49\"/>\r\n       <use x=\"63.623047\" xlink:href=\"#DejaVuSans-53\"/>\r\n      </g>\r\n     </g>\r\n    </g>\r\n   </g>\r\n   <g id=\"patch_3\">\r\n    <path d=\"M 35.304688 442.08 \r\nL 35.304688 7.2 \r\n\" style=\"fill:none;stroke:#000000;stroke-linecap:square;stroke-linejoin:miter;stroke-width:0.8;\"/>\r\n   </g>\r\n   <g id=\"patch_4\">\r\n    <path d=\"M 481.704687 442.08 \r\nL 481.704687 7.2 \r\n\" style=\"fill:none;stroke:#000000;stroke-linecap:square;stroke-linejoin:miter;stroke-width:0.8;\"/>\r\n   </g>\r\n   <g id=\"patch_5\">\r\n    <path d=\"M 35.304688 442.08 \r\nL 481.704687 442.08 \r\n\" style=\"fill:none;stroke:#000000;stroke-linecap:square;stroke-linejoin:miter;stroke-width:0.8;\"/>\r\n   </g>\r\n   <g id=\"patch_6\">\r\n    <path d=\"M 35.304688 7.2 \r\nL 481.704687 7.2 \r\n\" style=\"fill:none;stroke:#000000;stroke-linecap:square;stroke-linejoin:miter;stroke-width:0.8;\"/>\r\n   </g>\r\n  </g>\r\n </g>\r\n <defs>\r\n  <clipPath id=\"pce59b472b8\">\r\n   <rect height=\"434.88\" width=\"446.4\" x=\"35.304688\" y=\"7.2\"/>\r\n  </clipPath>\r\n </defs>\r\n</svg>\r\n",
      "image/png": "[encoded data removed]"
     },
     "metadata": {
      "needs_background": "light"
     }
    }
   ],
   "source": [
    "colors = ListedColormap(['red', 'blue'])\n",
    "\n",
    "pylab.figure(figsize(8, 8))\n",
    "pylab.scatter([x[0] for x in blobs[0]], [x[1] for x in blobs[0]], c=blobs[1], cmap=colors)"
   ]
  },
  {
   "cell_type": "code",
   "execution_count": 6,
   "metadata": {},
   "outputs": [],
   "source": [
    "train_data, test_data, train_labels, test_labels = model_selection.train_test_split(blobs[0], blobs[1], \n",
    "                                                                                    test_size = 0.3,\n",
    "                                                                                    random_state = 1)"
   ]
  },
  {
   "cell_type": "markdown",
   "metadata": {},
   "source": [
    "### Линейная классификация"
   ]
  },
  {
   "cell_type": "markdown",
   "metadata": {},
   "source": [
    "#### RidgeClassifier"
   ]
  },
  {
   "cell_type": "code",
   "execution_count": 7,
   "metadata": {},
   "outputs": [],
   "source": [
    "#создание объекта - классификатора\n",
    "ridge_classifier = linear_model.RidgeClassifier(random_state = 1)"
   ]
  },
  {
   "cell_type": "code",
   "execution_count": 8,
   "metadata": {},
   "outputs": [
    {
     "output_type": "execute_result",
     "data": {
      "text/plain": [
       "RidgeClassifier(random_state=1)"
      ]
     },
     "metadata": {},
     "execution_count": 8
    }
   ],
   "source": [
    "#обучение классификатора\n",
    "ridge_classifier.fit(train_data, train_labels)"
   ]
  },
  {
   "cell_type": "code",
   "execution_count": 9,
   "metadata": {},
   "outputs": [],
   "source": [
    "#применение обученного классификатора\n",
    "ridge_predictions = ridge_classifier.predict(test_data)"
   ]
  },
  {
   "cell_type": "code",
   "execution_count": 10,
   "metadata": {},
   "outputs": [
    {
     "output_type": "stream",
     "name": "stdout",
     "text": [
      "[0 0 0 1 0 0 0 0 0 1 0 1 0 1 1 1 0 0 0 1 0 0 0 1 1 1 1 0 0 1]\n"
     ]
    }
   ],
   "source": [
    "print(test_labels)"
   ]
  },
  {
   "cell_type": "code",
   "execution_count": 11,
   "metadata": {},
   "outputs": [
    {
     "output_type": "stream",
     "name": "stdout",
     "text": [
      "[0 0 0 1 0 1 0 0 0 1 0 1 0 1 1 1 1 0 1 1 1 0 0 1 1 1 1 0 0 1]\n"
     ]
    }
   ],
   "source": [
    "print(ridge_predictions)"
   ]
  },
  {
   "cell_type": "code",
   "execution_count": 12,
   "metadata": {},
   "outputs": [
    {
     "output_type": "execute_result",
     "data": {
      "text/plain": [
       "0.8666666666666667"
      ]
     },
     "metadata": {},
     "execution_count": 12
    }
   ],
   "source": [
    "#оценка качества классификации\n",
    "metrics.accuracy_score(test_labels, ridge_predictions)"
   ]
  },
  {
   "cell_type": "code",
   "execution_count": 13,
   "metadata": {},
   "outputs": [
    {
     "output_type": "execute_result",
     "data": {
      "text/plain": [
       "array([[-0.0854443 , -0.07273219]])"
      ]
     },
     "metadata": {},
     "execution_count": 13
    }
   ],
   "source": [
    "ridge_classifier.coef_"
   ]
  },
  {
   "cell_type": "code",
   "execution_count": 14,
   "metadata": {},
   "outputs": [
    {
     "output_type": "execute_result",
     "data": {
      "text/plain": [
       "array([-0.31250723])"
      ]
     },
     "metadata": {},
     "execution_count": 14
    }
   ],
   "source": [
    "ridge_classifier.intercept_ "
   ]
  },
  {
   "cell_type": "markdown",
   "metadata": {},
   "source": [
    "#### LogisticRegression"
   ]
  },
  {
   "cell_type": "code",
   "execution_count": 15,
   "metadata": {},
   "outputs": [],
   "source": [
    "log_regressor = linear_model.LogisticRegression(random_state = 1)"
   ]
  },
  {
   "cell_type": "code",
   "execution_count": 16,
   "metadata": {},
   "outputs": [
    {
     "output_type": "execute_result",
     "data": {
      "text/plain": [
       "LogisticRegression(random_state=1)"
      ]
     },
     "metadata": {},
     "execution_count": 16
    }
   ],
   "source": [
    "log_regressor.fit(train_data, train_labels)"
   ]
  },
  {
   "cell_type": "code",
   "execution_count": 17,
   "metadata": {},
   "outputs": [],
   "source": [
    "lr_predictions = log_regressor.predict(test_data)"
   ]
  },
  {
   "cell_type": "code",
   "execution_count": 18,
   "metadata": {},
   "outputs": [],
   "source": [
    "lr_proba_predictions = log_regressor.predict_proba(test_data)"
   ]
  },
  {
   "cell_type": "code",
   "execution_count": 19,
   "metadata": {},
   "outputs": [
    {
     "output_type": "stream",
     "name": "stdout",
     "text": [
      "[0 0 0 1 0 0 0 0 0 1 0 1 0 1 1 1 0 0 0 1 0 0 0 1 1 1 1 0 0 1]\n"
     ]
    }
   ],
   "source": [
    "print(test_labels)"
   ]
  },
  {
   "cell_type": "code",
   "execution_count": 20,
   "metadata": {},
   "outputs": [
    {
     "output_type": "stream",
     "name": "stdout",
     "text": [
      "[0 1 1 1 0 1 0 0 0 1 0 1 0 1 1 1 1 0 1 1 1 0 0 1 1 1 1 0 0 1]\n"
     ]
    }
   ],
   "source": [
    "print(lr_predictions)"
   ]
  },
  {
   "cell_type": "code",
   "execution_count": 21,
   "metadata": {},
   "outputs": [
    {
     "output_type": "stream",
     "name": "stdout",
     "text": [
      "[[9.99254667e-01 7.45333217e-04]\n [4.08279523e-01 5.91720477e-01]\n [4.90541791e-01 5.09458209e-01]\n [3.78296027e-03 9.96217040e-01]\n [7.32221196e-01 2.67778804e-01]\n [2.44262899e-01 7.55737101e-01]\n [9.93761113e-01 6.23888724e-03]\n [9.78405579e-01 2.15944205e-02]\n [9.55344987e-01 4.46550128e-02]\n [1.68318566e-01 8.31681434e-01]\n [9.20548027e-01 7.94519726e-02]\n [8.49635842e-03 9.91503642e-01]\n [8.42172474e-01 1.57827526e-01]\n [4.78103481e-02 9.52189652e-01]\n [4.16878377e-03 9.95831216e-01]\n [7.76668489e-04 9.99223332e-01]\n [2.05937909e-01 7.94062091e-01]\n [9.31195721e-01 6.88042793e-02]\n [2.41180236e-01 7.58819764e-01]\n [8.27655095e-04 9.99172345e-01]\n [8.91142562e-02 9.10885744e-01]\n [9.95944524e-01 4.05547579e-03]\n [9.84077857e-01 1.59221428e-02]\n [3.02681109e-01 6.97318891e-01]\n [1.47440544e-03 9.98525595e-01]\n [7.78506108e-03 9.92214939e-01]\n [2.89544877e-01 7.10455123e-01]\n [8.84591004e-01 1.15408996e-01]\n [9.92724199e-01 7.27580141e-03]\n [3.34985738e-03 9.96650143e-01]]\n"
     ]
    }
   ],
   "source": [
    "print(lr_proba_predictions)"
   ]
  },
  {
   "cell_type": "code",
   "execution_count": 22,
   "metadata": {},
   "outputs": [
    {
     "output_type": "stream",
     "name": "stdout",
     "text": [
      "0.8\n"
     ]
    }
   ],
   "source": [
    "print(metrics.accuracy_score(test_labels, lr_predictions))"
   ]
  },
  {
   "cell_type": "code",
   "execution_count": 23,
   "metadata": {},
   "outputs": [
    {
     "output_type": "stream",
     "name": "stdout",
     "text": [
      "0.8666666666666667\n"
     ]
    }
   ],
   "source": [
    "print(metrics.accuracy_score(test_labels, ridge_predictions))"
   ]
  },
  {
   "cell_type": "markdown",
   "metadata": {},
   "source": [
    "### Оценка качества по cross-validation"
   ]
  },
  {
   "cell_type": "markdown",
   "metadata": {},
   "source": [
    "#### cross_val_score"
   ]
  },
  {
   "cell_type": "code",
   "execution_count": 24,
   "metadata": {},
   "outputs": [],
   "source": [
    "ridge_scoring = model_selection.cross_val_score(ridge_classifier, blobs[0], blobs[1], scoring = 'accuracy', cv = 10)"
   ]
  },
  {
   "cell_type": "code",
   "execution_count": 25,
   "metadata": {},
   "outputs": [],
   "source": [
    "lr_scoring = model_selection.cross_val_score(log_regressor, blobs[0], blobs[1], scoring = 'accuracy', cv = 10)"
   ]
  },
  {
   "cell_type": "code",
   "execution_count": 26,
   "metadata": {},
   "outputs": [
    {
     "output_type": "execute_result",
     "data": {
      "text/plain": [
       "array([0.8, 0.9, 0.9, 0.9, 1. , 1. , 0.7, 0.9, 0.9, 0.8])"
      ]
     },
     "metadata": {},
     "execution_count": 26
    }
   ],
   "source": [
    "lr_scoring"
   ]
  },
  {
   "cell_type": "code",
   "execution_count": 27,
   "metadata": {},
   "outputs": [
    {
     "output_type": "stream",
     "name": "stdout",
     "text": [
      "Ridge mean:0.8800000000000001, max:1.0, min:0.7, std:0.08717797887081348\n"
     ]
    }
   ],
   "source": [
    "print('Ridge mean:{}, max:{}, min:{}, std:{}'.format(ridge_scoring.mean(), ridge_scoring.max(), \n",
    "                                                     ridge_scoring.min(), ridge_scoring.std()))"
   ]
  },
  {
   "cell_type": "code",
   "execution_count": 28,
   "metadata": {},
   "outputs": [
    {
     "output_type": "stream",
     "name": "stdout",
     "text": [
      "Log mean:0.8800000000000001, max:1.0, min:0.7, std:0.08717797887081348\n"
     ]
    }
   ],
   "source": [
    "print('Log mean:{}, max:{}, min:{}, std:{}'.format(lr_scoring.mean(), lr_scoring.max(), \n",
    "                                                   lr_scoring.min(), lr_scoring.std()))"
   ]
  },
  {
   "cell_type": "markdown",
   "metadata": {},
   "source": [
    "#### cross_val_score с заданными scorer и cv_strategy"
   ]
  },
  {
   "cell_type": "code",
   "execution_count": 29,
   "metadata": {},
   "outputs": [],
   "source": [
    "scorer = metrics.make_scorer(metrics.accuracy_score)"
   ]
  },
  {
   "cell_type": "code",
   "execution_count": 30,
   "metadata": {},
   "outputs": [
    {
     "output_type": "execute_result",
     "data": {
      "text/plain": [
       "20"
      ]
     },
     "metadata": {},
     "execution_count": 30
    }
   ],
   "source": [
    "cv_strategy = model_selection.StratifiedShuffleSplit(n_splits=20, test_size = 0.3, random_state = 2)\n",
    "cv_strategy.get_n_splits(blobs[1])"
   ]
  },
  {
   "cell_type": "code",
   "execution_count": 31,
   "metadata": {},
   "outputs": [],
   "source": [
    "ridge_scoring = model_selection.cross_val_score(ridge_classifier, blobs[0], blobs[1], scoring = scorer, cv = cv_strategy)"
   ]
  },
  {
   "cell_type": "code",
   "execution_count": 32,
   "metadata": {},
   "outputs": [],
   "source": [
    "lr_scoring = model_selection.cross_val_score(log_regressor, blobs[0], blobs[1], scoring = scorer, cv = cv_strategy)"
   ]
  },
  {
   "cell_type": "code",
   "execution_count": 33,
   "metadata": {},
   "outputs": [
    {
     "output_type": "stream",
     "name": "stdout",
     "text": [
      "Ridge mean:0.8700000000000001, max:1.0, min:0.7666666666666667, std:0.059535236998305825\n"
     ]
    }
   ],
   "source": [
    "print('Ridge mean:{}, max:{}, min:{}, std:{}'.format(ridge_scoring.mean(), ridge_scoring.max(), \n",
    "                                                     ridge_scoring.min(), ridge_scoring.std()))"
   ]
  },
  {
   "cell_type": "code",
   "execution_count": 34,
   "metadata": {},
   "outputs": [
    {
     "output_type": "stream",
     "name": "stdout",
     "text": [
      "Log mean:0.8700000000000001, max:1.0, min:0.7666666666666667, std:0.06137317546507322\n"
     ]
    }
   ],
   "source": [
    "print('Log mean:{}, max:{}, min:{}, std:{}'.format(lr_scoring.mean(), lr_scoring.max(), \n",
    "                                                   lr_scoring.min(), lr_scoring.std()))"
   ]
  }
 ],
 "metadata": {
  "kernelspec": {
   "display_name": "Python 3",
   "language": "python",
   "name": "python3"
  },
  "language_info": {
   "codemirror_mode": {
    "name": "ipython",
    "version": 3
   },
   "file_extension": ".py",
   "mimetype": "text/x-python",
   "name": "python",
   "nbconvert_exporter": "python",
   "pygments_lexer": "ipython3",
   "version": "3.8.5"
  }
 },
 "nbformat": 4,
 "nbformat_minor": 1
}