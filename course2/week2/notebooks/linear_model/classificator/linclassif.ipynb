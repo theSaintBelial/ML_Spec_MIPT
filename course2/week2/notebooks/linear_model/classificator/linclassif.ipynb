{
 "metadata": {
  "language_info": {
   "codemirror_mode": {
    "name": "ipython",
    "version": 3
   },
   "file_extension": ".py",
   "mimetype": "text/x-python",
   "name": "python",
   "nbconvert_exporter": "python",
   "pygments_lexer": "ipython3",
   "version": "3.8.5"
  },
  "orig_nbformat": 2,
  "kernelspec": {
   "name": "python3",
   "display_name": "Python 3",
   "language": "python"
  }
 },
 "nbformat": 4,
 "nbformat_minor": 2,
 "cells": [
  {
   "cell_type": "code",
   "execution_count": 1,
   "metadata": {},
   "outputs": [
    {
     "output_type": "stream",
     "name": "stdout",
     "text": [
      "Populating the interactive namespace from numpy and matplotlib\n"
     ]
    }
   ],
   "source": [
    "%pylab inline\n",
    "\n",
    "from matplotlib.colors import ListedColormap\n",
    "from sklearn import linear_model, model_selection, datasets, metrics\n",
    "import numpy as np "
   ]
  },
  {
   "cell_type": "code",
   "execution_count": 2,
   "metadata": {},
   "outputs": [],
   "source": [
    "# we ll use blob dataset - blob means 'капля' in rus so scatter plots look like blobs"
   ]
  },
  {
   "cell_type": "code",
   "execution_count": 3,
   "metadata": {},
   "outputs": [],
   "source": [
    "blobs = datasets.make_blobs(n_features=2, centers=2, cluster_std=5.5, random_state=1)"
   ]
  },
  {
   "cell_type": "code",
   "execution_count": 4,
   "metadata": {},
   "outputs": [
    {
     "output_type": "execute_result",
     "data": {
      "text/plain": [
       "<matplotlib.collections.PathCollection at 0x2945c5b19a0>"
      ]
     },
     "metadata": {},
     "execution_count": 4
    },
    {
     "output_type": "display_data",
     "data": {
      "text/plain": "<Figure size 360x360 with 1 Axes>",
      "image/svg+xml": "<?xml version=\"1.0\" encoding=\"utf-8\" standalone=\"no\"?>\r\n<!DOCTYPE svg PUBLIC \"-//W3C//DTD SVG 1.1//EN\"\r\n  \"http://www.w3.org/Graphics/SVG/1.1/DTD/svg11.dtd\">\r\n<!-- Created with matplotlib (https://matplotlib.org/) -->\r\n<svg height=\"302.878125pt\" version=\"1.1\" viewBox=\"0 0 321.504687 302.878125\" width=\"321.504687pt\" xmlns=\"http://www.w3.org/2000/svg\" xmlns:xlink=\"http://www.w3.org/1999/xlink\">\r\n <metadata>\r\n  <rdf:RDF xmlns:cc=\"http://creativecommons.org/ns#\" xmlns:dc=\"http://purl.org/dc/elements/1.1/\" xmlns:rdf=\"http://www.w3.org/1999/02/22-rdf-syntax-ns#\">\r\n   <cc:Work>\r\n    <dc:type rdf:resource=\"http://purl.org/dc/dcmitype/StillImage\"/>\r\n    <dc:date>2021-03-26T19:27:44.337988</dc:date>\r\n    <dc:format>image/svg+xml</dc:format>\r\n    <dc:creator>\r\n     <cc:Agent>\r\n      <dc:title>Matplotlib v3.3.2, https://matplotlib.org/</dc:title>\r\n     </cc:Agent>\r\n    </dc:creator>\r\n   </cc:Work>\r\n  </rdf:RDF>\r\n </metadata>\r\n <defs>\r\n  <style type=\"text/css\">*{stroke-linecap:butt;stroke-linejoin:round;}</style>\r\n </defs>\r\n <g id=\"figure_1\">\r\n  <g id=\"patch_1\">\r\n   <path d=\"M 0 302.878125 \r\nL 321.504687 302.878125 \r\nL 321.504687 0 \r\nL 0 0 \r\nz\r\n\" style=\"fill:none;\"/>\r\n  </g>\r\n  <g id=\"axes_1\">\r\n   <g id=\"patch_2\">\r\n    <path d=\"M 35.304688 279 \r\nL 314.304688 279 \r\nL 314.304688 7.2 \r\nL 35.304688 7.2 \r\nz\r\n\" style=\"fill:#ffffff;\"/>\r\n   </g>\r\n   <g id=\"PathCollection_1\">\r\n    <defs>\r\n     <path d=\"M 0 3 \r\nC 0.795609 3 1.55874 2.683901 2.12132 2.12132 \r\nC 2.683901 1.55874 3 0.795609 3 -0 \r\nC 3 -0.795609 2.683901 -1.55874 2.12132 -2.12132 \r\nC 1.55874 -2.683901 0.795609 -3 0 -3 \r\nC -0.795609 -3 -1.55874 -2.683901 -2.12132 -2.12132 \r\nC -2.683901 -1.55874 -3 -0.795609 -3 0 \r\nC -3 0.795609 -2.683901 1.55874 -2.12132 2.12132 \r\nC -1.55874 2.683901 -0.795609 3 0 3 \r\nz\r\n\" id=\"C0_0_5ad9cd29f2\"/>\r\n    </defs>\r\n    <g clip-path=\"url(#p56599dd02a)\">\r\n     <use style=\"fill:#ff0000;stroke:#ff0000;\" x=\"241.394893\" xlink:href=\"#C0_0_5ad9cd29f2\" y=\"199.179951\"/>\r\n    </g>\r\n    <g clip-path=\"url(#p56599dd02a)\">\r\n     <use style=\"fill:#0000ff;stroke:#0000ff;\" x=\"171.353425\" xlink:href=\"#C0_0_5ad9cd29f2\" y=\"202.360794\"/>\r\n    </g>\r\n    <g clip-path=\"url(#p56599dd02a)\">\r\n     <use style=\"fill:#ff0000;stroke:#ff0000;\" x=\"136.031162\" xlink:href=\"#C0_0_5ad9cd29f2\" y=\"125.846226\"/>\r\n    </g>\r\n    <g clip-path=\"url(#p56599dd02a)\">\r\n     <use style=\"fill:#ff0000;stroke:#ff0000;\" x=\"212.410994\" xlink:href=\"#C0_0_5ad9cd29f2\" y=\"74.164694\"/>\r\n    </g>\r\n    <g clip-path=\"url(#p56599dd02a)\">\r\n     <use style=\"fill:#0000ff;stroke:#0000ff;\" x=\"248.096244\" xlink:href=\"#C0_0_5ad9cd29f2\" y=\"177.432372\"/>\r\n    </g>\r\n    <g clip-path=\"url(#p56599dd02a)\">\r\n     <use style=\"fill:#0000ff;stroke:#0000ff;\" x=\"169.332412\" xlink:href=\"#C0_0_5ad9cd29f2\" y=\"165.385966\"/>\r\n    </g>\r\n    <g clip-path=\"url(#p56599dd02a)\">\r\n     <use style=\"fill:#0000ff;stroke:#0000ff;\" x=\"163.77612\" xlink:href=\"#C0_0_5ad9cd29f2\" y=\"180.336499\"/>\r\n    </g>\r\n    <g clip-path=\"url(#p56599dd02a)\">\r\n     <use style=\"fill:#0000ff;stroke:#0000ff;\" x=\"168.919347\" xlink:href=\"#C0_0_5ad9cd29f2\" y=\"192.73087\"/>\r\n    </g>\r\n    <g clip-path=\"url(#p56599dd02a)\">\r\n     <use style=\"fill:#ff0000;stroke:#ff0000;\" x=\"151.701887\" xlink:href=\"#C0_0_5ad9cd29f2\" y=\"58.547221\"/>\r\n    </g>\r\n    <g clip-path=\"url(#p56599dd02a)\">\r\n     <use style=\"fill:#ff0000;stroke:#ff0000;\" x=\"224.200646\" xlink:href=\"#C0_0_5ad9cd29f2\" y=\"108.344206\"/>\r\n    </g>\r\n    <g clip-path=\"url(#p56599dd02a)\">\r\n     <use style=\"fill:#0000ff;stroke:#0000ff;\" x=\"130.984998\" xlink:href=\"#C0_0_5ad9cd29f2\" y=\"233.221591\"/>\r\n    </g>\r\n    <g clip-path=\"url(#p56599dd02a)\">\r\n     <use style=\"fill:#ff0000;stroke:#ff0000;\" x=\"207.471401\" xlink:href=\"#C0_0_5ad9cd29f2\" y=\"59.169117\"/>\r\n    </g>\r\n    <g clip-path=\"url(#p56599dd02a)\">\r\n     <use style=\"fill:#0000ff;stroke:#0000ff;\" x=\"127.71159\" xlink:href=\"#C0_0_5ad9cd29f2\" y=\"192.479144\"/>\r\n    </g>\r\n    <g clip-path=\"url(#p56599dd02a)\">\r\n     <use style=\"fill:#ff0000;stroke:#ff0000;\" x=\"167.827288\" xlink:href=\"#C0_0_5ad9cd29f2\" y=\"36.195792\"/>\r\n    </g>\r\n    <g clip-path=\"url(#p56599dd02a)\">\r\n     <use style=\"fill:#0000ff;stroke:#0000ff;\" x=\"232.693255\" xlink:href=\"#C0_0_5ad9cd29f2\" y=\"244.671658\"/>\r\n    </g>\r\n    <g clip-path=\"url(#p56599dd02a)\">\r\n     <use style=\"fill:#0000ff;stroke:#0000ff;\" x=\"177.748391\" xlink:href=\"#C0_0_5ad9cd29f2\" y=\"158.572507\"/>\r\n    </g>\r\n    <g clip-path=\"url(#p56599dd02a)\">\r\n     <use style=\"fill:#0000ff;stroke:#0000ff;\" x=\"143.357084\" xlink:href=\"#C0_0_5ad9cd29f2\" y=\"139.43316\"/>\r\n    </g>\r\n    <g clip-path=\"url(#p56599dd02a)\">\r\n     <use style=\"fill:#ff0000;stroke:#ff0000;\" x=\"170.563918\" xlink:href=\"#C0_0_5ad9cd29f2\" y=\"139.750903\"/>\r\n    </g>\r\n    <g clip-path=\"url(#p56599dd02a)\">\r\n     <use style=\"fill:#ff0000;stroke:#ff0000;\" x=\"186.226632\" xlink:href=\"#C0_0_5ad9cd29f2\" y=\"103.481256\"/>\r\n    </g>\r\n    <g clip-path=\"url(#p56599dd02a)\">\r\n     <use style=\"fill:#0000ff;stroke:#0000ff;\" x=\"82.798871\" xlink:href=\"#C0_0_5ad9cd29f2\" y=\"160.37421\"/>\r\n    </g>\r\n    <g clip-path=\"url(#p56599dd02a)\">\r\n     <use style=\"fill:#0000ff;stroke:#0000ff;\" x=\"158.424324\" xlink:href=\"#C0_0_5ad9cd29f2\" y=\"157.462418\"/>\r\n    </g>\r\n    <g clip-path=\"url(#p56599dd02a)\">\r\n     <use style=\"fill:#0000ff;stroke:#0000ff;\" x=\"120.605068\" xlink:href=\"#C0_0_5ad9cd29f2\" y=\"165.955341\"/>\r\n    </g>\r\n    <g clip-path=\"url(#p56599dd02a)\">\r\n     <use style=\"fill:#0000ff;stroke:#0000ff;\" x=\"144.100924\" xlink:href=\"#C0_0_5ad9cd29f2\" y=\"179.391383\"/>\r\n    </g>\r\n    <g clip-path=\"url(#p56599dd02a)\">\r\n     <use style=\"fill:#ff0000;stroke:#ff0000;\" x=\"216.468765\" xlink:href=\"#C0_0_5ad9cd29f2\" y=\"115.436463\"/>\r\n    </g>\r\n    <g clip-path=\"url(#p56599dd02a)\">\r\n     <use style=\"fill:#ff0000;stroke:#ff0000;\" x=\"184.792691\" xlink:href=\"#C0_0_5ad9cd29f2\" y=\"131.325202\"/>\r\n    </g>\r\n    <g clip-path=\"url(#p56599dd02a)\">\r\n     <use style=\"fill:#0000ff;stroke:#0000ff;\" x=\"118.602365\" xlink:href=\"#C0_0_5ad9cd29f2\" y=\"266.645455\"/>\r\n    </g>\r\n    <g clip-path=\"url(#p56599dd02a)\">\r\n     <use style=\"fill:#0000ff;stroke:#0000ff;\" x=\"152.886032\" xlink:href=\"#C0_0_5ad9cd29f2\" y=\"171.37332\"/>\r\n    </g>\r\n    <g clip-path=\"url(#p56599dd02a)\">\r\n     <use style=\"fill:#ff0000;stroke:#ff0000;\" x=\"215.607944\" xlink:href=\"#C0_0_5ad9cd29f2\" y=\"119.634699\"/>\r\n    </g>\r\n    <g clip-path=\"url(#p56599dd02a)\">\r\n     <use style=\"fill:#ff0000;stroke:#ff0000;\" x=\"268.61723\" xlink:href=\"#C0_0_5ad9cd29f2\" y=\"189.329146\"/>\r\n    </g>\r\n    <g clip-path=\"url(#p56599dd02a)\">\r\n     <use style=\"fill:#0000ff;stroke:#0000ff;\" x=\"156.499794\" xlink:href=\"#C0_0_5ad9cd29f2\" y=\"213.983757\"/>\r\n    </g>\r\n    <g clip-path=\"url(#p56599dd02a)\">\r\n     <use style=\"fill:#ff0000;stroke:#ff0000;\" x=\"189.692293\" xlink:href=\"#C0_0_5ad9cd29f2\" y=\"83.617942\"/>\r\n    </g>\r\n    <g clip-path=\"url(#p56599dd02a)\">\r\n     <use style=\"fill:#ff0000;stroke:#ff0000;\" x=\"149.790393\" xlink:href=\"#C0_0_5ad9cd29f2\" y=\"119.516067\"/>\r\n    </g>\r\n    <g clip-path=\"url(#p56599dd02a)\">\r\n     <use style=\"fill:#0000ff;stroke:#0000ff;\" x=\"109.159742\" xlink:href=\"#C0_0_5ad9cd29f2\" y=\"207.972245\"/>\r\n    </g>\r\n    <g clip-path=\"url(#p56599dd02a)\">\r\n     <use style=\"fill:#ff0000;stroke:#ff0000;\" x=\"193.16192\" xlink:href=\"#C0_0_5ad9cd29f2\" y=\"141.482085\"/>\r\n    </g>\r\n    <g clip-path=\"url(#p56599dd02a)\">\r\n     <use style=\"fill:#0000ff;stroke:#0000ff;\" x=\"207.006141\" xlink:href=\"#C0_0_5ad9cd29f2\" y=\"153.492902\"/>\r\n    </g>\r\n    <g clip-path=\"url(#p56599dd02a)\">\r\n     <use style=\"fill:#0000ff;stroke:#0000ff;\" x=\"124.238759\" xlink:href=\"#C0_0_5ad9cd29f2\" y=\"171.438229\"/>\r\n    </g>\r\n    <g clip-path=\"url(#p56599dd02a)\">\r\n     <use style=\"fill:#ff0000;stroke:#ff0000;\" x=\"256.610116\" xlink:href=\"#C0_0_5ad9cd29f2\" y=\"97.70459\"/>\r\n    </g>\r\n    <g clip-path=\"url(#p56599dd02a)\">\r\n     <use style=\"fill:#0000ff;stroke:#0000ff;\" x=\"70.106732\" xlink:href=\"#C0_0_5ad9cd29f2\" y=\"154.425443\"/>\r\n    </g>\r\n    <g clip-path=\"url(#p56599dd02a)\">\r\n     <use style=\"fill:#0000ff;stroke:#0000ff;\" x=\"124.496496\" xlink:href=\"#C0_0_5ad9cd29f2\" y=\"191.930635\"/>\r\n    </g>\r\n    <g clip-path=\"url(#p56599dd02a)\">\r\n     <use style=\"fill:#0000ff;stroke:#0000ff;\" x=\"126.525536\" xlink:href=\"#C0_0_5ad9cd29f2\" y=\"172.144535\"/>\r\n    </g>\r\n    <g clip-path=\"url(#p56599dd02a)\">\r\n     <use style=\"fill:#0000ff;stroke:#0000ff;\" x=\"145.554693\" xlink:href=\"#C0_0_5ad9cd29f2\" y=\"170.269786\"/>\r\n    </g>\r\n    <g clip-path=\"url(#p56599dd02a)\">\r\n     <use style=\"fill:#0000ff;stroke:#0000ff;\" x=\"148.742762\" xlink:href=\"#C0_0_5ad9cd29f2\" y=\"220.837021\"/>\r\n    </g>\r\n    <g clip-path=\"url(#p56599dd02a)\">\r\n     <use style=\"fill:#ff0000;stroke:#ff0000;\" x=\"187.204595\" xlink:href=\"#C0_0_5ad9cd29f2\" y=\"120.932556\"/>\r\n    </g>\r\n    <g clip-path=\"url(#p56599dd02a)\">\r\n     <use style=\"fill:#0000ff;stroke:#0000ff;\" x=\"76.6333\" xlink:href=\"#C0_0_5ad9cd29f2\" y=\"144.820294\"/>\r\n    </g>\r\n    <g clip-path=\"url(#p56599dd02a)\">\r\n     <use style=\"fill:#ff0000;stroke:#ff0000;\" x=\"210.960459\" xlink:href=\"#C0_0_5ad9cd29f2\" y=\"100.403903\"/>\r\n    </g>\r\n    <g clip-path=\"url(#p56599dd02a)\">\r\n     <use style=\"fill:#0000ff;stroke:#0000ff;\" x=\"156.905323\" xlink:href=\"#C0_0_5ad9cd29f2\" y=\"161.667036\"/>\r\n    </g>\r\n    <g clip-path=\"url(#p56599dd02a)\">\r\n     <use style=\"fill:#ff0000;stroke:#ff0000;\" x=\"243.045618\" xlink:href=\"#C0_0_5ad9cd29f2\" y=\"84.75488\"/>\r\n    </g>\r\n    <g clip-path=\"url(#p56599dd02a)\">\r\n     <use style=\"fill:#ff0000;stroke:#ff0000;\" x=\"301.622869\" xlink:href=\"#C0_0_5ad9cd29f2\" y=\"162.247598\"/>\r\n    </g>\r\n    <g clip-path=\"url(#p56599dd02a)\">\r\n     <use style=\"fill:#ff0000;stroke:#ff0000;\" x=\"150.940412\" xlink:href=\"#C0_0_5ad9cd29f2\" y=\"95.694451\"/>\r\n    </g>\r\n    <g clip-path=\"url(#p56599dd02a)\">\r\n     <use style=\"fill:#ff0000;stroke:#ff0000;\" x=\"196.307306\" xlink:href=\"#C0_0_5ad9cd29f2\" y=\"143.446569\"/>\r\n    </g>\r\n    <g clip-path=\"url(#p56599dd02a)\">\r\n     <use style=\"fill:#ff0000;stroke:#ff0000;\" x=\"191.770803\" xlink:href=\"#C0_0_5ad9cd29f2\" y=\"113.452726\"/>\r\n    </g>\r\n    <g clip-path=\"url(#p56599dd02a)\">\r\n     <use style=\"fill:#0000ff;stroke:#0000ff;\" x=\"162.817155\" xlink:href=\"#C0_0_5ad9cd29f2\" y=\"233.697649\"/>\r\n    </g>\r\n    <g clip-path=\"url(#p56599dd02a)\">\r\n     <use style=\"fill:#0000ff;stroke:#0000ff;\" x=\"136.300657\" xlink:href=\"#C0_0_5ad9cd29f2\" y=\"142.051812\"/>\r\n    </g>\r\n    <g clip-path=\"url(#p56599dd02a)\">\r\n     <use style=\"fill:#0000ff;stroke:#0000ff;\" x=\"114.461697\" xlink:href=\"#C0_0_5ad9cd29f2\" y=\"133.660793\"/>\r\n    </g>\r\n    <g clip-path=\"url(#p56599dd02a)\">\r\n     <use style=\"fill:#ff0000;stroke:#ff0000;\" x=\"207.395563\" xlink:href=\"#C0_0_5ad9cd29f2\" y=\"80.073923\"/>\r\n    </g>\r\n    <g clip-path=\"url(#p56599dd02a)\">\r\n     <use style=\"fill:#0000ff;stroke:#0000ff;\" x=\"155.342605\" xlink:href=\"#C0_0_5ad9cd29f2\" y=\"174.415421\"/>\r\n    </g>\r\n    <g clip-path=\"url(#p56599dd02a)\">\r\n     <use style=\"fill:#ff0000;stroke:#ff0000;\" x=\"173.628396\" xlink:href=\"#C0_0_5ad9cd29f2\" y=\"76.775511\"/>\r\n    </g>\r\n    <g clip-path=\"url(#p56599dd02a)\">\r\n     <use style=\"fill:#0000ff;stroke:#0000ff;\" x=\"190.860944\" xlink:href=\"#C0_0_5ad9cd29f2\" y=\"87.014104\"/>\r\n    </g>\r\n    <g clip-path=\"url(#p56599dd02a)\">\r\n     <use style=\"fill:#ff0000;stroke:#ff0000;\" x=\"203.839589\" xlink:href=\"#C0_0_5ad9cd29f2\" y=\"81.477201\"/>\r\n    </g>\r\n    <g clip-path=\"url(#p56599dd02a)\">\r\n     <use style=\"fill:#ff0000;stroke:#ff0000;\" x=\"225.314342\" xlink:href=\"#C0_0_5ad9cd29f2\" y=\"117.424696\"/>\r\n    </g>\r\n    <g clip-path=\"url(#p56599dd02a)\">\r\n     <use style=\"fill:#ff0000;stroke:#ff0000;\" x=\"210.424939\" xlink:href=\"#C0_0_5ad9cd29f2\" y=\"88.527219\"/>\r\n    </g>\r\n    <g clip-path=\"url(#p56599dd02a)\">\r\n     <use style=\"fill:#0000ff;stroke:#0000ff;\" x=\"103.237062\" xlink:href=\"#C0_0_5ad9cd29f2\" y=\"130.49899\"/>\r\n    </g>\r\n    <g clip-path=\"url(#p56599dd02a)\">\r\n     <use style=\"fill:#0000ff;stroke:#0000ff;\" x=\"155.706368\" xlink:href=\"#C0_0_5ad9cd29f2\" y=\"114.513172\"/>\r\n    </g>\r\n    <g clip-path=\"url(#p56599dd02a)\">\r\n     <use style=\"fill:#0000ff;stroke:#0000ff;\" x=\"131.627282\" xlink:href=\"#C0_0_5ad9cd29f2\" y=\"198.918521\"/>\r\n    </g>\r\n    <g clip-path=\"url(#p56599dd02a)\">\r\n     <use style=\"fill:#0000ff;stroke:#0000ff;\" x=\"47.986506\" xlink:href=\"#C0_0_5ad9cd29f2\" y=\"116.841713\"/>\r\n    </g>\r\n    <g clip-path=\"url(#p56599dd02a)\">\r\n     <use style=\"fill:#0000ff;stroke:#0000ff;\" x=\"193.493356\" xlink:href=\"#C0_0_5ad9cd29f2\" y=\"179.010517\"/>\r\n    </g>\r\n    <g clip-path=\"url(#p56599dd02a)\">\r\n     <use style=\"fill:#ff0000;stroke:#ff0000;\" x=\"167.497004\" xlink:href=\"#C0_0_5ad9cd29f2\" y=\"54.134136\"/>\r\n    </g>\r\n    <g clip-path=\"url(#p56599dd02a)\">\r\n     <use style=\"fill:#0000ff;stroke:#0000ff;\" x=\"74.69436\" xlink:href=\"#C0_0_5ad9cd29f2\" y=\"154.491211\"/>\r\n    </g>\r\n    <g clip-path=\"url(#p56599dd02a)\">\r\n     <use style=\"fill:#ff0000;stroke:#ff0000;\" x=\"194.047311\" xlink:href=\"#C0_0_5ad9cd29f2\" y=\"141.083375\"/>\r\n    </g>\r\n    <g clip-path=\"url(#p56599dd02a)\">\r\n     <use style=\"fill:#ff0000;stroke:#ff0000;\" x=\"221.234166\" xlink:href=\"#C0_0_5ad9cd29f2\" y=\"102.104286\"/>\r\n    </g>\r\n    <g clip-path=\"url(#p56599dd02a)\">\r\n     <use style=\"fill:#0000ff;stroke:#0000ff;\" x=\"151.15822\" xlink:href=\"#C0_0_5ad9cd29f2\" y=\"143.063905\"/>\r\n    </g>\r\n    <g clip-path=\"url(#p56599dd02a)\">\r\n     <use style=\"fill:#0000ff;stroke:#0000ff;\" x=\"166.535607\" xlink:href=\"#C0_0_5ad9cd29f2\" y=\"206.204218\"/>\r\n    </g>\r\n    <g clip-path=\"url(#p56599dd02a)\">\r\n     <use style=\"fill:#0000ff;stroke:#0000ff;\" x=\"160.229026\" xlink:href=\"#C0_0_5ad9cd29f2\" y=\"150.135663\"/>\r\n    </g>\r\n    <g clip-path=\"url(#p56599dd02a)\">\r\n     <use style=\"fill:#ff0000;stroke:#ff0000;\" x=\"240.189382\" xlink:href=\"#C0_0_5ad9cd29f2\" y=\"67.264547\"/>\r\n    </g>\r\n    <g clip-path=\"url(#p56599dd02a)\">\r\n     <use style=\"fill:#ff0000;stroke:#ff0000;\" x=\"277.636329\" xlink:href=\"#C0_0_5ad9cd29f2\" y=\"74.979494\"/>\r\n    </g>\r\n    <g clip-path=\"url(#p56599dd02a)\">\r\n     <use style=\"fill:#ff0000;stroke:#ff0000;\" x=\"216.313463\" xlink:href=\"#C0_0_5ad9cd29f2\" y=\"187.780937\"/>\r\n    </g>\r\n    <g clip-path=\"url(#p56599dd02a)\">\r\n     <use style=\"fill:#0000ff;stroke:#0000ff;\" x=\"172.390195\" xlink:href=\"#C0_0_5ad9cd29f2\" y=\"136.663966\"/>\r\n    </g>\r\n    <g clip-path=\"url(#p56599dd02a)\">\r\n     <use style=\"fill:#0000ff;stroke:#0000ff;\" x=\"134.742587\" xlink:href=\"#C0_0_5ad9cd29f2\" y=\"176.521531\"/>\r\n    </g>\r\n    <g clip-path=\"url(#p56599dd02a)\">\r\n     <use style=\"fill:#ff0000;stroke:#ff0000;\" x=\"177.817772\" xlink:href=\"#C0_0_5ad9cd29f2\" y=\"149.0453\"/>\r\n    </g>\r\n    <g clip-path=\"url(#p56599dd02a)\">\r\n     <use style=\"fill:#ff0000;stroke:#ff0000;\" x=\"181.515081\" xlink:href=\"#C0_0_5ad9cd29f2\" y=\"55.29145\"/>\r\n    </g>\r\n    <g clip-path=\"url(#p56599dd02a)\">\r\n     <use style=\"fill:#ff0000;stroke:#ff0000;\" x=\"253.540317\" xlink:href=\"#C0_0_5ad9cd29f2\" y=\"43.240677\"/>\r\n    </g>\r\n    <g clip-path=\"url(#p56599dd02a)\">\r\n     <use style=\"fill:#0000ff;stroke:#0000ff;\" x=\"78.03799\" xlink:href=\"#C0_0_5ad9cd29f2\" y=\"132.055445\"/>\r\n    </g>\r\n    <g clip-path=\"url(#p56599dd02a)\">\r\n     <use style=\"fill:#ff0000;stroke:#ff0000;\" x=\"209.214861\" xlink:href=\"#C0_0_5ad9cd29f2\" y=\"69.506222\"/>\r\n    </g>\r\n    <g clip-path=\"url(#p56599dd02a)\">\r\n     <use style=\"fill:#0000ff;stroke:#0000ff;\" x=\"219.643647\" xlink:href=\"#C0_0_5ad9cd29f2\" y=\"121.947008\"/>\r\n    </g>\r\n    <g clip-path=\"url(#p56599dd02a)\">\r\n     <use style=\"fill:#ff0000;stroke:#ff0000;\" x=\"170.359166\" xlink:href=\"#C0_0_5ad9cd29f2\" y=\"121.450775\"/>\r\n    </g>\r\n    <g clip-path=\"url(#p56599dd02a)\">\r\n     <use style=\"fill:#ff0000;stroke:#ff0000;\" x=\"253.63795\" xlink:href=\"#C0_0_5ad9cd29f2\" y=\"150.143941\"/>\r\n    </g>\r\n    <g clip-path=\"url(#p56599dd02a)\">\r\n     <use style=\"fill:#ff0000;stroke:#ff0000;\" x=\"210.623579\" xlink:href=\"#C0_0_5ad9cd29f2\" y=\"19.554545\"/>\r\n    </g>\r\n    <g clip-path=\"url(#p56599dd02a)\">\r\n     <use style=\"fill:#ff0000;stroke:#ff0000;\" x=\"243.012097\" xlink:href=\"#C0_0_5ad9cd29f2\" y=\"133.161428\"/>\r\n    </g>\r\n    <g clip-path=\"url(#p56599dd02a)\">\r\n     <use style=\"fill:#ff0000;stroke:#ff0000;\" x=\"187.944264\" xlink:href=\"#C0_0_5ad9cd29f2\" y=\"71.472902\"/>\r\n    </g>\r\n    <g clip-path=\"url(#p56599dd02a)\">\r\n     <use style=\"fill:#ff0000;stroke:#ff0000;\" x=\"171.290511\" xlink:href=\"#C0_0_5ad9cd29f2\" y=\"105.777135\"/>\r\n    </g>\r\n    <g clip-path=\"url(#p56599dd02a)\">\r\n     <use style=\"fill:#0000ff;stroke:#0000ff;\" x=\"185.686679\" xlink:href=\"#C0_0_5ad9cd29f2\" y=\"152.208246\"/>\r\n    </g>\r\n    <g clip-path=\"url(#p56599dd02a)\">\r\n     <use style=\"fill:#ff0000;stroke:#ff0000;\" x=\"204.231661\" xlink:href=\"#C0_0_5ad9cd29f2\" y=\"131.254412\"/>\r\n    </g>\r\n    <g clip-path=\"url(#p56599dd02a)\">\r\n     <use style=\"fill:#ff0000;stroke:#ff0000;\" x=\"192.383678\" xlink:href=\"#C0_0_5ad9cd29f2\" y=\"81.321807\"/>\r\n    </g>\r\n    <g clip-path=\"url(#p56599dd02a)\">\r\n     <use style=\"fill:#ff0000;stroke:#ff0000;\" x=\"171.317147\" xlink:href=\"#C0_0_5ad9cd29f2\" y=\"89.852961\"/>\r\n    </g>\r\n    <g clip-path=\"url(#p56599dd02a)\">\r\n     <use style=\"fill:#0000ff;stroke:#0000ff;\" x=\"183.911052\" xlink:href=\"#C0_0_5ad9cd29f2\" y=\"150.600118\"/>\r\n    </g>\r\n    <g clip-path=\"url(#p56599dd02a)\">\r\n     <use style=\"fill:#0000ff;stroke:#0000ff;\" x=\"180.143035\" xlink:href=\"#C0_0_5ad9cd29f2\" y=\"78.041477\"/>\r\n    </g>\r\n    <g clip-path=\"url(#p56599dd02a)\">\r\n     <use style=\"fill:#0000ff;stroke:#0000ff;\" x=\"133.544586\" xlink:href=\"#C0_0_5ad9cd29f2\" y=\"213.072829\"/>\r\n    </g>\r\n    <g clip-path=\"url(#p56599dd02a)\">\r\n     <use style=\"fill:#ff0000;stroke:#ff0000;\" x=\"214.942647\" xlink:href=\"#C0_0_5ad9cd29f2\" y=\"69.140089\"/>\r\n    </g>\r\n    <g clip-path=\"url(#p56599dd02a)\">\r\n     <use style=\"fill:#0000ff;stroke:#0000ff;\" x=\"169.74714\" xlink:href=\"#C0_0_5ad9cd29f2\" y=\"124.665371\"/>\r\n    </g>\r\n    <g clip-path=\"url(#p56599dd02a)\">\r\n     <use style=\"fill:#ff0000;stroke:#ff0000;\" x=\"281.51459\" xlink:href=\"#C0_0_5ad9cd29f2\" y=\"136.32314\"/>\r\n    </g>\r\n   </g>\r\n   <g id=\"matplotlib.axis_1\">\r\n    <g id=\"xtick_1\">\r\n     <g id=\"line2d_1\">\r\n      <defs>\r\n       <path d=\"M 0 0 \r\nL 0 3.5 \r\n\" id=\"mb16798b873\" style=\"stroke:#000000;stroke-width:0.8;\"/>\r\n      </defs>\r\n      <g>\r\n       <use style=\"stroke:#000000;stroke-width:0.8;\" x=\"49.783267\" xlink:href=\"#mb16798b873\" y=\"279\"/>\r\n      </g>\r\n     </g>\r\n     <g id=\"text_1\">\r\n      <!-- −20 -->\r\n      <g transform=\"translate(39.230924 293.598437)scale(0.1 -0.1)\">\r\n       <defs>\r\n        <path d=\"M 10.59375 35.5 \r\nL 73.1875 35.5 \r\nL 73.1875 27.203125 \r\nL 10.59375 27.203125 \r\nz\r\n\" id=\"DejaVuSans-8722\"/>\r\n        <path d=\"M 19.1875 8.296875 \r\nL 53.609375 8.296875 \r\nL 53.609375 0 \r\nL 7.328125 0 \r\nL 7.328125 8.296875 \r\nQ 12.9375 14.109375 22.625 23.890625 \r\nQ 32.328125 33.6875 34.8125 36.53125 \r\nQ 39.546875 41.84375 41.421875 45.53125 \r\nQ 43.3125 49.21875 43.3125 52.78125 \r\nQ 43.3125 58.59375 39.234375 62.25 \r\nQ 35.15625 65.921875 28.609375 65.921875 \r\nQ 23.96875 65.921875 18.8125 64.3125 \r\nQ 13.671875 62.703125 7.8125 59.421875 \r\nL 7.8125 69.390625 \r\nQ 13.765625 71.78125 18.9375 73 \r\nQ 24.125 74.21875 28.421875 74.21875 \r\nQ 39.75 74.21875 46.484375 68.546875 \r\nQ 53.21875 62.890625 53.21875 53.421875 \r\nQ 53.21875 48.921875 51.53125 44.890625 \r\nQ 49.859375 40.875 45.40625 35.40625 \r\nQ 44.1875 33.984375 37.640625 27.21875 \r\nQ 31.109375 20.453125 19.1875 8.296875 \r\nz\r\n\" id=\"DejaVuSans-50\"/>\r\n        <path d=\"M 31.78125 66.40625 \r\nQ 24.171875 66.40625 20.328125 58.90625 \r\nQ 16.5 51.421875 16.5 36.375 \r\nQ 16.5 21.390625 20.328125 13.890625 \r\nQ 24.171875 6.390625 31.78125 6.390625 \r\nQ 39.453125 6.390625 43.28125 13.890625 \r\nQ 47.125 21.390625 47.125 36.375 \r\nQ 47.125 51.421875 43.28125 58.90625 \r\nQ 39.453125 66.40625 31.78125 66.40625 \r\nz\r\nM 31.78125 74.21875 \r\nQ 44.046875 74.21875 50.515625 64.515625 \r\nQ 56.984375 54.828125 56.984375 36.375 \r\nQ 56.984375 17.96875 50.515625 8.265625 \r\nQ 44.046875 -1.421875 31.78125 -1.421875 \r\nQ 19.53125 -1.421875 13.0625 8.265625 \r\nQ 6.59375 17.96875 6.59375 36.375 \r\nQ 6.59375 54.828125 13.0625 64.515625 \r\nQ 19.53125 74.21875 31.78125 74.21875 \r\nz\r\n\" id=\"DejaVuSans-48\"/>\r\n       </defs>\r\n       <use xlink:href=\"#DejaVuSans-8722\"/>\r\n       <use x=\"83.789062\" xlink:href=\"#DejaVuSans-50\"/>\r\n       <use x=\"147.412109\" xlink:href=\"#DejaVuSans-48\"/>\r\n      </g>\r\n     </g>\r\n    </g>\r\n    <g id=\"xtick_2\">\r\n     <g id=\"line2d_2\">\r\n      <g>\r\n       <use style=\"stroke:#000000;stroke-width:0.8;\" x=\"91.257318\" xlink:href=\"#mb16798b873\" y=\"279\"/>\r\n      </g>\r\n     </g>\r\n     <g id=\"text_2\">\r\n      <!-- −15 -->\r\n      <g transform=\"translate(80.704975 293.598437)scale(0.1 -0.1)\">\r\n       <defs>\r\n        <path d=\"M 12.40625 8.296875 \r\nL 28.515625 8.296875 \r\nL 28.515625 63.921875 \r\nL 10.984375 60.40625 \r\nL 10.984375 69.390625 \r\nL 28.421875 72.90625 \r\nL 38.28125 72.90625 \r\nL 38.28125 8.296875 \r\nL 54.390625 8.296875 \r\nL 54.390625 0 \r\nL 12.40625 0 \r\nz\r\n\" id=\"DejaVuSans-49\"/>\r\n        <path d=\"M 10.796875 72.90625 \r\nL 49.515625 72.90625 \r\nL 49.515625 64.59375 \r\nL 19.828125 64.59375 \r\nL 19.828125 46.734375 \r\nQ 21.96875 47.46875 24.109375 47.828125 \r\nQ 26.265625 48.1875 28.421875 48.1875 \r\nQ 40.625 48.1875 47.75 41.5 \r\nQ 54.890625 34.8125 54.890625 23.390625 \r\nQ 54.890625 11.625 47.5625 5.09375 \r\nQ 40.234375 -1.421875 26.90625 -1.421875 \r\nQ 22.3125 -1.421875 17.546875 -0.640625 \r\nQ 12.796875 0.140625 7.71875 1.703125 \r\nL 7.71875 11.625 \r\nQ 12.109375 9.234375 16.796875 8.0625 \r\nQ 21.484375 6.890625 26.703125 6.890625 \r\nQ 35.15625 6.890625 40.078125 11.328125 \r\nQ 45.015625 15.765625 45.015625 23.390625 \r\nQ 45.015625 31 40.078125 35.4375 \r\nQ 35.15625 39.890625 26.703125 39.890625 \r\nQ 22.75 39.890625 18.8125 39.015625 \r\nQ 14.890625 38.140625 10.796875 36.28125 \r\nz\r\n\" id=\"DejaVuSans-53\"/>\r\n       </defs>\r\n       <use xlink:href=\"#DejaVuSans-8722\"/>\r\n       <use x=\"83.789062\" xlink:href=\"#DejaVuSans-49\"/>\r\n       <use x=\"147.412109\" xlink:href=\"#DejaVuSans-53\"/>\r\n      </g>\r\n     </g>\r\n    </g>\r\n    <g id=\"xtick_3\">\r\n     <g id=\"line2d_3\">\r\n      <g>\r\n       <use style=\"stroke:#000000;stroke-width:0.8;\" x=\"132.731369\" xlink:href=\"#mb16798b873\" y=\"279\"/>\r\n      </g>\r\n     </g>\r\n     <g id=\"text_3\">\r\n      <!-- −10 -->\r\n      <g transform=\"translate(122.179026 293.598437)scale(0.1 -0.1)\">\r\n       <use xlink:href=\"#DejaVuSans-8722\"/>\r\n       <use x=\"83.789062\" xlink:href=\"#DejaVuSans-49\"/>\r\n       <use x=\"147.412109\" xlink:href=\"#DejaVuSans-48\"/>\r\n      </g>\r\n     </g>\r\n    </g>\r\n    <g id=\"xtick_4\">\r\n     <g id=\"line2d_4\">\r\n      <g>\r\n       <use style=\"stroke:#000000;stroke-width:0.8;\" x=\"174.20542\" xlink:href=\"#mb16798b873\" y=\"279\"/>\r\n      </g>\r\n     </g>\r\n     <g id=\"text_4\">\r\n      <!-- −5 -->\r\n      <g transform=\"translate(166.834327 293.598437)scale(0.1 -0.1)\">\r\n       <use xlink:href=\"#DejaVuSans-8722\"/>\r\n       <use x=\"83.789062\" xlink:href=\"#DejaVuSans-53\"/>\r\n      </g>\r\n     </g>\r\n    </g>\r\n    <g id=\"xtick_5\">\r\n     <g id=\"line2d_5\">\r\n      <g>\r\n       <use style=\"stroke:#000000;stroke-width:0.8;\" x=\"215.679471\" xlink:href=\"#mb16798b873\" y=\"279\"/>\r\n      </g>\r\n     </g>\r\n     <g id=\"text_5\">\r\n      <!-- 0 -->\r\n      <g transform=\"translate(212.498221 293.598437)scale(0.1 -0.1)\">\r\n       <use xlink:href=\"#DejaVuSans-48\"/>\r\n      </g>\r\n     </g>\r\n    </g>\r\n    <g id=\"xtick_6\">\r\n     <g id=\"line2d_6\">\r\n      <g>\r\n       <use style=\"stroke:#000000;stroke-width:0.8;\" x=\"257.153522\" xlink:href=\"#mb16798b873\" y=\"279\"/>\r\n      </g>\r\n     </g>\r\n     <g id=\"text_6\">\r\n      <!-- 5 -->\r\n      <g transform=\"translate(253.972272 293.598437)scale(0.1 -0.1)\">\r\n       <use xlink:href=\"#DejaVuSans-53\"/>\r\n      </g>\r\n     </g>\r\n    </g>\r\n    <g id=\"xtick_7\">\r\n     <g id=\"line2d_7\">\r\n      <g>\r\n       <use style=\"stroke:#000000;stroke-width:0.8;\" x=\"298.627573\" xlink:href=\"#mb16798b873\" y=\"279\"/>\r\n      </g>\r\n     </g>\r\n     <g id=\"text_7\">\r\n      <!-- 10 -->\r\n      <g transform=\"translate(292.265073 293.598437)scale(0.1 -0.1)\">\r\n       <use xlink:href=\"#DejaVuSans-49\"/>\r\n       <use x=\"63.623047\" xlink:href=\"#DejaVuSans-48\"/>\r\n      </g>\r\n     </g>\r\n    </g>\r\n   </g>\r\n   <g id=\"matplotlib.axis_2\">\r\n    <g id=\"ytick_1\">\r\n     <g id=\"line2d_8\">\r\n      <defs>\r\n       <path d=\"M 0 0 \r\nL -3.5 0 \r\n\" id=\"m7cd7e520d1\" style=\"stroke:#000000;stroke-width:0.8;\"/>\r\n      </defs>\r\n      <g>\r\n       <use style=\"stroke:#000000;stroke-width:0.8;\" x=\"35.304688\" xlink:href=\"#m7cd7e520d1\" y=\"249.247022\"/>\r\n      </g>\r\n     </g>\r\n     <g id=\"text_8\">\r\n      <!-- −15 -->\r\n      <g transform=\"translate(7.2 253.046241)scale(0.1 -0.1)\">\r\n       <use xlink:href=\"#DejaVuSans-8722\"/>\r\n       <use x=\"83.789062\" xlink:href=\"#DejaVuSans-49\"/>\r\n       <use x=\"147.412109\" xlink:href=\"#DejaVuSans-53\"/>\r\n      </g>\r\n     </g>\r\n    </g>\r\n    <g id=\"ytick_2\">\r\n     <g id=\"line2d_9\">\r\n      <g>\r\n       <use style=\"stroke:#000000;stroke-width:0.8;\" x=\"35.304688\" xlink:href=\"#m7cd7e520d1\" y=\"212.149459\"/>\r\n      </g>\r\n     </g>\r\n     <g id=\"text_9\">\r\n      <!-- −10 -->\r\n      <g transform=\"translate(7.2 215.948678)scale(0.1 -0.1)\">\r\n       <use xlink:href=\"#DejaVuSans-8722\"/>\r\n       <use x=\"83.789062\" xlink:href=\"#DejaVuSans-49\"/>\r\n       <use x=\"147.412109\" xlink:href=\"#DejaVuSans-48\"/>\r\n      </g>\r\n     </g>\r\n    </g>\r\n    <g id=\"ytick_3\">\r\n     <g id=\"line2d_10\">\r\n      <g>\r\n       <use style=\"stroke:#000000;stroke-width:0.8;\" x=\"35.304688\" xlink:href=\"#m7cd7e520d1\" y=\"175.051897\"/>\r\n      </g>\r\n     </g>\r\n     <g id=\"text_10\">\r\n      <!-- −5 -->\r\n      <g transform=\"translate(13.5625 178.851115)scale(0.1 -0.1)\">\r\n       <use xlink:href=\"#DejaVuSans-8722\"/>\r\n       <use x=\"83.789062\" xlink:href=\"#DejaVuSans-53\"/>\r\n      </g>\r\n     </g>\r\n    </g>\r\n    <g id=\"ytick_4\">\r\n     <g id=\"line2d_11\">\r\n      <g>\r\n       <use style=\"stroke:#000000;stroke-width:0.8;\" x=\"35.304688\" xlink:href=\"#m7cd7e520d1\" y=\"137.954334\"/>\r\n      </g>\r\n     </g>\r\n     <g id=\"text_11\">\r\n      <!-- 0 -->\r\n      <g transform=\"translate(21.942187 141.753553)scale(0.1 -0.1)\">\r\n       <use xlink:href=\"#DejaVuSans-48\"/>\r\n      </g>\r\n     </g>\r\n    </g>\r\n    <g id=\"ytick_5\">\r\n     <g id=\"line2d_12\">\r\n      <g>\r\n       <use style=\"stroke:#000000;stroke-width:0.8;\" x=\"35.304688\" xlink:href=\"#m7cd7e520d1\" y=\"100.856771\"/>\r\n      </g>\r\n     </g>\r\n     <g id=\"text_12\">\r\n      <!-- 5 -->\r\n      <g transform=\"translate(21.942187 104.65599)scale(0.1 -0.1)\">\r\n       <use xlink:href=\"#DejaVuSans-53\"/>\r\n      </g>\r\n     </g>\r\n    </g>\r\n    <g id=\"ytick_6\">\r\n     <g id=\"line2d_13\">\r\n      <g>\r\n       <use style=\"stroke:#000000;stroke-width:0.8;\" x=\"35.304688\" xlink:href=\"#m7cd7e520d1\" y=\"63.759208\"/>\r\n      </g>\r\n     </g>\r\n     <g id=\"text_13\">\r\n      <!-- 10 -->\r\n      <g transform=\"translate(15.579687 67.558427)scale(0.1 -0.1)\">\r\n       <use xlink:href=\"#DejaVuSans-49\"/>\r\n       <use x=\"63.623047\" xlink:href=\"#DejaVuSans-48\"/>\r\n      </g>\r\n     </g>\r\n    </g>\r\n    <g id=\"ytick_7\">\r\n     <g id=\"line2d_14\">\r\n      <g>\r\n       <use style=\"stroke:#000000;stroke-width:0.8;\" x=\"35.304688\" xlink:href=\"#m7cd7e520d1\" y=\"26.661645\"/>\r\n      </g>\r\n     </g>\r\n     <g id=\"text_14\">\r\n      <!-- 15 -->\r\n      <g transform=\"translate(15.579687 30.460864)scale(0.1 -0.1)\">\r\n       <use xlink:href=\"#DejaVuSans-49\"/>\r\n       <use x=\"63.623047\" xlink:href=\"#DejaVuSans-53\"/>\r\n      </g>\r\n     </g>\r\n    </g>\r\n   </g>\r\n   <g id=\"patch_3\">\r\n    <path d=\"M 35.304688 279 \r\nL 35.304688 7.2 \r\n\" style=\"fill:none;stroke:#000000;stroke-linecap:square;stroke-linejoin:miter;stroke-width:0.8;\"/>\r\n   </g>\r\n   <g id=\"patch_4\">\r\n    <path d=\"M 314.304688 279 \r\nL 314.304688 7.2 \r\n\" style=\"fill:none;stroke:#000000;stroke-linecap:square;stroke-linejoin:miter;stroke-width:0.8;\"/>\r\n   </g>\r\n   <g id=\"patch_5\">\r\n    <path d=\"M 35.304688 279 \r\nL 314.304688 279 \r\n\" style=\"fill:none;stroke:#000000;stroke-linecap:square;stroke-linejoin:miter;stroke-width:0.8;\"/>\r\n   </g>\r\n   <g id=\"patch_6\">\r\n    <path d=\"M 35.304688 7.2 \r\nL 314.304688 7.2 \r\n\" style=\"fill:none;stroke:#000000;stroke-linecap:square;stroke-linejoin:miter;stroke-width:0.8;\"/>\r\n   </g>\r\n  </g>\r\n </g>\r\n <defs>\r\n  <clipPath id=\"p56599dd02a\">\r\n   <rect height=\"271.8\" width=\"279\" x=\"35.304688\" y=\"7.2\"/>\r\n  </clipPath>\r\n </defs>\r\n</svg>\r\n",
      "image/png": "[encoded data removed]"
     },
     "metadata": {
      "needs_background": "light"
     }
    }
   ],
   "source": [
    "colors = ListedColormap(['red', 'blue'])\n",
    "\n",
    "pyplot.figure(figsize(5, 5))\n",
    "pyplot.scatter(list(map(lambda x: x[0], blobs[0])), list(map(lambda y: y[1], blobs[0])), c=blobs[1], cmap=colors)"
   ]
  },
  {
   "cell_type": "code",
   "execution_count": 5,
   "metadata": {},
   "outputs": [],
   "source": [
    "train_data, test_data, train_labels, test_labels = model_selection.train_test_split(blobs[0], blobs[1], test_size=0.3, random_state=1)"
   ]
  },
  {
   "cell_type": "code",
   "execution_count": 6,
   "metadata": {},
   "outputs": [],
   "source": [
    "# ridge - гребневая классификация (вроде как просто с регуляризцией)\n",
    "\n",
    "ridge_classifier = linear_model.RidgeClassifier(random_state=1)"
   ]
  },
  {
   "cell_type": "code",
   "execution_count": 7,
   "metadata": {},
   "outputs": [
    {
     "output_type": "execute_result",
     "data": {
      "text/plain": [
       "RidgeClassifier(random_state=1)"
      ]
     },
     "metadata": {},
     "execution_count": 7
    }
   ],
   "source": [
    "ridge_classifier.fit(train_data, train_labels)"
   ]
  },
  {
   "cell_type": "code",
   "execution_count": 8,
   "metadata": {},
   "outputs": [],
   "source": [
    "ridge_predictions = ridge_classifier.predict(test_data)"
   ]
  },
  {
   "cell_type": "code",
   "execution_count": 9,
   "metadata": {},
   "outputs": [
    {
     "output_type": "stream",
     "name": "stdout",
     "text": [
      "[0 0 0 1 0 1 0 0 0 1 0 1 0 1 1 1 1 0 1 1 1 0 0 1 1 1 1 0 0 1]\n"
     ]
    }
   ],
   "source": [
    "print(ridge_predictions)"
   ]
  },
  {
   "cell_type": "code",
   "execution_count": 10,
   "metadata": {},
   "outputs": [
    {
     "output_type": "stream",
     "name": "stdout",
     "text": [
      "[0 0 0 1 0 0 0 0 0 1 0 1 0 1 1 1 0 0 0 1 0 0 0 1 1 1 1 0 0 1]\n"
     ]
    }
   ],
   "source": [
    "print(test_labels)"
   ]
  },
  {
   "cell_type": "code",
   "execution_count": 11,
   "metadata": {},
   "outputs": [
    {
     "output_type": "execute_result",
     "data": {
      "text/plain": [
       "0.8666666666666667"
      ]
     },
     "metadata": {},
     "execution_count": 11
    }
   ],
   "source": [
    "metrics.accuracy_score(test_labels, ridge_predictions)"
   ]
  },
  {
   "cell_type": "code",
   "execution_count": 12,
   "metadata": {},
   "outputs": [
    {
     "output_type": "execute_result",
     "data": {
      "text/plain": [
       "array([[-0.0854443 , -0.07273219]])"
      ]
     },
     "metadata": {},
     "execution_count": 12
    }
   ],
   "source": [
    "ridge_classifier.coef_"
   ]
  },
  {
   "cell_type": "code",
   "execution_count": 13,
   "metadata": {},
   "outputs": [
    {
     "output_type": "execute_result",
     "data": {
      "text/plain": [
       "array([-0.31250723])"
      ]
     },
     "metadata": {},
     "execution_count": 13
    }
   ],
   "source": [
    "ridge_classifier.intercept_ # коэффициент перед своб членом"
   ]
  },
  {
   "cell_type": "code",
   "execution_count": 14,
   "metadata": {},
   "outputs": [
    {
     "output_type": "execute_result",
     "data": {
      "text/plain": [
       "0.75"
      ]
     },
     "metadata": {},
     "execution_count": 14
    }
   ],
   "source": [
    "metrics.precision_score(test_labels, ridge_predictions)"
   ]
  },
  {
   "cell_type": "code",
   "execution_count": 15,
   "metadata": {},
   "outputs": [
    {
     "output_type": "execute_result",
     "data": {
      "text/plain": [
       "1.0"
      ]
     },
     "metadata": {},
     "execution_count": 15
    }
   ],
   "source": [
    "metrics.recall_score(test_labels, ridge_predictions)"
   ]
  },
  {
   "cell_type": "code",
   "execution_count": 16,
   "metadata": {},
   "outputs": [
    {
     "output_type": "execute_result",
     "data": {
      "text/plain": [
       "0.8888888888888888"
      ]
     },
     "metadata": {},
     "execution_count": 16
    }
   ],
   "source": [
    "metrics.roc_auc_score(test_labels, ridge_predictions)"
   ]
  },
  {
   "cell_type": "code",
   "execution_count": 17,
   "metadata": {},
   "outputs": [],
   "source": [
    "logistic_regression = linear_model.LogisticRegression(random_state=1)\n"
   ]
  },
  {
   "cell_type": "code",
   "execution_count": 18,
   "metadata": {},
   "outputs": [
    {
     "output_type": "execute_result",
     "data": {
      "text/plain": [
       "LogisticRegression(random_state=1)"
      ]
     },
     "metadata": {},
     "execution_count": 18
    }
   ],
   "source": [
    "logistic_regression.fit(train_data, train_labels)"
   ]
  },
  {
   "cell_type": "code",
   "execution_count": 19,
   "metadata": {},
   "outputs": [
    {
     "output_type": "execute_result",
     "data": {
      "text/plain": [
       "array([[-0.42738572, -0.3117454 ]])"
      ]
     },
     "metadata": {},
     "execution_count": 19
    }
   ],
   "source": [
    "logistic_regression.coef_"
   ]
  },
  {
   "cell_type": "code",
   "execution_count": 20,
   "metadata": {},
   "outputs": [
    {
     "output_type": "execute_result",
     "data": {
      "text/plain": [
       "array([-1.27059303])"
      ]
     },
     "metadata": {},
     "execution_count": 20
    }
   ],
   "source": [
    "logistic_regression.intercept_"
   ]
  },
  {
   "cell_type": "code",
   "execution_count": 21,
   "metadata": {},
   "outputs": [],
   "source": [
    "lr_preds = logistic_regression.predict(test_data)"
   ]
  },
  {
   "cell_type": "code",
   "execution_count": 22,
   "metadata": {},
   "outputs": [
    {
     "output_type": "execute_result",
     "data": {
      "text/plain": [
       "array([0, 1, 1, 1, 0, 1, 0, 0, 0, 1, 0, 1, 0, 1, 1, 1, 1, 0, 1, 1, 1, 0,\n",
       "       0, 1, 1, 1, 1, 0, 0, 1])"
      ]
     },
     "metadata": {},
     "execution_count": 22
    }
   ],
   "source": [
    "lr_preds"
   ]
  },
  {
   "cell_type": "code",
   "execution_count": 23,
   "metadata": {},
   "outputs": [
    {
     "output_type": "execute_result",
     "data": {
      "text/plain": [
       "array([0, 0, 0, 1, 0, 0, 0, 0, 0, 1, 0, 1, 0, 1, 1, 1, 0, 0, 0, 1, 0, 0,\n",
       "       0, 1, 1, 1, 1, 0, 0, 1])"
      ]
     },
     "metadata": {},
     "execution_count": 23
    }
   ],
   "source": [
    "test_labels"
   ]
  },
  {
   "cell_type": "code",
   "execution_count": 24,
   "metadata": {},
   "outputs": [],
   "source": [
    "# we can also get probabilities of each prediction\n",
    "\n",
    "lr_proba_pred = logistic_regression.predict_proba(test_data)"
   ]
  },
  {
   "cell_type": "code",
   "execution_count": 25,
   "metadata": {},
   "outputs": [
    {
     "output_type": "execute_result",
     "data": {
      "text/plain": [
       "array([[9.99254667e-01, 7.45333217e-04],\n",
       "       [4.08279523e-01, 5.91720477e-01],\n",
       "       [4.90541791e-01, 5.09458209e-01],\n",
       "       [3.78296027e-03, 9.96217040e-01],\n",
       "       [7.32221196e-01, 2.67778804e-01],\n",
       "       [2.44262899e-01, 7.55737101e-01],\n",
       "       [9.93761113e-01, 6.23888724e-03],\n",
       "       [9.78405579e-01, 2.15944205e-02],\n",
       "       [9.55344987e-01, 4.46550128e-02],\n",
       "       [1.68318566e-01, 8.31681434e-01],\n",
       "       [9.20548027e-01, 7.94519726e-02],\n",
       "       [8.49635842e-03, 9.91503642e-01],\n",
       "       [8.42172474e-01, 1.57827526e-01],\n",
       "       [4.78103481e-02, 9.52189652e-01],\n",
       "       [4.16878377e-03, 9.95831216e-01],\n",
       "       [7.76668489e-04, 9.99223332e-01],\n",
       "       [2.05937909e-01, 7.94062091e-01],\n",
       "       [9.31195721e-01, 6.88042793e-02],\n",
       "       [2.41180236e-01, 7.58819764e-01],\n",
       "       [8.27655095e-04, 9.99172345e-01],\n",
       "       [8.91142562e-02, 9.10885744e-01],\n",
       "       [9.95944524e-01, 4.05547579e-03],\n",
       "       [9.84077857e-01, 1.59221428e-02],\n",
       "       [3.02681109e-01, 6.97318891e-01],\n",
       "       [1.47440544e-03, 9.98525595e-01],\n",
       "       [7.78506108e-03, 9.92214939e-01],\n",
       "       [2.89544877e-01, 7.10455123e-01],\n",
       "       [8.84591004e-01, 1.15408996e-01],\n",
       "       [9.92724199e-01, 7.27580141e-03],\n",
       "       [3.34985738e-03, 9.96650143e-01]])"
      ]
     },
     "metadata": {},
     "execution_count": 25
    }
   ],
   "source": [
    "lr_proba_pred"
   ]
  },
  {
   "cell_type": "code",
   "execution_count": 26,
   "metadata": {},
   "outputs": [
    {
     "output_type": "execute_result",
     "data": {
      "text/plain": [
       "0.8"
      ]
     },
     "metadata": {},
     "execution_count": 26
    }
   ],
   "source": [
    "metrics.accuracy_score(test_labels, lr_preds)"
   ]
  },
  {
   "cell_type": "code",
   "execution_count": 27,
   "metadata": {},
   "outputs": [
    {
     "output_type": "execute_result",
     "data": {
      "text/plain": [
       "0.8666666666666667"
      ]
     },
     "metadata": {},
     "execution_count": 27
    }
   ],
   "source": [
    "metrics.accuracy_score(test_labels, ridge_predictions)"
   ]
  },
  {
   "cell_type": "code",
   "execution_count": 28,
   "metadata": {},
   "outputs": [
    {
     "output_type": "execute_result",
     "data": {
      "text/plain": [
       "0.8333333333333334"
      ]
     },
     "metadata": {},
     "execution_count": 28
    }
   ],
   "source": [
    "metrics.roc_auc_score(test_labels, lr_preds)"
   ]
  },
  {
   "cell_type": "code",
   "execution_count": 29,
   "metadata": {},
   "outputs": [
    {
     "output_type": "execute_result",
     "data": {
      "text/plain": [
       "0.8888888888888888"
      ]
     },
     "metadata": {},
     "execution_count": 29
    }
   ],
   "source": [
    "metrics.roc_auc_score(test_labels, ridge_predictions)"
   ]
  },
  {
   "cell_type": "code",
   "execution_count": 30,
   "metadata": {},
   "outputs": [],
   "source": [
    "# now lets use CV - we can just call for ONE CARL ONE method cross_cal_score\n",
    "\n",
    "ridge_scoring = model_selection.cross_val_score(ridge_classifier, blobs[0], blobs[1], scoring='accuracy', cv=10)\n",
    "lr_scoring = model_selection.cross_val_score(logistic_regression, blobs[0], blobs[1], scoring='accuracy', cv=10)\n"
   ]
  },
  {
   "cell_type": "code",
   "execution_count": 31,
   "metadata": {},
   "outputs": [
    {
     "output_type": "stream",
     "name": "stdout",
     "text": [
      "Ridge \n    mean: 0.8800000000000001\n    min: 0.7\n    max: 1.0\n    std: 0.08717797887081348\n"
     ]
    }
   ],
   "source": [
    "print(f\"\"\"Ridge \n",
    "    mean: {ridge_scoring.mean()}\n",
    "    min: {ridge_scoring.min()}\n",
    "    max: {ridge_scoring.max()}\n",
    "    std: {ridge_scoring.std()}\"\"\")"
   ]
  },
  {
   "cell_type": "code",
   "execution_count": 32,
   "metadata": {},
   "outputs": [
    {
     "output_type": "stream",
     "name": "stdout",
     "text": [
      "LogReg\n    mean: 0.8800000000000001\n    min: 0.7\n    max: 1.0\n    std: 0.08717797887081348\n"
     ]
    }
   ],
   "source": [
    "print(f\"\"\"LogReg\n",
    "    mean: {lr_scoring.mean()}\n",
    "    min: {lr_scoring.min()}\n",
    "    max: {lr_scoring.max()}\n",
    "    std: {lr_scoring.std()}\"\"\")"
   ]
  },
  {
   "cell_type": "code",
   "execution_count": 38,
   "metadata": {},
   "outputs": [],
   "source": [
    "# set our own scorer and cv_strategy\n",
    "\n",
    "scorer = metrics.make_scorer(metrics.precision_score)\n",
    "cv_strategy = model_selection.StratifiedShuffleSplit(n_splits=20, test_size=0.3, random_state=2)\n",
    "\n",
    "ridge_scoring = model_selection.cross_val_score(ridge_classifier, blobs[0], blobs[1], scoring=scorer, cv=cv_strategy)\n",
    "lr_scoring = model_selection.cross_val_score(logistic_regression, blobs[0], blobs[1], scoring=scorer, cv=cv_strategy)"
   ]
  },
  {
   "cell_type": "code",
   "execution_count": 39,
   "metadata": {},
   "outputs": [
    {
     "output_type": "stream",
     "name": "stdout",
     "text": [
      "Ridge \n    mean: 0.8968737879767292\n    min: 0.7857142857142857\n    max: 1.0\n    std: 0.06508015494660803\n"
     ]
    }
   ],
   "source": [
    "print(f\"\"\"Ridge \n",
    "    mean: {ridge_scoring.mean()}\n",
    "    min: {ridge_scoring.min()}\n",
    "    max: {ridge_scoring.max()}\n",
    "    std: {ridge_scoring.std()}\"\"\")"
   ]
  },
  {
   "cell_type": "code",
   "execution_count": 40,
   "metadata": {},
   "outputs": [
    {
     "output_type": "stream",
     "name": "stdout",
     "text": [
      "LogReg\n    mean: 0.894824301515478\n    min: 0.7777777777777778\n    max: 1.0\n    std: 0.068466613620841\n"
     ]
    }
   ],
   "source": [
    "print(f\"\"\"LogReg\n",
    "    mean: {lr_scoring.mean()}\n",
    "    min: {lr_scoring.min()}\n",
    "    max: {lr_scoring.max()}\n",
    "    std: {lr_scoring.std()}\"\"\")"
   ]
  },
  {
   "cell_type": "code",
   "execution_count": null,
   "metadata": {},
   "outputs": [],
   "source": []
  }
 ]
}