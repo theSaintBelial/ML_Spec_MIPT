{
 "cells": [
  {
   "cell_type": "markdown",
   "metadata": {},
   "source": [
    "**Корректность проверена на Python 3.6:**\n",
    "+ numpy 1.15.4\n",
    "+ matplotlib 3.0.2\n",
    "+ sklearn 0.20.2"
   ]
  },
  {
   "cell_type": "markdown",
   "metadata": {},
   "source": [
    "# Sklearn"
   ]
  },
  {
   "cell_type": "markdown",
   "metadata": {},
   "source": [
    "## sklearn.linear_model"
   ]
  },
  {
   "cell_type": "code",
   "execution_count": 1,
   "metadata": {},
   "outputs": [],
   "source": [
    "from matplotlib.colors import ListedColormap\n",
    "from sklearn import model_selection, datasets, linear_model, metrics\n",
    "\n",
    "import numpy as np"
   ]
  },
  {
   "cell_type": "code",
   "execution_count": 2,
   "metadata": {},
   "outputs": [
    {
     "output_type": "stream",
     "name": "stdout",
     "text": [
      "Populating the interactive namespace from numpy and matplotlib\n"
     ]
    }
   ],
   "source": [
    "%pylab inline"
   ]
  },
  {
   "cell_type": "markdown",
   "metadata": {},
   "source": [
    "### Линейная регрессия"
   ]
  },
  {
   "cell_type": "markdown",
   "metadata": {},
   "source": [
    "#### Генерация данных"
   ]
  },
  {
   "cell_type": "code",
   "execution_count": 3,
   "metadata": {},
   "outputs": [],
   "source": [
    "data, target, coef = datasets.make_regression(n_features = 2, n_informative = 1, n_targets = 1, \n",
    "                                              noise = 5., coef = True, random_state = 2)"
   ]
  },
  {
   "cell_type": "code",
   "execution_count": 4,
   "metadata": {},
   "outputs": [
    {
     "output_type": "execute_result",
     "data": {
      "text/plain": [
       "<matplotlib.collections.PathCollection at 0x20c61f09250>"
      ]
     },
     "metadata": {},
     "execution_count": 4
    },
    {
     "output_type": "display_data",
     "data": {
      "text/plain": "<Figure size 432x288 with 1 Axes>",
      "image/svg+xml": "<?xml version=\"1.0\" encoding=\"utf-8\" standalone=\"no\"?>\r\n<!DOCTYPE svg PUBLIC \"-//W3C//DTD SVG 1.1//EN\"\r\n  \"http://www.w3.org/Graphics/SVG/1.1/DTD/svg11.dtd\">\r\n<!-- Created with matplotlib (https://matplotlib.org/) -->\r\n<svg height=\"248.518125pt\" version=\"1.1\" viewBox=\"0 0 383.667188 248.518125\" width=\"383.667188pt\" xmlns=\"http://www.w3.org/2000/svg\" xmlns:xlink=\"http://www.w3.org/1999/xlink\">\r\n <metadata>\r\n  <rdf:RDF xmlns:cc=\"http://creativecommons.org/ns#\" xmlns:dc=\"http://purl.org/dc/elements/1.1/\" xmlns:rdf=\"http://www.w3.org/1999/02/22-rdf-syntax-ns#\">\r\n   <cc:Work>\r\n    <dc:type rdf:resource=\"http://purl.org/dc/dcmitype/StillImage\"/>\r\n    <dc:date>2021-03-26T20:23:31.965073</dc:date>\r\n    <dc:format>image/svg+xml</dc:format>\r\n    <dc:creator>\r\n     <cc:Agent>\r\n      <dc:title>Matplotlib v3.3.2, https://matplotlib.org/</dc:title>\r\n     </cc:Agent>\r\n    </dc:creator>\r\n   </cc:Work>\r\n  </rdf:RDF>\r\n </metadata>\r\n <defs>\r\n  <style type=\"text/css\">*{stroke-linecap:butt;stroke-linejoin:round;}</style>\r\n </defs>\r\n <g id=\"figure_1\">\r\n  <g id=\"patch_1\">\r\n   <path d=\"M 0 248.518125 \r\nL 383.667188 248.518125 \r\nL 383.667188 0 \r\nL 0 0 \r\nz\r\n\" style=\"fill:none;\"/>\r\n  </g>\r\n  <g id=\"axes_1\">\r\n   <g id=\"patch_2\">\r\n    <path d=\"M 41.667188 224.64 \r\nL 376.467188 224.64 \r\nL 376.467188 7.2 \r\nL 41.667188 7.2 \r\nz\r\n\" style=\"fill:#ffffff;\"/>\r\n   </g>\r\n   <g id=\"PathCollection_1\">\r\n    <defs>\r\n     <path d=\"M 0 3 \r\nC 0.795609 3 1.55874 2.683901 2.12132 2.12132 \r\nC 2.683901 1.55874 3 0.795609 3 0 \r\nC 3 -0.795609 2.683901 -1.55874 2.12132 -2.12132 \r\nC 1.55874 -2.683901 0.795609 -3 0 -3 \r\nC -0.795609 -3 -1.55874 -2.683901 -2.12132 -2.12132 \r\nC -2.683901 -1.55874 -3 -0.795609 -3 0 \r\nC -3 0.795609 -2.683901 1.55874 -2.12132 2.12132 \r\nC -1.55874 2.683901 -0.795609 3 0 3 \r\nz\r\n\" id=\"mcf960b3f02\" style=\"stroke:#ff0000;\"/>\r\n    </defs>\r\n    <g clip-path=\"url(#p11441511fb)\">\r\n     <use style=\"fill:#ff0000;stroke:#ff0000;\" x=\"125.470574\" xlink:href=\"#mcf960b3f02\" y=\"169.855846\"/>\r\n     <use style=\"fill:#ff0000;stroke:#ff0000;\" x=\"164.061121\" xlink:href=\"#mcf960b3f02\" y=\"143.766518\"/>\r\n     <use style=\"fill:#ff0000;stroke:#ff0000;\" x=\"155.704524\" xlink:href=\"#mcf960b3f02\" y=\"152.079172\"/>\r\n     <use style=\"fill:#ff0000;stroke:#ff0000;\" x=\"192.897396\" xlink:href=\"#mcf960b3f02\" y=\"127.218617\"/>\r\n     <use style=\"fill:#ff0000;stroke:#ff0000;\" x=\"130.54786\" xlink:href=\"#mcf960b3f02\" y=\"167.669102\"/>\r\n     <use style=\"fill:#ff0000;stroke:#ff0000;\" x=\"162.382447\" xlink:href=\"#mcf960b3f02\" y=\"148.237627\"/>\r\n     <use style=\"fill:#ff0000;stroke:#ff0000;\" x=\"156.054278\" xlink:href=\"#mcf960b3f02\" y=\"152.949648\"/>\r\n     <use style=\"fill:#ff0000;stroke:#ff0000;\" x=\"157.739306\" xlink:href=\"#mcf960b3f02\" y=\"145.973541\"/>\r\n     <use style=\"fill:#ff0000;stroke:#ff0000;\" x=\"120.024309\" xlink:href=\"#mcf960b3f02\" y=\"169.773417\"/>\r\n     <use style=\"fill:#ff0000;stroke:#ff0000;\" x=\"221.46742\" xlink:href=\"#mcf960b3f02\" y=\"106.590546\"/>\r\n     <use style=\"fill:#ff0000;stroke:#ff0000;\" x=\"98.324812\" xlink:href=\"#mcf960b3f02\" y=\"188.238916\"/>\r\n     <use style=\"fill:#ff0000;stroke:#ff0000;\" x=\"106.926901\" xlink:href=\"#mcf960b3f02\" y=\"183.253311\"/>\r\n     <use style=\"fill:#ff0000;stroke:#ff0000;\" x=\"185.664166\" xlink:href=\"#mcf960b3f02\" y=\"125.131162\"/>\r\n     <use style=\"fill:#ff0000;stroke:#ff0000;\" x=\"80.416095\" xlink:href=\"#mcf960b3f02\" y=\"198.803666\"/>\r\n     <use style=\"fill:#ff0000;stroke:#ff0000;\" x=\"195.975272\" xlink:href=\"#mcf960b3f02\" y=\"120.345995\"/>\r\n     <use style=\"fill:#ff0000;stroke:#ff0000;\" x=\"155.419373\" xlink:href=\"#mcf960b3f02\" y=\"150.137417\"/>\r\n     <use style=\"fill:#ff0000;stroke:#ff0000;\" x=\"164.381421\" xlink:href=\"#mcf960b3f02\" y=\"147.274965\"/>\r\n     <use style=\"fill:#ff0000;stroke:#ff0000;\" x=\"161.863429\" xlink:href=\"#mcf960b3f02\" y=\"144.425967\"/>\r\n     <use style=\"fill:#ff0000;stroke:#ff0000;\" x=\"135.90688\" xlink:href=\"#mcf960b3f02\" y=\"163.857984\"/>\r\n     <use style=\"fill:#ff0000;stroke:#ff0000;\" x=\"112.676953\" xlink:href=\"#mcf960b3f02\" y=\"178.83499\"/>\r\n     <use style=\"fill:#ff0000;stroke:#ff0000;\" x=\"207.740482\" xlink:href=\"#mcf960b3f02\" y=\"127.881839\"/>\r\n     <use style=\"fill:#ff0000;stroke:#ff0000;\" x=\"127.070587\" xlink:href=\"#mcf960b3f02\" y=\"162.372439\"/>\r\n     <use style=\"fill:#ff0000;stroke:#ff0000;\" x=\"147.104232\" xlink:href=\"#mcf960b3f02\" y=\"149.923062\"/>\r\n     <use style=\"fill:#ff0000;stroke:#ff0000;\" x=\"323.971214\" xlink:href=\"#mcf960b3f02\" y=\"41.949837\"/>\r\n     <use style=\"fill:#ff0000;stroke:#ff0000;\" x=\"207.788977\" xlink:href=\"#mcf960b3f02\" y=\"121.491962\"/>\r\n     <use style=\"fill:#ff0000;stroke:#ff0000;\" x=\"174.701449\" xlink:href=\"#mcf960b3f02\" y=\"135.853234\"/>\r\n     <use style=\"fill:#ff0000;stroke:#ff0000;\" x=\"128.904768\" xlink:href=\"#mcf960b3f02\" y=\"163.210015\"/>\r\n     <use style=\"fill:#ff0000;stroke:#ff0000;\" x=\"159.587054\" xlink:href=\"#mcf960b3f02\" y=\"148.595336\"/>\r\n     <use style=\"fill:#ff0000;stroke:#ff0000;\" x=\"121.553203\" xlink:href=\"#mcf960b3f02\" y=\"166.477548\"/>\r\n     <use style=\"fill:#ff0000;stroke:#ff0000;\" x=\"291.17424\" xlink:href=\"#mcf960b3f02\" y=\"60.9099\"/>\r\n     <use style=\"fill:#ff0000;stroke:#ff0000;\" x=\"245.364251\" xlink:href=\"#mcf960b3f02\" y=\"92.79424\"/>\r\n     <use style=\"fill:#ff0000;stroke:#ff0000;\" x=\"182.094249\" xlink:href=\"#mcf960b3f02\" y=\"131.748523\"/>\r\n     <use style=\"fill:#ff0000;stroke:#ff0000;\" x=\"226.752338\" xlink:href=\"#mcf960b3f02\" y=\"102.614356\"/>\r\n     <use style=\"fill:#ff0000;stroke:#ff0000;\" x=\"259.015915\" xlink:href=\"#mcf960b3f02\" y=\"88.383289\"/>\r\n     <use style=\"fill:#ff0000;stroke:#ff0000;\" x=\"168.239868\" xlink:href=\"#mcf960b3f02\" y=\"145.035112\"/>\r\n     <use style=\"fill:#ff0000;stroke:#ff0000;\" x=\"92.472808\" xlink:href=\"#mcf960b3f02\" y=\"189.175906\"/>\r\n     <use style=\"fill:#ff0000;stroke:#ff0000;\" x=\"242.482467\" xlink:href=\"#mcf960b3f02\" y=\"99.371103\"/>\r\n     <use style=\"fill:#ff0000;stroke:#ff0000;\" x=\"128.776747\" xlink:href=\"#mcf960b3f02\" y=\"175.050178\"/>\r\n     <use style=\"fill:#ff0000;stroke:#ff0000;\" x=\"160.090284\" xlink:href=\"#mcf960b3f02\" y=\"148.49794\"/>\r\n     <use style=\"fill:#ff0000;stroke:#ff0000;\" x=\"203.91913\" xlink:href=\"#mcf960b3f02\" y=\"115.414802\"/>\r\n     <use style=\"fill:#ff0000;stroke:#ff0000;\" x=\"144.136048\" xlink:href=\"#mcf960b3f02\" y=\"156.095022\"/>\r\n     <use style=\"fill:#ff0000;stroke:#ff0000;\" x=\"158.317872\" xlink:href=\"#mcf960b3f02\" y=\"148.64321\"/>\r\n     <use style=\"fill:#ff0000;stroke:#ff0000;\" x=\"175.620625\" xlink:href=\"#mcf960b3f02\" y=\"137.169469\"/>\r\n     <use style=\"fill:#ff0000;stroke:#ff0000;\" x=\"203.531116\" xlink:href=\"#mcf960b3f02\" y=\"115.178657\"/>\r\n     <use style=\"fill:#ff0000;stroke:#ff0000;\" x=\"229.254685\" xlink:href=\"#mcf960b3f02\" y=\"104.917545\"/>\r\n     <use style=\"fill:#ff0000;stroke:#ff0000;\" x=\"188.018908\" xlink:href=\"#mcf960b3f02\" y=\"132.799143\"/>\r\n     <use style=\"fill:#ff0000;stroke:#ff0000;\" x=\"84.72751\" xlink:href=\"#mcf960b3f02\" y=\"196.187603\"/>\r\n     <use style=\"fill:#ff0000;stroke:#ff0000;\" x=\"109.814389\" xlink:href=\"#mcf960b3f02\" y=\"181.814392\"/>\r\n     <use style=\"fill:#ff0000;stroke:#ff0000;\" x=\"199.049464\" xlink:href=\"#mcf960b3f02\" y=\"119.585942\"/>\r\n     <use style=\"fill:#ff0000;stroke:#ff0000;\" x=\"194.312453\" xlink:href=\"#mcf960b3f02\" y=\"117.343134\"/>\r\n     <use style=\"fill:#ff0000;stroke:#ff0000;\" x=\"193.139831\" xlink:href=\"#mcf960b3f02\" y=\"127.382869\"/>\r\n     <use style=\"fill:#ff0000;stroke:#ff0000;\" x=\"147.939369\" xlink:href=\"#mcf960b3f02\" y=\"152.084236\"/>\r\n     <use style=\"fill:#ff0000;stroke:#ff0000;\" x=\"200.058557\" xlink:href=\"#mcf960b3f02\" y=\"126.840004\"/>\r\n     <use style=\"fill:#ff0000;stroke:#ff0000;\" x=\"112.568725\" xlink:href=\"#mcf960b3f02\" y=\"169.207737\"/>\r\n     <use style=\"fill:#ff0000;stroke:#ff0000;\" x=\"66.989323\" xlink:href=\"#mcf960b3f02\" y=\"204.124328\"/>\r\n     <use style=\"fill:#ff0000;stroke:#ff0000;\" x=\"176.481363\" xlink:href=\"#mcf960b3f02\" y=\"134.828372\"/>\r\n     <use style=\"fill:#ff0000;stroke:#ff0000;\" x=\"257.093901\" xlink:href=\"#mcf960b3f02\" y=\"88.006677\"/>\r\n     <use style=\"fill:#ff0000;stroke:#ff0000;\" x=\"203.972945\" xlink:href=\"#mcf960b3f02\" y=\"117.914463\"/>\r\n     <use style=\"fill:#ff0000;stroke:#ff0000;\" x=\"136.992375\" xlink:href=\"#mcf960b3f02\" y=\"160.588782\"/>\r\n     <use style=\"fill:#ff0000;stroke:#ff0000;\" x=\"157.624244\" xlink:href=\"#mcf960b3f02\" y=\"145.768754\"/>\r\n     <use style=\"fill:#ff0000;stroke:#ff0000;\" x=\"187.338474\" xlink:href=\"#mcf960b3f02\" y=\"128.429739\"/>\r\n     <use style=\"fill:#ff0000;stroke:#ff0000;\" x=\"210.296815\" xlink:href=\"#mcf960b3f02\" y=\"116.995089\"/>\r\n     <use style=\"fill:#ff0000;stroke:#ff0000;\" x=\"236.541391\" xlink:href=\"#mcf960b3f02\" y=\"102.905736\"/>\r\n     <use style=\"fill:#ff0000;stroke:#ff0000;\" x=\"254.810292\" xlink:href=\"#mcf960b3f02\" y=\"77.935359\"/>\r\n     <use style=\"fill:#ff0000;stroke:#ff0000;\" x=\"213.781705\" xlink:href=\"#mcf960b3f02\" y=\"113.940474\"/>\r\n     <use style=\"fill:#ff0000;stroke:#ff0000;\" x=\"147.805551\" xlink:href=\"#mcf960b3f02\" y=\"156.206954\"/>\r\n     <use style=\"fill:#ff0000;stroke:#ff0000;\" x=\"159.324112\" xlink:href=\"#mcf960b3f02\" y=\"146.515892\"/>\r\n     <use style=\"fill:#ff0000;stroke:#ff0000;\" x=\"178.348952\" xlink:href=\"#mcf960b3f02\" y=\"136.662532\"/>\r\n     <use style=\"fill:#ff0000;stroke:#ff0000;\" x=\"161.929515\" xlink:href=\"#mcf960b3f02\" y=\"147.242806\"/>\r\n     <use style=\"fill:#ff0000;stroke:#ff0000;\" x=\"167.960483\" xlink:href=\"#mcf960b3f02\" y=\"143.753229\"/>\r\n     <use style=\"fill:#ff0000;stroke:#ff0000;\" x=\"213.567853\" xlink:href=\"#mcf960b3f02\" y=\"118.359687\"/>\r\n     <use style=\"fill:#ff0000;stroke:#ff0000;\" x=\"171.335394\" xlink:href=\"#mcf960b3f02\" y=\"139.373299\"/>\r\n     <use style=\"fill:#ff0000;stroke:#ff0000;\" x=\"228.714595\" xlink:href=\"#mcf960b3f02\" y=\"103.088754\"/>\r\n     <use style=\"fill:#ff0000;stroke:#ff0000;\" x=\"184.593961\" xlink:href=\"#mcf960b3f02\" y=\"126.875707\"/>\r\n     <use style=\"fill:#ff0000;stroke:#ff0000;\" x=\"193.590765\" xlink:href=\"#mcf960b3f02\" y=\"126.690805\"/>\r\n     <use style=\"fill:#ff0000;stroke:#ff0000;\" x=\"111.123068\" xlink:href=\"#mcf960b3f02\" y=\"172.012787\"/>\r\n     <use style=\"fill:#ff0000;stroke:#ff0000;\" x=\"166.216622\" xlink:href=\"#mcf960b3f02\" y=\"143.596727\"/>\r\n     <use style=\"fill:#ff0000;stroke:#ff0000;\" x=\"186.19967\" xlink:href=\"#mcf960b3f02\" y=\"126.639639\"/>\r\n     <use style=\"fill:#ff0000;stroke:#ff0000;\" x=\"361.249006\" xlink:href=\"#mcf960b3f02\" y=\"17.083636\"/>\r\n     <use style=\"fill:#ff0000;stroke:#ff0000;\" x=\"95.83005\" xlink:href=\"#mcf960b3f02\" y=\"193.176282\"/>\r\n     <use style=\"fill:#ff0000;stroke:#ff0000;\" x=\"56.885369\" xlink:href=\"#mcf960b3f02\" y=\"214.756364\"/>\r\n     <use style=\"fill:#ff0000;stroke:#ff0000;\" x=\"200.7224\" xlink:href=\"#mcf960b3f02\" y=\"119.658324\"/>\r\n     <use style=\"fill:#ff0000;stroke:#ff0000;\" x=\"222.936285\" xlink:href=\"#mcf960b3f02\" y=\"110.57178\"/>\r\n     <use style=\"fill:#ff0000;stroke:#ff0000;\" x=\"199.095523\" xlink:href=\"#mcf960b3f02\" y=\"122.60138\"/>\r\n     <use style=\"fill:#ff0000;stroke:#ff0000;\" x=\"226.359145\" xlink:href=\"#mcf960b3f02\" y=\"107.589955\"/>\r\n     <use style=\"fill:#ff0000;stroke:#ff0000;\" x=\"161.244086\" xlink:href=\"#mcf960b3f02\" y=\"148.958681\"/>\r\n     <use style=\"fill:#ff0000;stroke:#ff0000;\" x=\"237.965559\" xlink:href=\"#mcf960b3f02\" y=\"97.54669\"/>\r\n     <use style=\"fill:#ff0000;stroke:#ff0000;\" x=\"125.523873\" xlink:href=\"#mcf960b3f02\" y=\"160.432026\"/>\r\n     <use style=\"fill:#ff0000;stroke:#ff0000;\" x=\"201.279836\" xlink:href=\"#mcf960b3f02\" y=\"122.994729\"/>\r\n     <use style=\"fill:#ff0000;stroke:#ff0000;\" x=\"149.77971\" xlink:href=\"#mcf960b3f02\" y=\"152.708075\"/>\r\n     <use style=\"fill:#ff0000;stroke:#ff0000;\" x=\"212.420082\" xlink:href=\"#mcf960b3f02\" y=\"117.652906\"/>\r\n     <use style=\"fill:#ff0000;stroke:#ff0000;\" x=\"145.065304\" xlink:href=\"#mcf960b3f02\" y=\"163.395971\"/>\r\n     <use style=\"fill:#ff0000;stroke:#ff0000;\" x=\"193.653465\" xlink:href=\"#mcf960b3f02\" y=\"126.20884\"/>\r\n     <use style=\"fill:#ff0000;stroke:#ff0000;\" x=\"219.687329\" xlink:href=\"#mcf960b3f02\" y=\"105.549508\"/>\r\n     <use style=\"fill:#ff0000;stroke:#ff0000;\" x=\"162.806144\" xlink:href=\"#mcf960b3f02\" y=\"150.363093\"/>\r\n     <use style=\"fill:#ff0000;stroke:#ff0000;\" x=\"146.005825\" xlink:href=\"#mcf960b3f02\" y=\"154.53427\"/>\r\n     <use style=\"fill:#ff0000;stroke:#ff0000;\" x=\"142.849136\" xlink:href=\"#mcf960b3f02\" y=\"152.715732\"/>\r\n     <use style=\"fill:#ff0000;stroke:#ff0000;\" x=\"139.194675\" xlink:href=\"#mcf960b3f02\" y=\"150.513007\"/>\r\n     <use style=\"fill:#ff0000;stroke:#ff0000;\" x=\"192.631165\" xlink:href=\"#mcf960b3f02\" y=\"120.590062\"/>\r\n     <use style=\"fill:#ff0000;stroke:#ff0000;\" x=\"198.873314\" xlink:href=\"#mcf960b3f02\" y=\"126.426868\"/>\r\n    </g>\r\n   </g>\r\n   <g id=\"PathCollection_2\">\r\n    <defs>\r\n     <path d=\"M 0 3 \r\nC 0.795609 3 1.55874 2.683901 2.12132 2.12132 \r\nC 2.683901 1.55874 3 0.795609 3 0 \r\nC 3 -0.795609 2.683901 -1.55874 2.12132 -2.12132 \r\nC 1.55874 -2.683901 0.795609 -3 0 -3 \r\nC -0.795609 -3 -1.55874 -2.683901 -2.12132 -2.12132 \r\nC -2.683901 -1.55874 -3 -0.795609 -3 0 \r\nC -3 0.795609 -2.683901 1.55874 -2.12132 2.12132 \r\nC -1.55874 2.683901 -0.795609 3 0 3 \r\nz\r\n\" id=\"m838c87cb44\" style=\"stroke:#0000ff;\"/>\r\n    </defs>\r\n    <g clip-path=\"url(#p11441511fb)\">\r\n     <use style=\"fill:#0000ff;stroke:#0000ff;\" x=\"144.668177\" xlink:href=\"#m838c87cb44\" y=\"169.855846\"/>\r\n     <use style=\"fill:#0000ff;stroke:#0000ff;\" x=\"153.236634\" xlink:href=\"#m838c87cb44\" y=\"143.766518\"/>\r\n     <use style=\"fill:#0000ff;stroke:#0000ff;\" x=\"192.260395\" xlink:href=\"#m838c87cb44\" y=\"152.079172\"/>\r\n     <use style=\"fill:#0000ff;stroke:#0000ff;\" x=\"211.291426\" xlink:href=\"#m838c87cb44\" y=\"127.218617\"/>\r\n     <use style=\"fill:#0000ff;stroke:#0000ff;\" x=\"195.925777\" xlink:href=\"#m838c87cb44\" y=\"167.669102\"/>\r\n     <use style=\"fill:#0000ff;stroke:#0000ff;\" x=\"211.153355\" xlink:href=\"#m838c87cb44\" y=\"148.237627\"/>\r\n     <use style=\"fill:#0000ff;stroke:#0000ff;\" x=\"199.612197\" xlink:href=\"#m838c87cb44\" y=\"152.949648\"/>\r\n     <use style=\"fill:#0000ff;stroke:#0000ff;\" x=\"173.950603\" xlink:href=\"#m838c87cb44\" y=\"145.973541\"/>\r\n     <use style=\"fill:#0000ff;stroke:#0000ff;\" x=\"218.670184\" xlink:href=\"#m838c87cb44\" y=\"169.773417\"/>\r\n     <use style=\"fill:#0000ff;stroke:#0000ff;\" x=\"159.343177\" xlink:href=\"#m838c87cb44\" y=\"106.590546\"/>\r\n     <use style=\"fill:#0000ff;stroke:#0000ff;\" x=\"223.286821\" xlink:href=\"#m838c87cb44\" y=\"188.238916\"/>\r\n     <use style=\"fill:#0000ff;stroke:#0000ff;\" x=\"82.823978\" xlink:href=\"#m838c87cb44\" y=\"183.253311\"/>\r\n     <use style=\"fill:#0000ff;stroke:#0000ff;\" x=\"239.740114\" xlink:href=\"#m838c87cb44\" y=\"125.131162\"/>\r\n     <use style=\"fill:#0000ff;stroke:#0000ff;\" x=\"250.243972\" xlink:href=\"#m838c87cb44\" y=\"198.803666\"/>\r\n     <use style=\"fill:#0000ff;stroke:#0000ff;\" x=\"233.969692\" xlink:href=\"#m838c87cb44\" y=\"120.345995\"/>\r\n     <use style=\"fill:#0000ff;stroke:#0000ff;\" x=\"120.056099\" xlink:href=\"#m838c87cb44\" y=\"150.137417\"/>\r\n     <use style=\"fill:#0000ff;stroke:#0000ff;\" x=\"276.825583\" xlink:href=\"#m838c87cb44\" y=\"147.274965\"/>\r\n     <use style=\"fill:#0000ff;stroke:#0000ff;\" x=\"151.287155\" xlink:href=\"#m838c87cb44\" y=\"144.425967\"/>\r\n     <use style=\"fill:#0000ff;stroke:#0000ff;\" x=\"149.904876\" xlink:href=\"#m838c87cb44\" y=\"163.857984\"/>\r\n     <use style=\"fill:#0000ff;stroke:#0000ff;\" x=\"165.158631\" xlink:href=\"#m838c87cb44\" y=\"178.83499\"/>\r\n     <use style=\"fill:#0000ff;stroke:#0000ff;\" x=\"85.035847\" xlink:href=\"#m838c87cb44\" y=\"127.881839\"/>\r\n     <use style=\"fill:#0000ff;stroke:#0000ff;\" x=\"247.735374\" xlink:href=\"#m838c87cb44\" y=\"162.372439\"/>\r\n     <use style=\"fill:#0000ff;stroke:#0000ff;\" x=\"214.366219\" xlink:href=\"#m838c87cb44\" y=\"149.923062\"/>\r\n     <use style=\"fill:#0000ff;stroke:#0000ff;\" x=\"220.140599\" xlink:href=\"#m838c87cb44\" y=\"41.949837\"/>\r\n     <use style=\"fill:#0000ff;stroke:#0000ff;\" x=\"207.843763\" xlink:href=\"#m838c87cb44\" y=\"121.491962\"/>\r\n     <use style=\"fill:#0000ff;stroke:#0000ff;\" x=\"191.141312\" xlink:href=\"#m838c87cb44\" y=\"135.853234\"/>\r\n     <use style=\"fill:#0000ff;stroke:#0000ff;\" x=\"135.602813\" xlink:href=\"#m838c87cb44\" y=\"163.210015\"/>\r\n     <use style=\"fill:#0000ff;stroke:#0000ff;\" x=\"173.131971\" xlink:href=\"#m838c87cb44\" y=\"148.595336\"/>\r\n     <use style=\"fill:#0000ff;stroke:#0000ff;\" x=\"257.628315\" xlink:href=\"#m838c87cb44\" y=\"166.477548\"/>\r\n     <use style=\"fill:#0000ff;stroke:#0000ff;\" x=\"110.232261\" xlink:href=\"#m838c87cb44\" y=\"60.9099\"/>\r\n     <use style=\"fill:#0000ff;stroke:#0000ff;\" x=\"87.177355\" xlink:href=\"#m838c87cb44\" y=\"92.79424\"/>\r\n     <use style=\"fill:#0000ff;stroke:#0000ff;\" x=\"210.500858\" xlink:href=\"#m838c87cb44\" y=\"131.748523\"/>\r\n     <use style=\"fill:#0000ff;stroke:#0000ff;\" x=\"164.148246\" xlink:href=\"#m838c87cb44\" y=\"102.614356\"/>\r\n     <use style=\"fill:#0000ff;stroke:#0000ff;\" x=\"196.298766\" xlink:href=\"#m838c87cb44\" y=\"88.383289\"/>\r\n     <use style=\"fill:#0000ff;stroke:#0000ff;\" x=\"222.343835\" xlink:href=\"#m838c87cb44\" y=\"145.035112\"/>\r\n     <use style=\"fill:#0000ff;stroke:#0000ff;\" x=\"254.332372\" xlink:href=\"#m838c87cb44\" y=\"189.175906\"/>\r\n     <use style=\"fill:#0000ff;stroke:#0000ff;\" x=\"161.3855\" xlink:href=\"#m838c87cb44\" y=\"99.371103\"/>\r\n     <use style=\"fill:#0000ff;stroke:#0000ff;\" x=\"203.088193\" xlink:href=\"#m838c87cb44\" y=\"175.050178\"/>\r\n     <use style=\"fill:#0000ff;stroke:#0000ff;\" x=\"137.08809\" xlink:href=\"#m838c87cb44\" y=\"148.49794\"/>\r\n     <use style=\"fill:#0000ff;stroke:#0000ff;\" x=\"195.525598\" xlink:href=\"#m838c87cb44\" y=\"115.414802\"/>\r\n     <use style=\"fill:#0000ff;stroke:#0000ff;\" x=\"150.244745\" xlink:href=\"#m838c87cb44\" y=\"156.095022\"/>\r\n     <use style=\"fill:#0000ff;stroke:#0000ff;\" x=\"114.219061\" xlink:href=\"#m838c87cb44\" y=\"148.64321\"/>\r\n     <use style=\"fill:#0000ff;stroke:#0000ff;\" x=\"229.320779\" xlink:href=\"#m838c87cb44\" y=\"137.169469\"/>\r\n     <use style=\"fill:#0000ff;stroke:#0000ff;\" x=\"176.645492\" xlink:href=\"#m838c87cb44\" y=\"115.178657\"/>\r\n     <use style=\"fill:#0000ff;stroke:#0000ff;\" x=\"71.088989\" xlink:href=\"#m838c87cb44\" y=\"104.917545\"/>\r\n     <use style=\"fill:#0000ff;stroke:#0000ff;\" x=\"132.015488\" xlink:href=\"#m838c87cb44\" y=\"132.799143\"/>\r\n     <use style=\"fill:#0000ff;stroke:#0000ff;\" x=\"178.561037\" xlink:href=\"#m838c87cb44\" y=\"196.187603\"/>\r\n     <use style=\"fill:#0000ff;stroke:#0000ff;\" x=\"214.539606\" xlink:href=\"#m838c87cb44\" y=\"181.814392\"/>\r\n     <use style=\"fill:#0000ff;stroke:#0000ff;\" x=\"138.516598\" xlink:href=\"#m838c87cb44\" y=\"119.585942\"/>\r\n     <use style=\"fill:#0000ff;stroke:#0000ff;\" x=\"162.332565\" xlink:href=\"#m838c87cb44\" y=\"117.343134\"/>\r\n     <use style=\"fill:#0000ff;stroke:#0000ff;\" x=\"237.623717\" xlink:href=\"#m838c87cb44\" y=\"127.382869\"/>\r\n     <use style=\"fill:#0000ff;stroke:#0000ff;\" x=\"199.343525\" xlink:href=\"#m838c87cb44\" y=\"152.084236\"/>\r\n     <use style=\"fill:#0000ff;stroke:#0000ff;\" x=\"209.546478\" xlink:href=\"#m838c87cb44\" y=\"126.840004\"/>\r\n     <use style=\"fill:#0000ff;stroke:#0000ff;\" x=\"169.578239\" xlink:href=\"#m838c87cb44\" y=\"169.207737\"/>\r\n     <use style=\"fill:#0000ff;stroke:#0000ff;\" x=\"181.55024\" xlink:href=\"#m838c87cb44\" y=\"204.124328\"/>\r\n     <use style=\"fill:#0000ff;stroke:#0000ff;\" x=\"200.870542\" xlink:href=\"#m838c87cb44\" y=\"134.828372\"/>\r\n     <use style=\"fill:#0000ff;stroke:#0000ff;\" x=\"157.188177\" xlink:href=\"#m838c87cb44\" y=\"88.006677\"/>\r\n     <use style=\"fill:#0000ff;stroke:#0000ff;\" x=\"178.638164\" xlink:href=\"#m838c87cb44\" y=\"117.914463\"/>\r\n     <use style=\"fill:#0000ff;stroke:#0000ff;\" x=\"169.446073\" xlink:href=\"#m838c87cb44\" y=\"160.588782\"/>\r\n     <use style=\"fill:#0000ff;stroke:#0000ff;\" x=\"170.530088\" xlink:href=\"#m838c87cb44\" y=\"145.768754\"/>\r\n     <use style=\"fill:#0000ff;stroke:#0000ff;\" x=\"198.850177\" xlink:href=\"#m838c87cb44\" y=\"128.429739\"/>\r\n     <use style=\"fill:#0000ff;stroke:#0000ff;\" x=\"131.791451\" xlink:href=\"#m838c87cb44\" y=\"116.995089\"/>\r\n     <use style=\"fill:#0000ff;stroke:#0000ff;\" x=\"190.090178\" xlink:href=\"#m838c87cb44\" y=\"102.905736\"/>\r\n     <use style=\"fill:#0000ff;stroke:#0000ff;\" x=\"156.356791\" xlink:href=\"#m838c87cb44\" y=\"77.935359\"/>\r\n     <use style=\"fill:#0000ff;stroke:#0000ff;\" x=\"204.840021\" xlink:href=\"#m838c87cb44\" y=\"113.940474\"/>\r\n     <use style=\"fill:#0000ff;stroke:#0000ff;\" x=\"123.073949\" xlink:href=\"#m838c87cb44\" y=\"156.206954\"/>\r\n     <use style=\"fill:#0000ff;stroke:#0000ff;\" x=\"179.470938\" xlink:href=\"#m838c87cb44\" y=\"146.515892\"/>\r\n     <use style=\"fill:#0000ff;stroke:#0000ff;\" x=\"126.207769\" xlink:href=\"#m838c87cb44\" y=\"136.662532\"/>\r\n     <use style=\"fill:#0000ff;stroke:#0000ff;\" x=\"195.540339\" xlink:href=\"#m838c87cb44\" y=\"147.242806\"/>\r\n     <use style=\"fill:#0000ff;stroke:#0000ff;\" x=\"173.008397\" xlink:href=\"#m838c87cb44\" y=\"143.753229\"/>\r\n     <use style=\"fill:#0000ff;stroke:#0000ff;\" x=\"232.613112\" xlink:href=\"#m838c87cb44\" y=\"118.359687\"/>\r\n     <use style=\"fill:#0000ff;stroke:#0000ff;\" x=\"154.07801\" xlink:href=\"#m838c87cb44\" y=\"139.373299\"/>\r\n     <use style=\"fill:#0000ff;stroke:#0000ff;\" x=\"193.84287\" xlink:href=\"#m838c87cb44\" y=\"103.088754\"/>\r\n     <use style=\"fill:#0000ff;stroke:#0000ff;\" x=\"201.356745\" xlink:href=\"#m838c87cb44\" y=\"126.875707\"/>\r\n     <use style=\"fill:#0000ff;stroke:#0000ff;\" x=\"166.716342\" xlink:href=\"#m838c87cb44\" y=\"126.690805\"/>\r\n     <use style=\"fill:#0000ff;stroke:#0000ff;\" x=\"161.28025\" xlink:href=\"#m838c87cb44\" y=\"172.012787\"/>\r\n     <use style=\"fill:#0000ff;stroke:#0000ff;\" x=\"83.410373\" xlink:href=\"#m838c87cb44\" y=\"143.596727\"/>\r\n     <use style=\"fill:#0000ff;stroke:#0000ff;\" x=\"92.899046\" xlink:href=\"#m838c87cb44\" y=\"126.639639\"/>\r\n     <use style=\"fill:#0000ff;stroke:#0000ff;\" x=\"213.406765\" xlink:href=\"#m838c87cb44\" y=\"17.083636\"/>\r\n     <use style=\"fill:#0000ff;stroke:#0000ff;\" x=\"138.627509\" xlink:href=\"#m838c87cb44\" y=\"193.176282\"/>\r\n     <use style=\"fill:#0000ff;stroke:#0000ff;\" x=\"172.368296\" xlink:href=\"#m838c87cb44\" y=\"214.756364\"/>\r\n     <use style=\"fill:#0000ff;stroke:#0000ff;\" x=\"149.671597\" xlink:href=\"#m838c87cb44\" y=\"119.658324\"/>\r\n     <use style=\"fill:#0000ff;stroke:#0000ff;\" x=\"161.685671\" xlink:href=\"#m838c87cb44\" y=\"110.57178\"/>\r\n     <use style=\"fill:#0000ff;stroke:#0000ff;\" x=\"120.480266\" xlink:href=\"#m838c87cb44\" y=\"122.60138\"/>\r\n     <use style=\"fill:#0000ff;stroke:#0000ff;\" x=\"97.112499\" xlink:href=\"#m838c87cb44\" y=\"107.589955\"/>\r\n     <use style=\"fill:#0000ff;stroke:#0000ff;\" x=\"165.859718\" xlink:href=\"#m838c87cb44\" y=\"148.958681\"/>\r\n     <use style=\"fill:#0000ff;stroke:#0000ff;\" x=\"231.249293\" xlink:href=\"#m838c87cb44\" y=\"97.54669\"/>\r\n     <use style=\"fill:#0000ff;stroke:#0000ff;\" x=\"195.957115\" xlink:href=\"#m838c87cb44\" y=\"160.432026\"/>\r\n     <use style=\"fill:#0000ff;stroke:#0000ff;\" x=\"279.561616\" xlink:href=\"#m838c87cb44\" y=\"122.994729\"/>\r\n     <use style=\"fill:#0000ff;stroke:#0000ff;\" x=\"228.174013\" xlink:href=\"#m838c87cb44\" y=\"152.708075\"/>\r\n     <use style=\"fill:#0000ff;stroke:#0000ff;\" x=\"233.260714\" xlink:href=\"#m838c87cb44\" y=\"117.652906\"/>\r\n     <use style=\"fill:#0000ff;stroke:#0000ff;\" x=\"134.708615\" xlink:href=\"#m838c87cb44\" y=\"163.395971\"/>\r\n     <use style=\"fill:#0000ff;stroke:#0000ff;\" x=\"201.946355\" xlink:href=\"#m838c87cb44\" y=\"126.20884\"/>\r\n     <use style=\"fill:#0000ff;stroke:#0000ff;\" x=\"210.584871\" xlink:href=\"#m838c87cb44\" y=\"105.549508\"/>\r\n     <use style=\"fill:#0000ff;stroke:#0000ff;\" x=\"292.741744\" xlink:href=\"#m838c87cb44\" y=\"150.363093\"/>\r\n     <use style=\"fill:#0000ff;stroke:#0000ff;\" x=\"111.74929\" xlink:href=\"#m838c87cb44\" y=\"154.53427\"/>\r\n     <use style=\"fill:#0000ff;stroke:#0000ff;\" x=\"176.88679\" xlink:href=\"#m838c87cb44\" y=\"152.715732\"/>\r\n     <use style=\"fill:#0000ff;stroke:#0000ff;\" x=\"180.425256\" xlink:href=\"#m838c87cb44\" y=\"150.513007\"/>\r\n     <use style=\"fill:#0000ff;stroke:#0000ff;\" x=\"204.462203\" xlink:href=\"#m838c87cb44\" y=\"120.590062\"/>\r\n     <use style=\"fill:#0000ff;stroke:#0000ff;\" x=\"182.169822\" xlink:href=\"#m838c87cb44\" y=\"126.426868\"/>\r\n    </g>\r\n   </g>\r\n   <g id=\"matplotlib.axis_1\">\r\n    <g id=\"xtick_1\">\r\n     <g id=\"line2d_1\">\r\n      <defs>\r\n       <path d=\"M 0 0 \r\nL 0 3.5 \r\n\" id=\"mb3ca0b6bf3\" style=\"stroke:#000000;stroke-width:0.8;\"/>\r\n      </defs>\r\n      <g>\r\n       <use style=\"stroke:#000000;stroke-width:0.8;\" x=\"86.540839\" xlink:href=\"#mb3ca0b6bf3\" y=\"224.64\"/>\r\n      </g>\r\n     </g>\r\n     <g id=\"text_1\">\r\n      <!-- −2 -->\r\n      <g transform=\"translate(79.169746 239.238437)scale(0.1 -0.1)\">\r\n       <defs>\r\n        <path d=\"M 10.59375 35.5 \r\nL 73.1875 35.5 \r\nL 73.1875 27.203125 \r\nL 10.59375 27.203125 \r\nz\r\n\" id=\"DejaVuSans-8722\"/>\r\n        <path d=\"M 19.1875 8.296875 \r\nL 53.609375 8.296875 \r\nL 53.609375 0 \r\nL 7.328125 0 \r\nL 7.328125 8.296875 \r\nQ 12.9375 14.109375 22.625 23.890625 \r\nQ 32.328125 33.6875 34.8125 36.53125 \r\nQ 39.546875 41.84375 41.421875 45.53125 \r\nQ 43.3125 49.21875 43.3125 52.78125 \r\nQ 43.3125 58.59375 39.234375 62.25 \r\nQ 35.15625 65.921875 28.609375 65.921875 \r\nQ 23.96875 65.921875 18.8125 64.3125 \r\nQ 13.671875 62.703125 7.8125 59.421875 \r\nL 7.8125 69.390625 \r\nQ 13.765625 71.78125 18.9375 73 \r\nQ 24.125 74.21875 28.421875 74.21875 \r\nQ 39.75 74.21875 46.484375 68.546875 \r\nQ 53.21875 62.890625 53.21875 53.421875 \r\nQ 53.21875 48.921875 51.53125 44.890625 \r\nQ 49.859375 40.875 45.40625 35.40625 \r\nQ 44.1875 33.984375 37.640625 27.21875 \r\nQ 31.109375 20.453125 19.1875 8.296875 \r\nz\r\n\" id=\"DejaVuSans-50\"/>\r\n       </defs>\r\n       <use xlink:href=\"#DejaVuSans-8722\"/>\r\n       <use x=\"83.789062\" xlink:href=\"#DejaVuSans-50\"/>\r\n      </g>\r\n     </g>\r\n    </g>\r\n    <g id=\"xtick_2\">\r\n     <g id=\"line2d_2\">\r\n      <g>\r\n       <use style=\"stroke:#000000;stroke-width:0.8;\" x=\"131.510882\" xlink:href=\"#mb3ca0b6bf3\" y=\"224.64\"/>\r\n      </g>\r\n     </g>\r\n     <g id=\"text_2\">\r\n      <!-- −1 -->\r\n      <g transform=\"translate(124.139788 239.238437)scale(0.1 -0.1)\">\r\n       <defs>\r\n        <path d=\"M 12.40625 8.296875 \r\nL 28.515625 8.296875 \r\nL 28.515625 63.921875 \r\nL 10.984375 60.40625 \r\nL 10.984375 69.390625 \r\nL 28.421875 72.90625 \r\nL 38.28125 72.90625 \r\nL 38.28125 8.296875 \r\nL 54.390625 8.296875 \r\nL 54.390625 0 \r\nL 12.40625 0 \r\nz\r\n\" id=\"DejaVuSans-49\"/>\r\n       </defs>\r\n       <use xlink:href=\"#DejaVuSans-8722\"/>\r\n       <use x=\"83.789062\" xlink:href=\"#DejaVuSans-49\"/>\r\n      </g>\r\n     </g>\r\n    </g>\r\n    <g id=\"xtick_3\">\r\n     <g id=\"line2d_3\">\r\n      <g>\r\n       <use style=\"stroke:#000000;stroke-width:0.8;\" x=\"176.480924\" xlink:href=\"#mb3ca0b6bf3\" y=\"224.64\"/>\r\n      </g>\r\n     </g>\r\n     <g id=\"text_3\">\r\n      <!-- 0 -->\r\n      <g transform=\"translate(173.299674 239.238437)scale(0.1 -0.1)\">\r\n       <defs>\r\n        <path d=\"M 31.78125 66.40625 \r\nQ 24.171875 66.40625 20.328125 58.90625 \r\nQ 16.5 51.421875 16.5 36.375 \r\nQ 16.5 21.390625 20.328125 13.890625 \r\nQ 24.171875 6.390625 31.78125 6.390625 \r\nQ 39.453125 6.390625 43.28125 13.890625 \r\nQ 47.125 21.390625 47.125 36.375 \r\nQ 47.125 51.421875 43.28125 58.90625 \r\nQ 39.453125 66.40625 31.78125 66.40625 \r\nz\r\nM 31.78125 74.21875 \r\nQ 44.046875 74.21875 50.515625 64.515625 \r\nQ 56.984375 54.828125 56.984375 36.375 \r\nQ 56.984375 17.96875 50.515625 8.265625 \r\nQ 44.046875 -1.421875 31.78125 -1.421875 \r\nQ 19.53125 -1.421875 13.0625 8.265625 \r\nQ 6.59375 17.96875 6.59375 36.375 \r\nQ 6.59375 54.828125 13.0625 64.515625 \r\nQ 19.53125 74.21875 31.78125 74.21875 \r\nz\r\n\" id=\"DejaVuSans-48\"/>\r\n       </defs>\r\n       <use xlink:href=\"#DejaVuSans-48\"/>\r\n      </g>\r\n     </g>\r\n    </g>\r\n    <g id=\"xtick_4\">\r\n     <g id=\"line2d_4\">\r\n      <g>\r\n       <use style=\"stroke:#000000;stroke-width:0.8;\" x=\"221.450967\" xlink:href=\"#mb3ca0b6bf3\" y=\"224.64\"/>\r\n      </g>\r\n     </g>\r\n     <g id=\"text_4\">\r\n      <!-- 1 -->\r\n      <g transform=\"translate(218.269717 239.238437)scale(0.1 -0.1)\">\r\n       <use xlink:href=\"#DejaVuSans-49\"/>\r\n      </g>\r\n     </g>\r\n    </g>\r\n    <g id=\"xtick_5\">\r\n     <g id=\"line2d_5\">\r\n      <g>\r\n       <use style=\"stroke:#000000;stroke-width:0.8;\" x=\"266.421009\" xlink:href=\"#mb3ca0b6bf3\" y=\"224.64\"/>\r\n      </g>\r\n     </g>\r\n     <g id=\"text_5\">\r\n      <!-- 2 -->\r\n      <g transform=\"translate(263.239759 239.238437)scale(0.1 -0.1)\">\r\n       <use xlink:href=\"#DejaVuSans-50\"/>\r\n      </g>\r\n     </g>\r\n    </g>\r\n    <g id=\"xtick_6\">\r\n     <g id=\"line2d_6\">\r\n      <g>\r\n       <use style=\"stroke:#000000;stroke-width:0.8;\" x=\"311.391051\" xlink:href=\"#mb3ca0b6bf3\" y=\"224.64\"/>\r\n      </g>\r\n     </g>\r\n     <g id=\"text_6\">\r\n      <!-- 3 -->\r\n      <g transform=\"translate(308.209801 239.238437)scale(0.1 -0.1)\">\r\n       <defs>\r\n        <path d=\"M 40.578125 39.3125 \r\nQ 47.65625 37.796875 51.625 33 \r\nQ 55.609375 28.21875 55.609375 21.1875 \r\nQ 55.609375 10.40625 48.1875 4.484375 \r\nQ 40.765625 -1.421875 27.09375 -1.421875 \r\nQ 22.515625 -1.421875 17.65625 -0.515625 \r\nQ 12.796875 0.390625 7.625 2.203125 \r\nL 7.625 11.71875 \r\nQ 11.71875 9.328125 16.59375 8.109375 \r\nQ 21.484375 6.890625 26.8125 6.890625 \r\nQ 36.078125 6.890625 40.9375 10.546875 \r\nQ 45.796875 14.203125 45.796875 21.1875 \r\nQ 45.796875 27.640625 41.28125 31.265625 \r\nQ 36.765625 34.90625 28.71875 34.90625 \r\nL 20.21875 34.90625 \r\nL 20.21875 43.015625 \r\nL 29.109375 43.015625 \r\nQ 36.375 43.015625 40.234375 45.921875 \r\nQ 44.09375 48.828125 44.09375 54.296875 \r\nQ 44.09375 59.90625 40.109375 62.90625 \r\nQ 36.140625 65.921875 28.71875 65.921875 \r\nQ 24.65625 65.921875 20.015625 65.03125 \r\nQ 15.375 64.15625 9.8125 62.3125 \r\nL 9.8125 71.09375 \r\nQ 15.4375 72.65625 20.34375 73.4375 \r\nQ 25.25 74.21875 29.59375 74.21875 \r\nQ 40.828125 74.21875 47.359375 69.109375 \r\nQ 53.90625 64.015625 53.90625 55.328125 \r\nQ 53.90625 49.265625 50.4375 45.09375 \r\nQ 46.96875 40.921875 40.578125 39.3125 \r\nz\r\n\" id=\"DejaVuSans-51\"/>\r\n       </defs>\r\n       <use xlink:href=\"#DejaVuSans-51\"/>\r\n      </g>\r\n     </g>\r\n    </g>\r\n    <g id=\"xtick_7\">\r\n     <g id=\"line2d_7\">\r\n      <g>\r\n       <use style=\"stroke:#000000;stroke-width:0.8;\" x=\"356.361094\" xlink:href=\"#mb3ca0b6bf3\" y=\"224.64\"/>\r\n      </g>\r\n     </g>\r\n     <g id=\"text_7\">\r\n      <!-- 4 -->\r\n      <g transform=\"translate(353.179844 239.238437)scale(0.1 -0.1)\">\r\n       <defs>\r\n        <path d=\"M 37.796875 64.3125 \r\nL 12.890625 25.390625 \r\nL 37.796875 25.390625 \r\nz\r\nM 35.203125 72.90625 \r\nL 47.609375 72.90625 \r\nL 47.609375 25.390625 \r\nL 58.015625 25.390625 \r\nL 58.015625 17.1875 \r\nL 47.609375 17.1875 \r\nL 47.609375 0 \r\nL 37.796875 0 \r\nL 37.796875 17.1875 \r\nL 4.890625 17.1875 \r\nL 4.890625 26.703125 \r\nz\r\n\" id=\"DejaVuSans-52\"/>\r\n       </defs>\r\n       <use xlink:href=\"#DejaVuSans-52\"/>\r\n      </g>\r\n     </g>\r\n    </g>\r\n   </g>\r\n   <g id=\"matplotlib.axis_2\">\r\n    <g id=\"ytick_1\">\r\n     <g id=\"line2d_8\">\r\n      <defs>\r\n       <path d=\"M 0 0 \r\nL -3.5 0 \r\n\" id=\"mbfe350d468\" style=\"stroke:#000000;stroke-width:0.8;\"/>\r\n      </defs>\r\n      <g>\r\n       <use style=\"stroke:#000000;stroke-width:0.8;\" x=\"41.667188\" xlink:href=\"#mbfe350d468\" y=\"210.460799\"/>\r\n      </g>\r\n     </g>\r\n     <g id=\"text_8\">\r\n      <!-- −100 -->\r\n      <g transform=\"translate(7.2 214.260018)scale(0.1 -0.1)\">\r\n       <use xlink:href=\"#DejaVuSans-8722\"/>\r\n       <use x=\"83.789062\" xlink:href=\"#DejaVuSans-49\"/>\r\n       <use x=\"147.412109\" xlink:href=\"#DejaVuSans-48\"/>\r\n       <use x=\"211.035156\" xlink:href=\"#DejaVuSans-48\"/>\r\n      </g>\r\n     </g>\r\n    </g>\r\n    <g id=\"ytick_2\">\r\n     <g id=\"line2d_9\">\r\n      <g>\r\n       <use style=\"stroke:#000000;stroke-width:0.8;\" x=\"41.667188\" xlink:href=\"#mbfe350d468\" y=\"173.286382\"/>\r\n      </g>\r\n     </g>\r\n     <g id=\"text_9\">\r\n      <!-- −50 -->\r\n      <g transform=\"translate(13.5625 177.085601)scale(0.1 -0.1)\">\r\n       <defs>\r\n        <path d=\"M 10.796875 72.90625 \r\nL 49.515625 72.90625 \r\nL 49.515625 64.59375 \r\nL 19.828125 64.59375 \r\nL 19.828125 46.734375 \r\nQ 21.96875 47.46875 24.109375 47.828125 \r\nQ 26.265625 48.1875 28.421875 48.1875 \r\nQ 40.625 48.1875 47.75 41.5 \r\nQ 54.890625 34.8125 54.890625 23.390625 \r\nQ 54.890625 11.625 47.5625 5.09375 \r\nQ 40.234375 -1.421875 26.90625 -1.421875 \r\nQ 22.3125 -1.421875 17.546875 -0.640625 \r\nQ 12.796875 0.140625 7.71875 1.703125 \r\nL 7.71875 11.625 \r\nQ 12.109375 9.234375 16.796875 8.0625 \r\nQ 21.484375 6.890625 26.703125 6.890625 \r\nQ 35.15625 6.890625 40.078125 11.328125 \r\nQ 45.015625 15.765625 45.015625 23.390625 \r\nQ 45.015625 31 40.078125 35.4375 \r\nQ 35.15625 39.890625 26.703125 39.890625 \r\nQ 22.75 39.890625 18.8125 39.015625 \r\nQ 14.890625 38.140625 10.796875 36.28125 \r\nz\r\n\" id=\"DejaVuSans-53\"/>\r\n       </defs>\r\n       <use xlink:href=\"#DejaVuSans-8722\"/>\r\n       <use x=\"83.789062\" xlink:href=\"#DejaVuSans-53\"/>\r\n       <use x=\"147.412109\" xlink:href=\"#DejaVuSans-48\"/>\r\n      </g>\r\n     </g>\r\n    </g>\r\n    <g id=\"ytick_3\">\r\n     <g id=\"line2d_10\">\r\n      <g>\r\n       <use style=\"stroke:#000000;stroke-width:0.8;\" x=\"41.667188\" xlink:href=\"#mbfe350d468\" y=\"136.111965\"/>\r\n      </g>\r\n     </g>\r\n     <g id=\"text_10\">\r\n      <!-- 0 -->\r\n      <g transform=\"translate(28.304688 139.911184)scale(0.1 -0.1)\">\r\n       <use xlink:href=\"#DejaVuSans-48\"/>\r\n      </g>\r\n     </g>\r\n    </g>\r\n    <g id=\"ytick_4\">\r\n     <g id=\"line2d_11\">\r\n      <g>\r\n       <use style=\"stroke:#000000;stroke-width:0.8;\" x=\"41.667188\" xlink:href=\"#mbfe350d468\" y=\"98.937548\"/>\r\n      </g>\r\n     </g>\r\n     <g id=\"text_11\">\r\n      <!-- 50 -->\r\n      <g transform=\"translate(21.942188 102.736767)scale(0.1 -0.1)\">\r\n       <use xlink:href=\"#DejaVuSans-53\"/>\r\n       <use x=\"63.623047\" xlink:href=\"#DejaVuSans-48\"/>\r\n      </g>\r\n     </g>\r\n    </g>\r\n    <g id=\"ytick_5\">\r\n     <g id=\"line2d_12\">\r\n      <g>\r\n       <use style=\"stroke:#000000;stroke-width:0.8;\" x=\"41.667188\" xlink:href=\"#mbfe350d468\" y=\"61.763131\"/>\r\n      </g>\r\n     </g>\r\n     <g id=\"text_12\">\r\n      <!-- 100 -->\r\n      <g transform=\"translate(15.579688 65.56235)scale(0.1 -0.1)\">\r\n       <use xlink:href=\"#DejaVuSans-49\"/>\r\n       <use x=\"63.623047\" xlink:href=\"#DejaVuSans-48\"/>\r\n       <use x=\"127.246094\" xlink:href=\"#DejaVuSans-48\"/>\r\n      </g>\r\n     </g>\r\n    </g>\r\n    <g id=\"ytick_6\">\r\n     <g id=\"line2d_13\">\r\n      <g>\r\n       <use style=\"stroke:#000000;stroke-width:0.8;\" x=\"41.667188\" xlink:href=\"#mbfe350d468\" y=\"24.588714\"/>\r\n      </g>\r\n     </g>\r\n     <g id=\"text_13\">\r\n      <!-- 150 -->\r\n      <g transform=\"translate(15.579688 28.387933)scale(0.1 -0.1)\">\r\n       <use xlink:href=\"#DejaVuSans-49\"/>\r\n       <use x=\"63.623047\" xlink:href=\"#DejaVuSans-53\"/>\r\n       <use x=\"127.246094\" xlink:href=\"#DejaVuSans-48\"/>\r\n      </g>\r\n     </g>\r\n    </g>\r\n   </g>\r\n   <g id=\"patch_3\">\r\n    <path d=\"M 41.667188 224.64 \r\nL 41.667188 7.2 \r\n\" style=\"fill:none;stroke:#000000;stroke-linecap:square;stroke-linejoin:miter;stroke-width:0.8;\"/>\r\n   </g>\r\n   <g id=\"patch_4\">\r\n    <path d=\"M 376.467188 224.64 \r\nL 376.467188 7.2 \r\n\" style=\"fill:none;stroke:#000000;stroke-linecap:square;stroke-linejoin:miter;stroke-width:0.8;\"/>\r\n   </g>\r\n   <g id=\"patch_5\">\r\n    <path d=\"M 41.667188 224.64 \r\nL 376.467188 224.64 \r\n\" style=\"fill:none;stroke:#000000;stroke-linecap:square;stroke-linejoin:miter;stroke-width:0.8;\"/>\r\n   </g>\r\n   <g id=\"patch_6\">\r\n    <path d=\"M 41.667188 7.2 \r\nL 376.467188 7.2 \r\n\" style=\"fill:none;stroke:#000000;stroke-linecap:square;stroke-linejoin:miter;stroke-width:0.8;\"/>\r\n   </g>\r\n  </g>\r\n </g>\r\n <defs>\r\n  <clipPath id=\"p11441511fb\">\r\n   <rect height=\"217.44\" width=\"334.8\" x=\"41.667188\" y=\"7.2\"/>\r\n  </clipPath>\r\n </defs>\r\n</svg>\r\n",
      "image/png": "[encoded data removed]"
     },
     "metadata": {
      "needs_background": "light"
     }
    }
   ],
   "source": [
    "pylab.scatter(data[:,0], target, color = 'r')\n",
    "pylab.scatter(data[:,1], target, color = 'b')"
   ]
  },
  {
   "cell_type": "code",
   "execution_count": 5,
   "metadata": {},
   "outputs": [],
   "source": [
    "train_data, test_data, train_labels, test_labels = model_selection.train_test_split(data, target,  \n",
    "                                                                                     test_size = 0.3)"
   ]
  },
  {
   "cell_type": "markdown",
   "metadata": {},
   "source": [
    "#### LinearRegression"
   ]
  },
  {
   "cell_type": "code",
   "execution_count": 6,
   "metadata": {},
   "outputs": [],
   "source": [
    "linear_regressor = linear_model.LinearRegression()\n",
    "linear_regressor.fit(train_data, train_labels)\n",
    "predictions = linear_regressor.predict(test_data)"
   ]
  },
  {
   "cell_type": "code",
   "execution_count": 7,
   "metadata": {},
   "outputs": [
    {
     "output_type": "stream",
     "name": "stdout",
     "text": [
      "[-105.77758163    5.86887774    1.72644759  -16.65927231  -52.37232463\n  -18.86438755   49.41686419   51.87072011   22.13032804   24.82763821\n   21.20540389   12.42286854  -32.92158843  -44.51417742  -16.30914909\n  -80.80239408  -70.11132234  -10.27758354  -42.44469577   12.74038341\n   38.36241814  -19.16792315  -40.84204295   27.83791274  -10.06708677\n  126.64909941  -35.32062686   -1.42235396  -18.57607726  -48.28700118]\n"
     ]
    }
   ],
   "source": [
    "print(test_labels)"
   ]
  },
  {
   "cell_type": "code",
   "execution_count": 8,
   "metadata": {},
   "outputs": [
    {
     "output_type": "stream",
     "name": "stdout",
     "text": [
      "[-102.75438793    4.38894135   -0.4854861   -15.04145804  -41.15619781\n  -19.17911535   55.45574131   52.23259613   19.730005     30.46114985\n   16.44057847    6.43871383  -34.45169828  -55.28319455  -12.41879122\n  -78.95001136  -66.94880233   -8.00466593  -39.71003892    6.83085981\n   41.12373766  -11.32207136  -46.8261329    22.86998669  -10.29963628\n  125.49288698  -42.20911951   -0.96326284  -25.4217238   -56.59108568]\n"
     ]
    }
   ],
   "source": [
    "print(predictions)"
   ]
  },
  {
   "cell_type": "code",
   "execution_count": 9,
   "metadata": {},
   "outputs": [
    {
     "output_type": "execute_result",
     "data": {
      "text/plain": [
       "4.087135010965755"
      ]
     },
     "metadata": {},
     "execution_count": 9
    }
   ],
   "source": [
    "metrics.mean_absolute_error(test_labels, predictions)"
   ]
  },
  {
   "cell_type": "code",
   "execution_count": 10,
   "metadata": {},
   "outputs": [
    {
     "output_type": "stream",
     "name": "stdout",
     "text": [
      "mean: -4.070071498779699, std: 1.073710449289019\n"
     ]
    }
   ],
   "source": [
    "linear_scoring = model_selection.cross_val_score(linear_regressor, data, target, scoring = 'neg_mean_absolute_error', \n",
    "                                                  cv = 10)\n",
    "print('mean: {}, std: {}'.format(linear_scoring.mean(), linear_scoring.std()))"
   ]
  },
  {
   "cell_type": "code",
   "execution_count": 11,
   "metadata": {},
   "outputs": [],
   "source": [
    "scorer = metrics.make_scorer(metrics.mean_absolute_error, greater_is_better = True)"
   ]
  },
  {
   "cell_type": "code",
   "execution_count": 12,
   "metadata": {},
   "outputs": [
    {
     "output_type": "stream",
     "name": "stdout",
     "text": [
      "mean: 4.070071498779699, std: 1.073710449289019\n"
     ]
    }
   ],
   "source": [
    "linear_scoring = model_selection.cross_val_score(linear_regressor, data, target, scoring=scorer, \n",
    "                                                  cv = 10)\n",
    "print('mean: {}, std: {}'.format(linear_scoring.mean(), linear_scoring.std()))"
   ]
  },
  {
   "cell_type": "code",
   "execution_count": 13,
   "metadata": {},
   "outputs": [
    {
     "output_type": "execute_result",
     "data": {
      "text/plain": [
       "array([38.07925837,  0.        ])"
      ]
     },
     "metadata": {},
     "execution_count": 13
    }
   ],
   "source": [
    "coef"
   ]
  },
  {
   "cell_type": "code",
   "execution_count": 14,
   "metadata": {},
   "outputs": [
    {
     "output_type": "execute_result",
     "data": {
      "text/plain": [
       "array([38.35818335,  0.40529415])"
      ]
     },
     "metadata": {},
     "execution_count": 14
    }
   ],
   "source": [
    "linear_regressor.coef_"
   ]
  },
  {
   "cell_type": "code",
   "execution_count": 15,
   "metadata": {},
   "outputs": [
    {
     "output_type": "execute_result",
     "data": {
      "text/plain": [
       "-0.7056728591840704"
      ]
     },
     "metadata": {},
     "execution_count": 15
    }
   ],
   "source": [
    "# в лекции не указано, что в уравнении обученной модели также участвует свободный член\n",
    "linear_regressor.intercept_"
   ]
  },
  {
   "cell_type": "code",
   "execution_count": 16,
   "metadata": {},
   "outputs": [
    {
     "output_type": "stream",
     "name": "stdout",
     "text": [
      "y = 38.08*x1 + 0.00*x2\n"
     ]
    }
   ],
   "source": [
    "print(\"y = {:.2f}*x1 + {:.2f}*x2\".format(coef[0], coef[1]))"
   ]
  },
  {
   "cell_type": "code",
   "execution_count": 17,
   "metadata": {},
   "outputs": [
    {
     "output_type": "stream",
     "name": "stdout",
     "text": [
      "y = 38.36*x1 + 0.41*x2 + -0.71\n"
     ]
    }
   ],
   "source": [
    "print(\"y = {:.2f}*x1 + {:.2f}*x2 + {:.2f}\".format(linear_regressor.coef_[0], \n",
    "                                                  linear_regressor.coef_[1], \n",
    "                                                  linear_regressor.intercept_))"
   ]
  },
  {
   "cell_type": "markdown",
   "metadata": {},
   "source": [
    "#### Lasso"
   ]
  },
  {
   "cell_type": "code",
   "execution_count": 18,
   "metadata": {},
   "outputs": [],
   "source": [
    "lasso_regressor = linear_model.Lasso(random_state = 3)\n",
    "lasso_regressor.fit(train_data, train_labels)\n",
    "lasso_predictions = lasso_regressor.predict(test_data)"
   ]
  },
  {
   "cell_type": "code",
   "execution_count": 19,
   "metadata": {},
   "outputs": [
    {
     "output_type": "stream",
     "name": "stdout",
     "text": [
      "mean: 4.154478246666397, std: 1.0170354384993354\n"
     ]
    }
   ],
   "source": [
    "lasso_scoring = model_selection.cross_val_score(lasso_regressor, data, target, scoring = scorer, cv = 10)\n",
    "print('mean: {}, std: {}'.format(lasso_scoring.mean(), lasso_scoring.std()))"
   ]
  },
  {
   "cell_type": "code",
   "execution_count": 20,
   "metadata": {},
   "outputs": [
    {
     "output_type": "stream",
     "name": "stdout",
     "text": [
      "[37.51193987  0.        ]\n"
     ]
    }
   ],
   "source": [
    "print(lasso_regressor.coef_)"
   ]
  },
  {
   "cell_type": "code",
   "execution_count": 21,
   "metadata": {},
   "outputs": [
    {
     "output_type": "stream",
     "name": "stdout",
     "text": [
      "y = 38.08*x1 + 0.00*x2\n"
     ]
    }
   ],
   "source": [
    "print(\"y = {:.2f}*x1 + {:.2f}*x2\".format(coef[0], coef[1]))"
   ]
  },
  {
   "cell_type": "code",
   "execution_count": 22,
   "metadata": {},
   "outputs": [
    {
     "output_type": "stream",
     "name": "stdout",
     "text": [
      "y = 37.51*x1 + 0.00*x2\n"
     ]
    }
   ],
   "source": [
    "print(\"y = {:.2f}*x1 + {:.2f}*x2\".format(lasso_regressor.coef_[0], lasso_regressor.coef_[1]))"
   ]
  }
 ],
 "metadata": {
  "kernelspec": {
   "display_name": "Python 3",
   "language": "python",
   "name": "python3"
  },
  "language_info": {
   "codemirror_mode": {
    "name": "ipython",
    "version": 3
   },
   "file_extension": ".py",
   "mimetype": "text/x-python",
   "name": "python",
   "nbconvert_exporter": "python",
   "pygments_lexer": "ipython3",
   "version": "3.8.5"
  }
 },
 "nbformat": 4,
 "nbformat_minor": 1
}