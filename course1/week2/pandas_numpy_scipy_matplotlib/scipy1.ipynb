{
 "metadata": {
  "language_info": {
   "codemirror_mode": {
    "name": "ipython",
    "version": 3
   },
   "file_extension": ".py",
   "mimetype": "text/x-python",
   "name": "python",
   "nbconvert_exporter": "python",
   "pygments_lexer": "ipython3",
   "version": "3.8.5-final"
  },
  "orig_nbformat": 2,
  "kernelspec": {
   "name": "python3",
   "display_name": "Python 3.8.5 64-bit ('base': conda)",
   "metadata": {
    "interpreter": {
     "hash": "86597ef98d6b7ee010503556fda718cb767d1589d6545cfa27a501147824c498"
    }
   }
  }
 },
 "nbformat": 4,
 "nbformat_minor": 2,
 "cells": [
  {
   "cell_type": "code",
   "execution_count": 1,
   "metadata": {},
   "outputs": [],
   "source": [
    "from scipy import optimize"
   ]
  },
  {
   "cell_type": "code",
   "execution_count": 2,
   "metadata": {},
   "outputs": [],
   "source": [
    "def f(x): #rosenbrock function\n",
    "    return .5 * (1 - x[0]) ** 2 + (x[1] - x[0] ** 2) ** 2"
   ]
  },
  {
   "cell_type": "code",
   "execution_count": 3,
   "metadata": {},
   "outputs": [
    {
     "output_type": "stream",
     "name": "stdout",
     "text": [
      "0.0\n"
     ]
    }
   ],
   "source": [
    "print(f((1,1)))"
   ]
  },
  {
   "cell_type": "code",
   "execution_count": 4,
   "metadata": {},
   "outputs": [
    {
     "output_type": "stream",
     "name": "stdout",
     "text": [
      "[0.99999324 1.00001283]\n"
     ]
    }
   ],
   "source": [
    "result = optimize.brute(f, ((-5, 5), (-5, 5)))\n",
    "print(result)"
   ]
  },
  {
   "cell_type": "code",
   "execution_count": 5,
   "metadata": {},
   "outputs": [
    {
     "output_type": "stream",
     "name": "stdout",
     "text": [
      "     fun: 7.395570986446986e-32\n message: 'Optimization terminated successfully.'\n    nfev: 3513\n     nit: 116\n success: True\n       x: array([1., 1.])\n"
     ]
    }
   ],
   "source": [
    "print(optimize.differential_evolution(f, ((-5, 5), (-5, 5))))"
   ]
  },
  {
   "cell_type": "code",
   "execution_count": 7,
   "metadata": {},
   "outputs": [],
   "source": [
    "import numpy as np\n",
    "\n",
    "def grad_f(x):\n",
    "    return (np.array((-2*.5*(1 - x[0]) - 4*x[0]*(x[1] - x[0]**2), 2*(x[1] - x[0]**2))))\n"
   ]
  },
  {
   "cell_type": "code",
   "execution_count": 10,
   "metadata": {},
   "outputs": [
    {
     "output_type": "stream",
     "name": "stdout",
     "text": [
      "2.384185791015625e-07\n"
     ]
    }
   ],
   "source": [
    "print(optimize.check_grad(f, grad_f, [2, 2]))"
   ]
  },
  {
   "cell_type": "code",
   "execution_count": 13,
   "metadata": {},
   "outputs": [
    {
     "output_type": "stream",
     "name": "stdout",
     "text": [
      "Optimization terminated successfully.\n         Current function value: 0.000000\n         Iterations: 8\n         Function evaluations: 9\n         Gradient evaluations: 9\n[1.00000582 1.00001285]\n"
     ]
    }
   ],
   "source": [
    "print(optimize.fmin_bfgs(f, [2, 2], fprime=grad_f))"
   ]
  },
  {
   "cell_type": "code",
   "execution_count": 14,
   "metadata": {},
   "outputs": [
    {
     "output_type": "stream",
     "name": "stdout",
     "text": [
      "      fun: 1.78380307372662e-11\n hess_inv: array([[0.95489061, 1.90006631],\n       [1.90006631, 4.27872379]])\n      jac: array([9.88094725e-07, 2.41748897e-06])\n  message: 'Optimization terminated successfully.'\n     nfev: 27\n      nit: 8\n     njev: 9\n   status: 0\n  success: True\n        x: array([1.00000573, 1.00001265])\n"
     ]
    }
   ],
   "source": [
    "print(optimize.minimize(f, [2, 2])) # defualt - bfgs method"
   ]
  },
  {
   "cell_type": "code",
   "execution_count": 15,
   "metadata": {},
   "outputs": [
    {
     "output_type": "stream",
     "name": "stdout",
     "text": [
      "      fun: 1.8414093407262628e-11\n hess_inv: array([[0.95489113, 1.90006768],\n       [1.90006768, 4.27872719]])\n      jac: array([9.88085521e-07, 2.41739812e-06])\n  message: 'Optimization terminated successfully.'\n     nfev: 9\n      nit: 8\n     njev: 9\n   status: 0\n  success: True\n        x: array([1.00000582, 1.00001285])\n"
     ]
    }
   ],
   "source": [
    "print(optimize.minimize(f, [2, 2], method='BFGS', jac=grad_f))"
   ]
  },
  {
   "cell_type": "code",
   "execution_count": 17,
   "metadata": {},
   "outputs": [
    {
     "output_type": "stream",
     "name": "stdout",
     "text": [
      " final_simplex: (array([[0.99998568, 0.99996682],\n       [1.00002149, 1.00004744],\n       [1.0000088 , 1.00003552]]), array([1.23119954e-10, 2.50768082e-10, 3.59639951e-10]))\n           fun: 1.2311995365407462e-10\n       message: 'Optimization terminated successfully.'\n          nfev: 91\n           nit: 46\n        status: 0\n       success: True\n             x: array([0.99998568, 0.99996682])\n"
     ]
    }
   ],
   "source": [
    "print(optimize.minimize(f, [2, 2], method='Nelder-Mead'))"
   ]
  },
  {
   "cell_type": "code",
   "execution_count": null,
   "metadata": {},
   "outputs": [],
   "source": []
  }
 ]
}