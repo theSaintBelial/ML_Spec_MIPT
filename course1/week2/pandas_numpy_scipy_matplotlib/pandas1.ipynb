{
 "metadata": {
  "language_info": {
   "codemirror_mode": {
    "name": "ipython",
    "version": 3
   },
   "file_extension": ".py",
   "mimetype": "text/x-python",
   "name": "python",
   "nbconvert_exporter": "python",
   "pygments_lexer": "ipython3",
   "version": "3.8.5-final"
  },
  "orig_nbformat": 2,
  "kernelspec": {
   "name": "python3",
   "display_name": "Python 3",
   "language": "python"
  }
 },
 "nbformat": 4,
 "nbformat_minor": 2,
 "cells": [
  {
   "cell_type": "code",
   "execution_count": 1,
   "metadata": {},
   "outputs": [],
   "source": [
    "import pandas as pd"
   ]
  },
  {
   "cell_type": "code",
   "execution_count": 2,
   "metadata": {},
   "outputs": [],
   "source": [
    "frame = pd.read_csv('dataset.tsv', sep='\\t', header=0)"
   ]
  },
  {
   "cell_type": "code",
   "execution_count": 3,
   "metadata": {},
   "outputs": [
    {
     "data": {
      "text/plain": "              Name       Birth       City  Position\n0      Иванов А.А.  22.03.1980     Москва       NaN\n1     Сорокин И.В.  07.08.1965  Волгоград   инженер\n2       Белов М.М.  13.02.1980     Ростов  менеджер\n3  Мельникова Д.С.  15.04.1985     Ростов       NaN\n4      Рыбина Е.П.  19.11.1985     Москва   инженер\n5     Костров С.О.  31.05.1985     Москва    стажер",
      "text/html": "<div>\n<style scoped>\n    .dataframe tbody tr th:only-of-type {\n        vertical-align: middle;\n    }\n\n    .dataframe tbody tr th {\n        vertical-align: top;\n    }\n\n    .dataframe thead th {\n        text-align: right;\n    }\n</style>\n<table border=\"1\" class=\"dataframe\">\n  <thead>\n    <tr style=\"text-align: right;\">\n      <th></th>\n      <th>Name</th>\n      <th>Birth</th>\n      <th>City</th>\n      <th>Position</th>\n    </tr>\n  </thead>\n  <tbody>\n    <tr>\n      <th>0</th>\n      <td>Иванов А.А.</td>\n      <td>22.03.1980</td>\n      <td>Москва</td>\n      <td>NaN</td>\n    </tr>\n    <tr>\n      <th>1</th>\n      <td>Сорокин И.В.</td>\n      <td>07.08.1965</td>\n      <td>Волгоград</td>\n      <td>инженер</td>\n    </tr>\n    <tr>\n      <th>2</th>\n      <td>Белов М.М.</td>\n      <td>13.02.1980</td>\n      <td>Ростов</td>\n      <td>менеджер</td>\n    </tr>\n    <tr>\n      <th>3</th>\n      <td>Мельникова Д.С.</td>\n      <td>15.04.1985</td>\n      <td>Ростов</td>\n      <td>NaN</td>\n    </tr>\n    <tr>\n      <th>4</th>\n      <td>Рыбина Е.П.</td>\n      <td>19.11.1985</td>\n      <td>Москва</td>\n      <td>инженер</td>\n    </tr>\n    <tr>\n      <th>5</th>\n      <td>Костров С.О.</td>\n      <td>31.05.1985</td>\n      <td>Москва</td>\n      <td>стажер</td>\n    </tr>\n  </tbody>\n</table>\n</div>"
     },
     "execution_count": 3,
     "metadata": {},
     "output_type": "execute_result"
    }
   ],
   "source": [
    "frame"
   ]
  },
  {
   "cell_type": "code",
   "execution_count": 4,
   "metadata": {},
   "outputs": [
    {
     "output_type": "execute_result",
     "data": {
      "text/plain": [
       "Name        object\n",
       "Birth       object\n",
       "City        object\n",
       "Position    object\n",
       "dtype: object"
      ]
     },
     "metadata": {},
     "execution_count": 4
    }
   ],
   "source": [
    "frame.dtypes"
   ]
  },
  {
   "cell_type": "code",
   "execution_count": 5,
   "metadata": {},
   "outputs": [],
   "source": [
    "frame.Birth = frame.Birth.apply(pd.to_datetime)"
   ]
  },
  {
   "cell_type": "code",
   "execution_count": 6,
   "metadata": {},
   "outputs": [
    {
     "output_type": "execute_result",
     "data": {
      "text/plain": [
       "              Name      Birth       City  Position\n",
       "0      Иванов А.А. 1980-03-22     Москва       NaN\n",
       "1     Сорокин И.В. 1965-07-08  Волгоград   инженер\n",
       "2       Белов М.М. 1980-02-13     Ростов  менеджер\n",
       "3  Мельникова Д.С. 1985-04-15     Ростов       NaN\n",
       "4      Рыбина Е.П. 1985-11-19     Москва   инженер\n",
       "5     Костров С.О. 1985-05-31     Москва    стажер"
      ],
      "text/html": "<div>\n<style scoped>\n    .dataframe tbody tr th:only-of-type {\n        vertical-align: middle;\n    }\n\n    .dataframe tbody tr th {\n        vertical-align: top;\n    }\n\n    .dataframe thead th {\n        text-align: right;\n    }\n</style>\n<table border=\"1\" class=\"dataframe\">\n  <thead>\n    <tr style=\"text-align: right;\">\n      <th></th>\n      <th>Name</th>\n      <th>Birth</th>\n      <th>City</th>\n      <th>Position</th>\n    </tr>\n  </thead>\n  <tbody>\n    <tr>\n      <th>0</th>\n      <td>Иванов А.А.</td>\n      <td>1980-03-22</td>\n      <td>Москва</td>\n      <td>NaN</td>\n    </tr>\n    <tr>\n      <th>1</th>\n      <td>Сорокин И.В.</td>\n      <td>1965-07-08</td>\n      <td>Волгоград</td>\n      <td>инженер</td>\n    </tr>\n    <tr>\n      <th>2</th>\n      <td>Белов М.М.</td>\n      <td>1980-02-13</td>\n      <td>Ростов</td>\n      <td>менеджер</td>\n    </tr>\n    <tr>\n      <th>3</th>\n      <td>Мельникова Д.С.</td>\n      <td>1985-04-15</td>\n      <td>Ростов</td>\n      <td>NaN</td>\n    </tr>\n    <tr>\n      <th>4</th>\n      <td>Рыбина Е.П.</td>\n      <td>1985-11-19</td>\n      <td>Москва</td>\n      <td>инженер</td>\n    </tr>\n    <tr>\n      <th>5</th>\n      <td>Костров С.О.</td>\n      <td>1985-05-31</td>\n      <td>Москва</td>\n      <td>стажер</td>\n    </tr>\n  </tbody>\n</table>\n</div>"
     },
     "metadata": {},
     "execution_count": 6
    }
   ],
   "source": [
    "frame"
   ]
  },
  {
   "cell_type": "code",
   "execution_count": 7,
   "metadata": {},
   "outputs": [
    {
     "output_type": "execute_result",
     "data": {
      "text/plain": [
       "Name                object\n",
       "Birth       datetime64[ns]\n",
       "City                object\n",
       "Position            object\n",
       "dtype: object"
      ]
     },
     "metadata": {},
     "execution_count": 7
    }
   ],
   "source": [
    "frame.dtypes"
   ]
  },
  {
   "cell_type": "code",
   "execution_count": 9,
   "metadata": {},
   "outputs": [
    {
     "output_type": "stream",
     "name": "stdout",
     "text": [
      "<class 'pandas.core.frame.DataFrame'>\nRangeIndex: 6 entries, 0 to 5\nData columns (total 4 columns):\n #   Column    Non-Null Count  Dtype         \n---  ------    --------------  -----         \n 0   Name      6 non-null      object        \n 1   Birth     6 non-null      datetime64[ns]\n 2   City      6 non-null      object        \n 3   Position  4 non-null      object        \ndtypes: datetime64[ns](1), object(3)\nmemory usage: 320.0+ bytes\n"
     ]
    }
   ],
   "source": [
    "frame.info()"
   ]
  },
  {
   "cell_type": "code",
   "execution_count": 10,
   "metadata": {},
   "outputs": [],
   "source": [
    "frame.fillna('разнорабочий', inplace=True)"
   ]
  },
  {
   "cell_type": "code",
   "execution_count": 11,
   "metadata": {},
   "outputs": [
    {
     "output_type": "execute_result",
     "data": {
      "text/plain": [
       "              Name      Birth       City      Position\n",
       "0      Иванов А.А. 1980-03-22     Москва  разнорабочий\n",
       "1     Сорокин И.В. 1965-07-08  Волгоград       инженер\n",
       "2       Белов М.М. 1980-02-13     Ростов      менеджер\n",
       "3  Мельникова Д.С. 1985-04-15     Ростов  разнорабочий\n",
       "4      Рыбина Е.П. 1985-11-19     Москва       инженер\n",
       "5     Костров С.О. 1985-05-31     Москва        стажер"
      ],
      "text/html": "<div>\n<style scoped>\n    .dataframe tbody tr th:only-of-type {\n        vertical-align: middle;\n    }\n\n    .dataframe tbody tr th {\n        vertical-align: top;\n    }\n\n    .dataframe thead th {\n        text-align: right;\n    }\n</style>\n<table border=\"1\" class=\"dataframe\">\n  <thead>\n    <tr style=\"text-align: right;\">\n      <th></th>\n      <th>Name</th>\n      <th>Birth</th>\n      <th>City</th>\n      <th>Position</th>\n    </tr>\n  </thead>\n  <tbody>\n    <tr>\n      <th>0</th>\n      <td>Иванов А.А.</td>\n      <td>1980-03-22</td>\n      <td>Москва</td>\n      <td>разнорабочий</td>\n    </tr>\n    <tr>\n      <th>1</th>\n      <td>Сорокин И.В.</td>\n      <td>1965-07-08</td>\n      <td>Волгоград</td>\n      <td>инженер</td>\n    </tr>\n    <tr>\n      <th>2</th>\n      <td>Белов М.М.</td>\n      <td>1980-02-13</td>\n      <td>Ростов</td>\n      <td>менеджер</td>\n    </tr>\n    <tr>\n      <th>3</th>\n      <td>Мельникова Д.С.</td>\n      <td>1985-04-15</td>\n      <td>Ростов</td>\n      <td>разнорабочий</td>\n    </tr>\n    <tr>\n      <th>4</th>\n      <td>Рыбина Е.П.</td>\n      <td>1985-11-19</td>\n      <td>Москва</td>\n      <td>инженер</td>\n    </tr>\n    <tr>\n      <th>5</th>\n      <td>Костров С.О.</td>\n      <td>1985-05-31</td>\n      <td>Москва</td>\n      <td>стажер</td>\n    </tr>\n  </tbody>\n</table>\n</div>"
     },
     "metadata": {},
     "execution_count": 11
    }
   ],
   "source": [
    "frame"
   ]
  },
  {
   "cell_type": "code",
   "execution_count": 12,
   "metadata": {},
   "outputs": [
    {
     "output_type": "execute_result",
     "data": {
      "text/plain": [
       "0    разнорабочий\n",
       "1         инженер\n",
       "2        менеджер\n",
       "3    разнорабочий\n",
       "4         инженер\n",
       "5          стажер\n",
       "Name: Position, dtype: object"
      ]
     },
     "metadata": {},
     "execution_count": 12
    }
   ],
   "source": [
    "frame.Position"
   ]
  },
  {
   "cell_type": "code",
   "execution_count": 13,
   "metadata": {},
   "outputs": [
    {
     "output_type": "execute_result",
     "data": {
      "text/plain": [
       "       Position\n",
       "0  разнорабочий\n",
       "1       инженер\n",
       "2      менеджер\n",
       "3  разнорабочий\n",
       "4       инженер\n",
       "5        стажер"
      ],
      "text/html": "<div>\n<style scoped>\n    .dataframe tbody tr th:only-of-type {\n        vertical-align: middle;\n    }\n\n    .dataframe tbody tr th {\n        vertical-align: top;\n    }\n\n    .dataframe thead th {\n        text-align: right;\n    }\n</style>\n<table border=\"1\" class=\"dataframe\">\n  <thead>\n    <tr style=\"text-align: right;\">\n      <th></th>\n      <th>Position</th>\n    </tr>\n  </thead>\n  <tbody>\n    <tr>\n      <th>0</th>\n      <td>разнорабочий</td>\n    </tr>\n    <tr>\n      <th>1</th>\n      <td>инженер</td>\n    </tr>\n    <tr>\n      <th>2</th>\n      <td>менеджер</td>\n    </tr>\n    <tr>\n      <th>3</th>\n      <td>разнорабочий</td>\n    </tr>\n    <tr>\n      <th>4</th>\n      <td>инженер</td>\n    </tr>\n    <tr>\n      <th>5</th>\n      <td>стажер</td>\n    </tr>\n  </tbody>\n</table>\n</div>"
     },
     "metadata": {},
     "execution_count": 13
    }
   ],
   "source": [
    "frame[['Position']]"
   ]
  },
  {
   "cell_type": "code",
   "execution_count": 16,
   "metadata": {},
   "outputs": [
    {
     "output_type": "execute_result",
     "data": {
      "text/plain": [
       "              Name      Position\n",
       "0      Иванов А.А.  разнорабочий\n",
       "1     Сорокин И.В.       инженер\n",
       "2       Белов М.М.      менеджер\n",
       "3  Мельникова Д.С.  разнорабочий\n",
       "4      Рыбина Е.П.       инженер\n",
       "5     Костров С.О.        стажер"
      ],
      "text/html": "<div>\n<style scoped>\n    .dataframe tbody tr th:only-of-type {\n        vertical-align: middle;\n    }\n\n    .dataframe tbody tr th {\n        vertical-align: top;\n    }\n\n    .dataframe thead th {\n        text-align: right;\n    }\n</style>\n<table border=\"1\" class=\"dataframe\">\n  <thead>\n    <tr style=\"text-align: right;\">\n      <th></th>\n      <th>Name</th>\n      <th>Position</th>\n    </tr>\n  </thead>\n  <tbody>\n    <tr>\n      <th>0</th>\n      <td>Иванов А.А.</td>\n      <td>разнорабочий</td>\n    </tr>\n    <tr>\n      <th>1</th>\n      <td>Сорокин И.В.</td>\n      <td>инженер</td>\n    </tr>\n    <tr>\n      <th>2</th>\n      <td>Белов М.М.</td>\n      <td>менеджер</td>\n    </tr>\n    <tr>\n      <th>3</th>\n      <td>Мельникова Д.С.</td>\n      <td>разнорабочий</td>\n    </tr>\n    <tr>\n      <th>4</th>\n      <td>Рыбина Е.П.</td>\n      <td>инженер</td>\n    </tr>\n    <tr>\n      <th>5</th>\n      <td>Костров С.О.</td>\n      <td>стажер</td>\n    </tr>\n  </tbody>\n</table>\n</div>"
     },
     "metadata": {},
     "execution_count": 16
    }
   ],
   "source": [
    "frame[['Name', 'Position']]"
   ]
  },
  {
   "cell_type": "code",
   "execution_count": 19,
   "metadata": {},
   "outputs": [
    {
     "output_type": "execute_result",
     "data": {
      "text/plain": [
       "           Name      Birth       City      Position\n",
       "0   Иванов А.А. 1980-03-22     Москва  разнорабочий\n",
       "1  Сорокин И.В. 1965-07-08  Волгоград       инженер\n",
       "2    Белов М.М. 1980-02-13     Ростов      менеджер"
      ],
      "text/html": "<div>\n<style scoped>\n    .dataframe tbody tr th:only-of-type {\n        vertical-align: middle;\n    }\n\n    .dataframe tbody tr th {\n        vertical-align: top;\n    }\n\n    .dataframe thead th {\n        text-align: right;\n    }\n</style>\n<table border=\"1\" class=\"dataframe\">\n  <thead>\n    <tr style=\"text-align: right;\">\n      <th></th>\n      <th>Name</th>\n      <th>Birth</th>\n      <th>City</th>\n      <th>Position</th>\n    </tr>\n  </thead>\n  <tbody>\n    <tr>\n      <th>0</th>\n      <td>Иванов А.А.</td>\n      <td>1980-03-22</td>\n      <td>Москва</td>\n      <td>разнорабочий</td>\n    </tr>\n    <tr>\n      <th>1</th>\n      <td>Сорокин И.В.</td>\n      <td>1965-07-08</td>\n      <td>Волгоград</td>\n      <td>инженер</td>\n    </tr>\n    <tr>\n      <th>2</th>\n      <td>Белов М.М.</td>\n      <td>1980-02-13</td>\n      <td>Ростов</td>\n      <td>менеджер</td>\n    </tr>\n  </tbody>\n</table>\n</div>"
     },
     "metadata": {},
     "execution_count": 19
    }
   ],
   "source": [
    "frame.head(3)"
   ]
  },
  {
   "cell_type": "code",
   "execution_count": 20,
   "metadata": {},
   "outputs": [
    {
     "output_type": "execute_result",
     "data": {
      "text/plain": [
       "           Name      Birth       City      Position\n",
       "0   Иванов А.А. 1980-03-22     Москва  разнорабочий\n",
       "1  Сорокин И.В. 1965-07-08  Волгоград       инженер\n",
       "2    Белов М.М. 1980-02-13     Ростов      менеджер"
      ],
      "text/html": "<div>\n<style scoped>\n    .dataframe tbody tr th:only-of-type {\n        vertical-align: middle;\n    }\n\n    .dataframe tbody tr th {\n        vertical-align: top;\n    }\n\n    .dataframe thead th {\n        text-align: right;\n    }\n</style>\n<table border=\"1\" class=\"dataframe\">\n  <thead>\n    <tr style=\"text-align: right;\">\n      <th></th>\n      <th>Name</th>\n      <th>Birth</th>\n      <th>City</th>\n      <th>Position</th>\n    </tr>\n  </thead>\n  <tbody>\n    <tr>\n      <th>0</th>\n      <td>Иванов А.А.</td>\n      <td>1980-03-22</td>\n      <td>Москва</td>\n      <td>разнорабочий</td>\n    </tr>\n    <tr>\n      <th>1</th>\n      <td>Сорокин И.В.</td>\n      <td>1965-07-08</td>\n      <td>Волгоград</td>\n      <td>инженер</td>\n    </tr>\n    <tr>\n      <th>2</th>\n      <td>Белов М.М.</td>\n      <td>1980-02-13</td>\n      <td>Ростов</td>\n      <td>менеджер</td>\n    </tr>\n  </tbody>\n</table>\n</div>"
     },
     "metadata": {},
     "execution_count": 20
    }
   ],
   "source": [
    "frame[:3]"
   ]
  },
  {
   "cell_type": "code",
   "execution_count": 21,
   "metadata": {},
   "outputs": [
    {
     "output_type": "execute_result",
     "data": {
      "text/plain": [
       "              Name      Birth    City      Position\n",
       "3  Мельникова Д.С. 1985-04-15  Ростов  разнорабочий\n",
       "4      Рыбина Е.П. 1985-11-19  Москва       инженер\n",
       "5     Костров С.О. 1985-05-31  Москва        стажер"
      ],
      "text/html": "<div>\n<style scoped>\n    .dataframe tbody tr th:only-of-type {\n        vertical-align: middle;\n    }\n\n    .dataframe tbody tr th {\n        vertical-align: top;\n    }\n\n    .dataframe thead th {\n        text-align: right;\n    }\n</style>\n<table border=\"1\" class=\"dataframe\">\n  <thead>\n    <tr style=\"text-align: right;\">\n      <th></th>\n      <th>Name</th>\n      <th>Birth</th>\n      <th>City</th>\n      <th>Position</th>\n    </tr>\n  </thead>\n  <tbody>\n    <tr>\n      <th>3</th>\n      <td>Мельникова Д.С.</td>\n      <td>1985-04-15</td>\n      <td>Ростов</td>\n      <td>разнорабочий</td>\n    </tr>\n    <tr>\n      <th>4</th>\n      <td>Рыбина Е.П.</td>\n      <td>1985-11-19</td>\n      <td>Москва</td>\n      <td>инженер</td>\n    </tr>\n    <tr>\n      <th>5</th>\n      <td>Костров С.О.</td>\n      <td>1985-05-31</td>\n      <td>Москва</td>\n      <td>стажер</td>\n    </tr>\n  </tbody>\n</table>\n</div>"
     },
     "metadata": {},
     "execution_count": 21
    }
   ],
   "source": [
    "frame[-3:]"
   ]
  },
  {
   "cell_type": "code",
   "execution_count": 23,
   "metadata": {},
   "outputs": [
    {
     "output_type": "execute_result",
     "data": {
      "text/plain": [
       "              Name       City\n",
       "1     Сорокин И.В.  Волгоград\n",
       "3  Мельникова Д.С.     Ростов\n",
       "5     Костров С.О.     Москва"
      ],
      "text/html": "<div>\n<style scoped>\n    .dataframe tbody tr th:only-of-type {\n        vertical-align: middle;\n    }\n\n    .dataframe tbody tr th {\n        vertical-align: top;\n    }\n\n    .dataframe thead th {\n        text-align: right;\n    }\n</style>\n<table border=\"1\" class=\"dataframe\">\n  <thead>\n    <tr style=\"text-align: right;\">\n      <th></th>\n      <th>Name</th>\n      <th>City</th>\n    </tr>\n  </thead>\n  <tbody>\n    <tr>\n      <th>1</th>\n      <td>Сорокин И.В.</td>\n      <td>Волгоград</td>\n    </tr>\n    <tr>\n      <th>3</th>\n      <td>Мельникова Д.С.</td>\n      <td>Ростов</td>\n    </tr>\n    <tr>\n      <th>5</th>\n      <td>Костров С.О.</td>\n      <td>Москва</td>\n    </tr>\n  </tbody>\n</table>\n</div>"
     },
     "metadata": {},
     "execution_count": 23
    }
   ],
   "source": [
    "frame.loc[[1, 3, 5], ['Name', 'City']]"
   ]
  },
  {
   "cell_type": "code",
   "execution_count": 24,
   "metadata": {},
   "outputs": [
    {
     "output_type": "execute_result",
     "data": {
      "text/plain": [
       "              Name       City\n",
       "1     Сорокин И.В.  Волгоград\n",
       "3  Мельникова Д.С.     Ростов\n",
       "5     Костров С.О.     Москва"
      ],
      "text/html": "<div>\n<style scoped>\n    .dataframe tbody tr th:only-of-type {\n        vertical-align: middle;\n    }\n\n    .dataframe tbody tr th {\n        vertical-align: top;\n    }\n\n    .dataframe thead th {\n        text-align: right;\n    }\n</style>\n<table border=\"1\" class=\"dataframe\">\n  <thead>\n    <tr style=\"text-align: right;\">\n      <th></th>\n      <th>Name</th>\n      <th>City</th>\n    </tr>\n  </thead>\n  <tbody>\n    <tr>\n      <th>1</th>\n      <td>Сорокин И.В.</td>\n      <td>Волгоград</td>\n    </tr>\n    <tr>\n      <th>3</th>\n      <td>Мельникова Д.С.</td>\n      <td>Ростов</td>\n    </tr>\n    <tr>\n      <th>5</th>\n      <td>Костров С.О.</td>\n      <td>Москва</td>\n    </tr>\n  </tbody>\n</table>\n</div>"
     },
     "metadata": {},
     "execution_count": 24
    }
   ],
   "source": [
    "frame.iloc[[1, 3, 5], [0, 2]]"
   ]
  },
  {
   "cell_type": "code",
   "execution_count": 26,
   "metadata": {},
   "outputs": [],
   "source": [
    "# frame.ix # doesnt works - deprecated"
   ]
  },
  {
   "cell_type": "code",
   "execution_count": 27,
   "metadata": {},
   "outputs": [
    {
     "output_type": "execute_result",
     "data": {
      "text/plain": [
       "              Name      Birth    City      Position\n",
       "3  Мельникова Д.С. 1985-04-15  Ростов  разнорабочий\n",
       "4      Рыбина Е.П. 1985-11-19  Москва       инженер\n",
       "5     Костров С.О. 1985-05-31  Москва        стажер"
      ],
      "text/html": "<div>\n<style scoped>\n    .dataframe tbody tr th:only-of-type {\n        vertical-align: middle;\n    }\n\n    .dataframe tbody tr th {\n        vertical-align: top;\n    }\n\n    .dataframe thead th {\n        text-align: right;\n    }\n</style>\n<table border=\"1\" class=\"dataframe\">\n  <thead>\n    <tr style=\"text-align: right;\">\n      <th></th>\n      <th>Name</th>\n      <th>Birth</th>\n      <th>City</th>\n      <th>Position</th>\n    </tr>\n  </thead>\n  <tbody>\n    <tr>\n      <th>3</th>\n      <td>Мельникова Д.С.</td>\n      <td>1985-04-15</td>\n      <td>Ростов</td>\n      <td>разнорабочий</td>\n    </tr>\n    <tr>\n      <th>4</th>\n      <td>Рыбина Е.П.</td>\n      <td>1985-11-19</td>\n      <td>Москва</td>\n      <td>инженер</td>\n    </tr>\n    <tr>\n      <th>5</th>\n      <td>Костров С.О.</td>\n      <td>1985-05-31</td>\n      <td>Москва</td>\n      <td>стажер</td>\n    </tr>\n  </tbody>\n</table>\n</div>"
     },
     "metadata": {},
     "execution_count": 27
    }
   ],
   "source": [
    "frame[frame.Birth >= pd.datetime(1985, 1, 1)]"
   ]
  },
  {
   "cell_type": "code",
   "execution_count": 30,
   "metadata": {},
   "outputs": [
    {
     "output_type": "execute_result",
     "data": {
      "text/plain": [
       "              Name      Birth    City      Position\n",
       "3  Мельникова Д.С. 1985-04-15  Ростов  разнорабочий"
      ],
      "text/html": "<div>\n<style scoped>\n    .dataframe tbody tr th:only-of-type {\n        vertical-align: middle;\n    }\n\n    .dataframe tbody tr th {\n        vertical-align: top;\n    }\n\n    .dataframe thead th {\n        text-align: right;\n    }\n</style>\n<table border=\"1\" class=\"dataframe\">\n  <thead>\n    <tr style=\"text-align: right;\">\n      <th></th>\n      <th>Name</th>\n      <th>Birth</th>\n      <th>City</th>\n      <th>Position</th>\n    </tr>\n  </thead>\n  <tbody>\n    <tr>\n      <th>3</th>\n      <td>Мельникова Д.С.</td>\n      <td>1985-04-15</td>\n      <td>Ростов</td>\n      <td>разнорабочий</td>\n    </tr>\n  </tbody>\n</table>\n</div>"
     },
     "metadata": {},
     "execution_count": 30
    }
   ],
   "source": [
    "frame[(frame.Birth >= pd.datetime(1985, 1, 1)) & (frame.City != 'Москва')]"
   ]
  },
  {
   "cell_type": "code",
   "execution_count": 32,
   "metadata": {},
   "outputs": [
    {
     "output_type": "execute_result",
     "data": {
      "text/plain": [
       "              Name      Birth       City      Position\n",
       "1     Сорокин И.В. 1965-07-08  Волгоград       инженер\n",
       "3  Мельникова Д.С. 1985-04-15     Ростов  разнорабочий\n",
       "4      Рыбина Е.П. 1985-11-19     Москва       инженер\n",
       "5     Костров С.О. 1985-05-31     Москва        стажер"
      ],
      "text/html": "<div>\n<style scoped>\n    .dataframe tbody tr th:only-of-type {\n        vertical-align: middle;\n    }\n\n    .dataframe tbody tr th {\n        vertical-align: top;\n    }\n\n    .dataframe thead th {\n        text-align: right;\n    }\n</style>\n<table border=\"1\" class=\"dataframe\">\n  <thead>\n    <tr style=\"text-align: right;\">\n      <th></th>\n      <th>Name</th>\n      <th>Birth</th>\n      <th>City</th>\n      <th>Position</th>\n    </tr>\n  </thead>\n  <tbody>\n    <tr>\n      <th>1</th>\n      <td>Сорокин И.В.</td>\n      <td>1965-07-08</td>\n      <td>Волгоград</td>\n      <td>инженер</td>\n    </tr>\n    <tr>\n      <th>3</th>\n      <td>Мельникова Д.С.</td>\n      <td>1985-04-15</td>\n      <td>Ростов</td>\n      <td>разнорабочий</td>\n    </tr>\n    <tr>\n      <th>4</th>\n      <td>Рыбина Е.П.</td>\n      <td>1985-11-19</td>\n      <td>Москва</td>\n      <td>инженер</td>\n    </tr>\n    <tr>\n      <th>5</th>\n      <td>Костров С.О.</td>\n      <td>1985-05-31</td>\n      <td>Москва</td>\n      <td>стажер</td>\n    </tr>\n  </tbody>\n</table>\n</div>"
     },
     "metadata": {},
     "execution_count": 32
    }
   ],
   "source": [
    "frame[(frame.Birth >= pd.datetime(1985, 1, 1)) | (frame.City == 'Волгоград')]"
   ]
  },
  {
   "cell_type": "code",
   "execution_count": null,
   "metadata": {},
   "outputs": [],
   "source": []
  },
  {
   "cell_type": "code",
   "execution_count": 36,
   "metadata": {},
   "outputs": [
    {
     "output_type": "execute_result",
     "data": {
      "text/plain": [
       "              Name      Birth       City      Position  IsStudent\n",
       "0      Иванов А.А. 1980-03-22     Москва  разнорабочий      False\n",
       "1     Сорокин И.В. 1965-07-08  Волгоград       инженер       True\n",
       "2       Белов М.М. 1980-02-13     Ростов      менеджер      False\n",
       "3  Мельникова Д.С. 1985-04-15     Ростов  разнорабочий       True\n",
       "4      Рыбина Е.П. 1985-11-19     Москва       инженер      False\n",
       "5     Костров С.О. 1985-05-31     Москва        стажер      False"
      ],
      "text/html": "<div>\n<style scoped>\n    .dataframe tbody tr th:only-of-type {\n        vertical-align: middle;\n    }\n\n    .dataframe tbody tr th {\n        vertical-align: top;\n    }\n\n    .dataframe thead th {\n        text-align: right;\n    }\n</style>\n<table border=\"1\" class=\"dataframe\">\n  <thead>\n    <tr style=\"text-align: right;\">\n      <th></th>\n      <th>Name</th>\n      <th>Birth</th>\n      <th>City</th>\n      <th>Position</th>\n      <th>IsStudent</th>\n    </tr>\n  </thead>\n  <tbody>\n    <tr>\n      <th>0</th>\n      <td>Иванов А.А.</td>\n      <td>1980-03-22</td>\n      <td>Москва</td>\n      <td>разнорабочий</td>\n      <td>False</td>\n    </tr>\n    <tr>\n      <th>1</th>\n      <td>Сорокин И.В.</td>\n      <td>1965-07-08</td>\n      <td>Волгоград</td>\n      <td>инженер</td>\n      <td>True</td>\n    </tr>\n    <tr>\n      <th>2</th>\n      <td>Белов М.М.</td>\n      <td>1980-02-13</td>\n      <td>Ростов</td>\n      <td>менеджер</td>\n      <td>False</td>\n    </tr>\n    <tr>\n      <th>3</th>\n      <td>Мельникова Д.С.</td>\n      <td>1985-04-15</td>\n      <td>Ростов</td>\n      <td>разнорабочий</td>\n      <td>True</td>\n    </tr>\n    <tr>\n      <th>4</th>\n      <td>Рыбина Е.П.</td>\n      <td>1985-11-19</td>\n      <td>Москва</td>\n      <td>инженер</td>\n      <td>False</td>\n    </tr>\n    <tr>\n      <th>5</th>\n      <td>Костров С.О.</td>\n      <td>1985-05-31</td>\n      <td>Москва</td>\n      <td>стажер</td>\n      <td>False</td>\n    </tr>\n  </tbody>\n</table>\n</div>"
     },
     "metadata": {},
     "execution_count": 36
    }
   ],
   "source": [
    "frame"
   ]
  },
  {
   "cell_type": "code",
   "execution_count": 39,
   "metadata": {},
   "outputs": [],
   "source": [
    "frame.drop('IsStudent', axis=1, inplace=True)"
   ]
  },
  {
   "cell_type": "code",
   "execution_count": 40,
   "metadata": {},
   "outputs": [
    {
     "output_type": "execute_result",
     "data": {
      "text/plain": [
       "              Name      Birth       City      Position\n",
       "0      Иванов А.А. 1980-03-22     Москва  разнорабочий\n",
       "1     Сорокин И.В. 1965-07-08  Волгоград       инженер\n",
       "2       Белов М.М. 1980-02-13     Ростов      менеджер\n",
       "3  Мельникова Д.С. 1985-04-15     Ростов  разнорабочий\n",
       "4      Рыбина Е.П. 1985-11-19     Москва       инженер\n",
       "5     Костров С.О. 1985-05-31     Москва        стажер"
      ],
      "text/html": "<div>\n<style scoped>\n    .dataframe tbody tr th:only-of-type {\n        vertical-align: middle;\n    }\n\n    .dataframe tbody tr th {\n        vertical-align: top;\n    }\n\n    .dataframe thead th {\n        text-align: right;\n    }\n</style>\n<table border=\"1\" class=\"dataframe\">\n  <thead>\n    <tr style=\"text-align: right;\">\n      <th></th>\n      <th>Name</th>\n      <th>Birth</th>\n      <th>City</th>\n      <th>Position</th>\n    </tr>\n  </thead>\n  <tbody>\n    <tr>\n      <th>0</th>\n      <td>Иванов А.А.</td>\n      <td>1980-03-22</td>\n      <td>Москва</td>\n      <td>разнорабочий</td>\n    </tr>\n    <tr>\n      <th>1</th>\n      <td>Сорокин И.В.</td>\n      <td>1965-07-08</td>\n      <td>Волгоград</td>\n      <td>инженер</td>\n    </tr>\n    <tr>\n      <th>2</th>\n      <td>Белов М.М.</td>\n      <td>1980-02-13</td>\n      <td>Ростов</td>\n      <td>менеджер</td>\n    </tr>\n    <tr>\n      <th>3</th>\n      <td>Мельникова Д.С.</td>\n      <td>1985-04-15</td>\n      <td>Ростов</td>\n      <td>разнорабочий</td>\n    </tr>\n    <tr>\n      <th>4</th>\n      <td>Рыбина Е.П.</td>\n      <td>1985-11-19</td>\n      <td>Москва</td>\n      <td>инженер</td>\n    </tr>\n    <tr>\n      <th>5</th>\n      <td>Костров С.О.</td>\n      <td>1985-05-31</td>\n      <td>Москва</td>\n      <td>стажер</td>\n    </tr>\n  </tbody>\n</table>\n</div>"
     },
     "metadata": {},
     "execution_count": 40
    }
   ],
   "source": [
    "frame"
   ]
  },
  {
   "cell_type": "code",
   "execution_count": null,
   "metadata": {},
   "outputs": [],
   "source": []
  }
 ]
}