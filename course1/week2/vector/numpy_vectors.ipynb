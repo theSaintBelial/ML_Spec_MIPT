{
 "cells": [
  {
   "cell_type": "code",
<<<<<<< HEAD
   "execution_count": 4,
=======
   "execution_count": 2,
   "id": "swiss-knight",
>>>>>>> e9da71f222448ab9f991e574b405d18c8ffa5620
   "metadata": {},
   "outputs": [],
   "source": [
    "import numpy as np"
   ]
  },
  {
   "cell_type": "code",
<<<<<<< HEAD
   "execution_count": 5,
=======
   "execution_count": 3,
   "id": "weird-antique",
>>>>>>> e9da71f222448ab9f991e574b405d18c8ffa5620
   "metadata": {},
   "outputs": [],
   "source": [
    "a = np.array([2, 3, 4])"
   ]
  },
  {
   "cell_type": "code",
<<<<<<< HEAD
   "execution_count": 6,
=======
   "execution_count": 4,
   "id": "placed-station",
>>>>>>> e9da71f222448ab9f991e574b405d18c8ffa5620
   "metadata": {},
   "outputs": [
    {
     "data": {
      "text/plain": [
       "array([2, 3, 4])"
      ]
     },
     "execution_count": 6,
     "metadata": {},
<<<<<<< HEAD
     "output_type": "execute_result"
=======
     "execution_count": 4
>>>>>>> e9da71f222448ab9f991e574b405d18c8ffa5620
    }
   ],
   "source": [
    "a"
   ]
  },
  {
   "cell_type": "code",
<<<<<<< HEAD
   "execution_count": 7,
=======
   "execution_count": 5,
   "id": "great-access",
>>>>>>> e9da71f222448ab9f991e574b405d18c8ffa5620
   "metadata": {},
   "outputs": [],
   "source": [
    "norm1 = np.linalg.norm(a, ord=1)"
   ]
  },
  {
   "cell_type": "code",
<<<<<<< HEAD
   "execution_count": 8,
=======
   "execution_count": 6,
   "id": "fabulous-affair",
>>>>>>> e9da71f222448ab9f991e574b405d18c8ffa5620
   "metadata": {},
   "outputs": [
    {
     "data": {
      "text/plain": [
       "9.0"
      ]
     },
     "execution_count": 8,
     "metadata": {},
<<<<<<< HEAD
     "output_type": "execute_result"
=======
     "execution_count": 6
>>>>>>> e9da71f222448ab9f991e574b405d18c8ffa5620
    }
   ],
   "source": [
    "norm1"
   ]
  },
  {
   "cell_type": "code",
<<<<<<< HEAD
   "execution_count": 9,
=======
   "execution_count": 7,
   "id": "acquired-backing",
>>>>>>> e9da71f222448ab9f991e574b405d18c8ffa5620
   "metadata": {},
   "outputs": [],
   "source": [
    "norm2 = np.linalg.norm(a, ord=2)"
   ]
  },
  {
   "cell_type": "code",
<<<<<<< HEAD
   "execution_count": 10,
=======
   "execution_count": 8,
   "id": "swiss-presentation",
>>>>>>> e9da71f222448ab9f991e574b405d18c8ffa5620
   "metadata": {},
   "outputs": [
    {
     "data": {
      "text/plain": [
       "5.385164807134504"
      ]
     },
     "execution_count": 10,
     "metadata": {},
<<<<<<< HEAD
     "output_type": "execute_result"
=======
     "execution_count": 8
>>>>>>> e9da71f222448ab9f991e574b405d18c8ffa5620
    }
   ],
   "source": [
    "norm2"
   ]
  },
  {
   "cell_type": "markdown",
   "metadata": {},
   "source": [
    "Расстояние между векторами"
   ]
  },
  {
   "cell_type": "code",
<<<<<<< HEAD
   "execution_count": 11,
=======
   "execution_count": 9,
   "id": "mental-garbage",
>>>>>>> e9da71f222448ab9f991e574b405d18c8ffa5620
   "metadata": {},
   "outputs": [],
   "source": [
    "a = np.array([1, 2, 3])\n",
    "b = np.array([0, 3, 2])"
   ]
  },
  {
   "cell_type": "code",
   "execution_count": 10,
   "metadata": {},
   "outputs": [
    {
     "data": {
      "text/plain": [
       "3.0"
      ]
     },
     "execution_count": 12,
     "metadata": {},
<<<<<<< HEAD
     "output_type": "execute_result"
=======
     "execution_count": 10
>>>>>>> e9da71f222448ab9f991e574b405d18c8ffa5620
    }
   ],
   "source": [
    "dist1 = np.linalg.norm(a - b, ord=1)\n",
    "dist1"
   ]
  },
  {
   "cell_type": "code",
   "execution_count": 11,
   "metadata": {},
   "outputs": [
    {
     "data": {
      "text/plain": [
       "1.7320508075688772"
      ]
     },
     "execution_count": 13,
     "metadata": {},
<<<<<<< HEAD
     "output_type": "execute_result"
=======
     "execution_count": 11
>>>>>>> e9da71f222448ab9f991e574b405d18c8ffa5620
    }
   ],
   "source": [
    "dist2 = np.linalg.norm(a - b, ord=2)\n",
    "dist2"
   ]
  },
  {
   "cell_type": "markdown",
   "metadata": {},
   "source": [
    "### Также расстояние можно посчитать с помощью scipy"
   ]
  },
  {
   "cell_type": "code",
   "execution_count": 12,
   "metadata": {},
   "outputs": [],
   "source": [
    "from scipy.spatial.distance import cdist"
   ]
  },
  {
   "cell_type": "code",
   "execution_count": 13,
   "metadata": {},
   "outputs": [
    {
     "name": "stdout",
     "output_type": "stream",
     "text": [
      "[[1 2 3]] [[0 3 2]]\n"
     ]
    }
   ],
   "source": [
    "a = a.reshape((1, 3))\n",
    "b = b.reshape((1, 3))\n",
    "\n",
    "print(a, b)"
   ]
  },
  {
   "cell_type": "code",
   "execution_count": 14,
   "metadata": {},
   "outputs": [],
   "source": [
    "dist1_1 = cdist(a, b, metric='cityblock')"
   ]
  },
  {
   "cell_type": "code",
   "execution_count": 15,
   "metadata": {},
   "outputs": [
    {
     "data": {
      "text/plain": [
       "array([[3.]])"
      ]
     },
     "execution_count": 17,
     "metadata": {},
<<<<<<< HEAD
     "output_type": "execute_result"
=======
     "execution_count": 15
>>>>>>> e9da71f222448ab9f991e574b405d18c8ffa5620
    }
   ],
   "source": [
    "dist1_1"
   ]
  },
  {
   "cell_type": "code",
   "execution_count": 16,
   "metadata": {},
   "outputs": [
    {
     "data": {
      "text/plain": [
       "array([[1.73205081]])"
      ]
     },
     "execution_count": 20,
     "metadata": {},
<<<<<<< HEAD
     "output_type": "execute_result"
=======
     "execution_count": 16
>>>>>>> e9da71f222448ab9f991e574b405d18c8ffa5620
    }
   ],
   "source": [
    "cdist(a, b)"
   ]
  },
  {
   "cell_type": "code",
   "execution_count": 17,
   "metadata": {},
   "outputs": [
    {
     "data": {
      "text/plain": [
       "array([[1.73205081]])"
      ]
     },
     "execution_count": 21,
     "metadata": {},
<<<<<<< HEAD
     "output_type": "execute_result"
=======
     "execution_count": 17
>>>>>>> e9da71f222448ab9f991e574b405d18c8ffa5620
    }
   ],
   "source": [
    "c = np.array([1, 2, 3])\n",
    "d = np.array([0, 3, 2])\n",
    "\n",
    "cdist(c[np.newaxis, :], d[np.newaxis, :])"
   ]
  },
  {
   "cell_type": "code",
   "execution_count": 18,
   "metadata": {},
   "outputs": [
    {
     "data": {
      "text/plain": [
       "array([[3.]])"
      ]
     },
     "execution_count": 22,
     "metadata": {},
<<<<<<< HEAD
     "output_type": "execute_result"
=======
     "execution_count": 18
>>>>>>> e9da71f222448ab9f991e574b405d18c8ffa5620
    }
   ],
   "source": [
    "cdist(c[np.newaxis, :], d[np.newaxis, :], metric='cityblock')"
   ]
  },
  {
   "cell_type": "code",
   "execution_count": 19,
   "metadata": {},
   "outputs": [],
   "source": [
    "A = np.matrix([[0, 1, 2], [3, 4, 5], [0, 2, 4]])"
   ]
  },
  {
   "cell_type": "code",
   "execution_count": 20,
   "metadata": {},
   "outputs": [
    {
     "data": {
      "text/plain": [
       "matrix([[0, 1, 2],\n",
       "        [3, 4, 5],\n",
       "        [0, 2, 4]])"
      ]
     },
     "execution_count": 29,
     "metadata": {},
<<<<<<< HEAD
     "output_type": "execute_result"
=======
     "execution_count": 20
>>>>>>> e9da71f222448ab9f991e574b405d18c8ffa5620
    }
   ],
   "source": [
    "A"
   ]
  },
  {
   "cell_type": "code",
   "execution_count": 21,
   "metadata": {},
   "outputs": [
    {
     "data": {
      "text/plain": [
       "matrix([[0, 1, 2],\n",
       "        [3, 4, 5],\n",
       "        [0, 2, 4]])"
      ]
     },
     "execution_count": 31,
     "metadata": {},
<<<<<<< HEAD
     "output_type": "execute_result"
=======
     "execution_count": 21
>>>>>>> e9da71f222448ab9f991e574b405d18c8ffa5620
    }
   ],
   "source": [
    "B = np.matrix([[0, 1, 2], [3, 4, 5], [0, 2, 4]])\n",
    "B"
   ]
  },
  {
   "cell_type": "code",
   "execution_count": 22,
   "metadata": {},
   "outputs": [
    {
     "data": {
      "text/plain": [
       "array([[2.22044605e-16, 1.14562255e-01, 2.22044605e-16],\n",
       "       [1.14562255e-01, 1.11022302e-16, 1.14562255e-01],\n",
       "       [2.22044605e-16, 1.14562255e-01, 2.22044605e-16]])"
      ]
     },
     "execution_count": 35,
     "metadata": {},
<<<<<<< HEAD
     "output_type": "execute_result"
=======
     "execution_count": 22
>>>>>>> e9da71f222448ab9f991e574b405d18c8ffa5620
    }
   ],
   "source": [
    "cdist(A, B, metric='cosine')"
   ]
  },
  {
   "cell_type": "code",
   "execution_count": 23,
   "metadata": {},
   "outputs": [
    {
     "data": {
      "text/plain": [
       "12"
      ]
     },
     "execution_count": 37,
     "metadata": {},
<<<<<<< HEAD
     "output_type": "execute_result"
=======
     "execution_count": 23
>>>>>>> e9da71f222448ab9f991e574b405d18c8ffa5620
    }
   ],
   "source": [
    "np.dot(c, d)"
   ]
  },
  {
   "cell_type": "code",
   "execution_count": 34,
   "metadata": {},
   "outputs": [
    {
     "output_type": "stream",
     "name": "stdout",
     "text": [
      "[0 1 2] [0 2 4]\n"
     ]
    }
   ],
   "source": [
    "c = np.array((0, 1, 2))\n",
    "d = np.array((0, 2, 4))\n",
    "\n",
    "print(c, d)\n",
    "\n",
    "cos_angle = np.dot(c, d) / (np.linalg.norm(c, ord=2) * np.linalg.norm(d, ord=2))"
   ]
  },
  {
   "cell_type": "code",
   "execution_count": 35,
   "metadata": {},
   "outputs": [
    {
     "data": {
      "text/plain": [
       "0.9999999999999998"
      ]
     },
     "execution_count": 57,
     "metadata": {},
<<<<<<< HEAD
     "output_type": "execute_result"
=======
     "execution_count": 35
>>>>>>> e9da71f222448ab9f991e574b405d18c8ffa5620
    }
   ],
   "source": [
    "cos_angle"
   ]
  },
  {
   "cell_type": "code",
   "execution_count": 36,
   "metadata": {},
   "outputs": [],
   "source": [
    "cos_angle1 = cdist(c[np.newaxis, :], d[np.newaxis, :], metric='cosine')"
   ]
  },
  {
   "cell_type": "code",
   "execution_count": 37,
   "metadata": {},
   "outputs": [
    {
     "data": {
      "text/plain": [
       "array([[2.22044605e-16]])"
      ]
     },
     "execution_count": 48,
     "metadata": {},
<<<<<<< HEAD
     "output_type": "execute_result"
=======
     "execution_count": 37
>>>>>>> e9da71f222448ab9f991e574b405d18c8ffa5620
    }
   ],
   "source": [
    "cos_angle1"
   ]
  },
  {
   "cell_type": "code",
   "execution_count": 38,
   "metadata": {},
   "outputs": [],
   "source": [
    "from scipy.spatial.distance import cosine\n",
    "\n",
    "cos_angle1 = cosine(d, c)"
   ]
  },
  {
   "cell_type": "code",
   "execution_count": 39,
   "metadata": {},
   "outputs": [
    {
     "data": {
      "text/plain": [
       "0.0"
      ]
     },
     "execution_count": 59,
     "metadata": {},
<<<<<<< HEAD
     "output_type": "execute_result"
=======
     "execution_count": 39
>>>>>>> e9da71f222448ab9f991e574b405d18c8ffa5620
    }
   ],
   "source": [
    "cos_angle1"
   ]
  },
  {
   "cell_type": "code",
   "execution_count": 40,
   "metadata": {},
   "outputs": [
    {
     "data": {
      "text/plain": [
       "1.0"
      ]
     },
     "execution_count": 60,
     "metadata": {},
<<<<<<< HEAD
     "output_type": "execute_result"
=======
     "execution_count": 40
>>>>>>> e9da71f222448ab9f991e574b405d18c8ffa5620
    }
   ],
   "source": [
    "1 - cos_angle1"
   ]
  },
  {
   "cell_type": "code",
   "execution_count": 41,
   "metadata": {},
   "outputs": [
    {
     "output_type": "execute_result",
     "data": {
      "text/plain": [
       "array([[1.14562255e-01],\n",
       "       [2.22044605e-16]])"
      ]
     },
     "metadata": {},
     "execution_count": 41
    }
   ],
   "source": [
    "cdist(A[1:], A[0], metric='cosine')"
   ]
  },
  {
   "cell_type": "code",
   "execution_count": null,
   "metadata": {},
   "outputs": [],
   "source": []
  }
 ],
 "metadata": {
  "kernelspec": {
   "display_name": "Python 3",
   "language": "python",
   "name": "python3"
  },
  "language_info": {
   "codemirror_mode": {
    "name": "ipython",
    "version": 3
   },
   "file_extension": ".py",
   "mimetype": "text/x-python",
   "name": "python",
   "nbconvert_exporter": "python",
   "pygments_lexer": "ipython3",
   "version": "3.8.5"
  }
 },
 "nbformat": 4,
 "nbformat_minor": 5
}
