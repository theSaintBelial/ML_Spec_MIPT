{
 "metadata": {
  "language_info": {
   "codemirror_mode": {
    "name": "ipython",
    "version": 3
   },
   "file_extension": ".py",
   "mimetype": "text/x-python",
   "name": "python",
   "nbconvert_exporter": "python",
   "pygments_lexer": "ipython3",
   "version": "3.8.5-final"
  },
  "orig_nbformat": 2,
  "kernelspec": {
   "name": "python3",
   "display_name": "Python 3",
   "language": "python"
  }
 },
 "nbformat": 4,
 "nbformat_minor": 2,
 "cells": [
  {
   "cell_type": "code",
   "execution_count": 1,
   "metadata": {},
   "outputs": [],
   "source": [
    "import numpy as np\n",
    "\n",
    "P = np.array([0.49, 0.38, 0.1, 0.03])"
   ]
  },
  {
   "cell_type": "code",
   "execution_count": 2,
   "metadata": {},
   "outputs": [],
   "source": [
    "table_H = np.array([[round(p_i*p_j, 4) for p_i in P] for p_j in P])"
   ]
  },
  {
   "cell_type": "code",
   "execution_count": 3,
   "metadata": {},
   "outputs": [],
   "source": [
    "positions = np.array([(0, 0), (0, 1), (0, 2), (0, 3), (1, 1), (3, 1), (2, 2), (3, 2), (3, 3)])"
   ]
  },
  {
   "cell_type": "code",
   "execution_count": 4,
   "metadata": {},
   "outputs": [
    {
     "output_type": "execute_result",
     "data": {
      "text/plain": [
       "0.6597"
      ]
     },
     "metadata": {},
     "execution_count": 4
    }
   ],
   "source": [
    "P_A = 0\n",
    "\n",
    "for pos in positions:\n",
    "   P_A += table_H[tuple(pos)]\n",
    "P_A"
   ]
  },
  {
   "cell_type": "code",
   "execution_count": 5,
   "metadata": {},
   "outputs": [
    {
     "output_type": "execute_result",
     "data": {
      "text/plain": [
       "0.12"
      ]
     },
     "metadata": {},
     "execution_count": 5
    }
   ],
   "source": [
    "0.6*0.1 + 0.4*0.15"
   ]
  },
  {
   "cell_type": "code",
   "execution_count": 6,
   "metadata": {},
   "outputs": [
    {
     "output_type": "execute_result",
     "data": {
      "text/plain": [
       "0.5"
      ]
     },
     "metadata": {},
     "execution_count": 6
    }
   ],
   "source": [
    "(0.6*0.1)/0.12"
   ]
  },
  {
   "cell_type": "code",
   "execution_count": 7,
   "metadata": {},
   "outputs": [
    {
     "output_type": "execute_result",
     "data": {
      "text/plain": [
       "0.27"
      ]
     },
     "metadata": {},
     "execution_count": 7
    }
   ],
   "source": [
    "p = 0.2\n",
    "n = 10\n",
    "k = 1\n",
    "\n",
    "P_k = (np.math.factorial(10) / (np.math.factorial(k)*np.math.factorial(n - k))) * np.power(p, k) * np.power(1 - p, n - k)\n",
    "round(P_k, 2)"
   ]
  },
  {
   "cell_type": "code",
   "execution_count": 9,
   "metadata": {},
   "outputs": [
    {
     "output_type": "execute_result",
     "data": {
      "text/plain": [
       "0.049787068367863944"
      ]
     },
     "metadata": {},
     "execution_count": 9
    }
   ],
   "source": [
    "np.exp(-3)"
   ]
  },
  {
   "cell_type": "code",
   "execution_count": 14,
   "metadata": {},
   "outputs": [
    {
     "output_type": "execute_result",
     "data": {
      "text/plain": [
       "2220.26"
      ]
     },
     "metadata": {},
     "execution_count": 14
    }
   ],
   "source": [
    "round(1197.69 + np.sqrt(116182.2)*3, 2)"
   ]
  },
  {
   "cell_type": "code",
   "execution_count": 17,
   "metadata": {},
   "outputs": [
    {
     "output_type": "execute_result",
     "data": {
      "text/plain": [
       "29.78"
      ]
     },
     "metadata": {},
     "execution_count": 17
    }
   ],
   "source": [
    "round(np.sqrt(116182.2 / (2016-1885)), 2)"
   ]
  },
  {
   "cell_type": "code",
   "execution_count": null,
   "metadata": {},
   "outputs": [],
   "source": []
  }
 ]
}