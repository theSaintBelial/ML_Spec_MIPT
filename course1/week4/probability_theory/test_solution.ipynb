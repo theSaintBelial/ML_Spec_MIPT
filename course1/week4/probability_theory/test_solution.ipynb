{
 "cells": [
  {
   "cell_type": "code",
   "execution_count": 1,
   "metadata": {},
   "outputs": [],
   "source": [
    "import numpy as np"
   ]
  },
  {
   "cell_type": "markdown",
   "metadata": {},
   "source": [
    "# Task 2"
   ]
  },
  {
   "cell_type": "code",
   "execution_count": 2,
   "metadata": {},
   "outputs": [
    {
     "data": {
      "text/plain": [
       "0.4"
      ]
     },
     "execution_count": 2,
     "metadata": {},
     "output_type": "execute_result"
    }
   ],
   "source": [
    "# A - дожить до 60\n",
    "# B - дожить до 80\n",
    "\n",
    "p_A = 0.5\n",
    "p_B = 0.2\n",
    "\n",
    "p_AB = p_B\n",
    "\n",
    "p_B_A = p_AB/p_A # B при условии A - формула условной вероятности\n",
    "p_B_A"
   ]
  },
  {
   "cell_type": "markdown",
   "metadata": {},
   "source": [
    "# Task3"
   ]
  },
  {
   "cell_type": "code",
   "execution_count": 3,
   "metadata": {},
   "outputs": [
    {
     "data": {
      "text/plain": [
       "0.99"
      ]
     },
     "execution_count": 3,
     "metadata": {},
     "output_type": "execute_result"
    }
   ],
   "source": [
    "# A - женщина больна раком\n",
    "p_A = 0.01\n",
    "\n",
    "# B - маммограмма выявила рак\n",
    "p_B_A = 0.8\n",
    "\n",
    "p_B_notA = 0.096\n",
    "\n",
    "# p_A_B - ?\n",
    "\n",
    "p_notA = 1 - p_A\n",
    "p_notA"
   ]
  },
  {
   "cell_type": "code",
   "execution_count": 4,
   "metadata": {},
   "outputs": [
    {
     "data": {
      "text/plain": [
       "0.10303999999999999"
      ]
     },
     "execution_count": 4,
     "metadata": {},
     "output_type": "execute_result"
    }
   ],
   "source": [
    "p_B = p_B_A*p_A + p_B_notA*p_notA\n",
    "# p_B = round(p_B, 3)\n",
    "p_B"
   ]
  },
  {
   "cell_type": "code",
   "execution_count": 5,
   "metadata": {},
   "outputs": [],
   "source": [
    "p_A_B = (p_A*p_B_A)/p_B "
   ]
  },
  {
   "cell_type": "code",
   "execution_count": 8,
   "metadata": {},
   "outputs": [
    {
     "data": {
      "text/plain": [
       "7.8"
      ]
     },
     "execution_count": 8,
     "metadata": {},
     "output_type": "execute_result"
    }
   ],
   "source": [
    "round(p_A_B, 3) * 100"
   ]
  },
  {
   "cell_type": "markdown",
   "metadata": {},
   "source": [
    "# Task 4"
   ]
  },
  {
   "cell_type": "code",
   "execution_count": 12,
   "metadata": {},
   "outputs": [],
   "source": [
    "n = 2\n",
    "k1 = 1\n",
    "p = 0.5\n",
    "\n",
    "c_n_k1 = np.math.factorial(n) / (np.math.factorial(k1) * np.math.factorial(n - k1))\n",
    "\n",
    "p_k1 = c_n_k1 * np.power(p, k1) * np.power(1 - p, n - k1)\n",
    "\n",
    "k2 = 2\n",
    "\n",
    "c_n_k2 = np.math.factorial(n) / (np.math.factorial(k2) * np.math.factorial(n - k2))\n",
    "\n",
    "p_k2 = c_n_k2 * np.power(p, k2) * np.power(1 - p, n - k2)\n",
    "\n",
    "p_12 = p_k1 + p_k2"
   ]
  },
  {
   "cell_type": "code",
   "execution_count": 13,
   "metadata": {},
   "outputs": [
    {
     "data": {
      "text/plain": [
       "0.75"
      ]
     },
     "execution_count": 13,
     "metadata": {},
     "output_type": "execute_result"
    }
   ],
   "source": [
    "p_12"
   ]
  },
  {
   "cell_type": "code",
   "execution_count": null,
   "metadata": {},
   "outputs": [],
   "source": []
  }
 ],
 "metadata": {
  "kernelspec": {
   "display_name": "Python 3",
   "language": "python",
   "name": "python3"
  },
  "language_info": {
   "codemirror_mode": {
    "name": "ipython",
    "version": 3
   },
   "file_extension": ".py",
   "mimetype": "text/x-python",
   "name": "python",
   "nbconvert_exporter": "python",
   "pygments_lexer": "ipython3",
   "version": "3.8.5"
  }
 },
 "nbformat": 4,
 "nbformat_minor": 4
}
